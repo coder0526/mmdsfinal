{
 "metadata": {
  "name": "[a12] HandlingQueryCount"
 },
 "nbformat": 3,
 "nbformat_minor": 0,
 "worksheets": [
  {
   "cells": [
    {
     "cell_type": "code",
     "collapsed": false,
     "input": [
      "import s1_ACMdev as acm\n",
      "import s0_ChartPack as crp \n",
      "from IPython.core.display import Image\n",
      "from IPython.display import display, HTML\n",
      "import nltk"
     ],
     "language": "python",
     "metadata": {},
     "outputs": [],
     "prompt_number": 90
    },
    {
     "cell_type": "code",
     "collapsed": false,
     "input": [
      "%%time\n",
      "\n",
      "se = ACMdev.getSession(vhostIP='10.244.159.252')\n",
      "a = np.arange(0, 12)\n",
      "b = 2**a\n",
      "prev = 0;\n",
      "qry = se.query(ACMdev.TrnLog, ACMdev.TrnImage)\n",
      "cnt = []\n",
      "\n",
      "for cur in b:\n",
      "    if prev == 0: \n",
      "        prev = cur\n",
      "        continue\n",
      "    row = se.execute(\"select count(*) as cnt from `redpill`.`trnLogs` where \"\n",
      "                     \"`trnLogs`.count >= %d and `trnLogs`.count < %d;\" % (prev, cur))\n",
      "    for r in row:\n",
      "        cnt.append(r[0])\n",
      "    print cnt[len(cnt)-1]\n",
      "    print '%d <= x < %d' % (prev, cur)\n",
      "    prev = cur\n"
     ],
     "language": "python",
     "metadata": {},
     "outputs": [
      {
       "output_type": "stream",
       "stream": "stdout",
       "text": [
        "17329019\n",
        "1 <= x < 2\n",
        "3509266"
       ]
      },
      {
       "output_type": "stream",
       "stream": "stdout",
       "text": [
        "\n",
        "2 <= x < 4\n",
        "1172954"
       ]
      },
      {
       "output_type": "stream",
       "stream": "stdout",
       "text": [
        "\n",
        "4 <= x < 8\n",
        "529967"
       ]
      },
      {
       "output_type": "stream",
       "stream": "stdout",
       "text": [
        "\n",
        "8 <= x < 16\n",
        "267658"
       ]
      },
      {
       "output_type": "stream",
       "stream": "stdout",
       "text": [
        "\n",
        "16 <= x < 32\n",
        "141780"
       ]
      },
      {
       "output_type": "stream",
       "stream": "stdout",
       "text": [
        "\n",
        "32 <= x < 64\n",
        "75012"
       ]
      },
      {
       "output_type": "stream",
       "stream": "stdout",
       "text": [
        "\n",
        "64 <= x < 128\n",
        "38730"
       ]
      },
      {
       "output_type": "stream",
       "stream": "stdout",
       "text": [
        "\n",
        "128 <= x < 256\n",
        "18687"
       ]
      },
      {
       "output_type": "stream",
       "stream": "stdout",
       "text": [
        "\n",
        "256 <= x < 512\n",
        "7869"
       ]
      },
      {
       "output_type": "stream",
       "stream": "stdout",
       "text": [
        "\n",
        "512 <= x < 1024\n",
        "2643"
       ]
      },
      {
       "output_type": "stream",
       "stream": "stdout",
       "text": [
        "\n",
        "1024 <= x < 2048\n",
        "CPU times: user 44 ms, sys: 8 ms, total: 52 ms\n",
        "Wall time: 5min 53s\n"
       ]
      }
     ],
     "prompt_number": 11
    },
    {
     "cell_type": "code",
     "collapsed": false,
     "input": [
      "import matplotlib.pyplot as plt\n",
      "\n",
      "reload(crp)\n",
      "\n",
      "def freqBarPlot(ax, x, y, xzStart=0, xzLen=12):\n",
      "    xzEnd = xzLen + xzStart\n",
      "    ax.bar( np.arange( xzStart, xzEnd), y[xzStart - 1: xzEnd -1], width=1)\n",
      "    ax.set_ylim(0)\n",
      "    ax.set_xlim(xzStart, xzEnd)\n",
      "    ax.tick_params(axis='x', width=1, direction='out', top=False)\n",
      "    ax.set_xticks(np.arange(xzStart, xzEnd+1))\n",
      "    ax.set_xticklabels(x[xzStart-1: xzEnd])\n",
      "\n",
      "\n",
      "fig = plt.figure(1, figsize=(7,5))\n",
      "fig.subplots_adjust(hspace= .5)\n",
      "fig.subplots_adjust(wspace= .4)\n",
      "\n",
      "ax1 = plt.subplot(212)\n",
      "freqBarPlot(ax1, b, cnt, 1, len(cnt))\n",
      "\n",
      "for i, d in enumerate([[2,3, 'r'], [5,3, 'g'], [8, 4, 'b']]):\n",
      "    ax2 = plt.subplot(2, 3, i + 1)\n",
      "    freqBarPlot(ax2, b, cnt, d[0], d[1])\n",
      "    crp.zoom_effect02(ax2, ax1, color=d[2], alpha=.12)\n",
      "\n",
      "plt.show()"
     ],
     "language": "python",
     "metadata": {},
     "outputs": [
      {
       "metadata": {},
       "output_type": "display_data",
       "png": "[encoded data removed]",
       "text": [
        "<matplotlib.figure.Figure at 0x54220d0>"
       ]
      }
     ],
     "prompt_number": 99
    },
    {
     "cell_type": "code",
     "collapsed": false,
     "input": [
      "qry = se.query(acm.TrnLog)\n",
      "qry = qry.filter(acm.TrnLog.count > 1024)\n",
      "print qry.count()\n",
      "\n",
      "\"\"\"\n",
      "if qa.count>0:\n",
      "    for img,lab in qa:\n",
      "        print lab.image.labels[0].query\n",
      "        print \"%s, [%s]\" % (lab.query, ACMdev.Judge[lab.judgment])\n",
      "        display(HTML(u\"<img src='data:image/png;base64,%s'/>\" % (img.thumbnail)))\n",
      "\"\"\""
     ],
     "language": "python",
     "metadata": {},
     "outputs": [
      {
       "output_type": "stream",
       "stream": "stdout",
       "text": [
        "3638\n"
       ]
      },
      {
       "metadata": {},
       "output_type": "pyout",
       "prompt_number": 102,
       "text": [
        "'\\nif qa.count>0:\\n    for img,lab in qa:\\n        print lab.image.labels[0].query\\n        print \"%s, [%s]\" % (lab.query, ACMdev.Judge[lab.judgment])\\n        display(HTML(u\"<img src=\\'data:image/png;base64,%s\\'/>\" % (img.thumbnail)))\\n'"
       ]
      }
     ],
     "prompt_number": 102
    },
    {
     "cell_type": "code",
     "collapsed": false,
     "input": [
      "imgDir = home + \"/data/msrir/Train/img/\"\n",
      "sqImg = se.query(acm.TrnImage)\n",
      "\n",
      "i = 0\n",
      "for log in qry:\n",
      "    qrs = sqImg.filter(acm.TrnImage.imgid == log.imgid)\n",
      "    #display(HTML(u\"<img src='data:image/png;base64,%s'/>\" % (img.id)))\n",
      "    for img in qrs: \n",
      "        Image(filename=imgDir + str(img.id) + \".png\")\n",
      "    i = i + 1\n",
      "    if i > 20: break"
     ],
     "language": "python",
     "metadata": {},
     "outputs": [],
     "prompt_number": 108
    },
    {
     "cell_type": "code",
     "collapsed": false,
     "input": [],
     "language": "python",
     "metadata": {},
     "outputs": [
      {
       "output_type": "stream",
       "stream": "stdout",
       "text": [
        "/home/\n"
       ]
      }
     ],
     "prompt_number": 105
    },
    {
     "cell_type": "code",
     "collapsed": false,
     "input": [],
     "language": "python",
     "metadata": {},
     "outputs": []
    }
   ],
   "metadata": {}
  }
 ]
}
