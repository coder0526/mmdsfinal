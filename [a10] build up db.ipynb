{
 "metadata": {
  "name": "[a10] build up db"
 },
 "nbformat": 3,
 "nbformat_minor": 0,
 "worksheets": [
  {
   "cells": [
    {
     "cell_type": "code",
     "collapsed": false,
     "input": [
      "import ACMdev\n",
      "from IPython.core.display import Image\n",
      "from IPython.display import display, HTML\n",
      "import csv"
     ],
     "language": "python",
     "metadata": {},
     "outputs": [],
     "prompt_number": 11
    },
    {
     "cell_type": "code",
     "collapsed": false,
     "input": [
      "with open(ACMdev.TsvData['devImage'],'rb') as tsvin:\n",
      "    tsvin = csv.reader(tsvin, delimiter='\\t')\n",
      "    p = ACMdev.ProgressBar(1)\n",
      "    j = 0\n",
      "    ml = 0\n",
      "    for row in tsvin:\n",
      "        ml =max ( ml , len(row[1]))\n",
      "        if j % 5000 == 0:\n",
      "            p.showStep(j)\n",
      "        j= j + 1\n",
      "    print ml, j"
     ],
     "language": "python",
     "metadata": {},
     "outputs": [
      {
       "output_type": "stream",
       "stream": "stdout",
       "text": [
        "\r",
        "[                       0%                       ]"
       ]
      },
      {
       "output_type": "stream",
       "stream": "stdout",
       "text": [
        " \r",
        "  1 of iterations complete"
       ]
      },
      {
       "output_type": "stream",
       "stream": "stdout",
       "text": [
        " \r",
        "  5001 of iterations complete"
       ]
      },
      {
       "output_type": "stream",
       "stream": "stdout",
       "text": [
        " \r",
        "  10001 of iterations complete"
       ]
      },
      {
       "output_type": "stream",
       "stream": "stdout",
       "text": [
        " \r",
        "  15001 of iterations complete"
       ]
      },
      {
       "output_type": "stream",
       "stream": "stdout",
       "text": [
        " \r",
        "  20001 of iterations complete"
       ]
      },
      {
       "output_type": "stream",
       "stream": "stdout",
       "text": [
        " \r",
        "  25001 of iterations complete"
       ]
      },
      {
       "output_type": "stream",
       "stream": "stdout",
       "text": [
        " \r",
        "  30001 of iterations complete"
       ]
      },
      {
       "output_type": "stream",
       "stream": "stdout",
       "text": [
        " \r",
        "  35001 of iterations complete"
       ]
      },
      {
       "output_type": "stream",
       "stream": "stdout",
       "text": [
        " \r",
        "  40001 of iterations complete"
       ]
      },
      {
       "output_type": "stream",
       "stream": "stdout",
       "text": [
        " \r",
        "  45001 of iterations complete"
       ]
      },
      {
       "output_type": "stream",
       "stream": "stdout",
       "text": [
        " \r",
        "  50001 of iterations complete"
       ]
      },
      {
       "output_type": "stream",
       "stream": "stdout",
       "text": [
        " \r",
        "  55001 of iterations complete"
       ]
      },
      {
       "output_type": "stream",
       "stream": "stdout",
       "text": [
        " \r",
        "  60001 of iterations complete"
       ]
      },
      {
       "output_type": "stream",
       "stream": "stdout",
       "text": [
        " \r",
        "  65001 of iterations complete"
       ]
      },
      {
       "output_type": "stream",
       "stream": "stdout",
       "text": [
        " \r",
        "  70001 of iterations complete"
       ]
      },
      {
       "output_type": "stream",
       "stream": "stdout",
       "text": [
        " 53908 79665\n"
       ]
      }
     ],
     "prompt_number": 7
    },
    {
     "cell_type": "code",
     "collapsed": false,
     "input": [
      "with open(ACMdev.TsvData['devLabel'],'rb') as tsvin:\n",
      "    tsvin = csv.reader(tsvin, delimiter='\\t')\n",
      "    p = ACMdev.ProgressBar(1)\n",
      "    j = 0\n",
      "    ml = 0\n",
      "    for row in tsvin:\n",
      "        ml =max ( ml , len(row[0]))\n",
      "        if j % 5000 == 0:\n",
      "            p.showStep(j)\n",
      "        j= j + 1\n",
      "    print \"Max query length: \" + str(ml)\n",
      "    p.showStep(j)"
     ],
     "language": "python",
     "metadata": {},
     "outputs": [
      {
       "output_type": "stream",
       "stream": "stdout",
       "text": [
        "\r",
        "[                       0%                       ]"
       ]
      },
      {
       "output_type": "stream",
       "stream": "stdout",
       "text": [
        " \r",
        "  1 of iterations complete"
       ]
      },
      {
       "output_type": "stream",
       "stream": "stdout",
       "text": [
        " \r",
        "  5001 of iterations complete"
       ]
      },
      {
       "output_type": "stream",
       "stream": "stdout",
       "text": [
        " \r",
        "  10001 of iterations complete"
       ]
      },
      {
       "output_type": "stream",
       "stream": "stdout",
       "text": [
        " \r",
        "  15001 of iterations complete"
       ]
      },
      {
       "output_type": "stream",
       "stream": "stdout",
       "text": [
        " \r",
        "  20001 of iterations complete"
       ]
      },
      {
       "output_type": "stream",
       "stream": "stdout",
       "text": [
        " \r",
        "  25001 of iterations complete"
       ]
      },
      {
       "output_type": "stream",
       "stream": "stdout",
       "text": [
        " \r",
        "  30001 of iterations complete"
       ]
      },
      {
       "output_type": "stream",
       "stream": "stdout",
       "text": [
        " \r",
        "  35001 of iterations complete"
       ]
      },
      {
       "output_type": "stream",
       "stream": "stdout",
       "text": [
        " \r",
        "  40001 of iterations complete"
       ]
      },
      {
       "output_type": "stream",
       "stream": "stdout",
       "text": [
        " \r",
        "  45001 of iterations complete"
       ]
      },
      {
       "output_type": "stream",
       "stream": "stdout",
       "text": [
        " \r",
        "  50001 of iterations complete"
       ]
      },
      {
       "output_type": "stream",
       "stream": "stdout",
       "text": [
        " \r",
        "  55001 of iterations complete"
       ]
      },
      {
       "output_type": "stream",
       "stream": "stdout",
       "text": [
        " \r",
        "  60001 of iterations complete"
       ]
      },
      {
       "output_type": "stream",
       "stream": "stdout",
       "text": [
        " \r",
        "  65001 of iterations complete"
       ]
      },
      {
       "output_type": "stream",
       "stream": "stdout",
       "text": [
        " \r",
        "  70001 of iterations complete"
       ]
      },
      {
       "output_type": "stream",
       "stream": "stdout",
       "text": [
        " Max query length: 58\n",
        "\r",
        "  75001 of iterations complete"
       ]
      },
      {
       "output_type": "stream",
       "stream": "stdout",
       "text": [
        "\n"
       ]
      }
     ],
     "prompt_number": 4
    },
    {
     "cell_type": "code",
     "collapsed": false,
     "input": [
      "with open(ACMdev.TsvData['trnImage'],'rb') as tsvin:\n",
      "    tsvin = csv.reader(tsvin, delimiter='\\t')\n",
      "    p = ACMdev.ProgressBar(1)\n",
      "    j = 0\n",
      "    ml = 0\n",
      "    for row in tsvin:\n",
      "        if len(row[1]) > 65534: \n",
      "            ml = ml + 1\n",
      "        if j % 5000 == 0:\n",
      "            p.showStep(j)\n",
      "        j= j + 1\n",
      "    print ml, j"
     ],
     "language": "python",
     "metadata": {},
     "outputs": [
      {
       "output_type": "stream",
       "stream": "stdout",
       "text": [
        "\r",
        "[                       0%                       ]"
       ]
      },
      {
       "output_type": "stream",
       "stream": "stdout",
       "text": [
        " \r",
        "  1 of iterations complete"
       ]
      },
      {
       "output_type": "stream",
       "stream": "stdout",
       "text": [
        " \r",
        "  5001 of iterations complete"
       ]
      },
      {
       "output_type": "stream",
       "stream": "stdout",
       "text": [
        " \r",
        "  10001 of iterations complete"
       ]
      },
      {
       "output_type": "stream",
       "stream": "stdout",
       "text": [
        " \r",
        "  15001 of iterations complete"
       ]
      },
      {
       "output_type": "stream",
       "stream": "stdout",
       "text": [
        " \r",
        "  20001 of iterations complete"
       ]
      },
      {
       "output_type": "stream",
       "stream": "stdout",
       "text": [
        " \r",
        "  25001 of iterations complete"
       ]
      },
      {
       "output_type": "stream",
       "stream": "stdout",
       "text": [
        " \r",
        "  30001 of iterations complete"
       ]
      },
      {
       "output_type": "stream",
       "stream": "stdout",
       "text": [
        " \r",
        "  35001 of iterations complete"
       ]
      },
      {
       "output_type": "stream",
       "stream": "stdout",
       "text": [
        " \r",
        "  40001 of iterations complete"
       ]
      },
      {
       "output_type": "stream",
       "stream": "stdout",
       "text": [
        " \r",
        "  45001 of iterations complete"
       ]
      },
      {
       "output_type": "stream",
       "stream": "stdout",
       "text": [
        " \r",
        "  50001 of iterations complete"
       ]
      },
      {
       "output_type": "stream",
       "stream": "stdout",
       "text": [
        " \r",
        "  55001 of iterations complete"
       ]
      },
      {
       "output_type": "stream",
       "stream": "stdout",
       "text": [
        " \r",
        "  60001 of iterations complete"
       ]
      },
      {
       "output_type": "stream",
       "stream": "stdout",
       "text": [
        " \r",
        "  65001 of iterations complete"
       ]
      },
      {
       "output_type": "stream",
       "stream": "stdout",
       "text": [
        " \r",
        "  70001 of iterations complete"
       ]
      },
      {
       "output_type": "stream",
       "stream": "stdout",
       "text": [
        " \r",
        "  75001 of iterations complete"
       ]
      },
      {
       "output_type": "stream",
       "stream": "stdout",
       "text": [
        " \r",
        "  80001 of iterations complete"
       ]
      },
      {
       "output_type": "stream",
       "stream": "stdout",
       "text": [
        " \r",
        "  85001 of iterations complete"
       ]
      },
      {
       "output_type": "stream",
       "stream": "stdout",
       "text": [
        " \r",
        "  90001 of iterations complete"
       ]
      },
      {
       "output_type": "stream",
       "stream": "stdout",
       "text": [
        " \r",
        "  95001 of iterations complete"
       ]
      },
      {
       "output_type": "stream",
       "stream": "stdout",
       "text": [
        " \r",
        "  100001 of iterations complete"
       ]
      },
      {
       "output_type": "stream",
       "stream": "stdout",
       "text": [
        " \r",
        "  105001 of iterations complete"
       ]
      },
      {
       "output_type": "stream",
       "stream": "stdout",
       "text": [
        " \r",
        "  110001 of iterations complete"
       ]
      },
      {
       "output_type": "stream",
       "stream": "stdout",
       "text": [
        " \r",
        "  115001 of iterations complete"
       ]
      },
      {
       "output_type": "stream",
       "stream": "stdout",
       "text": [
        " \r",
        "  120001 of iterations complete"
       ]
      },
      {
       "output_type": "stream",
       "stream": "stdout",
       "text": [
        " \r",
        "  125001 of iterations complete"
       ]
      },
      {
       "output_type": "stream",
       "stream": "stdout",
       "text": [
        " \r",
        "  130001 of iterations complete"
       ]
      },
      {
       "output_type": "stream",
       "stream": "stdout",
       "text": [
        " \r",
        "  135001 of iterations complete"
       ]
      },
      {
       "output_type": "stream",
       "stream": "stdout",
       "text": [
        " \r",
        "  140001 of iterations complete"
       ]
      },
      {
       "output_type": "stream",
       "stream": "stdout",
       "text": [
        " \r",
        "  145001 of iterations complete"
       ]
      },
      {
       "output_type": "stream",
       "stream": "stdout",
       "text": [
        " \r",
        "  150001 of iterations complete"
       ]
      },
      {
       "output_type": "stream",
       "stream": "stdout",
       "text": [
        " \r",
        "  155001 of iterations complete"
       ]
      },
      {
       "output_type": "stream",
       "stream": "stdout",
       "text": [
        " \r",
        "  160001 of iterations complete"
       ]
      },
      {
       "output_type": "stream",
       "stream": "stdout",
       "text": [
        " \r",
        "  165001 of iterations complete"
       ]
      },
      {
       "output_type": "stream",
       "stream": "stdout",
       "text": [
        " \r",
        "  170001 of iterations complete"
       ]
      },
      {
       "output_type": "stream",
       "stream": "stdout",
       "text": [
        " \r",
        "  175001 of iterations complete"
       ]
      },
      {
       "output_type": "stream",
       "stream": "stdout",
       "text": [
        " \r",
        "  180001 of iterations complete"
       ]
      },
      {
       "output_type": "stream",
       "stream": "stdout",
       "text": [
        " \r",
        "  185001 of iterations complete"
       ]
      },
      {
       "output_type": "stream",
       "stream": "stdout",
       "text": [
        " \r",
        "  190001 of iterations complete"
       ]
      },
      {
       "output_type": "stream",
       "stream": "stdout",
       "text": [
        " \r",
        "  195001 of iterations complete"
       ]
      },
      {
       "output_type": "stream",
       "stream": "stdout",
       "text": [
        " \r",
        "  200001 of iterations complete"
       ]
      },
      {
       "output_type": "stream",
       "stream": "stdout",
       "text": [
        " \r",
        "  205001 of iterations complete"
       ]
      },
      {
       "output_type": "stream",
       "stream": "stdout",
       "text": [
        " \r",
        "  210001 of iterations complete"
       ]
      },
      {
       "output_type": "stream",
       "stream": "stdout",
       "text": [
        " \r",
        "  215001 of iterations complete"
       ]
      },
      {
       "output_type": "stream",
       "stream": "stdout",
       "text": [
        " \r",
        "  220001 of iterations complete"
       ]
      },
      {
       "output_type": "stream",
       "stream": "stdout",
       "text": [
        " \r",
        "  225001 of iterations complete"
       ]
      },
      {
       "output_type": "stream",
       "stream": "stdout",
       "text": [
        " \r",
        "  230001 of iterations complete"
       ]
      },
      {
       "output_type": "stream",
       "stream": "stdout",
       "text": [
        " \r",
        "  235001 of iterations complete"
       ]
      },
      {
       "output_type": "stream",
       "stream": "stdout",
       "text": [
        " \r",
        "  240001 of iterations complete"
       ]
      },
      {
       "output_type": "stream",
       "stream": "stdout",
       "text": [
        " \r",
        "  245001 of iterations complete"
       ]
      },
      {
       "output_type": "stream",
       "stream": "stdout",
       "text": [
        " \r",
        "  250001 of iterations complete"
       ]
      },
      {
       "output_type": "stream",
       "stream": "stdout",
       "text": [
        " \r",
        "  255001 of iterations complete"
       ]
      },
      {
       "output_type": "stream",
       "stream": "stdout",
       "text": [
        " \r",
        "  260001 of iterations complete"
       ]
      },
      {
       "output_type": "stream",
       "stream": "stdout",
       "text": [
        " \r",
        "  265001 of iterations complete"
       ]
      },
      {
       "output_type": "stream",
       "stream": "stdout",
       "text": [
        " \r",
        "  270001 of iterations complete"
       ]
      },
      {
       "output_type": "stream",
       "stream": "stdout",
       "text": [
        " \r",
        "  275001 of iterations complete"
       ]
      },
      {
       "output_type": "stream",
       "stream": "stdout",
       "text": [
        " \r",
        "  280001 of iterations complete"
       ]
      },
      {
       "output_type": "stream",
       "stream": "stdout",
       "text": [
        " \r",
        "  285001 of iterations complete"
       ]
      },
      {
       "output_type": "stream",
       "stream": "stdout",
       "text": [
        " \r",
        "  290001 of iterations complete"
       ]
      },
      {
       "output_type": "stream",
       "stream": "stdout",
       "text": [
        " \r",
        "  295001 of iterations complete"
       ]
      },
      {
       "output_type": "stream",
       "stream": "stdout",
       "text": [
        " \r",
        "  300001 of iterations complete"
       ]
      },
      {
       "output_type": "stream",
       "stream": "stdout",
       "text": [
        " \r",
        "  305001 of iterations complete"
       ]
      },
      {
       "output_type": "stream",
       "stream": "stdout",
       "text": [
        " \r",
        "  310001 of iterations complete"
       ]
      },
      {
       "output_type": "stream",
       "stream": "stdout",
       "text": [
        " \r",
        "  315001 of iterations complete"
       ]
      },
      {
       "output_type": "stream",
       "stream": "stdout",
       "text": [
        " \r",
        "  320001 of iterations complete"
       ]
      },
      {
       "output_type": "stream",
       "stream": "stdout",
       "text": [
        " \r",
        "  325001 of iterations complete"
       ]
      },
      {
       "output_type": "stream",
       "stream": "stdout",
       "text": [
        " \r",
        "  330001 of iterations complete"
       ]
      },
      {
       "output_type": "stream",
       "stream": "stdout",
       "text": [
        " \r",
        "  335001 of iterations complete"
       ]
      },
      {
       "output_type": "stream",
       "stream": "stdout",
       "text": [
        " \r",
        "  340001 of iterations complete"
       ]
      },
      {
       "output_type": "stream",
       "stream": "stdout",
       "text": [
        " \r",
        "  345001 of iterations complete"
       ]
      },
      {
       "output_type": "stream",
       "stream": "stdout",
       "text": [
        " \r",
        "  350001 of iterations complete"
       ]
      },
      {
       "output_type": "stream",
       "stream": "stdout",
       "text": [
        " \r",
        "  355001 of iterations complete"
       ]
      },
      {
       "output_type": "stream",
       "stream": "stdout",
       "text": [
        " \r",
        "  360001 of iterations complete"
       ]
      },
      {
       "output_type": "stream",
       "stream": "stdout",
       "text": [
        " \r",
        "  365001 of iterations complete"
       ]
      },
      {
       "output_type": "stream",
       "stream": "stdout",
       "text": [
        " \r",
        "  370001 of iterations complete"
       ]
      },
      {
       "output_type": "stream",
       "stream": "stdout",
       "text": [
        " \r",
        "  375001 of iterations complete"
       ]
      },
      {
       "output_type": "stream",
       "stream": "stdout",
       "text": [
        " \r",
        "  380001 of iterations complete"
       ]
      },
      {
       "output_type": "stream",
       "stream": "stdout",
       "text": [
        " \r",
        "  385001 of iterations complete"
       ]
      },
      {
       "output_type": "stream",
       "stream": "stdout",
       "text": [
        " \r",
        "  390001 of iterations complete"
       ]
      },
      {
       "output_type": "stream",
       "stream": "stdout",
       "text": [
        " \r",
        "  395001 of iterations complete"
       ]
      },
      {
       "output_type": "stream",
       "stream": "stdout",
       "text": [
        " \r",
        "  400001 of iterations complete"
       ]
      },
      {
       "output_type": "stream",
       "stream": "stdout",
       "text": [
        " \r",
        "  405001 of iterations complete"
       ]
      },
      {
       "output_type": "stream",
       "stream": "stdout",
       "text": [
        " \r",
        "  410001 of iterations complete"
       ]
      },
      {
       "output_type": "stream",
       "stream": "stdout",
       "text": [
        " \r",
        "  415001 of iterations complete"
       ]
      },
      {
       "output_type": "stream",
       "stream": "stdout",
       "text": [
        " \r",
        "  420001 of iterations complete"
       ]
      },
      {
       "output_type": "stream",
       "stream": "stdout",
       "text": [
        " \r",
        "  425001 of iterations complete"
       ]
      },
      {
       "output_type": "stream",
       "stream": "stdout",
       "text": [
        " \r",
        "  430001 of iterations complete"
       ]
      },
      {
       "output_type": "stream",
       "stream": "stdout",
       "text": [
        " \r",
        "  435001 of iterations complete"
       ]
      },
      {
       "output_type": "stream",
       "stream": "stdout",
       "text": [
        " \r",
        "  440001 of iterations complete"
       ]
      },
      {
       "output_type": "stream",
       "stream": "stdout",
       "text": [
        " \r",
        "  445001 of iterations complete"
       ]
      },
      {
       "output_type": "stream",
       "stream": "stdout",
       "text": [
        " \r",
        "  450001 of iterations complete"
       ]
      },
      {
       "output_type": "stream",
       "stream": "stdout",
       "text": [
        " \r",
        "  455001 of iterations complete"
       ]
      },
      {
       "output_type": "stream",
       "stream": "stdout",
       "text": [
        " \r",
        "  460001 of iterations complete"
       ]
      },
      {
       "output_type": "stream",
       "stream": "stdout",
       "text": [
        " \r",
        "  465001 of iterations complete"
       ]
      },
      {
       "output_type": "stream",
       "stream": "stdout",
       "text": [
        " \r",
        "  470001 of iterations complete"
       ]
      },
      {
       "output_type": "stream",
       "stream": "stdout",
       "text": [
        " \r",
        "  475001 of iterations complete"
       ]
      },
      {
       "output_type": "stream",
       "stream": "stdout",
       "text": [
        " \r",
        "  480001 of iterations complete"
       ]
      },
      {
       "output_type": "stream",
       "stream": "stdout",
       "text": [
        " \r",
        "  485001 of iterations complete"
       ]
      },
      {
       "output_type": "stream",
       "stream": "stdout",
       "text": [
        " \r",
        "  490001 of iterations complete"
       ]
      },
      {
       "output_type": "stream",
       "stream": "stdout",
       "text": [
        " \r",
        "  495001 of iterations complete"
       ]
      },
      {
       "output_type": "stream",
       "stream": "stdout",
       "text": [
        " \r",
        "  500001 of iterations complete"
       ]
      },
      {
       "output_type": "stream",
       "stream": "stdout",
       "text": [
        " \r",
        "  505001 of iterations complete"
       ]
      },
      {
       "output_type": "stream",
       "stream": "stdout",
       "text": [
        " \r",
        "  510001 of iterations complete"
       ]
      },
      {
       "output_type": "stream",
       "stream": "stdout",
       "text": [
        " \r",
        "  515001 of iterations complete"
       ]
      },
      {
       "output_type": "stream",
       "stream": "stdout",
       "text": [
        " \r",
        "  520001 of iterations complete"
       ]
      },
      {
       "output_type": "stream",
       "stream": "stdout",
       "text": [
        " \r",
        "  525001 of iterations complete"
       ]
      },
      {
       "output_type": "stream",
       "stream": "stdout",
       "text": [
        " \r",
        "  530001 of iterations complete"
       ]
      },
      {
       "output_type": "stream",
       "stream": "stdout",
       "text": [
        " \r",
        "  535001 of iterations complete"
       ]
      },
      {
       "output_type": "stream",
       "stream": "stdout",
       "text": [
        " \r",
        "  540001 of iterations complete"
       ]
      },
      {
       "output_type": "stream",
       "stream": "stdout",
       "text": [
        " \r",
        "  545001 of iterations complete"
       ]
      },
      {
       "output_type": "stream",
       "stream": "stdout",
       "text": [
        " \r",
        "  550001 of iterations complete"
       ]
      },
      {
       "output_type": "stream",
       "stream": "stdout",
       "text": [
        " \r",
        "  555001 of iterations complete"
       ]
      },
      {
       "output_type": "stream",
       "stream": "stdout",
       "text": [
        " \r",
        "  560001 of iterations complete"
       ]
      },
      {
       "output_type": "stream",
       "stream": "stdout",
       "text": [
        " \r",
        "  565001 of iterations complete"
       ]
      },
      {
       "output_type": "stream",
       "stream": "stdout",
       "text": [
        " \r",
        "  570001 of iterations complete"
       ]
      },
      {
       "output_type": "stream",
       "stream": "stdout",
       "text": [
        " \r",
        "  575001 of iterations complete"
       ]
      },
      {
       "output_type": "stream",
       "stream": "stdout",
       "text": [
        " \r",
        "  580001 of iterations complete"
       ]
      },
      {
       "output_type": "stream",
       "stream": "stdout",
       "text": [
        " \r",
        "  585001 of iterations complete"
       ]
      },
      {
       "output_type": "stream",
       "stream": "stdout",
       "text": [
        " \r",
        "  590001 of iterations complete"
       ]
      },
      {
       "output_type": "stream",
       "stream": "stdout",
       "text": [
        " \r",
        "  595001 of iterations complete"
       ]
      },
      {
       "output_type": "stream",
       "stream": "stdout",
       "text": [
        " \r",
        "  600001 of iterations complete"
       ]
      },
      {
       "output_type": "stream",
       "stream": "stdout",
       "text": [
        " \r",
        "  605001 of iterations complete"
       ]
      },
      {
       "output_type": "stream",
       "stream": "stdout",
       "text": [
        " \r",
        "  610001 of iterations complete"
       ]
      },
      {
       "output_type": "stream",
       "stream": "stdout",
       "text": [
        " \r",
        "  615001 of iterations complete"
       ]
      },
      {
       "output_type": "stream",
       "stream": "stdout",
       "text": [
        " \r",
        "  620001 of iterations complete"
       ]
      },
      {
       "output_type": "stream",
       "stream": "stdout",
       "text": [
        " \r",
        "  625001 of iterations complete"
       ]
      },
      {
       "output_type": "stream",
       "stream": "stdout",
       "text": [
        " \r",
        "  630001 of iterations complete"
       ]
      },
      {
       "output_type": "stream",
       "stream": "stdout",
       "text": [
        " \r",
        "  635001 of iterations complete"
       ]
      },
      {
       "output_type": "stream",
       "stream": "stdout",
       "text": [
        " \r",
        "  640001 of iterations complete"
       ]
      },
      {
       "output_type": "stream",
       "stream": "stdout",
       "text": [
        " \r",
        "  645001 of iterations complete"
       ]
      },
      {
       "output_type": "stream",
       "stream": "stdout",
       "text": [
        " \r",
        "  650001 of iterations complete"
       ]
      },
      {
       "output_type": "stream",
       "stream": "stdout",
       "text": [
        " \r",
        "  655001 of iterations complete"
       ]
      },
      {
       "output_type": "stream",
       "stream": "stdout",
       "text": [
        " \r",
        "  660001 of iterations complete"
       ]
      },
      {
       "output_type": "stream",
       "stream": "stdout",
       "text": [
        " \r",
        "  665001 of iterations complete"
       ]
      },
      {
       "output_type": "stream",
       "stream": "stdout",
       "text": [
        " \r",
        "  670001 of iterations complete"
       ]
      },
      {
       "output_type": "stream",
       "stream": "stdout",
       "text": [
        " \r",
        "  675001 of iterations complete"
       ]
      },
      {
       "output_type": "stream",
       "stream": "stdout",
       "text": [
        " \r",
        "  680001 of iterations complete"
       ]
      },
      {
       "output_type": "stream",
       "stream": "stdout",
       "text": [
        " \r",
        "  685001 of iterations complete"
       ]
      },
      {
       "output_type": "stream",
       "stream": "stdout",
       "text": [
        " \r",
        "  690001 of iterations complete"
       ]
      },
      {
       "output_type": "stream",
       "stream": "stdout",
       "text": [
        " \r",
        "  695001 of iterations complete"
       ]
      },
      {
       "output_type": "stream",
       "stream": "stdout",
       "text": [
        " \r",
        "  700001 of iterations complete"
       ]
      },
      {
       "output_type": "stream",
       "stream": "stdout",
       "text": [
        " \r",
        "  705001 of iterations complete"
       ]
      },
      {
       "output_type": "stream",
       "stream": "stdout",
       "text": [
        " \r",
        "  710001 of iterations complete"
       ]
      },
      {
       "output_type": "stream",
       "stream": "stdout",
       "text": [
        " \r",
        "  715001 of iterations complete"
       ]
      },
      {
       "output_type": "stream",
       "stream": "stdout",
       "text": [
        " \r",
        "  720001 of iterations complete"
       ]
      },
      {
       "output_type": "stream",
       "stream": "stdout",
       "text": [
        " \r",
        "  725001 of iterations complete"
       ]
      },
      {
       "output_type": "stream",
       "stream": "stdout",
       "text": [
        " \r",
        "  730001 of iterations complete"
       ]
      },
      {
       "output_type": "stream",
       "stream": "stdout",
       "text": [
        " \r",
        "  735001 of iterations complete"
       ]
      },
      {
       "output_type": "stream",
       "stream": "stdout",
       "text": [
        " \r",
        "  740001 of iterations complete"
       ]
      },
      {
       "output_type": "stream",
       "stream": "stdout",
       "text": [
        " \r",
        "  745001 of iterations complete"
       ]
      },
      {
       "output_type": "stream",
       "stream": "stdout",
       "text": [
        " \r",
        "  750001 of iterations complete"
       ]
      },
      {
       "output_type": "stream",
       "stream": "stdout",
       "text": [
        " \r",
        "  755001 of iterations complete"
       ]
      },
      {
       "output_type": "stream",
       "stream": "stdout",
       "text": [
        " \r",
        "  760001 of iterations complete"
       ]
      },
      {
       "output_type": "stream",
       "stream": "stdout",
       "text": [
        " \r",
        "  765001 of iterations complete"
       ]
      },
      {
       "output_type": "stream",
       "stream": "stdout",
       "text": [
        " \r",
        "  770001 of iterations complete"
       ]
      },
      {
       "output_type": "stream",
       "stream": "stdout",
       "text": [
        " \r",
        "  775001 of iterations complete"
       ]
      },
      {
       "output_type": "stream",
       "stream": "stdout",
       "text": [
        " \r",
        "  780001 of iterations complete"
       ]
      },
      {
       "output_type": "stream",
       "stream": "stdout",
       "text": [
        " \r",
        "  785001 of iterations complete"
       ]
      },
      {
       "output_type": "stream",
       "stream": "stdout",
       "text": [
        " \r",
        "  790001 of iterations complete"
       ]
      },
      {
       "output_type": "stream",
       "stream": "stdout",
       "text": [
        " \r",
        "  795001 of iterations complete"
       ]
      },
      {
       "output_type": "stream",
       "stream": "stdout",
       "text": [
        " \r",
        "  800001 of iterations complete"
       ]
      },
      {
       "output_type": "stream",
       "stream": "stdout",
       "text": [
        " \r",
        "  805001 of iterations complete"
       ]
      },
      {
       "output_type": "stream",
       "stream": "stdout",
       "text": [
        " \r",
        "  810001 of iterations complete"
       ]
      },
      {
       "output_type": "stream",
       "stream": "stdout",
       "text": [
        " \r",
        "  815001 of iterations complete"
       ]
      },
      {
       "output_type": "stream",
       "stream": "stdout",
       "text": [
        " \r",
        "  820001 of iterations complete"
       ]
      },
      {
       "output_type": "stream",
       "stream": "stdout",
       "text": [
        " \r",
        "  825001 of iterations complete"
       ]
      },
      {
       "output_type": "stream",
       "stream": "stdout",
       "text": [
        " \r",
        "  830001 of iterations complete"
       ]
      },
      {
       "output_type": "stream",
       "stream": "stdout",
       "text": [
        " \r",
        "  835001 of iterations complete"
       ]
      },
      {
       "output_type": "stream",
       "stream": "stdout",
       "text": [
        " \r",
        "  840001 of iterations complete"
       ]
      },
      {
       "output_type": "stream",
       "stream": "stdout",
       "text": [
        " \r",
        "  845001 of iterations complete"
       ]
      },
      {
       "output_type": "stream",
       "stream": "stdout",
       "text": [
        " \r",
        "  850001 of iterations complete"
       ]
      },
      {
       "output_type": "stream",
       "stream": "stdout",
       "text": [
        " \r",
        "  855001 of iterations complete"
       ]
      },
      {
       "output_type": "stream",
       "stream": "stdout",
       "text": [
        " \r",
        "  860001 of iterations complete"
       ]
      },
      {
       "output_type": "stream",
       "stream": "stdout",
       "text": [
        " \r",
        "  865001 of iterations complete"
       ]
      },
      {
       "output_type": "stream",
       "stream": "stdout",
       "text": [
        " \r",
        "  870001 of iterations complete"
       ]
      },
      {
       "output_type": "stream",
       "stream": "stdout",
       "text": [
        " \r",
        "  875001 of iterations complete"
       ]
      },
      {
       "output_type": "stream",
       "stream": "stdout",
       "text": [
        " \r",
        "  880001 of iterations complete"
       ]
      },
      {
       "output_type": "stream",
       "stream": "stdout",
       "text": [
        " \r",
        "  885001 of iterations complete"
       ]
      },
      {
       "output_type": "stream",
       "stream": "stdout",
       "text": [
        " \r",
        "  890001 of iterations complete"
       ]
      },
      {
       "output_type": "stream",
       "stream": "stdout",
       "text": [
        " \r",
        "  895001 of iterations complete"
       ]
      },
      {
       "output_type": "stream",
       "stream": "stdout",
       "text": [
        " \r",
        "  900001 of iterations complete"
       ]
      },
      {
       "output_type": "stream",
       "stream": "stdout",
       "text": [
        " \r",
        "  905001 of iterations complete"
       ]
      },
      {
       "output_type": "stream",
       "stream": "stdout",
       "text": [
        " \r",
        "  910001 of iterations complete"
       ]
      },
      {
       "output_type": "stream",
       "stream": "stdout",
       "text": [
        " \r",
        "  915001 of iterations complete"
       ]
      },
      {
       "output_type": "stream",
       "stream": "stdout",
       "text": [
        " \r",
        "  920001 of iterations complete"
       ]
      },
      {
       "output_type": "stream",
       "stream": "stdout",
       "text": [
        " \r",
        "  925001 of iterations complete"
       ]
      },
      {
       "output_type": "stream",
       "stream": "stdout",
       "text": [
        " \r",
        "  930001 of iterations complete"
       ]
      },
      {
       "output_type": "stream",
       "stream": "stdout",
       "text": [
        " \r",
        "  935001 of iterations complete"
       ]
      },
      {
       "output_type": "stream",
       "stream": "stdout",
       "text": [
        " \r",
        "  940001 of iterations complete"
       ]
      },
      {
       "output_type": "stream",
       "stream": "stdout",
       "text": [
        " \r",
        "  945001 of iterations complete"
       ]
      },
      {
       "output_type": "stream",
       "stream": "stdout",
       "text": [
        " \r",
        "  950001 of iterations complete"
       ]
      },
      {
       "output_type": "stream",
       "stream": "stdout",
       "text": [
        " \r",
        "  955001 of iterations complete"
       ]
      },
      {
       "output_type": "stream",
       "stream": "stdout",
       "text": [
        " \r",
        "  960001 of iterations complete"
       ]
      },
      {
       "output_type": "stream",
       "stream": "stdout",
       "text": [
        " \r",
        "  965001 of iterations complete"
       ]
      },
      {
       "output_type": "stream",
       "stream": "stdout",
       "text": [
        " \r",
        "  970001 of iterations complete"
       ]
      },
      {
       "output_type": "stream",
       "stream": "stdout",
       "text": [
        " \r",
        "  975001 of iterations complete"
       ]
      },
      {
       "output_type": "stream",
       "stream": "stdout",
       "text": [
        " \r",
        "  980001 of iterations complete"
       ]
      },
      {
       "output_type": "stream",
       "stream": "stdout",
       "text": [
        " \r",
        "  985001 of iterations complete"
       ]
      },
      {
       "output_type": "stream",
       "stream": "stdout",
       "text": [
        " \r",
        "  990001 of iterations complete"
       ]
      },
      {
       "output_type": "stream",
       "stream": "stdout",
       "text": [
        " 2 1000000\n"
       ]
      }
     ],
     "prompt_number": 10
    },
    {
     "cell_type": "code",
     "collapsed": false,
     "input": [
      "with open(ACMdev.TsvData['trnLog'],'rb') as tsvin:\n",
      "    tsvin = csv.reader(tsvin, delimiter='\\t')\n",
      "    p = ACMdev.ProgressBar(1)\n",
      "    j = 0\n",
      "    ml = 0\n",
      "    for row in tsvin:\n",
      "        ml =max ( ml , len(row[1]))\n",
      "        if j % 10000 == 0: \n",
      "            p.showStep(j)\n",
      "        j= j + 1\n",
      "    print ml, j"
     ],
     "language": "python",
     "metadata": {},
     "outputs": [
      {
       "output_type": "stream",
       "stream": "stdout",
       "text": [
        " \r",
        "[                       0%                       ]"
       ]
      },
      {
       "output_type": "stream",
       "stream": "stdout",
       "text": [
        " \r",
        "  1 of iterations complete"
       ]
      },
      {
       "output_type": "stream",
       "stream": "stdout",
       "text": [
        " \r",
        "  10001 of iterations complete"
       ]
      },
      {
       "output_type": "stream",
       "stream": "stdout",
       "text": [
        " \r",
        "  20001 of iterations complete"
       ]
      },
      {
       "output_type": "stream",
       "stream": "stdout",
       "text": [
        " \r",
        "  30001 of iterations complete"
       ]
      },
      {
       "output_type": "stream",
       "stream": "stdout",
       "text": [
        " \r",
        "  40001 of iterations complete"
       ]
      },
      {
       "output_type": "stream",
       "stream": "stdout",
       "text": [
        " \r",
        "  50001 of iterations complete"
       ]
      },
      {
       "output_type": "stream",
       "stream": "stdout",
       "text": [
        " \r",
        "  60001 of iterations complete"
       ]
      },
      {
       "output_type": "stream",
       "stream": "stdout",
       "text": [
        " \r",
        "  70001 of iterations complete"
       ]
      },
      {
       "output_type": "stream",
       "stream": "stdout",
       "text": [
        " \r",
        "  80001 of iterations complete"
       ]
      },
      {
       "output_type": "stream",
       "stream": "stdout",
       "text": [
        " \r",
        "  90001 of iterations complete"
       ]
      },
      {
       "output_type": "stream",
       "stream": "stdout",
       "text": [
        " \r",
        "  100001 of iterations complete"
       ]
      },
      {
       "output_type": "stream",
       "stream": "stdout",
       "text": [
        " \r",
        "  110001 of iterations complete"
       ]
      },
      {
       "output_type": "stream",
       "stream": "stdout",
       "text": [
        " \r",
        "  120001 of iterations complete"
       ]
      },
      {
       "output_type": "stream",
       "stream": "stdout",
       "text": [
        " \r",
        "  130001 of iterations complete"
       ]
      },
      {
       "output_type": "stream",
       "stream": "stdout",
       "text": [
        " \r",
        "  140001 of iterations complete"
       ]
      },
      {
       "output_type": "stream",
       "stream": "stdout",
       "text": [
        " \r",
        "  150001 of iterations complete"
       ]
      },
      {
       "output_type": "stream",
       "stream": "stdout",
       "text": [
        " \r",
        "  160001 of iterations complete"
       ]
      },
      {
       "output_type": "stream",
       "stream": "stdout",
       "text": [
        " \r",
        "  170001 of iterations complete"
       ]
      },
      {
       "output_type": "stream",
       "stream": "stdout",
       "text": [
        " \r",
        "  180001 of iterations complete"
       ]
      },
      {
       "output_type": "stream",
       "stream": "stdout",
       "text": [
        " \r",
        "  190001 of iterations complete"
       ]
      },
      {
       "output_type": "stream",
       "stream": "stdout",
       "text": [
        " \r",
        "  200001 of iterations complete"
       ]
      },
      {
       "output_type": "stream",
       "stream": "stdout",
       "text": [
        " \r",
        "  210001 of iterations complete"
       ]
      },
      {
       "output_type": "stream",
       "stream": "stdout",
       "text": [
        " \r",
        "  220001 of iterations complete"
       ]
      },
      {
       "output_type": "stream",
       "stream": "stdout",
       "text": [
        " \r",
        "  230001 of iterations complete"
       ]
      },
      {
       "output_type": "stream",
       "stream": "stdout",
       "text": [
        " \r",
        "  240001 of iterations complete"
       ]
      },
      {
       "output_type": "stream",
       "stream": "stdout",
       "text": [
        " \r",
        "  250001 of iterations complete"
       ]
      },
      {
       "output_type": "stream",
       "stream": "stdout",
       "text": [
        " \r",
        "  260001 of iterations complete"
       ]
      },
      {
       "output_type": "stream",
       "stream": "stdout",
       "text": [
        " \r",
        "  270001 of iterations complete"
       ]
      },
      {
       "output_type": "stream",
       "stream": "stdout",
       "text": [
        " \r",
        "  280001 of iterations complete"
       ]
      },
      {
       "output_type": "stream",
       "stream": "stdout",
       "text": [
        " \r",
        "  290001 of iterations complete"
       ]
      },
      {
       "output_type": "stream",
       "stream": "stdout",
       "text": [
        " \r",
        "  300001 of iterations complete"
       ]
      },
      {
       "output_type": "stream",
       "stream": "stdout",
       "text": [
        " \r",
        "  310001 of iterations complete"
       ]
      },
      {
       "output_type": "stream",
       "stream": "stdout",
       "text": [
        " \r",
        "  320001 of iterations complete"
       ]
      },
      {
       "output_type": "stream",
       "stream": "stdout",
       "text": [
        " \r",
        "  330001 of iterations complete"
       ]
      },
      {
       "output_type": "stream",
       "stream": "stdout",
       "text": [
        " \r",
        "  340001 of iterations complete"
       ]
      },
      {
       "output_type": "stream",
       "stream": "stdout",
       "text": [
        " \r",
        "  350001 of iterations complete"
       ]
      },
      {
       "output_type": "stream",
       "stream": "stdout",
       "text": [
        " \r",
        "  360001 of iterations complete"
       ]
      },
      {
       "output_type": "stream",
       "stream": "stdout",
       "text": [
        " \r",
        "  370001 of iterations complete"
       ]
      },
      {
       "output_type": "stream",
       "stream": "stdout",
       "text": [
        " \r",
        "  380001 of iterations complete"
       ]
      },
      {
       "output_type": "stream",
       "stream": "stdout",
       "text": [
        " \r",
        "  390001 of iterations complete"
       ]
      },
      {
       "output_type": "stream",
       "stream": "stdout",
       "text": [
        " \r",
        "  400001 of iterations complete"
       ]
      },
      {
       "output_type": "stream",
       "stream": "stdout",
       "text": [
        " \r",
        "  410001 of iterations complete"
       ]
      },
      {
       "output_type": "stream",
       "stream": "stdout",
       "text": [
        " \r",
        "  420001 of iterations complete"
       ]
      },
      {
       "output_type": "stream",
       "stream": "stdout",
       "text": [
        " \r",
        "  430001 of iterations complete"
       ]
      },
      {
       "output_type": "stream",
       "stream": "stdout",
       "text": [
        " \r",
        "  440001 of iterations complete"
       ]
      },
      {
       "output_type": "stream",
       "stream": "stdout",
       "text": [
        " \r",
        "  450001 of iterations complete"
       ]
      },
      {
       "output_type": "stream",
       "stream": "stdout",
       "text": [
        " \r",
        "  460001 of iterations complete"
       ]
      },
      {
       "output_type": "stream",
       "stream": "stdout",
       "text": [
        " \r",
        "  470001 of iterations complete"
       ]
      },
      {
       "output_type": "stream",
       "stream": "stdout",
       "text": [
        " \r",
        "  480001 of iterations complete"
       ]
      },
      {
       "output_type": "stream",
       "stream": "stdout",
       "text": [
        " \r",
        "  490001 of iterations complete"
       ]
      },
      {
       "output_type": "stream",
       "stream": "stdout",
       "text": [
        " \r",
        "  500001 of iterations complete"
       ]
      },
      {
       "output_type": "stream",
       "stream": "stdout",
       "text": [
        " \r",
        "  510001 of iterations complete"
       ]
      },
      {
       "output_type": "stream",
       "stream": "stdout",
       "text": [
        " \r",
        "  520001 of iterations complete"
       ]
      },
      {
       "output_type": "stream",
       "stream": "stdout",
       "text": [
        " \r",
        "  530001 of iterations complete"
       ]
      },
      {
       "output_type": "stream",
       "stream": "stdout",
       "text": [
        " \r",
        "  540001 of iterations complete"
       ]
      },
      {
       "output_type": "stream",
       "stream": "stdout",
       "text": [
        " \r",
        "  550001 of iterations complete"
       ]
      },
      {
       "output_type": "stream",
       "stream": "stdout",
       "text": [
        " \r",
        "  560001 of iterations complete"
       ]
      },
      {
       "output_type": "stream",
       "stream": "stdout",
       "text": [
        " \r",
        "  570001 of iterations complete"
       ]
      },
      {
       "output_type": "stream",
       "stream": "stdout",
       "text": [
        " \r",
        "  580001 of iterations complete"
       ]
      },
      {
       "output_type": "stream",
       "stream": "stdout",
       "text": [
        " \r",
        "  590001 of iterations complete"
       ]
      },
      {
       "output_type": "stream",
       "stream": "stdout",
       "text": [
        " \r",
        "  600001 of iterations complete"
       ]
      },
      {
       "output_type": "stream",
       "stream": "stdout",
       "text": [
        " \r",
        "  610001 of iterations complete"
       ]
      },
      {
       "output_type": "stream",
       "stream": "stdout",
       "text": [
        " \r",
        "  620001 of iterations complete"
       ]
      },
      {
       "output_type": "stream",
       "stream": "stdout",
       "text": [
        " \r",
        "  630001 of iterations complete"
       ]
      },
      {
       "output_type": "stream",
       "stream": "stdout",
       "text": [
        " \r",
        "  640001 of iterations complete"
       ]
      },
      {
       "output_type": "stream",
       "stream": "stdout",
       "text": [
        " \r",
        "  650001 of iterations complete"
       ]
      },
      {
       "output_type": "stream",
       "stream": "stdout",
       "text": [
        " \r",
        "  660001 of iterations complete"
       ]
      },
      {
       "output_type": "stream",
       "stream": "stdout",
       "text": [
        " \r",
        "  670001 of iterations complete"
       ]
      },
      {
       "output_type": "stream",
       "stream": "stdout",
       "text": [
        " \r",
        "  680001 of iterations complete"
       ]
      },
      {
       "output_type": "stream",
       "stream": "stdout",
       "text": [
        " \r",
        "  690001 of iterations complete"
       ]
      },
      {
       "output_type": "stream",
       "stream": "stdout",
       "text": [
        " \r",
        "  700001 of iterations complete"
       ]
      },
      {
       "output_type": "stream",
       "stream": "stdout",
       "text": [
        " \r",
        "  710001 of iterations complete"
       ]
      },
      {
       "output_type": "stream",
       "stream": "stdout",
       "text": [
        " \r",
        "  720001 of iterations complete"
       ]
      },
      {
       "output_type": "stream",
       "stream": "stdout",
       "text": [
        " \r",
        "  730001 of iterations complete"
       ]
      },
      {
       "output_type": "stream",
       "stream": "stdout",
       "text": [
        " \r",
        "  740001 of iterations complete"
       ]
      },
      {
       "output_type": "stream",
       "stream": "stdout",
       "text": [
        " \r",
        "  750001 of iterations complete"
       ]
      },
      {
       "output_type": "stream",
       "stream": "stdout",
       "text": [
        " \r",
        "  760001 of iterations complete"
       ]
      },
      {
       "output_type": "stream",
       "stream": "stdout",
       "text": [
        " \r",
        "  770001 of iterations complete"
       ]
      },
      {
       "output_type": "stream",
       "stream": "stdout",
       "text": [
        " \r",
        "  780001 of iterations complete"
       ]
      },
      {
       "output_type": "stream",
       "stream": "stdout",
       "text": [
        " \r",
        "  790001 of iterations complete"
       ]
      },
      {
       "output_type": "stream",
       "stream": "stdout",
       "text": [
        " \r",
        "  800001 of iterations complete"
       ]
      },
      {
       "output_type": "stream",
       "stream": "stdout",
       "text": [
        " \r",
        "  810001 of iterations complete"
       ]
      },
      {
       "output_type": "stream",
       "stream": "stdout",
       "text": [
        " \r",
        "  820001 of iterations complete"
       ]
      },
      {
       "output_type": "stream",
       "stream": "stdout",
       "text": [
        " \r",
        "  830001 of iterations complete"
       ]
      },
      {
       "output_type": "stream",
       "stream": "stdout",
       "text": [
        " \r",
        "  840001 of iterations complete"
       ]
      },
      {
       "output_type": "stream",
       "stream": "stdout",
       "text": [
        " \r",
        "  850001 of iterations complete"
       ]
      },
      {
       "output_type": "stream",
       "stream": "stdout",
       "text": [
        " \r",
        "  860001 of iterations complete"
       ]
      },
      {
       "output_type": "stream",
       "stream": "stdout",
       "text": [
        " \r",
        "  870001 of iterations complete"
       ]
      },
      {
       "output_type": "stream",
       "stream": "stdout",
       "text": [
        " \r",
        "  880001 of iterations complete"
       ]
      },
      {
       "output_type": "stream",
       "stream": "stdout",
       "text": [
        " \r",
        "  890001 of iterations complete"
       ]
      },
      {
       "output_type": "stream",
       "stream": "stdout",
       "text": [
        " \r",
        "  900001 of iterations complete"
       ]
      },
      {
       "output_type": "stream",
       "stream": "stdout",
       "text": [
        " \r",
        "  910001 of iterations complete"
       ]
      },
      {
       "output_type": "stream",
       "stream": "stdout",
       "text": [
        " \r",
        "  920001 of iterations complete"
       ]
      },
      {
       "output_type": "stream",
       "stream": "stdout",
       "text": [
        " \r",
        "  930001 of iterations complete"
       ]
      },
      {
       "output_type": "stream",
       "stream": "stdout",
       "text": [
        " \r",
        "  940001 of iterations complete"
       ]
      },
      {
       "output_type": "stream",
       "stream": "stdout",
       "text": [
        " \r",
        "  950001 of iterations complete"
       ]
      },
      {
       "output_type": "stream",
       "stream": "stdout",
       "text": [
        " \r",
        "  960001 of iterations complete"
       ]
      },
      {
       "output_type": "stream",
       "stream": "stdout",
       "text": [
        " \r",
        "  970001 of iterations complete"
       ]
      },
      {
       "output_type": "stream",
       "stream": "stdout",
       "text": [
        " \r",
        "  980001 of iterations complete"
       ]
      },
      {
       "output_type": "stream",
       "stream": "stdout",
       "text": [
        " \r",
        "  990001 of iterations complete"
       ]
      },
      {
       "output_type": "stream",
       "stream": "stdout",
       "text": [
        " \r",
        "  1000001 of iterations complete"
       ]
      },
      {
       "output_type": "stream",
       "stream": "stdout",
       "text": [
        " \r",
        "  1010001 of iterations complete"
       ]
      },
      {
       "output_type": "stream",
       "stream": "stdout",
       "text": [
        " \r",
        "  1020001 of iterations complete"
       ]
      },
      {
       "output_type": "stream",
       "stream": "stdout",
       "text": [
        " \r",
        "  1030001 of iterations complete"
       ]
      },
      {
       "output_type": "stream",
       "stream": "stdout",
       "text": [
        " \r",
        "  1040001 of iterations complete"
       ]
      },
      {
       "output_type": "stream",
       "stream": "stdout",
       "text": [
        " \r",
        "  1050001 of iterations complete"
       ]
      },
      {
       "output_type": "stream",
       "stream": "stdout",
       "text": [
        " \r",
        "  1060001 of iterations complete"
       ]
      },
      {
       "output_type": "stream",
       "stream": "stdout",
       "text": [
        " \r",
        "  1070001 of iterations complete"
       ]
      },
      {
       "output_type": "stream",
       "stream": "stdout",
       "text": [
        " \r",
        "  1080001 of iterations complete"
       ]
      },
      {
       "output_type": "stream",
       "stream": "stdout",
       "text": [
        " \r",
        "  1090001 of iterations complete"
       ]
      },
      {
       "output_type": "stream",
       "stream": "stdout",
       "text": [
        " \r",
        "  1100001 of iterations complete"
       ]
      },
      {
       "output_type": "stream",
       "stream": "stdout",
       "text": [
        " \r",
        "  1110001 of iterations complete"
       ]
      },
      {
       "output_type": "stream",
       "stream": "stdout",
       "text": [
        " \r",
        "  1120001 of iterations complete"
       ]
      },
      {
       "output_type": "stream",
       "stream": "stdout",
       "text": [
        " \r",
        "  1130001 of iterations complete"
       ]
      },
      {
       "output_type": "stream",
       "stream": "stdout",
       "text": [
        " \r",
        "  1140001 of iterations complete"
       ]
      },
      {
       "output_type": "stream",
       "stream": "stdout",
       "text": [
        " \r",
        "  1150001 of iterations complete"
       ]
      },
      {
       "output_type": "stream",
       "stream": "stdout",
       "text": [
        " \r",
        "  1160001 of iterations complete"
       ]
      },
      {
       "output_type": "stream",
       "stream": "stdout",
       "text": [
        " \r",
        "  1170001 of iterations complete"
       ]
      },
      {
       "output_type": "stream",
       "stream": "stdout",
       "text": [
        " \r",
        "  1180001 of iterations complete"
       ]
      },
      {
       "output_type": "stream",
       "stream": "stdout",
       "text": [
        " \r",
        "  1190001 of iterations complete"
       ]
      },
      {
       "output_type": "stream",
       "stream": "stdout",
       "text": [
        " \r",
        "  1200001 of iterations complete"
       ]
      },
      {
       "output_type": "stream",
       "stream": "stdout",
       "text": [
        " \r",
        "  1210001 of iterations complete"
       ]
      },
      {
       "output_type": "stream",
       "stream": "stdout",
       "text": [
        " \r",
        "  1220001 of iterations complete"
       ]
      },
      {
       "output_type": "stream",
       "stream": "stdout",
       "text": [
        " \r",
        "  1230001 of iterations complete"
       ]
      },
      {
       "output_type": "stream",
       "stream": "stdout",
       "text": [
        " \r",
        "  1240001 of iterations complete"
       ]
      },
      {
       "output_type": "stream",
       "stream": "stdout",
       "text": [
        " \r",
        "  1250001 of iterations complete"
       ]
      },
      {
       "output_type": "stream",
       "stream": "stdout",
       "text": [
        " \r",
        "  1260001 of iterations complete"
       ]
      },
      {
       "output_type": "stream",
       "stream": "stdout",
       "text": [
        " \r",
        "  1270001 of iterations complete"
       ]
      },
      {
       "output_type": "stream",
       "stream": "stdout",
       "text": [
        " \r",
        "  1280001 of iterations complete"
       ]
      },
      {
       "output_type": "stream",
       "stream": "stdout",
       "text": [
        " \r",
        "  1290001 of iterations complete"
       ]
      },
      {
       "output_type": "stream",
       "stream": "stdout",
       "text": [
        " \r",
        "  1300001 of iterations complete"
       ]
      },
      {
       "output_type": "stream",
       "stream": "stdout",
       "text": [
        " \r",
        "  1310001 of iterations complete"
       ]
      },
      {
       "output_type": "stream",
       "stream": "stdout",
       "text": [
        " \r",
        "  1320001 of iterations complete"
       ]
      },
      {
       "output_type": "stream",
       "stream": "stdout",
       "text": [
        " \r",
        "  1330001 of iterations complete"
       ]
      },
      {
       "output_type": "stream",
       "stream": "stdout",
       "text": [
        " \r",
        "  1340001 of iterations complete"
       ]
      },
      {
       "output_type": "stream",
       "stream": "stdout",
       "text": [
        " \r",
        "  1350001 of iterations complete"
       ]
      },
      {
       "output_type": "stream",
       "stream": "stdout",
       "text": [
        " \r",
        "  1360001 of iterations complete"
       ]
      },
      {
       "output_type": "stream",
       "stream": "stdout",
       "text": [
        " \r",
        "  1370001 of iterations complete"
       ]
      },
      {
       "output_type": "stream",
       "stream": "stdout",
       "text": [
        " \r",
        "  1380001 of iterations complete"
       ]
      },
      {
       "output_type": "stream",
       "stream": "stdout",
       "text": [
        " \r",
        "  1390001 of iterations complete"
       ]
      },
      {
       "output_type": "stream",
       "stream": "stdout",
       "text": [
        " \r",
        "  1400001 of iterations complete"
       ]
      },
      {
       "output_type": "stream",
       "stream": "stdout",
       "text": [
        " \r",
        "  1410001 of iterations complete"
       ]
      },
      {
       "output_type": "stream",
       "stream": "stdout",
       "text": [
        " \r",
        "  1420001 of iterations complete"
       ]
      },
      {
       "output_type": "stream",
       "stream": "stdout",
       "text": [
        " \r",
        "  1430001 of iterations complete"
       ]
      },
      {
       "output_type": "stream",
       "stream": "stdout",
       "text": [
        " \r",
        "  1440001 of iterations complete"
       ]
      },
      {
       "output_type": "stream",
       "stream": "stdout",
       "text": [
        " \r",
        "  1450001 of iterations complete"
       ]
      },
      {
       "output_type": "stream",
       "stream": "stdout",
       "text": [
        " \r",
        "  1460001 of iterations complete"
       ]
      },
      {
       "output_type": "stream",
       "stream": "stdout",
       "text": [
        " \r",
        "  1470001 of iterations complete"
       ]
      },
      {
       "output_type": "stream",
       "stream": "stdout",
       "text": [
        " \r",
        "  1480001 of iterations complete"
       ]
      },
      {
       "output_type": "stream",
       "stream": "stdout",
       "text": [
        " \r",
        "  1490001 of iterations complete"
       ]
      },
      {
       "output_type": "stream",
       "stream": "stdout",
       "text": [
        " \r",
        "  1500001 of iterations complete"
       ]
      },
      {
       "output_type": "stream",
       "stream": "stdout",
       "text": [
        " \r",
        "  1510001 of iterations complete"
       ]
      },
      {
       "output_type": "stream",
       "stream": "stdout",
       "text": [
        " \r",
        "  1520001 of iterations complete"
       ]
      },
      {
       "output_type": "stream",
       "stream": "stdout",
       "text": [
        " \r",
        "  1530001 of iterations complete"
       ]
      },
      {
       "output_type": "stream",
       "stream": "stdout",
       "text": [
        " \r",
        "  1540001 of iterations complete"
       ]
      },
      {
       "output_type": "stream",
       "stream": "stdout",
       "text": [
        " \r",
        "  1550001 of iterations complete"
       ]
      },
      {
       "output_type": "stream",
       "stream": "stdout",
       "text": [
        " \r",
        "  1560001 of iterations complete"
       ]
      },
      {
       "output_type": "stream",
       "stream": "stdout",
       "text": [
        " \r",
        "  1570001 of iterations complete"
       ]
      },
      {
       "output_type": "stream",
       "stream": "stdout",
       "text": [
        " \r",
        "  1580001 of iterations complete"
       ]
      },
      {
       "output_type": "stream",
       "stream": "stdout",
       "text": [
        " \r",
        "  1590001 of iterations complete"
       ]
      },
      {
       "output_type": "stream",
       "stream": "stdout",
       "text": [
        " \r",
        "  1600001 of iterations complete"
       ]
      },
      {
       "output_type": "stream",
       "stream": "stdout",
       "text": [
        " \r",
        "  1610001 of iterations complete"
       ]
      },
      {
       "output_type": "stream",
       "stream": "stdout",
       "text": [
        " \r",
        "  1620001 of iterations complete"
       ]
      },
      {
       "output_type": "stream",
       "stream": "stdout",
       "text": [
        " \r",
        "  1630001 of iterations complete"
       ]
      },
      {
       "output_type": "stream",
       "stream": "stdout",
       "text": [
        " \r",
        "  1640001 of iterations complete"
       ]
      },
      {
       "output_type": "stream",
       "stream": "stdout",
       "text": [
        " \r",
        "  1650001 of iterations complete"
       ]
      },
      {
       "output_type": "stream",
       "stream": "stdout",
       "text": [
        " \r",
        "  1660001 of iterations complete"
       ]
      },
      {
       "output_type": "stream",
       "stream": "stdout",
       "text": [
        " \r",
        "  1670001 of iterations complete"
       ]
      },
      {
       "output_type": "stream",
       "stream": "stdout",
       "text": [
        " \r",
        "  1680001 of iterations complete"
       ]
      },
      {
       "output_type": "stream",
       "stream": "stdout",
       "text": [
        " \r",
        "  1690001 of iterations complete"
       ]
      },
      {
       "output_type": "stream",
       "stream": "stdout",
       "text": [
        " \r",
        "  1700001 of iterations complete"
       ]
      },
      {
       "output_type": "stream",
       "stream": "stdout",
       "text": [
        " \r",
        "  1710001 of iterations complete"
       ]
      },
      {
       "output_type": "stream",
       "stream": "stdout",
       "text": [
        " \r",
        "  1720001 of iterations complete"
       ]
      },
      {
       "output_type": "stream",
       "stream": "stdout",
       "text": [
        " \r",
        "  1730001 of iterations complete"
       ]
      },
      {
       "output_type": "stream",
       "stream": "stdout",
       "text": [
        " \r",
        "  1740001 of iterations complete"
       ]
      },
      {
       "output_type": "stream",
       "stream": "stdout",
       "text": [
        " \r",
        "  1750001 of iterations complete"
       ]
      },
      {
       "output_type": "stream",
       "stream": "stdout",
       "text": [
        " \r",
        "  1760001 of iterations complete"
       ]
      },
      {
       "output_type": "stream",
       "stream": "stdout",
       "text": [
        " \r",
        "  1770001 of iterations complete"
       ]
      },
      {
       "output_type": "stream",
       "stream": "stdout",
       "text": [
        " \r",
        "  1780001 of iterations complete"
       ]
      },
      {
       "output_type": "stream",
       "stream": "stdout",
       "text": [
        " \r",
        "  1790001 of iterations complete"
       ]
      },
      {
       "output_type": "stream",
       "stream": "stdout",
       "text": [
        " \r",
        "  1800001 of iterations complete"
       ]
      },
      {
       "output_type": "stream",
       "stream": "stdout",
       "text": [
        " \r",
        "  1810001 of iterations complete"
       ]
      },
      {
       "output_type": "stream",
       "stream": "stdout",
       "text": [
        " \r",
        "  1820001 of iterations complete"
       ]
      },
      {
       "output_type": "stream",
       "stream": "stdout",
       "text": [
        " \r",
        "  1830001 of iterations complete"
       ]
      },
      {
       "output_type": "stream",
       "stream": "stdout",
       "text": [
        " \r",
        "  1840001 of iterations complete"
       ]
      },
      {
       "output_type": "stream",
       "stream": "stdout",
       "text": [
        " \r",
        "  1850001 of iterations complete"
       ]
      },
      {
       "output_type": "stream",
       "stream": "stdout",
       "text": [
        " \r",
        "  1860001 of iterations complete"
       ]
      },
      {
       "output_type": "stream",
       "stream": "stdout",
       "text": [
        " \r",
        "  1870001 of iterations complete"
       ]
      },
      {
       "output_type": "stream",
       "stream": "stdout",
       "text": [
        " \r",
        "  1880001 of iterations complete"
       ]
      },
      {
       "output_type": "stream",
       "stream": "stdout",
       "text": [
        " \r",
        "  1890001 of iterations complete"
       ]
      },
      {
       "output_type": "stream",
       "stream": "stdout",
       "text": [
        " \r",
        "  1900001 of iterations complete"
       ]
      },
      {
       "output_type": "stream",
       "stream": "stdout",
       "text": [
        " \r",
        "  1910001 of iterations complete"
       ]
      },
      {
       "output_type": "stream",
       "stream": "stdout",
       "text": [
        " \r",
        "  1920001 of iterations complete"
       ]
      },
      {
       "output_type": "stream",
       "stream": "stdout",
       "text": [
        " \r",
        "  1930001 of iterations complete"
       ]
      },
      {
       "output_type": "stream",
       "stream": "stdout",
       "text": [
        " \r",
        "  1940001 of iterations complete"
       ]
      },
      {
       "output_type": "stream",
       "stream": "stdout",
       "text": [
        " \r",
        "  1950001 of iterations complete"
       ]
      },
      {
       "output_type": "stream",
       "stream": "stdout",
       "text": [
        " \r",
        "  1960001 of iterations complete"
       ]
      },
      {
       "output_type": "stream",
       "stream": "stdout",
       "text": [
        " \r",
        "  1970001 of iterations complete"
       ]
      },
      {
       "output_type": "stream",
       "stream": "stdout",
       "text": [
        " \r",
        "  1980001 of iterations complete"
       ]
      },
      {
       "output_type": "stream",
       "stream": "stdout",
       "text": [
        " \r",
        "  1990001 of iterations complete"
       ]
      },
      {
       "output_type": "stream",
       "stream": "stdout",
       "text": [
        " \r",
        "  2000001 of iterations complete"
       ]
      },
      {
       "output_type": "stream",
       "stream": "stdout",
       "text": [
        " \r",
        "  2010001 of iterations complete"
       ]
      },
      {
       "output_type": "stream",
       "stream": "stdout",
       "text": [
        " \r",
        "  2020001 of iterations complete"
       ]
      },
      {
       "output_type": "stream",
       "stream": "stdout",
       "text": [
        " \r",
        "  2030001 of iterations complete"
       ]
      },
      {
       "output_type": "stream",
       "stream": "stdout",
       "text": [
        " \r",
        "  2040001 of iterations complete"
       ]
      },
      {
       "output_type": "stream",
       "stream": "stdout",
       "text": [
        " \r",
        "  2050001 of iterations complete"
       ]
      },
      {
       "output_type": "stream",
       "stream": "stdout",
       "text": [
        " \r",
        "  2060001 of iterations complete"
       ]
      },
      {
       "output_type": "stream",
       "stream": "stdout",
       "text": [
        " \r",
        "  2070001 of iterations complete"
       ]
      },
      {
       "output_type": "stream",
       "stream": "stdout",
       "text": [
        " \r",
        "  2080001 of iterations complete"
       ]
      },
      {
       "output_type": "stream",
       "stream": "stdout",
       "text": [
        " \r",
        "  2090001 of iterations complete"
       ]
      },
      {
       "output_type": "stream",
       "stream": "stdout",
       "text": [
        " \r",
        "  2100001 of iterations complete"
       ]
      },
      {
       "output_type": "stream",
       "stream": "stdout",
       "text": [
        " \r",
        "  2110001 of iterations complete"
       ]
      },
      {
       "output_type": "stream",
       "stream": "stdout",
       "text": [
        " \r",
        "  2120001 of iterations complete"
       ]
      },
      {
       "output_type": "stream",
       "stream": "stdout",
       "text": [
        " \r",
        "  2130001 of iterations complete"
       ]
      },
      {
       "output_type": "stream",
       "stream": "stdout",
       "text": [
        " \r",
        "  2140001 of iterations complete"
       ]
      },
      {
       "output_type": "stream",
       "stream": "stdout",
       "text": [
        " \r",
        "  2150001 of iterations complete"
       ]
      },
      {
       "output_type": "stream",
       "stream": "stdout",
       "text": [
        " \r",
        "  2160001 of iterations complete"
       ]
      },
      {
       "output_type": "stream",
       "stream": "stdout",
       "text": [
        " \r",
        "  2170001 of iterations complete"
       ]
      },
      {
       "output_type": "stream",
       "stream": "stdout",
       "text": [
        " \r",
        "  2180001 of iterations complete"
       ]
      },
      {
       "output_type": "stream",
       "stream": "stdout",
       "text": [
        " \r",
        "  2190001 of iterations complete"
       ]
      },
      {
       "output_type": "stream",
       "stream": "stdout",
       "text": [
        " \r",
        "  2200001 of iterations complete"
       ]
      },
      {
       "output_type": "stream",
       "stream": "stdout",
       "text": [
        " \r",
        "  2210001 of iterations complete"
       ]
      },
      {
       "output_type": "stream",
       "stream": "stdout",
       "text": [
        " \r",
        "  2220001 of iterations complete"
       ]
      },
      {
       "output_type": "stream",
       "stream": "stdout",
       "text": [
        " \r",
        "  2230001 of iterations complete"
       ]
      },
      {
       "output_type": "stream",
       "stream": "stdout",
       "text": [
        " \r",
        "  2240001 of iterations complete"
       ]
      },
      {
       "output_type": "stream",
       "stream": "stdout",
       "text": [
        " \r",
        "  2250001 of iterations complete"
       ]
      },
      {
       "output_type": "stream",
       "stream": "stdout",
       "text": [
        " \r",
        "  2260001 of iterations complete"
       ]
      },
      {
       "output_type": "stream",
       "stream": "stdout",
       "text": [
        " \r",
        "  2270001 of iterations complete"
       ]
      },
      {
       "output_type": "stream",
       "stream": "stdout",
       "text": [
        " \r",
        "  2280001 of iterations complete"
       ]
      },
      {
       "output_type": "stream",
       "stream": "stdout",
       "text": [
        " \r",
        "  2290001 of iterations complete"
       ]
      },
      {
       "output_type": "stream",
       "stream": "stdout",
       "text": [
        " \r",
        "  2300001 of iterations complete"
       ]
      },
      {
       "output_type": "stream",
       "stream": "stdout",
       "text": [
        " \r",
        "  2310001 of iterations complete"
       ]
      },
      {
       "output_type": "stream",
       "stream": "stdout",
       "text": [
        " \r",
        "  2320001 of iterations complete"
       ]
      },
      {
       "output_type": "stream",
       "stream": "stdout",
       "text": [
        " \r",
        "  2330001 of iterations complete"
       ]
      },
      {
       "output_type": "stream",
       "stream": "stdout",
       "text": [
        " \r",
        "  2340001 of iterations complete"
       ]
      },
      {
       "output_type": "stream",
       "stream": "stdout",
       "text": [
        " \r",
        "  2350001 of iterations complete"
       ]
      },
      {
       "output_type": "stream",
       "stream": "stdout",
       "text": [
        " \r",
        "  2360001 of iterations complete"
       ]
      },
      {
       "output_type": "stream",
       "stream": "stdout",
       "text": [
        " \r",
        "  2370001 of iterations complete"
       ]
      },
      {
       "output_type": "stream",
       "stream": "stdout",
       "text": [
        " \r",
        "  2380001 of iterations complete"
       ]
      },
      {
       "output_type": "stream",
       "stream": "stdout",
       "text": [
        " \r",
        "  2390001 of iterations complete"
       ]
      },
      {
       "output_type": "stream",
       "stream": "stdout",
       "text": [
        " \r",
        "  2400001 of iterations complete"
       ]
      },
      {
       "output_type": "stream",
       "stream": "stdout",
       "text": [
        " \r",
        "  2410001 of iterations complete"
       ]
      },
      {
       "output_type": "stream",
       "stream": "stdout",
       "text": [
        " \r",
        "  2420001 of iterations complete"
       ]
      },
      {
       "output_type": "stream",
       "stream": "stdout",
       "text": [
        " \r",
        "  2430001 of iterations complete"
       ]
      },
      {
       "output_type": "stream",
       "stream": "stdout",
       "text": [
        " \r",
        "  2440001 of iterations complete"
       ]
      },
      {
       "output_type": "stream",
       "stream": "stdout",
       "text": [
        " \r",
        "  2450001 of iterations complete"
       ]
      },
      {
       "output_type": "stream",
       "stream": "stdout",
       "text": [
        " \r",
        "  2460001 of iterations complete"
       ]
      },
      {
       "output_type": "stream",
       "stream": "stdout",
       "text": [
        " \r",
        "  2470001 of iterations complete"
       ]
      },
      {
       "output_type": "stream",
       "stream": "stdout",
       "text": [
        " \r",
        "  2480001 of iterations complete"
       ]
      },
      {
       "output_type": "stream",
       "stream": "stdout",
       "text": [
        " \r",
        "  2490001 of iterations complete"
       ]
      },
      {
       "output_type": "stream",
       "stream": "stdout",
       "text": [
        " \r",
        "  2500001 of iterations complete"
       ]
      },
      {
       "output_type": "stream",
       "stream": "stdout",
       "text": [
        " \r",
        "  2510001 of iterations complete"
       ]
      },
      {
       "output_type": "stream",
       "stream": "stdout",
       "text": [
        " \r",
        "  2520001 of iterations complete"
       ]
      },
      {
       "output_type": "stream",
       "stream": "stdout",
       "text": [
        " \r",
        "  2530001 of iterations complete"
       ]
      },
      {
       "output_type": "stream",
       "stream": "stdout",
       "text": [
        " \r",
        "  2540001 of iterations complete"
       ]
      },
      {
       "output_type": "stream",
       "stream": "stdout",
       "text": [
        " \r",
        "  2550001 of iterations complete"
       ]
      },
      {
       "output_type": "stream",
       "stream": "stdout",
       "text": [
        " \r",
        "  2560001 of iterations complete"
       ]
      },
      {
       "output_type": "stream",
       "stream": "stdout",
       "text": [
        " \r",
        "  2570001 of iterations complete"
       ]
      },
      {
       "output_type": "stream",
       "stream": "stdout",
       "text": [
        " \r",
        "  2580001 of iterations complete"
       ]
      },
      {
       "output_type": "stream",
       "stream": "stdout",
       "text": [
        " \r",
        "  2590001 of iterations complete"
       ]
      },
      {
       "output_type": "stream",
       "stream": "stdout",
       "text": [
        " \r",
        "  2600001 of iterations complete"
       ]
      },
      {
       "output_type": "stream",
       "stream": "stdout",
       "text": [
        " \r",
        "  2610001 of iterations complete"
       ]
      },
      {
       "output_type": "stream",
       "stream": "stdout",
       "text": [
        " \r",
        "  2620001 of iterations complete"
       ]
      },
      {
       "output_type": "stream",
       "stream": "stdout",
       "text": [
        " \r",
        "  2630001 of iterations complete"
       ]
      },
      {
       "output_type": "stream",
       "stream": "stdout",
       "text": [
        " \r",
        "  2640001 of iterations complete"
       ]
      },
      {
       "output_type": "stream",
       "stream": "stdout",
       "text": [
        " \r",
        "  2650001 of iterations complete"
       ]
      },
      {
       "output_type": "stream",
       "stream": "stdout",
       "text": [
        " \r",
        "  2660001 of iterations complete"
       ]
      },
      {
       "output_type": "stream",
       "stream": "stdout",
       "text": [
        " \r",
        "  2670001 of iterations complete"
       ]
      },
      {
       "output_type": "stream",
       "stream": "stdout",
       "text": [
        " \r",
        "  2680001 of iterations complete"
       ]
      },
      {
       "output_type": "stream",
       "stream": "stdout",
       "text": [
        " \r",
        "  2690001 of iterations complete"
       ]
      },
      {
       "output_type": "stream",
       "stream": "stdout",
       "text": [
        " \r",
        "  2700001 of iterations complete"
       ]
      },
      {
       "output_type": "stream",
       "stream": "stdout",
       "text": [
        " \r",
        "  2710001 of iterations complete"
       ]
      },
      {
       "output_type": "stream",
       "stream": "stdout",
       "text": [
        " \r",
        "  2720001 of iterations complete"
       ]
      },
      {
       "output_type": "stream",
       "stream": "stdout",
       "text": [
        " \r",
        "  2730001 of iterations complete"
       ]
      },
      {
       "output_type": "stream",
       "stream": "stdout",
       "text": [
        " \r",
        "  2740001 of iterations complete"
       ]
      },
      {
       "output_type": "stream",
       "stream": "stdout",
       "text": [
        " \r",
        "  2750001 of iterations complete"
       ]
      },
      {
       "output_type": "stream",
       "stream": "stdout",
       "text": [
        " \r",
        "  2760001 of iterations complete"
       ]
      },
      {
       "output_type": "stream",
       "stream": "stdout",
       "text": [
        " \r",
        "  2770001 of iterations complete"
       ]
      },
      {
       "output_type": "stream",
       "stream": "stdout",
       "text": [
        " \r",
        "  2780001 of iterations complete"
       ]
      },
      {
       "output_type": "stream",
       "stream": "stdout",
       "text": [
        " \r",
        "  2790001 of iterations complete"
       ]
      },
      {
       "output_type": "stream",
       "stream": "stdout",
       "text": [
        " \r",
        "  2800001 of iterations complete"
       ]
      },
      {
       "output_type": "stream",
       "stream": "stdout",
       "text": [
        " \r",
        "  2810001 of iterations complete"
       ]
      },
      {
       "output_type": "stream",
       "stream": "stdout",
       "text": [
        " \r",
        "  2820001 of iterations complete"
       ]
      },
      {
       "output_type": "stream",
       "stream": "stdout",
       "text": [
        " \r",
        "  2830001 of iterations complete"
       ]
      },
      {
       "output_type": "stream",
       "stream": "stdout",
       "text": [
        " \r",
        "  2840001 of iterations complete"
       ]
      },
      {
       "output_type": "stream",
       "stream": "stdout",
       "text": [
        " \r",
        "  2850001 of iterations complete"
       ]
      },
      {
       "output_type": "stream",
       "stream": "stdout",
       "text": [
        " \r",
        "  2860001 of iterations complete"
       ]
      },
      {
       "output_type": "stream",
       "stream": "stdout",
       "text": [
        " \r",
        "  2870001 of iterations complete"
       ]
      },
      {
       "output_type": "stream",
       "stream": "stdout",
       "text": [
        " \r",
        "  2880001 of iterations complete"
       ]
      },
      {
       "output_type": "stream",
       "stream": "stdout",
       "text": [
        " \r",
        "  2890001 of iterations complete"
       ]
      },
      {
       "output_type": "stream",
       "stream": "stdout",
       "text": [
        " \r",
        "  2900001 of iterations complete"
       ]
      },
      {
       "output_type": "stream",
       "stream": "stdout",
       "text": [
        " \r",
        "  2910001 of iterations complete"
       ]
      },
      {
       "output_type": "stream",
       "stream": "stdout",
       "text": [
        " \r",
        "  2920001 of iterations complete"
       ]
      },
      {
       "output_type": "stream",
       "stream": "stdout",
       "text": [
        " \r",
        "  2930001 of iterations complete"
       ]
      },
      {
       "output_type": "stream",
       "stream": "stdout",
       "text": [
        " \r",
        "  2940001 of iterations complete"
       ]
      },
      {
       "output_type": "stream",
       "stream": "stdout",
       "text": [
        " \r",
        "  2950001 of iterations complete"
       ]
      },
      {
       "output_type": "stream",
       "stream": "stdout",
       "text": [
        " \r",
        "  2960001 of iterations complete"
       ]
      },
      {
       "output_type": "stream",
       "stream": "stdout",
       "text": [
        " \r",
        "  2970001 of iterations complete"
       ]
      },
      {
       "output_type": "stream",
       "stream": "stdout",
       "text": [
        " \r",
        "  2980001 of iterations complete"
       ]
      },
      {
       "output_type": "stream",
       "stream": "stdout",
       "text": [
        " \r",
        "  2990001 of iterations complete"
       ]
      },
      {
       "output_type": "stream",
       "stream": "stdout",
       "text": [
        " \r",
        "  3000001 of iterations complete"
       ]
      },
      {
       "output_type": "stream",
       "stream": "stdout",
       "text": [
        " \r",
        "  3010001 of iterations complete"
       ]
      },
      {
       "output_type": "stream",
       "stream": "stdout",
       "text": [
        " \r",
        "  3020001 of iterations complete"
       ]
      },
      {
       "output_type": "stream",
       "stream": "stdout",
       "text": [
        " \r",
        "  3030001 of iterations complete"
       ]
      },
      {
       "output_type": "stream",
       "stream": "stdout",
       "text": [
        " \r",
        "  3040001 of iterations complete"
       ]
      },
      {
       "output_type": "stream",
       "stream": "stdout",
       "text": [
        " \r",
        "  3050001 of iterations complete"
       ]
      },
      {
       "output_type": "stream",
       "stream": "stdout",
       "text": [
        " \r",
        "  3060001 of iterations complete"
       ]
      },
      {
       "output_type": "stream",
       "stream": "stdout",
       "text": [
        " \r",
        "  3070001 of iterations complete"
       ]
      },
      {
       "output_type": "stream",
       "stream": "stdout",
       "text": [
        " \r",
        "  3080001 of iterations complete"
       ]
      },
      {
       "output_type": "stream",
       "stream": "stdout",
       "text": [
        " \r",
        "  3090001 of iterations complete"
       ]
      },
      {
       "output_type": "stream",
       "stream": "stdout",
       "text": [
        " \r",
        "  3100001 of iterations complete"
       ]
      },
      {
       "output_type": "stream",
       "stream": "stdout",
       "text": [
        " \r",
        "  3110001 of iterations complete"
       ]
      },
      {
       "output_type": "stream",
       "stream": "stdout",
       "text": [
        " \r",
        "  3120001 of iterations complete"
       ]
      },
      {
       "output_type": "stream",
       "stream": "stdout",
       "text": [
        " \r",
        "  3130001 of iterations complete"
       ]
      },
      {
       "output_type": "stream",
       "stream": "stdout",
       "text": [
        " \r",
        "  3140001 of iterations complete"
       ]
      },
      {
       "output_type": "stream",
       "stream": "stdout",
       "text": [
        " \r",
        "  3150001 of iterations complete"
       ]
      },
      {
       "output_type": "stream",
       "stream": "stdout",
       "text": [
        " \r",
        "  3160001 of iterations complete"
       ]
      },
      {
       "output_type": "stream",
       "stream": "stdout",
       "text": [
        " \r",
        "  3170001 of iterations complete"
       ]
      },
      {
       "output_type": "stream",
       "stream": "stdout",
       "text": [
        " \r",
        "  3180001 of iterations complete"
       ]
      },
      {
       "output_type": "stream",
       "stream": "stdout",
       "text": [
        " \r",
        "  3190001 of iterations complete"
       ]
      },
      {
       "output_type": "stream",
       "stream": "stdout",
       "text": [
        " \r",
        "  3200001 of iterations complete"
       ]
      },
      {
       "output_type": "stream",
       "stream": "stdout",
       "text": [
        " \r",
        "  3210001 of iterations complete"
       ]
      },
      {
       "output_type": "stream",
       "stream": "stdout",
       "text": [
        " \r",
        "  3220001 of iterations complete"
       ]
      },
      {
       "output_type": "stream",
       "stream": "stdout",
       "text": [
        " \r",
        "  3230001 of iterations complete"
       ]
      },
      {
       "output_type": "stream",
       "stream": "stdout",
       "text": [
        " \r",
        "  3240001 of iterations complete"
       ]
      },
      {
       "output_type": "stream",
       "stream": "stdout",
       "text": [
        " \r",
        "  3250001 of iterations complete"
       ]
      },
      {
       "output_type": "stream",
       "stream": "stdout",
       "text": [
        " \r",
        "  3260001 of iterations complete"
       ]
      },
      {
       "output_type": "stream",
       "stream": "stdout",
       "text": [
        " \r",
        "  3270001 of iterations complete"
       ]
      },
      {
       "output_type": "stream",
       "stream": "stdout",
       "text": [
        " \r",
        "  3280001 of iterations complete"
       ]
      },
      {
       "output_type": "stream",
       "stream": "stdout",
       "text": [
        " \r",
        "  3290001 of iterations complete"
       ]
      },
      {
       "output_type": "stream",
       "stream": "stdout",
       "text": [
        " \r",
        "  3300001 of iterations complete"
       ]
      },
      {
       "output_type": "stream",
       "stream": "stdout",
       "text": [
        " \r",
        "  3310001 of iterations complete"
       ]
      },
      {
       "output_type": "stream",
       "stream": "stdout",
       "text": [
        " \r",
        "  3320001 of iterations complete"
       ]
      },
      {
       "output_type": "stream",
       "stream": "stdout",
       "text": [
        " \r",
        "  3330001 of iterations complete"
       ]
      },
      {
       "output_type": "stream",
       "stream": "stdout",
       "text": [
        " \r",
        "  3340001 of iterations complete"
       ]
      },
      {
       "output_type": "stream",
       "stream": "stdout",
       "text": [
        " \r",
        "  3350001 of iterations complete"
       ]
      },
      {
       "output_type": "stream",
       "stream": "stdout",
       "text": [
        " \r",
        "  3360001 of iterations complete"
       ]
      },
      {
       "output_type": "stream",
       "stream": "stdout",
       "text": [
        " \r",
        "  3370001 of iterations complete"
       ]
      },
      {
       "output_type": "stream",
       "stream": "stdout",
       "text": [
        " \r",
        "  3380001 of iterations complete"
       ]
      },
      {
       "output_type": "stream",
       "stream": "stdout",
       "text": [
        " \r",
        "  3390001 of iterations complete"
       ]
      },
      {
       "output_type": "stream",
       "stream": "stdout",
       "text": [
        " \r",
        "  3400001 of iterations complete"
       ]
      },
      {
       "output_type": "stream",
       "stream": "stdout",
       "text": [
        " \r",
        "  3410001 of iterations complete"
       ]
      },
      {
       "output_type": "stream",
       "stream": "stdout",
       "text": [
        " \r",
        "  3420001 of iterations complete"
       ]
      },
      {
       "output_type": "stream",
       "stream": "stdout",
       "text": [
        " \r",
        "  3430001 of iterations complete"
       ]
      },
      {
       "output_type": "stream",
       "stream": "stdout",
       "text": [
        " \r",
        "  3440001 of iterations complete"
       ]
      },
      {
       "output_type": "stream",
       "stream": "stdout",
       "text": [
        " \r",
        "  3450001 of iterations complete"
       ]
      },
      {
       "output_type": "stream",
       "stream": "stdout",
       "text": [
        " \r",
        "  3460001 of iterations complete"
       ]
      },
      {
       "output_type": "stream",
       "stream": "stdout",
       "text": [
        " \r",
        "  3470001 of iterations complete"
       ]
      },
      {
       "output_type": "stream",
       "stream": "stdout",
       "text": [
        " \r",
        "  3480001 of iterations complete"
       ]
      },
      {
       "output_type": "stream",
       "stream": "stdout",
       "text": [
        " \r",
        "  3490001 of iterations complete"
       ]
      },
      {
       "output_type": "stream",
       "stream": "stdout",
       "text": [
        " \r",
        "  3500001 of iterations complete"
       ]
      },
      {
       "output_type": "stream",
       "stream": "stdout",
       "text": [
        " \r",
        "  3510001 of iterations complete"
       ]
      },
      {
       "output_type": "stream",
       "stream": "stdout",
       "text": [
        " \r",
        "  3520001 of iterations complete"
       ]
      },
      {
       "output_type": "stream",
       "stream": "stdout",
       "text": [
        " \r",
        "  3530001 of iterations complete"
       ]
      },
      {
       "output_type": "stream",
       "stream": "stdout",
       "text": [
        " \r",
        "  3540001 of iterations complete"
       ]
      },
      {
       "output_type": "stream",
       "stream": "stdout",
       "text": [
        " \r",
        "  3550001 of iterations complete"
       ]
      },
      {
       "output_type": "stream",
       "stream": "stdout",
       "text": [
        " \r",
        "  3560001 of iterations complete"
       ]
      },
      {
       "output_type": "stream",
       "stream": "stdout",
       "text": [
        " \r",
        "  3570001 of iterations complete"
       ]
      },
      {
       "output_type": "stream",
       "stream": "stdout",
       "text": [
        " \r",
        "  3580001 of iterations complete"
       ]
      },
      {
       "output_type": "stream",
       "stream": "stdout",
       "text": [
        " \r",
        "  3590001 of iterations complete"
       ]
      },
      {
       "output_type": "stream",
       "stream": "stdout",
       "text": [
        " \r",
        "  3600001 of iterations complete"
       ]
      },
      {
       "output_type": "stream",
       "stream": "stdout",
       "text": [
        " \r",
        "  3610001 of iterations complete"
       ]
      },
      {
       "output_type": "stream",
       "stream": "stdout",
       "text": [
        " \r",
        "  3620001 of iterations complete"
       ]
      },
      {
       "output_type": "stream",
       "stream": "stdout",
       "text": [
        " \r",
        "  3630001 of iterations complete"
       ]
      },
      {
       "output_type": "stream",
       "stream": "stdout",
       "text": [
        " \r",
        "  3640001 of iterations complete"
       ]
      },
      {
       "output_type": "stream",
       "stream": "stdout",
       "text": [
        " \r",
        "  3650001 of iterations complete"
       ]
      },
      {
       "output_type": "stream",
       "stream": "stdout",
       "text": [
        " \r",
        "  3660001 of iterations complete"
       ]
      },
      {
       "output_type": "stream",
       "stream": "stdout",
       "text": [
        " \r",
        "  3670001 of iterations complete"
       ]
      },
      {
       "output_type": "stream",
       "stream": "stdout",
       "text": [
        " \r",
        "  3680001 of iterations complete"
       ]
      },
      {
       "output_type": "stream",
       "stream": "stdout",
       "text": [
        " \r",
        "  3690001 of iterations complete"
       ]
      },
      {
       "output_type": "stream",
       "stream": "stdout",
       "text": [
        " \r",
        "  3700001 of iterations complete"
       ]
      },
      {
       "output_type": "stream",
       "stream": "stdout",
       "text": [
        " \r",
        "  3710001 of iterations complete"
       ]
      },
      {
       "output_type": "stream",
       "stream": "stdout",
       "text": [
        " \r",
        "  3720001 of iterations complete"
       ]
      },
      {
       "output_type": "stream",
       "stream": "stdout",
       "text": [
        " \r",
        "  3730001 of iterations complete"
       ]
      },
      {
       "output_type": "stream",
       "stream": "stdout",
       "text": [
        " \r",
        "  3740001 of iterations complete"
       ]
      },
      {
       "output_type": "stream",
       "stream": "stdout",
       "text": [
        " \r",
        "  3750001 of iterations complete"
       ]
      },
      {
       "output_type": "stream",
       "stream": "stdout",
       "text": [
        " \r",
        "  3760001 of iterations complete"
       ]
      },
      {
       "output_type": "stream",
       "stream": "stdout",
       "text": [
        " \r",
        "  3770001 of iterations complete"
       ]
      },
      {
       "output_type": "stream",
       "stream": "stdout",
       "text": [
        " \r",
        "  3780001 of iterations complete"
       ]
      },
      {
       "output_type": "stream",
       "stream": "stdout",
       "text": [
        " \r",
        "  3790001 of iterations complete"
       ]
      },
      {
       "output_type": "stream",
       "stream": "stdout",
       "text": [
        " \r",
        "  3800001 of iterations complete"
       ]
      },
      {
       "output_type": "stream",
       "stream": "stdout",
       "text": [
        " \r",
        "  3810001 of iterations complete"
       ]
      },
      {
       "output_type": "stream",
       "stream": "stdout",
       "text": [
        " \r",
        "  3820001 of iterations complete"
       ]
      },
      {
       "output_type": "stream",
       "stream": "stdout",
       "text": [
        " \r",
        "  3830001 of iterations complete"
       ]
      },
      {
       "output_type": "stream",
       "stream": "stdout",
       "text": [
        " \r",
        "  3840001 of iterations complete"
       ]
      },
      {
       "output_type": "stream",
       "stream": "stdout",
       "text": [
        " \r",
        "  3850001 of iterations complete"
       ]
      },
      {
       "output_type": "stream",
       "stream": "stdout",
       "text": [
        " \r",
        "  3860001 of iterations complete"
       ]
      },
      {
       "output_type": "stream",
       "stream": "stdout",
       "text": [
        " \r",
        "  3870001 of iterations complete"
       ]
      },
      {
       "output_type": "stream",
       "stream": "stdout",
       "text": [
        " \r",
        "  3880001 of iterations complete"
       ]
      },
      {
       "output_type": "stream",
       "stream": "stdout",
       "text": [
        " \r",
        "  3890001 of iterations complete"
       ]
      },
      {
       "output_type": "stream",
       "stream": "stdout",
       "text": [
        " \r",
        "  3900001 of iterations complete"
       ]
      },
      {
       "output_type": "stream",
       "stream": "stdout",
       "text": [
        " \r",
        "  3910001 of iterations complete"
       ]
      },
      {
       "output_type": "stream",
       "stream": "stdout",
       "text": [
        " \r",
        "  3920001 of iterations complete"
       ]
      },
      {
       "output_type": "stream",
       "stream": "stdout",
       "text": [
        " \r",
        "  3930001 of iterations complete"
       ]
      },
      {
       "output_type": "stream",
       "stream": "stdout",
       "text": [
        " \r",
        "  3940001 of iterations complete"
       ]
      },
      {
       "output_type": "stream",
       "stream": "stdout",
       "text": [
        " \r",
        "  3950001 of iterations complete"
       ]
      },
      {
       "output_type": "stream",
       "stream": "stdout",
       "text": [
        " \r",
        "  3960001 of iterations complete"
       ]
      },
      {
       "output_type": "stream",
       "stream": "stdout",
       "text": [
        " \r",
        "  3970001 of iterations complete"
       ]
      },
      {
       "output_type": "stream",
       "stream": "stdout",
       "text": [
        " \r",
        "  3980001 of iterations complete"
       ]
      },
      {
       "output_type": "stream",
       "stream": "stdout",
       "text": [
        " \r",
        "  3990001 of iterations complete"
       ]
      },
      {
       "output_type": "stream",
       "stream": "stdout",
       "text": [
        " \r",
        "  4000001 of iterations complete"
       ]
      },
      {
       "output_type": "stream",
       "stream": "stdout",
       "text": [
        " \r",
        "  4010001 of iterations complete"
       ]
      },
      {
       "output_type": "stream",
       "stream": "stdout",
       "text": [
        " \r",
        "  4020001 of iterations complete"
       ]
      },
      {
       "output_type": "stream",
       "stream": "stdout",
       "text": [
        " \r",
        "  4030001 of iterations complete"
       ]
      },
      {
       "output_type": "stream",
       "stream": "stdout",
       "text": [
        " \r",
        "  4040001 of iterations complete"
       ]
      },
      {
       "output_type": "stream",
       "stream": "stdout",
       "text": [
        " \r",
        "  4050001 of iterations complete"
       ]
      },
      {
       "output_type": "stream",
       "stream": "stdout",
       "text": [
        " \r",
        "  4060001 of iterations complete"
       ]
      },
      {
       "output_type": "stream",
       "stream": "stdout",
       "text": [
        " \r",
        "  4070001 of iterations complete"
       ]
      },
      {
       "output_type": "stream",
       "stream": "stdout",
       "text": [
        " \r",
        "  4080001 of iterations complete"
       ]
      },
      {
       "output_type": "stream",
       "stream": "stdout",
       "text": [
        " \r",
        "  4090001 of iterations complete"
       ]
      },
      {
       "output_type": "stream",
       "stream": "stdout",
       "text": [
        " \r",
        "  4100001 of iterations complete"
       ]
      },
      {
       "output_type": "stream",
       "stream": "stdout",
       "text": [
        " \r",
        "  4110001 of iterations complete"
       ]
      },
      {
       "output_type": "stream",
       "stream": "stdout",
       "text": [
        " \r",
        "  4120001 of iterations complete"
       ]
      },
      {
       "output_type": "stream",
       "stream": "stdout",
       "text": [
        " \r",
        "  4130001 of iterations complete"
       ]
      },
      {
       "output_type": "stream",
       "stream": "stdout",
       "text": [
        " \r",
        "  4140001 of iterations complete"
       ]
      },
      {
       "output_type": "stream",
       "stream": "stdout",
       "text": [
        " \r",
        "  4150001 of iterations complete"
       ]
      },
      {
       "output_type": "stream",
       "stream": "stdout",
       "text": [
        " \r",
        "  4160001 of iterations complete"
       ]
      },
      {
       "output_type": "stream",
       "stream": "stdout",
       "text": [
        " \r",
        "  4170001 of iterations complete"
       ]
      },
      {
       "output_type": "stream",
       "stream": "stdout",
       "text": [
        " \r",
        "  4180001 of iterations complete"
       ]
      },
      {
       "output_type": "stream",
       "stream": "stdout",
       "text": [
        " \r",
        "  4190001 of iterations complete"
       ]
      },
      {
       "output_type": "stream",
       "stream": "stdout",
       "text": [
        " \r",
        "  4200001 of iterations complete"
       ]
      },
      {
       "output_type": "stream",
       "stream": "stdout",
       "text": [
        " \r",
        "  4210001 of iterations complete"
       ]
      },
      {
       "output_type": "stream",
       "stream": "stdout",
       "text": [
        " \r",
        "  4220001 of iterations complete"
       ]
      },
      {
       "output_type": "stream",
       "stream": "stdout",
       "text": [
        " \r",
        "  4230001 of iterations complete"
       ]
      },
      {
       "output_type": "stream",
       "stream": "stdout",
       "text": [
        " \r",
        "  4240001 of iterations complete"
       ]
      },
      {
       "output_type": "stream",
       "stream": "stdout",
       "text": [
        " \r",
        "  4250001 of iterations complete"
       ]
      },
      {
       "output_type": "stream",
       "stream": "stdout",
       "text": [
        " \r",
        "  4260001 of iterations complete"
       ]
      },
      {
       "output_type": "stream",
       "stream": "stdout",
       "text": [
        " \r",
        "  4270001 of iterations complete"
       ]
      },
      {
       "output_type": "stream",
       "stream": "stdout",
       "text": [
        " \r",
        "  4280001 of iterations complete"
       ]
      },
      {
       "output_type": "stream",
       "stream": "stdout",
       "text": [
        " \r",
        "  4290001 of iterations complete"
       ]
      },
      {
       "output_type": "stream",
       "stream": "stdout",
       "text": [
        " \r",
        "  4300001 of iterations complete"
       ]
      },
      {
       "output_type": "stream",
       "stream": "stdout",
       "text": [
        " \r",
        "  4310001 of iterations complete"
       ]
      },
      {
       "output_type": "stream",
       "stream": "stdout",
       "text": [
        " \r",
        "  4320001 of iterations complete"
       ]
      },
      {
       "output_type": "stream",
       "stream": "stdout",
       "text": [
        " \r",
        "  4330001 of iterations complete"
       ]
      },
      {
       "output_type": "stream",
       "stream": "stdout",
       "text": [
        " \r",
        "  4340001 of iterations complete"
       ]
      },
      {
       "output_type": "stream",
       "stream": "stdout",
       "text": [
        " \r",
        "  4350001 of iterations complete"
       ]
      },
      {
       "output_type": "stream",
       "stream": "stdout",
       "text": [
        " \r",
        "  4360001 of iterations complete"
       ]
      },
      {
       "output_type": "stream",
       "stream": "stdout",
       "text": [
        " \r",
        "  4370001 of iterations complete"
       ]
      },
      {
       "output_type": "stream",
       "stream": "stdout",
       "text": [
        " \r",
        "  4380001 of iterations complete"
       ]
      },
      {
       "output_type": "stream",
       "stream": "stdout",
       "text": [
        " \r",
        "  4390001 of iterations complete"
       ]
      },
      {
       "output_type": "stream",
       "stream": "stdout",
       "text": [
        " \r",
        "  4400001 of iterations complete"
       ]
      },
      {
       "output_type": "stream",
       "stream": "stdout",
       "text": [
        " \r",
        "  4410001 of iterations complete"
       ]
      },
      {
       "output_type": "stream",
       "stream": "stdout",
       "text": [
        " \r",
        "  4420001 of iterations complete"
       ]
      },
      {
       "output_type": "stream",
       "stream": "stdout",
       "text": [
        " \r",
        "  4430001 of iterations complete"
       ]
      },
      {
       "output_type": "stream",
       "stream": "stdout",
       "text": [
        " \r",
        "  4440001 of iterations complete"
       ]
      },
      {
       "output_type": "stream",
       "stream": "stdout",
       "text": [
        " \r",
        "  4450001 of iterations complete"
       ]
      },
      {
       "output_type": "stream",
       "stream": "stdout",
       "text": [
        " \r",
        "  4460001 of iterations complete"
       ]
      },
      {
       "output_type": "stream",
       "stream": "stdout",
       "text": [
        " \r",
        "  4470001 of iterations complete"
       ]
      },
      {
       "output_type": "stream",
       "stream": "stdout",
       "text": [
        " \r",
        "  4480001 of iterations complete"
       ]
      },
      {
       "output_type": "stream",
       "stream": "stdout",
       "text": [
        " \r",
        "  4490001 of iterations complete"
       ]
      },
      {
       "output_type": "stream",
       "stream": "stdout",
       "text": [
        " \r",
        "  4500001 of iterations complete"
       ]
      },
      {
       "output_type": "stream",
       "stream": "stdout",
       "text": [
        " \r",
        "  4510001 of iterations complete"
       ]
      },
      {
       "output_type": "stream",
       "stream": "stdout",
       "text": [
        " \r",
        "  4520001 of iterations complete"
       ]
      },
      {
       "output_type": "stream",
       "stream": "stdout",
       "text": [
        " \r",
        "  4530001 of iterations complete"
       ]
      },
      {
       "output_type": "stream",
       "stream": "stdout",
       "text": [
        " \r",
        "  4540001 of iterations complete"
       ]
      },
      {
       "output_type": "stream",
       "stream": "stdout",
       "text": [
        " \r",
        "  4550001 of iterations complete"
       ]
      },
      {
       "output_type": "stream",
       "stream": "stdout",
       "text": [
        " \r",
        "  4560001 of iterations complete"
       ]
      },
      {
       "output_type": "stream",
       "stream": "stdout",
       "text": [
        " \r",
        "  4570001 of iterations complete"
       ]
      },
      {
       "output_type": "stream",
       "stream": "stdout",
       "text": [
        " \r",
        "  4580001 of iterations complete"
       ]
      },
      {
       "output_type": "stream",
       "stream": "stdout",
       "text": [
        " \r",
        "  4590001 of iterations complete"
       ]
      },
      {
       "output_type": "stream",
       "stream": "stdout",
       "text": [
        " \r",
        "  4600001 of iterations complete"
       ]
      },
      {
       "output_type": "stream",
       "stream": "stdout",
       "text": [
        " \r",
        "  4610001 of iterations complete"
       ]
      },
      {
       "output_type": "stream",
       "stream": "stdout",
       "text": [
        " \r",
        "  4620001 of iterations complete"
       ]
      },
      {
       "output_type": "stream",
       "stream": "stdout",
       "text": [
        " \r",
        "  4630001 of iterations complete"
       ]
      },
      {
       "output_type": "stream",
       "stream": "stdout",
       "text": [
        " \r",
        "  4640001 of iterations complete"
       ]
      },
      {
       "output_type": "stream",
       "stream": "stdout",
       "text": [
        " \r",
        "  4650001 of iterations complete"
       ]
      },
      {
       "output_type": "stream",
       "stream": "stdout",
       "text": [
        " \r",
        "  4660001 of iterations complete"
       ]
      },
      {
       "output_type": "stream",
       "stream": "stdout",
       "text": [
        " \r",
        "  4670001 of iterations complete"
       ]
      },
      {
       "output_type": "stream",
       "stream": "stdout",
       "text": [
        " \r",
        "  4680001 of iterations complete"
       ]
      },
      {
       "output_type": "stream",
       "stream": "stdout",
       "text": [
        " \r",
        "  4690001 of iterations complete"
       ]
      },
      {
       "output_type": "stream",
       "stream": "stdout",
       "text": [
        " \r",
        "  4700001 of iterations complete"
       ]
      },
      {
       "output_type": "stream",
       "stream": "stdout",
       "text": [
        " \r",
        "  4710001 of iterations complete"
       ]
      },
      {
       "output_type": "stream",
       "stream": "stdout",
       "text": [
        " \r",
        "  4720001 of iterations complete"
       ]
      },
      {
       "output_type": "stream",
       "stream": "stdout",
       "text": [
        " \r",
        "  4730001 of iterations complete"
       ]
      },
      {
       "output_type": "stream",
       "stream": "stdout",
       "text": [
        " \r",
        "  4740001 of iterations complete"
       ]
      },
      {
       "output_type": "stream",
       "stream": "stdout",
       "text": [
        " \r",
        "  4750001 of iterations complete"
       ]
      },
      {
       "output_type": "stream",
       "stream": "stdout",
       "text": [
        " \r",
        "  4760001 of iterations complete"
       ]
      },
      {
       "output_type": "stream",
       "stream": "stdout",
       "text": [
        " \r",
        "  4770001 of iterations complete"
       ]
      },
      {
       "output_type": "stream",
       "stream": "stdout",
       "text": [
        " \r",
        "  4780001 of iterations complete"
       ]
      },
      {
       "output_type": "stream",
       "stream": "stdout",
       "text": [
        " \r",
        "  4790001 of iterations complete"
       ]
      },
      {
       "output_type": "stream",
       "stream": "stdout",
       "text": [
        " \r",
        "  4800001 of iterations complete"
       ]
      },
      {
       "output_type": "stream",
       "stream": "stdout",
       "text": [
        " \r",
        "  4810001 of iterations complete"
       ]
      },
      {
       "output_type": "stream",
       "stream": "stdout",
       "text": [
        " \r",
        "  4820001 of iterations complete"
       ]
      },
      {
       "output_type": "stream",
       "stream": "stdout",
       "text": [
        " \r",
        "  4830001 of iterations complete"
       ]
      },
      {
       "output_type": "stream",
       "stream": "stdout",
       "text": [
        " \r",
        "  4840001 of iterations complete"
       ]
      },
      {
       "output_type": "stream",
       "stream": "stdout",
       "text": [
        " \r",
        "  4850001 of iterations complete"
       ]
      },
      {
       "output_type": "stream",
       "stream": "stdout",
       "text": [
        " \r",
        "  4860001 of iterations complete"
       ]
      },
      {
       "output_type": "stream",
       "stream": "stdout",
       "text": [
        " \r",
        "  4870001 of iterations complete"
       ]
      },
      {
       "output_type": "stream",
       "stream": "stdout",
       "text": [
        " \r",
        "  4880001 of iterations complete"
       ]
      },
      {
       "output_type": "stream",
       "stream": "stdout",
       "text": [
        " \r",
        "  4890001 of iterations complete"
       ]
      },
      {
       "output_type": "stream",
       "stream": "stdout",
       "text": [
        " \r",
        "  4900001 of iterations complete"
       ]
      },
      {
       "output_type": "stream",
       "stream": "stdout",
       "text": [
        " \r",
        "  4910001 of iterations complete"
       ]
      },
      {
       "output_type": "stream",
       "stream": "stdout",
       "text": [
        " \r",
        "  4920001 of iterations complete"
       ]
      },
      {
       "output_type": "stream",
       "stream": "stdout",
       "text": [
        " \r",
        "  4930001 of iterations complete"
       ]
      },
      {
       "output_type": "stream",
       "stream": "stdout",
       "text": [
        " \r",
        "  4940001 of iterations complete"
       ]
      },
      {
       "output_type": "stream",
       "stream": "stdout",
       "text": [
        " \r",
        "  4950001 of iterations complete"
       ]
      },
      {
       "output_type": "stream",
       "stream": "stdout",
       "text": [
        " \r",
        "  4960001 of iterations complete"
       ]
      },
      {
       "output_type": "stream",
       "stream": "stdout",
       "text": [
        " \r",
        "  4970001 of iterations complete"
       ]
      },
      {
       "output_type": "stream",
       "stream": "stdout",
       "text": [
        " \r",
        "  4980001 of iterations complete"
       ]
      },
      {
       "output_type": "stream",
       "stream": "stdout",
       "text": [
        " \r",
        "  4990001 of iterations complete"
       ]
      },
      {
       "output_type": "stream",
       "stream": "stdout",
       "text": [
        " \r",
        "  5000001 of iterations complete"
       ]
      },
      {
       "output_type": "stream",
       "stream": "stdout",
       "text": [
        " \r",
        "  5010001 of iterations complete"
       ]
      },
      {
       "output_type": "stream",
       "stream": "stdout",
       "text": [
        " \r",
        "  5020001 of iterations complete"
       ]
      },
      {
       "output_type": "stream",
       "stream": "stdout",
       "text": [
        " \r",
        "  5030001 of iterations complete"
       ]
      },
      {
       "output_type": "stream",
       "stream": "stdout",
       "text": [
        " \r",
        "  5040001 of iterations complete"
       ]
      },
      {
       "output_type": "stream",
       "stream": "stdout",
       "text": [
        " \r",
        "  5050001 of iterations complete"
       ]
      },
      {
       "output_type": "stream",
       "stream": "stdout",
       "text": [
        " \r",
        "  5060001 of iterations complete"
       ]
      },
      {
       "output_type": "stream",
       "stream": "stdout",
       "text": [
        " \r",
        "  5070001 of iterations complete"
       ]
      },
      {
       "output_type": "stream",
       "stream": "stdout",
       "text": [
        " \r",
        "  5080001 of iterations complete"
       ]
      },
      {
       "output_type": "stream",
       "stream": "stdout",
       "text": [
        " \r",
        "  5090001 of iterations complete"
       ]
      },
      {
       "output_type": "stream",
       "stream": "stdout",
       "text": [
        " \r",
        "  5100001 of iterations complete"
       ]
      },
      {
       "output_type": "stream",
       "stream": "stdout",
       "text": [
        " \r",
        "  5110001 of iterations complete"
       ]
      },
      {
       "output_type": "stream",
       "stream": "stdout",
       "text": [
        " \r",
        "  5120001 of iterations complete"
       ]
      },
      {
       "output_type": "stream",
       "stream": "stdout",
       "text": [
        " \r",
        "  5130001 of iterations complete"
       ]
      },
      {
       "output_type": "stream",
       "stream": "stdout",
       "text": [
        " \r",
        "  5140001 of iterations complete"
       ]
      },
      {
       "output_type": "stream",
       "stream": "stdout",
       "text": [
        " \r",
        "  5150001 of iterations complete"
       ]
      },
      {
       "output_type": "stream",
       "stream": "stdout",
       "text": [
        " \r",
        "  5160001 of iterations complete"
       ]
      },
      {
       "output_type": "stream",
       "stream": "stdout",
       "text": [
        " \r",
        "  5170001 of iterations complete"
       ]
      },
      {
       "output_type": "stream",
       "stream": "stdout",
       "text": [
        " \r",
        "  5180001 of iterations complete"
       ]
      },
      {
       "output_type": "stream",
       "stream": "stdout",
       "text": [
        " \r",
        "  5190001 of iterations complete"
       ]
      },
      {
       "output_type": "stream",
       "stream": "stdout",
       "text": [
        " \r",
        "  5200001 of iterations complete"
       ]
      },
      {
       "output_type": "stream",
       "stream": "stdout",
       "text": [
        " \r",
        "  5210001 of iterations complete"
       ]
      },
      {
       "output_type": "stream",
       "stream": "stdout",
       "text": [
        " \r",
        "  5220001 of iterations complete"
       ]
      },
      {
       "output_type": "stream",
       "stream": "stdout",
       "text": [
        " \r",
        "  5230001 of iterations complete"
       ]
      },
      {
       "output_type": "stream",
       "stream": "stdout",
       "text": [
        " \r",
        "  5240001 of iterations complete"
       ]
      },
      {
       "output_type": "stream",
       "stream": "stdout",
       "text": [
        " \r",
        "  5250001 of iterations complete"
       ]
      },
      {
       "output_type": "stream",
       "stream": "stdout",
       "text": [
        " \r",
        "  5260001 of iterations complete"
       ]
      },
      {
       "output_type": "stream",
       "stream": "stdout",
       "text": [
        " \r",
        "  5270001 of iterations complete"
       ]
      },
      {
       "output_type": "stream",
       "stream": "stdout",
       "text": [
        " \r",
        "  5280001 of iterations complete"
       ]
      },
      {
       "output_type": "stream",
       "stream": "stdout",
       "text": [
        " \r",
        "  5290001 of iterations complete"
       ]
      },
      {
       "output_type": "stream",
       "stream": "stdout",
       "text": [
        " \r",
        "  5300001 of iterations complete"
       ]
      },
      {
       "output_type": "stream",
       "stream": "stdout",
       "text": [
        " \r",
        "  5310001 of iterations complete"
       ]
      },
      {
       "output_type": "stream",
       "stream": "stdout",
       "text": [
        " \r",
        "  5320001 of iterations complete"
       ]
      },
      {
       "output_type": "stream",
       "stream": "stdout",
       "text": [
        " \r",
        "  5330001 of iterations complete"
       ]
      },
      {
       "output_type": "stream",
       "stream": "stdout",
       "text": [
        " \r",
        "  5340001 of iterations complete"
       ]
      },
      {
       "output_type": "stream",
       "stream": "stdout",
       "text": [
        " \r",
        "  5350001 of iterations complete"
       ]
      },
      {
       "output_type": "stream",
       "stream": "stdout",
       "text": [
        " \r",
        "  5360001 of iterations complete"
       ]
      },
      {
       "output_type": "stream",
       "stream": "stdout",
       "text": [
        " \r",
        "  5370001 of iterations complete"
       ]
      },
      {
       "output_type": "stream",
       "stream": "stdout",
       "text": [
        " \r",
        "  5380001 of iterations complete"
       ]
      },
      {
       "output_type": "stream",
       "stream": "stdout",
       "text": [
        " \r",
        "  5390001 of iterations complete"
       ]
      },
      {
       "output_type": "stream",
       "stream": "stdout",
       "text": [
        " \r",
        "  5400001 of iterations complete"
       ]
      },
      {
       "output_type": "stream",
       "stream": "stdout",
       "text": [
        " \r",
        "  5410001 of iterations complete"
       ]
      },
      {
       "output_type": "stream",
       "stream": "stdout",
       "text": [
        " \r",
        "  5420001 of iterations complete"
       ]
      },
      {
       "output_type": "stream",
       "stream": "stdout",
       "text": [
        " \r",
        "  5430001 of iterations complete"
       ]
      },
      {
       "output_type": "stream",
       "stream": "stdout",
       "text": [
        " \r",
        "  5440001 of iterations complete"
       ]
      },
      {
       "output_type": "stream",
       "stream": "stdout",
       "text": [
        " \r",
        "  5450001 of iterations complete"
       ]
      },
      {
       "output_type": "stream",
       "stream": "stdout",
       "text": [
        " \r",
        "  5460001 of iterations complete"
       ]
      },
      {
       "output_type": "stream",
       "stream": "stdout",
       "text": [
        " \r",
        "  5470001 of iterations complete"
       ]
      },
      {
       "output_type": "stream",
       "stream": "stdout",
       "text": [
        " \r",
        "  5480001 of iterations complete"
       ]
      },
      {
       "output_type": "stream",
       "stream": "stdout",
       "text": [
        " \r",
        "  5490001 of iterations complete"
       ]
      },
      {
       "output_type": "stream",
       "stream": "stdout",
       "text": [
        " \r",
        "  5500001 of iterations complete"
       ]
      },
      {
       "output_type": "stream",
       "stream": "stdout",
       "text": [
        " \r",
        "  5510001 of iterations complete"
       ]
      },
      {
       "output_type": "stream",
       "stream": "stdout",
       "text": [
        " \r",
        "  5520001 of iterations complete"
       ]
      },
      {
       "output_type": "stream",
       "stream": "stdout",
       "text": [
        " \r",
        "  5530001 of iterations complete"
       ]
      },
      {
       "output_type": "stream",
       "stream": "stdout",
       "text": [
        " \r",
        "  5540001 of iterations complete"
       ]
      },
      {
       "output_type": "stream",
       "stream": "stdout",
       "text": [
        " \r",
        "  5550001 of iterations complete"
       ]
      },
      {
       "output_type": "stream",
       "stream": "stdout",
       "text": [
        " \r",
        "  5560001 of iterations complete"
       ]
      },
      {
       "output_type": "stream",
       "stream": "stdout",
       "text": [
        " \r",
        "  5570001 of iterations complete"
       ]
      },
      {
       "output_type": "stream",
       "stream": "stdout",
       "text": [
        " \r",
        "  5580001 of iterations complete"
       ]
      },
      {
       "output_type": "stream",
       "stream": "stdout",
       "text": [
        " \r",
        "  5590001 of iterations complete"
       ]
      },
      {
       "output_type": "stream",
       "stream": "stdout",
       "text": [
        " \r",
        "  5600001 of iterations complete"
       ]
      },
      {
       "output_type": "stream",
       "stream": "stdout",
       "text": [
        " \r",
        "  5610001 of iterations complete"
       ]
      },
      {
       "output_type": "stream",
       "stream": "stdout",
       "text": [
        " \r",
        "  5620001 of iterations complete"
       ]
      },
      {
       "output_type": "stream",
       "stream": "stdout",
       "text": [
        " \r",
        "  5630001 of iterations complete"
       ]
      },
      {
       "output_type": "stream",
       "stream": "stdout",
       "text": [
        " \r",
        "  5640001 of iterations complete"
       ]
      },
      {
       "output_type": "stream",
       "stream": "stdout",
       "text": [
        " \r",
        "  5650001 of iterations complete"
       ]
      },
      {
       "output_type": "stream",
       "stream": "stdout",
       "text": [
        " \r",
        "  5660001 of iterations complete"
       ]
      },
      {
       "output_type": "stream",
       "stream": "stdout",
       "text": [
        " \r",
        "  5670001 of iterations complete"
       ]
      },
      {
       "output_type": "stream",
       "stream": "stdout",
       "text": [
        " \r",
        "  5680001 of iterations complete"
       ]
      },
      {
       "output_type": "stream",
       "stream": "stdout",
       "text": [
        " \r",
        "  5690001 of iterations complete"
       ]
      },
      {
       "output_type": "stream",
       "stream": "stdout",
       "text": [
        " \r",
        "  5700001 of iterations complete"
       ]
      },
      {
       "output_type": "stream",
       "stream": "stdout",
       "text": [
        " \r",
        "  5710001 of iterations complete"
       ]
      },
      {
       "output_type": "stream",
       "stream": "stdout",
       "text": [
        " \r",
        "  5720001 of iterations complete"
       ]
      },
      {
       "output_type": "stream",
       "stream": "stdout",
       "text": [
        " \r",
        "  5730001 of iterations complete"
       ]
      },
      {
       "output_type": "stream",
       "stream": "stdout",
       "text": [
        " \r",
        "  5740001 of iterations complete"
       ]
      },
      {
       "output_type": "stream",
       "stream": "stdout",
       "text": [
        " \r",
        "  5750001 of iterations complete"
       ]
      },
      {
       "output_type": "stream",
       "stream": "stdout",
       "text": [
        " \r",
        "  5760001 of iterations complete"
       ]
      },
      {
       "output_type": "stream",
       "stream": "stdout",
       "text": [
        " \r",
        "  5770001 of iterations complete"
       ]
      },
      {
       "output_type": "stream",
       "stream": "stdout",
       "text": [
        " \r",
        "  5780001 of iterations complete"
       ]
      },
      {
       "output_type": "stream",
       "stream": "stdout",
       "text": [
        " \r",
        "  5790001 of iterations complete"
       ]
      },
      {
       "output_type": "stream",
       "stream": "stdout",
       "text": [
        " \r",
        "  5800001 of iterations complete"
       ]
      },
      {
       "output_type": "stream",
       "stream": "stdout",
       "text": [
        " \r",
        "  5810001 of iterations complete"
       ]
      },
      {
       "output_type": "stream",
       "stream": "stdout",
       "text": [
        " \r",
        "  5820001 of iterations complete"
       ]
      },
      {
       "output_type": "stream",
       "stream": "stdout",
       "text": [
        " \r",
        "  5830001 of iterations complete"
       ]
      },
      {
       "output_type": "stream",
       "stream": "stdout",
       "text": [
        " \r",
        "  5840001 of iterations complete"
       ]
      },
      {
       "output_type": "stream",
       "stream": "stdout",
       "text": [
        " \r",
        "  5850001 of iterations complete"
       ]
      },
      {
       "output_type": "stream",
       "stream": "stdout",
       "text": [
        " \r",
        "  5860001 of iterations complete"
       ]
      },
      {
       "output_type": "stream",
       "stream": "stdout",
       "text": [
        " \r",
        "  5870001 of iterations complete"
       ]
      },
      {
       "output_type": "stream",
       "stream": "stdout",
       "text": [
        " \r",
        "  5880001 of iterations complete"
       ]
      },
      {
       "output_type": "stream",
       "stream": "stdout",
       "text": [
        " \r",
        "  5890001 of iterations complete"
       ]
      },
      {
       "output_type": "stream",
       "stream": "stdout",
       "text": [
        " \r",
        "  5900001 of iterations complete"
       ]
      },
      {
       "output_type": "stream",
       "stream": "stdout",
       "text": [
        " \r",
        "  5910001 of iterations complete"
       ]
      },
      {
       "output_type": "stream",
       "stream": "stdout",
       "text": [
        " \r",
        "  5920001 of iterations complete"
       ]
      },
      {
       "output_type": "stream",
       "stream": "stdout",
       "text": [
        " \r",
        "  5930001 of iterations complete"
       ]
      },
      {
       "output_type": "stream",
       "stream": "stdout",
       "text": [
        " \r",
        "  5940001 of iterations complete"
       ]
      },
      {
       "output_type": "stream",
       "stream": "stdout",
       "text": [
        " \r",
        "  5950001 of iterations complete"
       ]
      },
      {
       "output_type": "stream",
       "stream": "stdout",
       "text": [
        " \r",
        "  5960001 of iterations complete"
       ]
      },
      {
       "output_type": "stream",
       "stream": "stdout",
       "text": [
        " \r",
        "  5970001 of iterations complete"
       ]
      },
      {
       "output_type": "stream",
       "stream": "stdout",
       "text": [
        " \r",
        "  5980001 of iterations complete"
       ]
      },
      {
       "output_type": "stream",
       "stream": "stdout",
       "text": [
        " \r",
        "  5990001 of iterations complete"
       ]
      },
      {
       "output_type": "stream",
       "stream": "stdout",
       "text": [
        " \r",
        "  6000001 of iterations complete"
       ]
      },
      {
       "output_type": "stream",
       "stream": "stdout",
       "text": [
        " \r",
        "  6010001 of iterations complete"
       ]
      },
      {
       "output_type": "stream",
       "stream": "stdout",
       "text": [
        " \r",
        "  6020001 of iterations complete"
       ]
      },
      {
       "output_type": "stream",
       "stream": "stdout",
       "text": [
        " \r",
        "  6030001 of iterations complete"
       ]
      },
      {
       "output_type": "stream",
       "stream": "stdout",
       "text": [
        " \r",
        "  6040001 of iterations complete"
       ]
      },
      {
       "output_type": "stream",
       "stream": "stdout",
       "text": [
        " \r",
        "  6050001 of iterations complete"
       ]
      },
      {
       "output_type": "stream",
       "stream": "stdout",
       "text": [
        " \r",
        "  6060001 of iterations complete"
       ]
      },
      {
       "output_type": "stream",
       "stream": "stdout",
       "text": [
        " \r",
        "  6070001 of iterations complete"
       ]
      },
      {
       "output_type": "stream",
       "stream": "stdout",
       "text": [
        " \r",
        "  6080001 of iterations complete"
       ]
      },
      {
       "output_type": "stream",
       "stream": "stdout",
       "text": [
        " \r",
        "  6090001 of iterations complete"
       ]
      },
      {
       "output_type": "stream",
       "stream": "stdout",
       "text": [
        " \r",
        "  6100001 of iterations complete"
       ]
      },
      {
       "output_type": "stream",
       "stream": "stdout",
       "text": [
        " \r",
        "  6110001 of iterations complete"
       ]
      },
      {
       "output_type": "stream",
       "stream": "stdout",
       "text": [
        " \r",
        "  6120001 of iterations complete"
       ]
      },
      {
       "output_type": "stream",
       "stream": "stdout",
       "text": [
        " \r",
        "  6130001 of iterations complete"
       ]
      },
      {
       "output_type": "stream",
       "stream": "stdout",
       "text": [
        " \r",
        "  6140001 of iterations complete"
       ]
      },
      {
       "output_type": "stream",
       "stream": "stdout",
       "text": [
        " \r",
        "  6150001 of iterations complete"
       ]
      },
      {
       "output_type": "stream",
       "stream": "stdout",
       "text": [
        " \r",
        "  6160001 of iterations complete"
       ]
      },
      {
       "output_type": "stream",
       "stream": "stdout",
       "text": [
        " \r",
        "  6170001 of iterations complete"
       ]
      },
      {
       "output_type": "stream",
       "stream": "stdout",
       "text": [
        " \r",
        "  6180001 of iterations complete"
       ]
      },
      {
       "output_type": "stream",
       "stream": "stdout",
       "text": [
        " \r",
        "  6190001 of iterations complete"
       ]
      },
      {
       "output_type": "stream",
       "stream": "stdout",
       "text": [
        " \r",
        "  6200001 of iterations complete"
       ]
      },
      {
       "output_type": "stream",
       "stream": "stdout",
       "text": [
        " \r",
        "  6210001 of iterations complete"
       ]
      },
      {
       "output_type": "stream",
       "stream": "stdout",
       "text": [
        " \r",
        "  6220001 of iterations complete"
       ]
      },
      {
       "output_type": "stream",
       "stream": "stdout",
       "text": [
        " \r",
        "  6230001 of iterations complete"
       ]
      },
      {
       "output_type": "stream",
       "stream": "stdout",
       "text": [
        " \r",
        "  6240001 of iterations complete"
       ]
      },
      {
       "output_type": "stream",
       "stream": "stdout",
       "text": [
        " \r",
        "  6250001 of iterations complete"
       ]
      },
      {
       "output_type": "stream",
       "stream": "stdout",
       "text": [
        " \r",
        "  6260001 of iterations complete"
       ]
      },
      {
       "output_type": "stream",
       "stream": "stdout",
       "text": [
        " \r",
        "  6270001 of iterations complete"
       ]
      },
      {
       "output_type": "stream",
       "stream": "stdout",
       "text": [
        " \r",
        "  6280001 of iterations complete"
       ]
      },
      {
       "output_type": "stream",
       "stream": "stdout",
       "text": [
        " \r",
        "  6290001 of iterations complete"
       ]
      },
      {
       "output_type": "stream",
       "stream": "stdout",
       "text": [
        " \r",
        "  6300001 of iterations complete"
       ]
      },
      {
       "output_type": "stream",
       "stream": "stdout",
       "text": [
        " \r",
        "  6310001 of iterations complete"
       ]
      },
      {
       "output_type": "stream",
       "stream": "stdout",
       "text": [
        " \r",
        "  6320001 of iterations complete"
       ]
      },
      {
       "output_type": "stream",
       "stream": "stdout",
       "text": [
        " \r",
        "  6330001 of iterations complete"
       ]
      },
      {
       "output_type": "stream",
       "stream": "stdout",
       "text": [
        " \r",
        "  6340001 of iterations complete"
       ]
      },
      {
       "output_type": "stream",
       "stream": "stdout",
       "text": [
        " \r",
        "  6350001 of iterations complete"
       ]
      },
      {
       "output_type": "stream",
       "stream": "stdout",
       "text": [
        " \r",
        "  6360001 of iterations complete"
       ]
      },
      {
       "output_type": "stream",
       "stream": "stdout",
       "text": [
        " \r",
        "  6370001 of iterations complete"
       ]
      },
      {
       "output_type": "stream",
       "stream": "stdout",
       "text": [
        " \r",
        "  6380001 of iterations complete"
       ]
      },
      {
       "output_type": "stream",
       "stream": "stdout",
       "text": [
        " \r",
        "  6390001 of iterations complete"
       ]
      },
      {
       "output_type": "stream",
       "stream": "stdout",
       "text": [
        " \r",
        "  6400001 of iterations complete"
       ]
      },
      {
       "output_type": "stream",
       "stream": "stdout",
       "text": [
        " \r",
        "  6410001 of iterations complete"
       ]
      },
      {
       "output_type": "stream",
       "stream": "stdout",
       "text": [
        " \r",
        "  6420001 of iterations complete"
       ]
      },
      {
       "output_type": "stream",
       "stream": "stdout",
       "text": [
        " \r",
        "  6430001 of iterations complete"
       ]
      },
      {
       "output_type": "stream",
       "stream": "stdout",
       "text": [
        " \r",
        "  6440001 of iterations complete"
       ]
      },
      {
       "output_type": "stream",
       "stream": "stdout",
       "text": [
        " \r",
        "  6450001 of iterations complete"
       ]
      },
      {
       "output_type": "stream",
       "stream": "stdout",
       "text": [
        " \r",
        "  6460001 of iterations complete"
       ]
      },
      {
       "output_type": "stream",
       "stream": "stdout",
       "text": [
        " \r",
        "  6470001 of iterations complete"
       ]
      },
      {
       "output_type": "stream",
       "stream": "stdout",
       "text": [
        " \r",
        "  6480001 of iterations complete"
       ]
      },
      {
       "output_type": "stream",
       "stream": "stdout",
       "text": [
        " \r",
        "  6490001 of iterations complete"
       ]
      },
      {
       "output_type": "stream",
       "stream": "stdout",
       "text": [
        " \r",
        "  6500001 of iterations complete"
       ]
      },
      {
       "output_type": "stream",
       "stream": "stdout",
       "text": [
        " \r",
        "  6510001 of iterations complete"
       ]
      },
      {
       "output_type": "stream",
       "stream": "stdout",
       "text": [
        " \r",
        "  6520001 of iterations complete"
       ]
      },
      {
       "output_type": "stream",
       "stream": "stdout",
       "text": [
        " \r",
        "  6530001 of iterations complete"
       ]
      },
      {
       "output_type": "stream",
       "stream": "stdout",
       "text": [
        " \r",
        "  6540001 of iterations complete"
       ]
      },
      {
       "output_type": "stream",
       "stream": "stdout",
       "text": [
        " \r",
        "  6550001 of iterations complete"
       ]
      },
      {
       "output_type": "stream",
       "stream": "stdout",
       "text": [
        " \r",
        "  6560001 of iterations complete"
       ]
      },
      {
       "output_type": "stream",
       "stream": "stdout",
       "text": [
        " \r",
        "  6570001 of iterations complete"
       ]
      },
      {
       "output_type": "stream",
       "stream": "stdout",
       "text": [
        " \r",
        "  6580001 of iterations complete"
       ]
      },
      {
       "output_type": "stream",
       "stream": "stdout",
       "text": [
        " \r",
        "  6590001 of iterations complete"
       ]
      },
      {
       "output_type": "stream",
       "stream": "stdout",
       "text": [
        " \r",
        "  6600001 of iterations complete"
       ]
      },
      {
       "output_type": "stream",
       "stream": "stdout",
       "text": [
        " \r",
        "  6610001 of iterations complete"
       ]
      },
      {
       "output_type": "stream",
       "stream": "stdout",
       "text": [
        " \r",
        "  6620001 of iterations complete"
       ]
      },
      {
       "output_type": "stream",
       "stream": "stdout",
       "text": [
        " \r",
        "  6630001 of iterations complete"
       ]
      },
      {
       "output_type": "stream",
       "stream": "stdout",
       "text": [
        " \r",
        "  6640001 of iterations complete"
       ]
      },
      {
       "output_type": "stream",
       "stream": "stdout",
       "text": [
        " \r",
        "  6650001 of iterations complete"
       ]
      },
      {
       "output_type": "stream",
       "stream": "stdout",
       "text": [
        " \r",
        "  6660001 of iterations complete"
       ]
      },
      {
       "output_type": "stream",
       "stream": "stdout",
       "text": [
        " \r",
        "  6670001 of iterations complete"
       ]
      },
      {
       "output_type": "stream",
       "stream": "stdout",
       "text": [
        " \r",
        "  6680001 of iterations complete"
       ]
      },
      {
       "output_type": "stream",
       "stream": "stdout",
       "text": [
        " \r",
        "  6690001 of iterations complete"
       ]
      },
      {
       "output_type": "stream",
       "stream": "stdout",
       "text": [
        " \r",
        "  6700001 of iterations complete"
       ]
      },
      {
       "output_type": "stream",
       "stream": "stdout",
       "text": [
        " \r",
        "  6710001 of iterations complete"
       ]
      },
      {
       "output_type": "stream",
       "stream": "stdout",
       "text": [
        " \r",
        "  6720001 of iterations complete"
       ]
      },
      {
       "output_type": "stream",
       "stream": "stdout",
       "text": [
        " \r",
        "  6730001 of iterations complete"
       ]
      },
      {
       "output_type": "stream",
       "stream": "stdout",
       "text": [
        " \r",
        "  6740001 of iterations complete"
       ]
      },
      {
       "output_type": "stream",
       "stream": "stdout",
       "text": [
        " \r",
        "  6750001 of iterations complete"
       ]
      },
      {
       "output_type": "stream",
       "stream": "stdout",
       "text": [
        " \r",
        "  6760001 of iterations complete"
       ]
      },
      {
       "output_type": "stream",
       "stream": "stdout",
       "text": [
        " \r",
        "  6770001 of iterations complete"
       ]
      },
      {
       "output_type": "stream",
       "stream": "stdout",
       "text": [
        " \r",
        "  6780001 of iterations complete"
       ]
      },
      {
       "output_type": "stream",
       "stream": "stdout",
       "text": [
        " \r",
        "  6790001 of iterations complete"
       ]
      },
      {
       "output_type": "stream",
       "stream": "stdout",
       "text": [
        " \r",
        "  6800001 of iterations complete"
       ]
      },
      {
       "output_type": "stream",
       "stream": "stdout",
       "text": [
        " \r",
        "  6810001 of iterations complete"
       ]
      },
      {
       "output_type": "stream",
       "stream": "stdout",
       "text": [
        " \r",
        "  6820001 of iterations complete"
       ]
      },
      {
       "output_type": "stream",
       "stream": "stdout",
       "text": [
        " \r",
        "  6830001 of iterations complete"
       ]
      },
      {
       "output_type": "stream",
       "stream": "stdout",
       "text": [
        " \r",
        "  6840001 of iterations complete"
       ]
      },
      {
       "output_type": "stream",
       "stream": "stdout",
       "text": [
        " \r",
        "  6850001 of iterations complete"
       ]
      },
      {
       "output_type": "stream",
       "stream": "stdout",
       "text": [
        " \r",
        "  6860001 of iterations complete"
       ]
      },
      {
       "output_type": "stream",
       "stream": "stdout",
       "text": [
        " \r",
        "  6870001 of iterations complete"
       ]
      },
      {
       "output_type": "stream",
       "stream": "stdout",
       "text": [
        " \r",
        "  6880001 of iterations complete"
       ]
      },
      {
       "output_type": "stream",
       "stream": "stdout",
       "text": [
        " \r",
        "  6890001 of iterations complete"
       ]
      },
      {
       "output_type": "stream",
       "stream": "stdout",
       "text": [
        " \r",
        "  6900001 of iterations complete"
       ]
      },
      {
       "output_type": "stream",
       "stream": "stdout",
       "text": [
        " \r",
        "  6910001 of iterations complete"
       ]
      },
      {
       "output_type": "stream",
       "stream": "stdout",
       "text": [
        " \r",
        "  6920001 of iterations complete"
       ]
      },
      {
       "output_type": "stream",
       "stream": "stdout",
       "text": [
        " \r",
        "  6930001 of iterations complete"
       ]
      },
      {
       "output_type": "stream",
       "stream": "stdout",
       "text": [
        " \r",
        "  6940001 of iterations complete"
       ]
      },
      {
       "output_type": "stream",
       "stream": "stdout",
       "text": [
        " \r",
        "  6950001 of iterations complete"
       ]
      },
      {
       "output_type": "stream",
       "stream": "stdout",
       "text": [
        " \r",
        "  6960001 of iterations complete"
       ]
      },
      {
       "output_type": "stream",
       "stream": "stdout",
       "text": [
        " \r",
        "  6970001 of iterations complete"
       ]
      },
      {
       "output_type": "stream",
       "stream": "stdout",
       "text": [
        " \r",
        "  6980001 of iterations complete"
       ]
      },
      {
       "output_type": "stream",
       "stream": "stdout",
       "text": [
        " \r",
        "  6990001 of iterations complete"
       ]
      },
      {
       "output_type": "stream",
       "stream": "stdout",
       "text": [
        " \r",
        "  7000001 of iterations complete"
       ]
      },
      {
       "output_type": "stream",
       "stream": "stdout",
       "text": [
        " \r",
        "  7010001 of iterations complete"
       ]
      },
      {
       "output_type": "stream",
       "stream": "stdout",
       "text": [
        " \r",
        "  7020001 of iterations complete"
       ]
      },
      {
       "output_type": "stream",
       "stream": "stdout",
       "text": [
        " \r",
        "  7030001 of iterations complete"
       ]
      },
      {
       "output_type": "stream",
       "stream": "stdout",
       "text": [
        " \r",
        "  7040001 of iterations complete"
       ]
      },
      {
       "output_type": "stream",
       "stream": "stdout",
       "text": [
        " \r",
        "  7050001 of iterations complete"
       ]
      },
      {
       "output_type": "stream",
       "stream": "stdout",
       "text": [
        " \r",
        "  7060001 of iterations complete"
       ]
      },
      {
       "output_type": "stream",
       "stream": "stdout",
       "text": [
        " \r",
        "  7070001 of iterations complete"
       ]
      },
      {
       "output_type": "stream",
       "stream": "stdout",
       "text": [
        " \r",
        "  7080001 of iterations complete"
       ]
      },
      {
       "output_type": "stream",
       "stream": "stdout",
       "text": [
        " \r",
        "  7090001 of iterations complete"
       ]
      },
      {
       "output_type": "stream",
       "stream": "stdout",
       "text": [
        " \r",
        "  7100001 of iterations complete"
       ]
      },
      {
       "output_type": "stream",
       "stream": "stdout",
       "text": [
        " \r",
        "  7110001 of iterations complete"
       ]
      },
      {
       "output_type": "stream",
       "stream": "stdout",
       "text": [
        " \r",
        "  7120001 of iterations complete"
       ]
      },
      {
       "output_type": "stream",
       "stream": "stdout",
       "text": [
        " \r",
        "  7130001 of iterations complete"
       ]
      },
      {
       "output_type": "stream",
       "stream": "stdout",
       "text": [
        " \r",
        "  7140001 of iterations complete"
       ]
      },
      {
       "output_type": "stream",
       "stream": "stdout",
       "text": [
        " \r",
        "  7150001 of iterations complete"
       ]
      },
      {
       "output_type": "stream",
       "stream": "stdout",
       "text": [
        " \r",
        "  7160001 of iterations complete"
       ]
      },
      {
       "output_type": "stream",
       "stream": "stdout",
       "text": [
        " \r",
        "  7170001 of iterations complete"
       ]
      },
      {
       "output_type": "stream",
       "stream": "stdout",
       "text": [
        " \r",
        "  7180001 of iterations complete"
       ]
      },
      {
       "output_type": "stream",
       "stream": "stdout",
       "text": [
        " \r",
        "  7190001 of iterations complete"
       ]
      },
      {
       "output_type": "stream",
       "stream": "stdout",
       "text": [
        " \r",
        "  7200001 of iterations complete"
       ]
      },
      {
       "output_type": "stream",
       "stream": "stdout",
       "text": [
        " \r",
        "  7210001 of iterations complete"
       ]
      },
      {
       "output_type": "stream",
       "stream": "stdout",
       "text": [
        " \r",
        "  7220001 of iterations complete"
       ]
      },
      {
       "output_type": "stream",
       "stream": "stdout",
       "text": [
        " \r",
        "  7230001 of iterations complete"
       ]
      },
      {
       "output_type": "stream",
       "stream": "stdout",
       "text": [
        " \r",
        "  7240001 of iterations complete"
       ]
      },
      {
       "output_type": "stream",
       "stream": "stdout",
       "text": [
        " \r",
        "  7250001 of iterations complete"
       ]
      },
      {
       "output_type": "stream",
       "stream": "stdout",
       "text": [
        " \r",
        "  7260001 of iterations complete"
       ]
      },
      {
       "output_type": "stream",
       "stream": "stdout",
       "text": [
        " \r",
        "  7270001 of iterations complete"
       ]
      },
      {
       "output_type": "stream",
       "stream": "stdout",
       "text": [
        " \r",
        "  7280001 of iterations complete"
       ]
      },
      {
       "output_type": "stream",
       "stream": "stdout",
       "text": [
        " \r",
        "  7290001 of iterations complete"
       ]
      },
      {
       "output_type": "stream",
       "stream": "stdout",
       "text": [
        " \r",
        "  7300001 of iterations complete"
       ]
      },
      {
       "output_type": "stream",
       "stream": "stdout",
       "text": [
        " \r",
        "  7310001 of iterations complete"
       ]
      },
      {
       "output_type": "stream",
       "stream": "stdout",
       "text": [
        " \r",
        "  7320001 of iterations complete"
       ]
      },
      {
       "output_type": "stream",
       "stream": "stdout",
       "text": [
        " \r",
        "  7330001 of iterations complete"
       ]
      },
      {
       "output_type": "stream",
       "stream": "stdout",
       "text": [
        " \r",
        "  7340001 of iterations complete"
       ]
      },
      {
       "output_type": "stream",
       "stream": "stdout",
       "text": [
        " \r",
        "  7350001 of iterations complete"
       ]
      },
      {
       "output_type": "stream",
       "stream": "stdout",
       "text": [
        " \r",
        "  7360001 of iterations complete"
       ]
      },
      {
       "output_type": "stream",
       "stream": "stdout",
       "text": [
        " \r",
        "  7370001 of iterations complete"
       ]
      },
      {
       "output_type": "stream",
       "stream": "stdout",
       "text": [
        " \r",
        "  7380001 of iterations complete"
       ]
      },
      {
       "output_type": "stream",
       "stream": "stdout",
       "text": [
        " \r",
        "  7390001 of iterations complete"
       ]
      },
      {
       "output_type": "stream",
       "stream": "stdout",
       "text": [
        " \r",
        "  7400001 of iterations complete"
       ]
      },
      {
       "output_type": "stream",
       "stream": "stdout",
       "text": [
        " \r",
        "  7410001 of iterations complete"
       ]
      },
      {
       "output_type": "stream",
       "stream": "stdout",
       "text": [
        " \r",
        "  7420001 of iterations complete"
       ]
      },
      {
       "output_type": "stream",
       "stream": "stdout",
       "text": [
        " \r",
        "  7430001 of iterations complete"
       ]
      },
      {
       "output_type": "stream",
       "stream": "stdout",
       "text": [
        " \r",
        "  7440001 of iterations complete"
       ]
      },
      {
       "output_type": "stream",
       "stream": "stdout",
       "text": [
        " \r",
        "  7450001 of iterations complete"
       ]
      },
      {
       "output_type": "stream",
       "stream": "stdout",
       "text": [
        " \r",
        "  7460001 of iterations complete"
       ]
      },
      {
       "output_type": "stream",
       "stream": "stdout",
       "text": [
        " \r",
        "  7470001 of iterations complete"
       ]
      },
      {
       "output_type": "stream",
       "stream": "stdout",
       "text": [
        " \r",
        "  7480001 of iterations complete"
       ]
      },
      {
       "output_type": "stream",
       "stream": "stdout",
       "text": [
        " \r",
        "  7490001 of iterations complete"
       ]
      },
      {
       "output_type": "stream",
       "stream": "stdout",
       "text": [
        " \r",
        "  7500001 of iterations complete"
       ]
      },
      {
       "output_type": "stream",
       "stream": "stdout",
       "text": [
        " \r",
        "  7510001 of iterations complete"
       ]
      },
      {
       "output_type": "stream",
       "stream": "stdout",
       "text": [
        " \r",
        "  7520001 of iterations complete"
       ]
      },
      {
       "output_type": "stream",
       "stream": "stdout",
       "text": [
        " \r",
        "  7530001 of iterations complete"
       ]
      },
      {
       "output_type": "stream",
       "stream": "stdout",
       "text": [
        " \r",
        "  7540001 of iterations complete"
       ]
      },
      {
       "output_type": "stream",
       "stream": "stdout",
       "text": [
        " \r",
        "  7550001 of iterations complete"
       ]
      },
      {
       "output_type": "stream",
       "stream": "stdout",
       "text": [
        " \r",
        "  7560001 of iterations complete"
       ]
      },
      {
       "output_type": "stream",
       "stream": "stdout",
       "text": [
        " \r",
        "  7570001 of iterations complete"
       ]
      },
      {
       "output_type": "stream",
       "stream": "stdout",
       "text": [
        " \r",
        "  7580001 of iterations complete"
       ]
      },
      {
       "output_type": "stream",
       "stream": "stdout",
       "text": [
        " \r",
        "  7590001 of iterations complete"
       ]
      },
      {
       "output_type": "stream",
       "stream": "stdout",
       "text": [
        " \r",
        "  7600001 of iterations complete"
       ]
      },
      {
       "output_type": "stream",
       "stream": "stdout",
       "text": [
        " \r",
        "  7610001 of iterations complete"
       ]
      },
      {
       "output_type": "stream",
       "stream": "stdout",
       "text": [
        " \r",
        "  7620001 of iterations complete"
       ]
      },
      {
       "output_type": "stream",
       "stream": "stdout",
       "text": [
        " \r",
        "  7630001 of iterations complete"
       ]
      },
      {
       "output_type": "stream",
       "stream": "stdout",
       "text": [
        " \r",
        "  7640001 of iterations complete"
       ]
      },
      {
       "output_type": "stream",
       "stream": "stdout",
       "text": [
        " \r",
        "  7650001 of iterations complete"
       ]
      },
      {
       "output_type": "stream",
       "stream": "stdout",
       "text": [
        " \r",
        "  7660001 of iterations complete"
       ]
      },
      {
       "output_type": "stream",
       "stream": "stdout",
       "text": [
        " \r",
        "  7670001 of iterations complete"
       ]
      },
      {
       "output_type": "stream",
       "stream": "stdout",
       "text": [
        " \r",
        "  7680001 of iterations complete"
       ]
      },
      {
       "output_type": "stream",
       "stream": "stdout",
       "text": [
        " \r",
        "  7690001 of iterations complete"
       ]
      },
      {
       "output_type": "stream",
       "stream": "stdout",
       "text": [
        " \r",
        "  7700001 of iterations complete"
       ]
      },
      {
       "output_type": "stream",
       "stream": "stdout",
       "text": [
        " \r",
        "  7710001 of iterations complete"
       ]
      },
      {
       "output_type": "stream",
       "stream": "stdout",
       "text": [
        " \r",
        "  7720001 of iterations complete"
       ]
      },
      {
       "output_type": "stream",
       "stream": "stdout",
       "text": [
        " \r",
        "  7730001 of iterations complete"
       ]
      },
      {
       "output_type": "stream",
       "stream": "stdout",
       "text": [
        " \r",
        "  7740001 of iterations complete"
       ]
      },
      {
       "output_type": "stream",
       "stream": "stdout",
       "text": [
        " \r",
        "  7750001 of iterations complete"
       ]
      },
      {
       "output_type": "stream",
       "stream": "stdout",
       "text": [
        " \r",
        "  7760001 of iterations complete"
       ]
      },
      {
       "output_type": "stream",
       "stream": "stdout",
       "text": [
        " \r",
        "  7770001 of iterations complete"
       ]
      },
      {
       "output_type": "stream",
       "stream": "stdout",
       "text": [
        " \r",
        "  7780001 of iterations complete"
       ]
      },
      {
       "output_type": "stream",
       "stream": "stdout",
       "text": [
        " \r",
        "  7790001 of iterations complete"
       ]
      },
      {
       "output_type": "stream",
       "stream": "stdout",
       "text": [
        " \r",
        "  7800001 of iterations complete"
       ]
      },
      {
       "output_type": "stream",
       "stream": "stdout",
       "text": [
        " \r",
        "  7810001 of iterations complete"
       ]
      },
      {
       "output_type": "stream",
       "stream": "stdout",
       "text": [
        " \r",
        "  7820001 of iterations complete"
       ]
      },
      {
       "output_type": "stream",
       "stream": "stdout",
       "text": [
        " \r",
        "  7830001 of iterations complete"
       ]
      },
      {
       "output_type": "stream",
       "stream": "stdout",
       "text": [
        " \r",
        "  7840001 of iterations complete"
       ]
      },
      {
       "output_type": "stream",
       "stream": "stdout",
       "text": [
        " \r",
        "  7850001 of iterations complete"
       ]
      },
      {
       "output_type": "stream",
       "stream": "stdout",
       "text": [
        " \r",
        "  7860001 of iterations complete"
       ]
      },
      {
       "output_type": "stream",
       "stream": "stdout",
       "text": [
        " \r",
        "  7870001 of iterations complete"
       ]
      },
      {
       "output_type": "stream",
       "stream": "stdout",
       "text": [
        " \r",
        "  7880001 of iterations complete"
       ]
      },
      {
       "output_type": "stream",
       "stream": "stdout",
       "text": [
        " \r",
        "  7890001 of iterations complete"
       ]
      },
      {
       "output_type": "stream",
       "stream": "stdout",
       "text": [
        " \r",
        "  7900001 of iterations complete"
       ]
      },
      {
       "output_type": "stream",
       "stream": "stdout",
       "text": [
        " \r",
        "  7910001 of iterations complete"
       ]
      },
      {
       "output_type": "stream",
       "stream": "stdout",
       "text": [
        " \r",
        "  7920001 of iterations complete"
       ]
      },
      {
       "output_type": "stream",
       "stream": "stdout",
       "text": [
        " \r",
        "  7930001 of iterations complete"
       ]
      },
      {
       "output_type": "stream",
       "stream": "stdout",
       "text": [
        " \r",
        "  7940001 of iterations complete"
       ]
      },
      {
       "output_type": "stream",
       "stream": "stdout",
       "text": [
        " \r",
        "  7950001 of iterations complete"
       ]
      },
      {
       "output_type": "stream",
       "stream": "stdout",
       "text": [
        " \r",
        "  7960001 of iterations complete"
       ]
      },
      {
       "output_type": "stream",
       "stream": "stdout",
       "text": [
        " \r",
        "  7970001 of iterations complete"
       ]
      },
      {
       "output_type": "stream",
       "stream": "stdout",
       "text": [
        " \r",
        "  7980001 of iterations complete"
       ]
      },
      {
       "output_type": "stream",
       "stream": "stdout",
       "text": [
        " \r",
        "  7990001 of iterations complete"
       ]
      },
      {
       "output_type": "stream",
       "stream": "stdout",
       "text": [
        " \r",
        "  8000001 of iterations complete"
       ]
      },
      {
       "output_type": "stream",
       "stream": "stdout",
       "text": [
        " \r",
        "  8010001 of iterations complete"
       ]
      },
      {
       "output_type": "stream",
       "stream": "stdout",
       "text": [
        " \r",
        "  8020001 of iterations complete"
       ]
      },
      {
       "output_type": "stream",
       "stream": "stdout",
       "text": [
        " \r",
        "  8030001 of iterations complete"
       ]
      },
      {
       "output_type": "stream",
       "stream": "stdout",
       "text": [
        " \r",
        "  8040001 of iterations complete"
       ]
      },
      {
       "output_type": "stream",
       "stream": "stdout",
       "text": [
        " \r",
        "  8050001 of iterations complete"
       ]
      },
      {
       "output_type": "stream",
       "stream": "stdout",
       "text": [
        " \r",
        "  8060001 of iterations complete"
       ]
      },
      {
       "output_type": "stream",
       "stream": "stdout",
       "text": [
        " \r",
        "  8070001 of iterations complete"
       ]
      },
      {
       "output_type": "stream",
       "stream": "stdout",
       "text": [
        " \r",
        "  8080001 of iterations complete"
       ]
      },
      {
       "output_type": "stream",
       "stream": "stdout",
       "text": [
        " \r",
        "  8090001 of iterations complete"
       ]
      },
      {
       "output_type": "stream",
       "stream": "stdout",
       "text": [
        " \r",
        "  8100001 of iterations complete"
       ]
      },
      {
       "output_type": "stream",
       "stream": "stdout",
       "text": [
        " \r",
        "  8110001 of iterations complete"
       ]
      },
      {
       "output_type": "stream",
       "stream": "stdout",
       "text": [
        " \r",
        "  8120001 of iterations complete"
       ]
      },
      {
       "output_type": "stream",
       "stream": "stdout",
       "text": [
        " \r",
        "  8130001 of iterations complete"
       ]
      },
      {
       "output_type": "stream",
       "stream": "stdout",
       "text": [
        " \r",
        "  8140001 of iterations complete"
       ]
      },
      {
       "output_type": "stream",
       "stream": "stdout",
       "text": [
        " \r",
        "  8150001 of iterations complete"
       ]
      },
      {
       "output_type": "stream",
       "stream": "stdout",
       "text": [
        " \r",
        "  8160001 of iterations complete"
       ]
      },
      {
       "output_type": "stream",
       "stream": "stdout",
       "text": [
        " \r",
        "  8170001 of iterations complete"
       ]
      },
      {
       "output_type": "stream",
       "stream": "stdout",
       "text": [
        " \r",
        "  8180001 of iterations complete"
       ]
      },
      {
       "output_type": "stream",
       "stream": "stdout",
       "text": [
        " \r",
        "  8190001 of iterations complete"
       ]
      },
      {
       "output_type": "stream",
       "stream": "stdout",
       "text": [
        " \r",
        "  8200001 of iterations complete"
       ]
      },
      {
       "output_type": "stream",
       "stream": "stdout",
       "text": [
        " \r",
        "  8210001 of iterations complete"
       ]
      },
      {
       "output_type": "stream",
       "stream": "stdout",
       "text": [
        " \r",
        "  8220001 of iterations complete"
       ]
      },
      {
       "output_type": "stream",
       "stream": "stdout",
       "text": [
        " \r",
        "  8230001 of iterations complete"
       ]
      },
      {
       "output_type": "stream",
       "stream": "stdout",
       "text": [
        " \r",
        "  8240001 of iterations complete"
       ]
      },
      {
       "output_type": "stream",
       "stream": "stdout",
       "text": [
        " \r",
        "  8250001 of iterations complete"
       ]
      },
      {
       "output_type": "stream",
       "stream": "stdout",
       "text": [
        " \r",
        "  8260001 of iterations complete"
       ]
      },
      {
       "output_type": "stream",
       "stream": "stdout",
       "text": [
        " \r",
        "  8270001 of iterations complete"
       ]
      },
      {
       "output_type": "stream",
       "stream": "stdout",
       "text": [
        " \r",
        "  8280001 of iterations complete"
       ]
      },
      {
       "output_type": "stream",
       "stream": "stdout",
       "text": [
        " \r",
        "  8290001 of iterations complete"
       ]
      },
      {
       "output_type": "stream",
       "stream": "stdout",
       "text": [
        " \r",
        "  8300001 of iterations complete"
       ]
      },
      {
       "output_type": "stream",
       "stream": "stdout",
       "text": [
        " \r",
        "  8310001 of iterations complete"
       ]
      },
      {
       "output_type": "stream",
       "stream": "stdout",
       "text": [
        " \r",
        "  8320001 of iterations complete"
       ]
      },
      {
       "output_type": "stream",
       "stream": "stdout",
       "text": [
        " \r",
        "  8330001 of iterations complete"
       ]
      },
      {
       "output_type": "stream",
       "stream": "stdout",
       "text": [
        " \r",
        "  8340001 of iterations complete"
       ]
      },
      {
       "output_type": "stream",
       "stream": "stdout",
       "text": [
        " \r",
        "  8350001 of iterations complete"
       ]
      },
      {
       "output_type": "stream",
       "stream": "stdout",
       "text": [
        " \r",
        "  8360001 of iterations complete"
       ]
      },
      {
       "output_type": "stream",
       "stream": "stdout",
       "text": [
        " \r",
        "  8370001 of iterations complete"
       ]
      },
      {
       "output_type": "stream",
       "stream": "stdout",
       "text": [
        " \r",
        "  8380001 of iterations complete"
       ]
      },
      {
       "output_type": "stream",
       "stream": "stdout",
       "text": [
        " \r",
        "  8390001 of iterations complete"
       ]
      },
      {
       "output_type": "stream",
       "stream": "stdout",
       "text": [
        " \r",
        "  8400001 of iterations complete"
       ]
      },
      {
       "output_type": "stream",
       "stream": "stdout",
       "text": [
        " \r",
        "  8410001 of iterations complete"
       ]
      },
      {
       "output_type": "stream",
       "stream": "stdout",
       "text": [
        " \r",
        "  8420001 of iterations complete"
       ]
      },
      {
       "output_type": "stream",
       "stream": "stdout",
       "text": [
        " \r",
        "  8430001 of iterations complete"
       ]
      },
      {
       "output_type": "stream",
       "stream": "stdout",
       "text": [
        " \r",
        "  8440001 of iterations complete"
       ]
      },
      {
       "output_type": "stream",
       "stream": "stdout",
       "text": [
        " \r",
        "  8450001 of iterations complete"
       ]
      },
      {
       "output_type": "stream",
       "stream": "stdout",
       "text": [
        " \r",
        "  8460001 of iterations complete"
       ]
      },
      {
       "output_type": "stream",
       "stream": "stdout",
       "text": [
        " \r",
        "  8470001 of iterations complete"
       ]
      },
      {
       "output_type": "stream",
       "stream": "stdout",
       "text": [
        " \r",
        "  8480001 of iterations complete"
       ]
      },
      {
       "output_type": "stream",
       "stream": "stdout",
       "text": [
        " \r",
        "  8490001 of iterations complete"
       ]
      },
      {
       "output_type": "stream",
       "stream": "stdout",
       "text": [
        " \r",
        "  8500001 of iterations complete"
       ]
      },
      {
       "output_type": "stream",
       "stream": "stdout",
       "text": [
        " \r",
        "  8510001 of iterations complete"
       ]
      },
      {
       "output_type": "stream",
       "stream": "stdout",
       "text": [
        " \r",
        "  8520001 of iterations complete"
       ]
      },
      {
       "output_type": "stream",
       "stream": "stdout",
       "text": [
        " \r",
        "  8530001 of iterations complete"
       ]
      },
      {
       "output_type": "stream",
       "stream": "stdout",
       "text": [
        " \r",
        "  8540001 of iterations complete"
       ]
      },
      {
       "output_type": "stream",
       "stream": "stdout",
       "text": [
        " \r",
        "  8550001 of iterations complete"
       ]
      },
      {
       "output_type": "stream",
       "stream": "stdout",
       "text": [
        " \r",
        "  8560001 of iterations complete"
       ]
      },
      {
       "output_type": "stream",
       "stream": "stdout",
       "text": [
        " \r",
        "  8570001 of iterations complete"
       ]
      },
      {
       "output_type": "stream",
       "stream": "stdout",
       "text": [
        " \r",
        "  8580001 of iterations complete"
       ]
      },
      {
       "output_type": "stream",
       "stream": "stdout",
       "text": [
        " \r",
        "  8590001 of iterations complete"
       ]
      },
      {
       "output_type": "stream",
       "stream": "stdout",
       "text": [
        " \r",
        "  8600001 of iterations complete"
       ]
      },
      {
       "output_type": "stream",
       "stream": "stdout",
       "text": [
        " \r",
        "  8610001 of iterations complete"
       ]
      },
      {
       "output_type": "stream",
       "stream": "stdout",
       "text": [
        " \r",
        "  8620001 of iterations complete"
       ]
      },
      {
       "output_type": "stream",
       "stream": "stdout",
       "text": [
        " \r",
        "  8630001 of iterations complete"
       ]
      },
      {
       "output_type": "stream",
       "stream": "stdout",
       "text": [
        " \r",
        "  8640001 of iterations complete"
       ]
      },
      {
       "output_type": "stream",
       "stream": "stdout",
       "text": [
        " \r",
        "  8650001 of iterations complete"
       ]
      },
      {
       "output_type": "stream",
       "stream": "stdout",
       "text": [
        " \r",
        "  8660001 of iterations complete"
       ]
      },
      {
       "output_type": "stream",
       "stream": "stdout",
       "text": [
        " \r",
        "  8670001 of iterations complete"
       ]
      },
      {
       "output_type": "stream",
       "stream": "stdout",
       "text": [
        " \r",
        "  8680001 of iterations complete"
       ]
      },
      {
       "output_type": "stream",
       "stream": "stdout",
       "text": [
        " \r",
        "  8690001 of iterations complete"
       ]
      },
      {
       "output_type": "stream",
       "stream": "stdout",
       "text": [
        " \r",
        "  8700001 of iterations complete"
       ]
      },
      {
       "output_type": "stream",
       "stream": "stdout",
       "text": [
        " \r",
        "  8710001 of iterations complete"
       ]
      },
      {
       "output_type": "stream",
       "stream": "stdout",
       "text": [
        " \r",
        "  8720001 of iterations complete"
       ]
      },
      {
       "output_type": "stream",
       "stream": "stdout",
       "text": [
        " \r",
        "  8730001 of iterations complete"
       ]
      },
      {
       "output_type": "stream",
       "stream": "stdout",
       "text": [
        " \r",
        "  8740001 of iterations complete"
       ]
      },
      {
       "output_type": "stream",
       "stream": "stdout",
       "text": [
        " \r",
        "  8750001 of iterations complete"
       ]
      },
      {
       "output_type": "stream",
       "stream": "stdout",
       "text": [
        " \r",
        "  8760001 of iterations complete"
       ]
      },
      {
       "output_type": "stream",
       "stream": "stdout",
       "text": [
        " \r",
        "  8770001 of iterations complete"
       ]
      },
      {
       "output_type": "stream",
       "stream": "stdout",
       "text": [
        " \r",
        "  8780001 of iterations complete"
       ]
      },
      {
       "output_type": "stream",
       "stream": "stdout",
       "text": [
        " \r",
        "  8790001 of iterations complete"
       ]
      },
      {
       "output_type": "stream",
       "stream": "stdout",
       "text": [
        " \r",
        "  8800001 of iterations complete"
       ]
      },
      {
       "output_type": "stream",
       "stream": "stdout",
       "text": [
        " \r",
        "  8810001 of iterations complete"
       ]
      },
      {
       "output_type": "stream",
       "stream": "stdout",
       "text": [
        " \r",
        "  8820001 of iterations complete"
       ]
      },
      {
       "output_type": "stream",
       "stream": "stdout",
       "text": [
        " \r",
        "  8830001 of iterations complete"
       ]
      },
      {
       "output_type": "stream",
       "stream": "stdout",
       "text": [
        " \r",
        "  8840001 of iterations complete"
       ]
      },
      {
       "output_type": "stream",
       "stream": "stdout",
       "text": [
        " \r",
        "  8850001 of iterations complete"
       ]
      },
      {
       "output_type": "stream",
       "stream": "stdout",
       "text": [
        " \r",
        "  8860001 of iterations complete"
       ]
      },
      {
       "output_type": "stream",
       "stream": "stdout",
       "text": [
        " \r",
        "  8870001 of iterations complete"
       ]
      },
      {
       "output_type": "stream",
       "stream": "stdout",
       "text": [
        " \r",
        "  8880001 of iterations complete"
       ]
      },
      {
       "output_type": "stream",
       "stream": "stdout",
       "text": [
        " \r",
        "  8890001 of iterations complete"
       ]
      },
      {
       "output_type": "stream",
       "stream": "stdout",
       "text": [
        " \r",
        "  8900001 of iterations complete"
       ]
      },
      {
       "output_type": "stream",
       "stream": "stdout",
       "text": [
        " \r",
        "  8910001 of iterations complete"
       ]
      },
      {
       "output_type": "stream",
       "stream": "stdout",
       "text": [
        " \r",
        "  8920001 of iterations complete"
       ]
      },
      {
       "output_type": "stream",
       "stream": "stdout",
       "text": [
        " \r",
        "  8930001 of iterations complete"
       ]
      },
      {
       "output_type": "stream",
       "stream": "stdout",
       "text": [
        " \r",
        "  8940001 of iterations complete"
       ]
      },
      {
       "output_type": "stream",
       "stream": "stdout",
       "text": [
        " \r",
        "  8950001 of iterations complete"
       ]
      },
      {
       "output_type": "stream",
       "stream": "stdout",
       "text": [
        " \r",
        "  8960001 of iterations complete"
       ]
      },
      {
       "output_type": "stream",
       "stream": "stdout",
       "text": [
        " \r",
        "  8970001 of iterations complete"
       ]
      },
      {
       "output_type": "stream",
       "stream": "stdout",
       "text": [
        " \r",
        "  8980001 of iterations complete"
       ]
      },
      {
       "output_type": "stream",
       "stream": "stdout",
       "text": [
        " \r",
        "  8990001 of iterations complete"
       ]
      },
      {
       "output_type": "stream",
       "stream": "stdout",
       "text": [
        " \r",
        "  9000001 of iterations complete"
       ]
      },
      {
       "output_type": "stream",
       "stream": "stdout",
       "text": [
        " \r",
        "  9010001 of iterations complete"
       ]
      },
      {
       "output_type": "stream",
       "stream": "stdout",
       "text": [
        " \r",
        "  9020001 of iterations complete"
       ]
      },
      {
       "output_type": "stream",
       "stream": "stdout",
       "text": [
        " \r",
        "  9030001 of iterations complete"
       ]
      },
      {
       "output_type": "stream",
       "stream": "stdout",
       "text": [
        " \r",
        "  9040001 of iterations complete"
       ]
      },
      {
       "output_type": "stream",
       "stream": "stdout",
       "text": [
        " \r",
        "  9050001 of iterations complete"
       ]
      },
      {
       "output_type": "stream",
       "stream": "stdout",
       "text": [
        " \r",
        "  9060001 of iterations complete"
       ]
      },
      {
       "output_type": "stream",
       "stream": "stdout",
       "text": [
        " \r",
        "  9070001 of iterations complete"
       ]
      },
      {
       "output_type": "stream",
       "stream": "stdout",
       "text": [
        " \r",
        "  9080001 of iterations complete"
       ]
      },
      {
       "output_type": "stream",
       "stream": "stdout",
       "text": [
        " \r",
        "  9090001 of iterations complete"
       ]
      },
      {
       "output_type": "stream",
       "stream": "stdout",
       "text": [
        " \r",
        "  9100001 of iterations complete"
       ]
      },
      {
       "output_type": "stream",
       "stream": "stdout",
       "text": [
        " \r",
        "  9110001 of iterations complete"
       ]
      },
      {
       "output_type": "stream",
       "stream": "stdout",
       "text": [
        " \r",
        "  9120001 of iterations complete"
       ]
      },
      {
       "output_type": "stream",
       "stream": "stdout",
       "text": [
        " \r",
        "  9130001 of iterations complete"
       ]
      },
      {
       "output_type": "stream",
       "stream": "stdout",
       "text": [
        " \r",
        "  9140001 of iterations complete"
       ]
      },
      {
       "output_type": "stream",
       "stream": "stdout",
       "text": [
        " \r",
        "  9150001 of iterations complete"
       ]
      },
      {
       "output_type": "stream",
       "stream": "stdout",
       "text": [
        " \r",
        "  9160001 of iterations complete"
       ]
      },
      {
       "output_type": "stream",
       "stream": "stdout",
       "text": [
        " \r",
        "  9170001 of iterations complete"
       ]
      },
      {
       "output_type": "stream",
       "stream": "stdout",
       "text": [
        " \r",
        "  9180001 of iterations complete"
       ]
      },
      {
       "output_type": "stream",
       "stream": "stdout",
       "text": [
        " \r",
        "  9190001 of iterations complete"
       ]
      },
      {
       "output_type": "stream",
       "stream": "stdout",
       "text": [
        " \r",
        "  9200001 of iterations complete"
       ]
      },
      {
       "output_type": "stream",
       "stream": "stdout",
       "text": [
        " \r",
        "  9210001 of iterations complete"
       ]
      },
      {
       "output_type": "stream",
       "stream": "stdout",
       "text": [
        " \r",
        "  9220001 of iterations complete"
       ]
      },
      {
       "output_type": "stream",
       "stream": "stdout",
       "text": [
        " \r",
        "  9230001 of iterations complete"
       ]
      },
      {
       "output_type": "stream",
       "stream": "stdout",
       "text": [
        " \r",
        "  9240001 of iterations complete"
       ]
      },
      {
       "output_type": "stream",
       "stream": "stdout",
       "text": [
        " \r",
        "  9250001 of iterations complete"
       ]
      },
      {
       "output_type": "stream",
       "stream": "stdout",
       "text": [
        " \r",
        "  9260001 of iterations complete"
       ]
      },
      {
       "output_type": "stream",
       "stream": "stdout",
       "text": [
        " \r",
        "  9270001 of iterations complete"
       ]
      },
      {
       "output_type": "stream",
       "stream": "stdout",
       "text": [
        " \r",
        "  9280001 of iterations complete"
       ]
      },
      {
       "output_type": "stream",
       "stream": "stdout",
       "text": [
        " \r",
        "  9290001 of iterations complete"
       ]
      },
      {
       "output_type": "stream",
       "stream": "stdout",
       "text": [
        " \r",
        "  9300001 of iterations complete"
       ]
      },
      {
       "output_type": "stream",
       "stream": "stdout",
       "text": [
        " \r",
        "  9310001 of iterations complete"
       ]
      },
      {
       "output_type": "stream",
       "stream": "stdout",
       "text": [
        " \r",
        "  9320001 of iterations complete"
       ]
      },
      {
       "output_type": "stream",
       "stream": "stdout",
       "text": [
        " \r",
        "  9330001 of iterations complete"
       ]
      },
      {
       "output_type": "stream",
       "stream": "stdout",
       "text": [
        " \r",
        "  9340001 of iterations complete"
       ]
      },
      {
       "output_type": "stream",
       "stream": "stdout",
       "text": [
        " \r",
        "  9350001 of iterations complete"
       ]
      },
      {
       "output_type": "stream",
       "stream": "stdout",
       "text": [
        " \r",
        "  9360001 of iterations complete"
       ]
      },
      {
       "output_type": "stream",
       "stream": "stdout",
       "text": [
        " \r",
        "  9370001 of iterations complete"
       ]
      },
      {
       "output_type": "stream",
       "stream": "stdout",
       "text": [
        " \r",
        "  9380001 of iterations complete"
       ]
      },
      {
       "output_type": "stream",
       "stream": "stdout",
       "text": [
        " \r",
        "  9390001 of iterations complete"
       ]
      },
      {
       "output_type": "stream",
       "stream": "stdout",
       "text": [
        " \r",
        "  9400001 of iterations complete"
       ]
      },
      {
       "output_type": "stream",
       "stream": "stdout",
       "text": [
        " \r",
        "  9410001 of iterations complete"
       ]
      },
      {
       "output_type": "stream",
       "stream": "stdout",
       "text": [
        " \r",
        "  9420001 of iterations complete"
       ]
      },
      {
       "output_type": "stream",
       "stream": "stdout",
       "text": [
        " \r",
        "  9430001 of iterations complete"
       ]
      },
      {
       "output_type": "stream",
       "stream": "stdout",
       "text": [
        " \r",
        "  9440001 of iterations complete"
       ]
      },
      {
       "output_type": "stream",
       "stream": "stdout",
       "text": [
        " \r",
        "  9450001 of iterations complete"
       ]
      },
      {
       "output_type": "stream",
       "stream": "stdout",
       "text": [
        " \r",
        "  9460001 of iterations complete"
       ]
      },
      {
       "output_type": "stream",
       "stream": "stdout",
       "text": [
        " \r",
        "  9470001 of iterations complete"
       ]
      },
      {
       "output_type": "stream",
       "stream": "stdout",
       "text": [
        " \r",
        "  9480001 of iterations complete"
       ]
      },
      {
       "output_type": "stream",
       "stream": "stdout",
       "text": [
        " \r",
        "  9490001 of iterations complete"
       ]
      },
      {
       "output_type": "stream",
       "stream": "stdout",
       "text": [
        " \r",
        "  9500001 of iterations complete"
       ]
      },
      {
       "output_type": "stream",
       "stream": "stdout",
       "text": [
        " \r",
        "  9510001 of iterations complete"
       ]
      },
      {
       "output_type": "stream",
       "stream": "stdout",
       "text": [
        " \r",
        "  9520001 of iterations complete"
       ]
      },
      {
       "output_type": "stream",
       "stream": "stdout",
       "text": [
        " \r",
        "  9530001 of iterations complete"
       ]
      },
      {
       "output_type": "stream",
       "stream": "stdout",
       "text": [
        " \r",
        "  9540001 of iterations complete"
       ]
      },
      {
       "output_type": "stream",
       "stream": "stdout",
       "text": [
        " \r",
        "  9550001 of iterations complete"
       ]
      },
      {
       "output_type": "stream",
       "stream": "stdout",
       "text": [
        " \r",
        "  9560001 of iterations complete"
       ]
      },
      {
       "output_type": "stream",
       "stream": "stdout",
       "text": [
        " \r",
        "  9570001 of iterations complete"
       ]
      },
      {
       "output_type": "stream",
       "stream": "stdout",
       "text": [
        " \r",
        "  9580001 of iterations complete"
       ]
      },
      {
       "output_type": "stream",
       "stream": "stdout",
       "text": [
        " \r",
        "  9590001 of iterations complete"
       ]
      },
      {
       "output_type": "stream",
       "stream": "stdout",
       "text": [
        " \r",
        "  9600001 of iterations complete"
       ]
      },
      {
       "output_type": "stream",
       "stream": "stdout",
       "text": [
        " \r",
        "  9610001 of iterations complete"
       ]
      },
      {
       "output_type": "stream",
       "stream": "stdout",
       "text": [
        " \r",
        "  9620001 of iterations complete"
       ]
      },
      {
       "output_type": "stream",
       "stream": "stdout",
       "text": [
        " \r",
        "  9630001 of iterations complete"
       ]
      },
      {
       "output_type": "stream",
       "stream": "stdout",
       "text": [
        " \r",
        "  9640001 of iterations complete"
       ]
      },
      {
       "output_type": "stream",
       "stream": "stdout",
       "text": [
        " \r",
        "  9650001 of iterations complete"
       ]
      },
      {
       "output_type": "stream",
       "stream": "stdout",
       "text": [
        " \r",
        "  9660001 of iterations complete"
       ]
      },
      {
       "output_type": "stream",
       "stream": "stdout",
       "text": [
        " \r",
        "  9670001 of iterations complete"
       ]
      },
      {
       "output_type": "stream",
       "stream": "stdout",
       "text": [
        " \r",
        "  9680001 of iterations complete"
       ]
      },
      {
       "output_type": "stream",
       "stream": "stdout",
       "text": [
        " \r",
        "  9690001 of iterations complete"
       ]
      },
      {
       "output_type": "stream",
       "stream": "stdout",
       "text": [
        " \r",
        "  9700001 of iterations complete"
       ]
      },
      {
       "output_type": "stream",
       "stream": "stdout",
       "text": [
        " \r",
        "  9710001 of iterations complete"
       ]
      },
      {
       "output_type": "stream",
       "stream": "stdout",
       "text": [
        " \r",
        "  9720001 of iterations complete"
       ]
      },
      {
       "output_type": "stream",
       "stream": "stdout",
       "text": [
        " \r",
        "  9730001 of iterations complete"
       ]
      },
      {
       "output_type": "stream",
       "stream": "stdout",
       "text": [
        " \r",
        "  9740001 of iterations complete"
       ]
      },
      {
       "output_type": "stream",
       "stream": "stdout",
       "text": [
        " \r",
        "  9750001 of iterations complete"
       ]
      },
      {
       "output_type": "stream",
       "stream": "stdout",
       "text": [
        " \r",
        "  9760001 of iterations complete"
       ]
      },
      {
       "output_type": "stream",
       "stream": "stdout",
       "text": [
        " \r",
        "  9770001 of iterations complete"
       ]
      },
      {
       "output_type": "stream",
       "stream": "stdout",
       "text": [
        " \r",
        "  9780001 of iterations complete"
       ]
      },
      {
       "output_type": "stream",
       "stream": "stdout",
       "text": [
        " \r",
        "  9790001 of iterations complete"
       ]
      },
      {
       "output_type": "stream",
       "stream": "stdout",
       "text": [
        " \r",
        "  9800001 of iterations complete"
       ]
      },
      {
       "output_type": "stream",
       "stream": "stdout",
       "text": [
        " \r",
        "  9810001 of iterations complete"
       ]
      },
      {
       "output_type": "stream",
       "stream": "stdout",
       "text": [
        " \r",
        "  9820001 of iterations complete"
       ]
      },
      {
       "output_type": "stream",
       "stream": "stdout",
       "text": [
        " \r",
        "  9830001 of iterations complete"
       ]
      },
      {
       "output_type": "stream",
       "stream": "stdout",
       "text": [
        " \r",
        "  9840001 of iterations complete"
       ]
      },
      {
       "output_type": "stream",
       "stream": "stdout",
       "text": [
        " \r",
        "  9850001 of iterations complete"
       ]
      },
      {
       "output_type": "stream",
       "stream": "stdout",
       "text": [
        " \r",
        "  9860001 of iterations complete"
       ]
      },
      {
       "output_type": "stream",
       "stream": "stdout",
       "text": [
        " \r",
        "  9870001 of iterations complete"
       ]
      },
      {
       "output_type": "stream",
       "stream": "stdout",
       "text": [
        " \r",
        "  9880001 of iterations complete"
       ]
      },
      {
       "output_type": "stream",
       "stream": "stdout",
       "text": [
        " \r",
        "  9890001 of iterations complete"
       ]
      },
      {
       "output_type": "stream",
       "stream": "stdout",
       "text": [
        " \r",
        "  9900001 of iterations complete"
       ]
      },
      {
       "output_type": "stream",
       "stream": "stdout",
       "text": [
        " \r",
        "  9910001 of iterations complete"
       ]
      },
      {
       "output_type": "stream",
       "stream": "stdout",
       "text": [
        " \r",
        "  9920001 of iterations complete"
       ]
      },
      {
       "output_type": "stream",
       "stream": "stdout",
       "text": [
        " \r",
        "  9930001 of iterations complete"
       ]
      },
      {
       "output_type": "stream",
       "stream": "stdout",
       "text": [
        " \r",
        "  9940001 of iterations complete"
       ]
      },
      {
       "output_type": "stream",
       "stream": "stdout",
       "text": [
        " \r",
        "  9950001 of iterations complete"
       ]
      },
      {
       "output_type": "stream",
       "stream": "stdout",
       "text": [
        " \r",
        "  9960001 of iterations complete"
       ]
      },
      {
       "output_type": "stream",
       "stream": "stdout",
       "text": [
        " \r",
        "  9970001 of iterations complete"
       ]
      },
      {
       "output_type": "stream",
       "stream": "stdout",
       "text": [
        " \r",
        "  9980001 of iterations complete"
       ]
      },
      {
       "output_type": "stream",
       "stream": "stdout",
       "text": [
        " \r",
        "  9990001 of iterations complete"
       ]
      },
      {
       "output_type": "stream",
       "stream": "stdout",
       "text": [
        " \r",
        "  10000001 of iterations complete"
       ]
      },
      {
       "output_type": "stream",
       "stream": "stdout",
       "text": [
        " \r",
        "  10010001 of iterations complete"
       ]
      },
      {
       "output_type": "stream",
       "stream": "stdout",
       "text": [
        " \r",
        "  10020001 of iterations complete"
       ]
      },
      {
       "output_type": "stream",
       "stream": "stdout",
       "text": [
        " \r",
        "  10030001 of iterations complete"
       ]
      },
      {
       "output_type": "stream",
       "stream": "stdout",
       "text": [
        " \r",
        "  10040001 of iterations complete"
       ]
      },
      {
       "output_type": "stream",
       "stream": "stdout",
       "text": [
        " \r",
        "  10050001 of iterations complete"
       ]
      },
      {
       "output_type": "stream",
       "stream": "stdout",
       "text": [
        " \r",
        "  10060001 of iterations complete"
       ]
      },
      {
       "output_type": "stream",
       "stream": "stdout",
       "text": [
        " \r",
        "  10070001 of iterations complete"
       ]
      },
      {
       "output_type": "stream",
       "stream": "stdout",
       "text": [
        " \r",
        "  10080001 of iterations complete"
       ]
      },
      {
       "output_type": "stream",
       "stream": "stdout",
       "text": [
        " \r",
        "  10090001 of iterations complete"
       ]
      },
      {
       "output_type": "stream",
       "stream": "stdout",
       "text": [
        " \r",
        "  10100001 of iterations complete"
       ]
      },
      {
       "output_type": "stream",
       "stream": "stdout",
       "text": [
        " \r",
        "  10110001 of iterations complete"
       ]
      },
      {
       "output_type": "stream",
       "stream": "stdout",
       "text": [
        " \r",
        "  10120001 of iterations complete"
       ]
      },
      {
       "output_type": "stream",
       "stream": "stdout",
       "text": [
        " \r",
        "  10130001 of iterations complete"
       ]
      },
      {
       "output_type": "stream",
       "stream": "stdout",
       "text": [
        " \r",
        "  10140001 of iterations complete"
       ]
      },
      {
       "output_type": "stream",
       "stream": "stdout",
       "text": [
        " \r",
        "  10150001 of iterations complete"
       ]
      },
      {
       "output_type": "stream",
       "stream": "stdout",
       "text": [
        " \r",
        "  10160001 of iterations complete"
       ]
      },
      {
       "output_type": "stream",
       "stream": "stdout",
       "text": [
        " \r",
        "  10170001 of iterations complete"
       ]
      },
      {
       "output_type": "stream",
       "stream": "stdout",
       "text": [
        " \r",
        "  10180001 of iterations complete"
       ]
      },
      {
       "output_type": "stream",
       "stream": "stdout",
       "text": [
        " \r",
        "  10190001 of iterations complete"
       ]
      },
      {
       "output_type": "stream",
       "stream": "stdout",
       "text": [
        " \r",
        "  10200001 of iterations complete"
       ]
      },
      {
       "output_type": "stream",
       "stream": "stdout",
       "text": [
        " \r",
        "  10210001 of iterations complete"
       ]
      },
      {
       "output_type": "stream",
       "stream": "stdout",
       "text": [
        " \r",
        "  10220001 of iterations complete"
       ]
      },
      {
       "output_type": "stream",
       "stream": "stdout",
       "text": [
        " \r",
        "  10230001 of iterations complete"
       ]
      },
      {
       "output_type": "stream",
       "stream": "stdout",
       "text": [
        " \r",
        "  10240001 of iterations complete"
       ]
      },
      {
       "output_type": "stream",
       "stream": "stdout",
       "text": [
        " \r",
        "  10250001 of iterations complete"
       ]
      },
      {
       "output_type": "stream",
       "stream": "stdout",
       "text": [
        " \r",
        "  10260001 of iterations complete"
       ]
      },
      {
       "output_type": "stream",
       "stream": "stdout",
       "text": [
        " \r",
        "  10270001 of iterations complete"
       ]
      },
      {
       "output_type": "stream",
       "stream": "stdout",
       "text": [
        " \r",
        "  10280001 of iterations complete"
       ]
      },
      {
       "output_type": "stream",
       "stream": "stdout",
       "text": [
        " \r",
        "  10290001 of iterations complete"
       ]
      },
      {
       "output_type": "stream",
       "stream": "stdout",
       "text": [
        " \r",
        "  10300001 of iterations complete"
       ]
      },
      {
       "output_type": "stream",
       "stream": "stdout",
       "text": [
        " \r",
        "  10310001 of iterations complete"
       ]
      },
      {
       "output_type": "stream",
       "stream": "stdout",
       "text": [
        " \r",
        "  10320001 of iterations complete"
       ]
      },
      {
       "output_type": "stream",
       "stream": "stdout",
       "text": [
        " \r",
        "  10330001 of iterations complete"
       ]
      },
      {
       "output_type": "stream",
       "stream": "stdout",
       "text": [
        " \r",
        "  10340001 of iterations complete"
       ]
      },
      {
       "output_type": "stream",
       "stream": "stdout",
       "text": [
        " \r",
        "  10350001 of iterations complete"
       ]
      },
      {
       "output_type": "stream",
       "stream": "stdout",
       "text": [
        " \r",
        "  10360001 of iterations complete"
       ]
      },
      {
       "output_type": "stream",
       "stream": "stdout",
       "text": [
        " \r",
        "  10370001 of iterations complete"
       ]
      },
      {
       "output_type": "stream",
       "stream": "stdout",
       "text": [
        " \r",
        "  10380001 of iterations complete"
       ]
      },
      {
       "output_type": "stream",
       "stream": "stdout",
       "text": [
        " \r",
        "  10390001 of iterations complete"
       ]
      },
      {
       "output_type": "stream",
       "stream": "stdout",
       "text": [
        " \r",
        "  10400001 of iterations complete"
       ]
      },
      {
       "output_type": "stream",
       "stream": "stdout",
       "text": [
        " \r",
        "  10410001 of iterations complete"
       ]
      },
      {
       "output_type": "stream",
       "stream": "stdout",
       "text": [
        " \r",
        "  10420001 of iterations complete"
       ]
      },
      {
       "output_type": "stream",
       "stream": "stdout",
       "text": [
        " \r",
        "  10430001 of iterations complete"
       ]
      },
      {
       "output_type": "stream",
       "stream": "stdout",
       "text": [
        " \r",
        "  10440001 of iterations complete"
       ]
      },
      {
       "output_type": "stream",
       "stream": "stdout",
       "text": [
        " \r",
        "  10450001 of iterations complete"
       ]
      },
      {
       "output_type": "stream",
       "stream": "stdout",
       "text": [
        " \r",
        "  10460001 of iterations complete"
       ]
      },
      {
       "output_type": "stream",
       "stream": "stdout",
       "text": [
        " \r",
        "  10470001 of iterations complete"
       ]
      },
      {
       "output_type": "stream",
       "stream": "stdout",
       "text": [
        " \r",
        "  10480001 of iterations complete"
       ]
      },
      {
       "output_type": "stream",
       "stream": "stdout",
       "text": [
        " \r",
        "  10490001 of iterations complete"
       ]
      },
      {
       "output_type": "stream",
       "stream": "stdout",
       "text": [
        " \r",
        "  10500001 of iterations complete"
       ]
      },
      {
       "output_type": "stream",
       "stream": "stdout",
       "text": [
        " \r",
        "  10510001 of iterations complete"
       ]
      },
      {
       "output_type": "stream",
       "stream": "stdout",
       "text": [
        " \r",
        "  10520001 of iterations complete"
       ]
      },
      {
       "output_type": "stream",
       "stream": "stdout",
       "text": [
        " \r",
        "  10530001 of iterations complete"
       ]
      },
      {
       "output_type": "stream",
       "stream": "stdout",
       "text": [
        " \r",
        "  10540001 of iterations complete"
       ]
      },
      {
       "output_type": "stream",
       "stream": "stdout",
       "text": [
        " \r",
        "  10550001 of iterations complete"
       ]
      },
      {
       "output_type": "stream",
       "stream": "stdout",
       "text": [
        " \r",
        "  10560001 of iterations complete"
       ]
      },
      {
       "output_type": "stream",
       "stream": "stdout",
       "text": [
        " \r",
        "  10570001 of iterations complete"
       ]
      },
      {
       "output_type": "stream",
       "stream": "stdout",
       "text": [
        " \r",
        "  10580001 of iterations complete"
       ]
      },
      {
       "output_type": "stream",
       "stream": "stdout",
       "text": [
        " \r",
        "  10590001 of iterations complete"
       ]
      },
      {
       "output_type": "stream",
       "stream": "stdout",
       "text": [
        " \r",
        "  10600001 of iterations complete"
       ]
      },
      {
       "output_type": "stream",
       "stream": "stdout",
       "text": [
        " \r",
        "  10610001 of iterations complete"
       ]
      },
      {
       "output_type": "stream",
       "stream": "stdout",
       "text": [
        " \r",
        "  10620001 of iterations complete"
       ]
      },
      {
       "output_type": "stream",
       "stream": "stdout",
       "text": [
        " \r",
        "  10630001 of iterations complete"
       ]
      },
      {
       "output_type": "stream",
       "stream": "stdout",
       "text": [
        " \r",
        "  10640001 of iterations complete"
       ]
      },
      {
       "output_type": "stream",
       "stream": "stdout",
       "text": [
        " \r",
        "  10650001 of iterations complete"
       ]
      },
      {
       "output_type": "stream",
       "stream": "stdout",
       "text": [
        " \r",
        "  10660001 of iterations complete"
       ]
      },
      {
       "output_type": "stream",
       "stream": "stdout",
       "text": [
        " \r",
        "  10670001 of iterations complete"
       ]
      },
      {
       "output_type": "stream",
       "stream": "stdout",
       "text": [
        " \r",
        "  10680001 of iterations complete"
       ]
      },
      {
       "output_type": "stream",
       "stream": "stdout",
       "text": [
        " \r",
        "  10690001 of iterations complete"
       ]
      },
      {
       "output_type": "stream",
       "stream": "stdout",
       "text": [
        " \r",
        "  10700001 of iterations complete"
       ]
      },
      {
       "output_type": "stream",
       "stream": "stdout",
       "text": [
        " \r",
        "  10710001 of iterations complete"
       ]
      },
      {
       "output_type": "stream",
       "stream": "stdout",
       "text": [
        " \r",
        "  10720001 of iterations complete"
       ]
      },
      {
       "output_type": "stream",
       "stream": "stdout",
       "text": [
        " \r",
        "  10730001 of iterations complete"
       ]
      },
      {
       "output_type": "stream",
       "stream": "stdout",
       "text": [
        " \r",
        "  10740001 of iterations complete"
       ]
      },
      {
       "output_type": "stream",
       "stream": "stdout",
       "text": [
        " \r",
        "  10750001 of iterations complete"
       ]
      },
      {
       "output_type": "stream",
       "stream": "stdout",
       "text": [
        " \r",
        "  10760001 of iterations complete"
       ]
      },
      {
       "output_type": "stream",
       "stream": "stdout",
       "text": [
        " \r",
        "  10770001 of iterations complete"
       ]
      },
      {
       "output_type": "stream",
       "stream": "stdout",
       "text": [
        " \r",
        "  10780001 of iterations complete"
       ]
      },
      {
       "output_type": "stream",
       "stream": "stdout",
       "text": [
        " \r",
        "  10790001 of iterations complete"
       ]
      },
      {
       "output_type": "stream",
       "stream": "stdout",
       "text": [
        " \r",
        "  10800001 of iterations complete"
       ]
      },
      {
       "output_type": "stream",
       "stream": "stdout",
       "text": [
        " \r",
        "  10810001 of iterations complete"
       ]
      },
      {
       "output_type": "stream",
       "stream": "stdout",
       "text": [
        " \r",
        "  10820001 of iterations complete"
       ]
      },
      {
       "output_type": "stream",
       "stream": "stdout",
       "text": [
        " \r",
        "  10830001 of iterations complete"
       ]
      },
      {
       "output_type": "stream",
       "stream": "stdout",
       "text": [
        " \r",
        "  10840001 of iterations complete"
       ]
      },
      {
       "output_type": "stream",
       "stream": "stdout",
       "text": [
        " \r",
        "  10850001 of iterations complete"
       ]
      },
      {
       "output_type": "stream",
       "stream": "stdout",
       "text": [
        " \r",
        "  10860001 of iterations complete"
       ]
      },
      {
       "output_type": "stream",
       "stream": "stdout",
       "text": [
        " \r",
        "  10870001 of iterations complete"
       ]
      },
      {
       "output_type": "stream",
       "stream": "stdout",
       "text": [
        " \r",
        "  10880001 of iterations complete"
       ]
      },
      {
       "output_type": "stream",
       "stream": "stdout",
       "text": [
        " \r",
        "  10890001 of iterations complete"
       ]
      },
      {
       "output_type": "stream",
       "stream": "stdout",
       "text": [
        " \r",
        "  10900001 of iterations complete"
       ]
      },
      {
       "output_type": "stream",
       "stream": "stdout",
       "text": [
        " \r",
        "  10910001 of iterations complete"
       ]
      },
      {
       "output_type": "stream",
       "stream": "stdout",
       "text": [
        " \r",
        "  10920001 of iterations complete"
       ]
      },
      {
       "output_type": "stream",
       "stream": "stdout",
       "text": [
        " \r",
        "  10930001 of iterations complete"
       ]
      },
      {
       "output_type": "stream",
       "stream": "stdout",
       "text": [
        " \r",
        "  10940001 of iterations complete"
       ]
      },
      {
       "output_type": "stream",
       "stream": "stdout",
       "text": [
        " \r",
        "  10950001 of iterations complete"
       ]
      },
      {
       "output_type": "stream",
       "stream": "stdout",
       "text": [
        " \r",
        "  10960001 of iterations complete"
       ]
      },
      {
       "output_type": "stream",
       "stream": "stdout",
       "text": [
        " \r",
        "  10970001 of iterations complete"
       ]
      },
      {
       "output_type": "stream",
       "stream": "stdout",
       "text": [
        " \r",
        "  10980001 of iterations complete"
       ]
      },
      {
       "output_type": "stream",
       "stream": "stdout",
       "text": [
        " \r",
        "  10990001 of iterations complete"
       ]
      },
      {
       "output_type": "stream",
       "stream": "stdout",
       "text": [
        " \r",
        "  11000001 of iterations complete"
       ]
      },
      {
       "output_type": "stream",
       "stream": "stdout",
       "text": [
        " \r",
        "  11010001 of iterations complete"
       ]
      },
      {
       "output_type": "stream",
       "stream": "stdout",
       "text": [
        " \r",
        "  11020001 of iterations complete"
       ]
      },
      {
       "output_type": "stream",
       "stream": "stdout",
       "text": [
        " \r",
        "  11030001 of iterations complete"
       ]
      },
      {
       "output_type": "stream",
       "stream": "stdout",
       "text": [
        " \r",
        "  11040001 of iterations complete"
       ]
      },
      {
       "output_type": "stream",
       "stream": "stdout",
       "text": [
        " \r",
        "  11050001 of iterations complete"
       ]
      },
      {
       "output_type": "stream",
       "stream": "stdout",
       "text": [
        " \r",
        "  11060001 of iterations complete"
       ]
      },
      {
       "output_type": "stream",
       "stream": "stdout",
       "text": [
        " \r",
        "  11070001 of iterations complete"
       ]
      },
      {
       "output_type": "stream",
       "stream": "stdout",
       "text": [
        " \r",
        "  11080001 of iterations complete"
       ]
      },
      {
       "output_type": "stream",
       "stream": "stdout",
       "text": [
        " \r",
        "  11090001 of iterations complete"
       ]
      },
      {
       "output_type": "stream",
       "stream": "stdout",
       "text": [
        " \r",
        "  11100001 of iterations complete"
       ]
      },
      {
       "output_type": "stream",
       "stream": "stdout",
       "text": [
        " \r",
        "  11110001 of iterations complete"
       ]
      },
      {
       "output_type": "stream",
       "stream": "stdout",
       "text": [
        " \r",
        "  11120001 of iterations complete"
       ]
      },
      {
       "output_type": "stream",
       "stream": "stdout",
       "text": [
        " \r",
        "  11130001 of iterations complete"
       ]
      },
      {
       "output_type": "stream",
       "stream": "stdout",
       "text": [
        " \r",
        "  11140001 of iterations complete"
       ]
      },
      {
       "output_type": "stream",
       "stream": "stdout",
       "text": [
        " \r",
        "  11150001 of iterations complete"
       ]
      },
      {
       "output_type": "stream",
       "stream": "stdout",
       "text": [
        " \r",
        "  11160001 of iterations complete"
       ]
      },
      {
       "output_type": "stream",
       "stream": "stdout",
       "text": [
        " \r",
        "  11170001 of iterations complete"
       ]
      },
      {
       "output_type": "stream",
       "stream": "stdout",
       "text": [
        " \r",
        "  11180001 of iterations complete"
       ]
      },
      {
       "output_type": "stream",
       "stream": "stdout",
       "text": [
        " \r",
        "  11190001 of iterations complete"
       ]
      },
      {
       "output_type": "stream",
       "stream": "stdout",
       "text": [
        " \r",
        "  11200001 of iterations complete"
       ]
      },
      {
       "output_type": "stream",
       "stream": "stdout",
       "text": [
        " \r",
        "  11210001 of iterations complete"
       ]
      },
      {
       "output_type": "stream",
       "stream": "stdout",
       "text": [
        " \r",
        "  11220001 of iterations complete"
       ]
      },
      {
       "output_type": "stream",
       "stream": "stdout",
       "text": [
        " \r",
        "  11230001 of iterations complete"
       ]
      },
      {
       "output_type": "stream",
       "stream": "stdout",
       "text": [
        " \r",
        "  11240001 of iterations complete"
       ]
      },
      {
       "output_type": "stream",
       "stream": "stdout",
       "text": [
        " \r",
        "  11250001 of iterations complete"
       ]
      },
      {
       "output_type": "stream",
       "stream": "stdout",
       "text": [
        " \r",
        "  11260001 of iterations complete"
       ]
      },
      {
       "output_type": "stream",
       "stream": "stdout",
       "text": [
        " \r",
        "  11270001 of iterations complete"
       ]
      },
      {
       "output_type": "stream",
       "stream": "stdout",
       "text": [
        " \r",
        "  11280001 of iterations complete"
       ]
      },
      {
       "output_type": "stream",
       "stream": "stdout",
       "text": [
        " \r",
        "  11290001 of iterations complete"
       ]
      },
      {
       "output_type": "stream",
       "stream": "stdout",
       "text": [
        " \r",
        "  11300001 of iterations complete"
       ]
      },
      {
       "output_type": "stream",
       "stream": "stdout",
       "text": [
        " \r",
        "  11310001 of iterations complete"
       ]
      },
      {
       "output_type": "stream",
       "stream": "stdout",
       "text": [
        " \r",
        "  11320001 of iterations complete"
       ]
      },
      {
       "output_type": "stream",
       "stream": "stdout",
       "text": [
        " \r",
        "  11330001 of iterations complete"
       ]
      },
      {
       "output_type": "stream",
       "stream": "stdout",
       "text": [
        " \r",
        "  11340001 of iterations complete"
       ]
      },
      {
       "output_type": "stream",
       "stream": "stdout",
       "text": [
        " \r",
        "  11350001 of iterations complete"
       ]
      },
      {
       "output_type": "stream",
       "stream": "stdout",
       "text": [
        " \r",
        "  11360001 of iterations complete"
       ]
      },
      {
       "output_type": "stream",
       "stream": "stdout",
       "text": [
        " \r",
        "  11370001 of iterations complete"
       ]
      },
      {
       "output_type": "stream",
       "stream": "stdout",
       "text": [
        " \r",
        "  11380001 of iterations complete"
       ]
      },
      {
       "output_type": "stream",
       "stream": "stdout",
       "text": [
        " \r",
        "  11390001 of iterations complete"
       ]
      },
      {
       "output_type": "stream",
       "stream": "stdout",
       "text": [
        " \r",
        "  11400001 of iterations complete"
       ]
      },
      {
       "output_type": "stream",
       "stream": "stdout",
       "text": [
        " \r",
        "  11410001 of iterations complete"
       ]
      },
      {
       "output_type": "stream",
       "stream": "stdout",
       "text": [
        " \r",
        "  11420001 of iterations complete"
       ]
      },
      {
       "output_type": "stream",
       "stream": "stdout",
       "text": [
        " \r",
        "  11430001 of iterations complete"
       ]
      },
      {
       "output_type": "stream",
       "stream": "stdout",
       "text": [
        " \r",
        "  11440001 of iterations complete"
       ]
      },
      {
       "output_type": "stream",
       "stream": "stdout",
       "text": [
        " \r",
        "  11450001 of iterations complete"
       ]
      },
      {
       "output_type": "stream",
       "stream": "stdout",
       "text": [
        " \r",
        "  11460001 of iterations complete"
       ]
      },
      {
       "output_type": "stream",
       "stream": "stdout",
       "text": [
        " \r",
        "  11470001 of iterations complete"
       ]
      },
      {
       "output_type": "stream",
       "stream": "stdout",
       "text": [
        " \r",
        "  11480001 of iterations complete"
       ]
      },
      {
       "output_type": "stream",
       "stream": "stdout",
       "text": [
        " \r",
        "  11490001 of iterations complete"
       ]
      },
      {
       "output_type": "stream",
       "stream": "stdout",
       "text": [
        " \r",
        "  11500001 of iterations complete"
       ]
      },
      {
       "output_type": "stream",
       "stream": "stdout",
       "text": [
        " \r",
        "  11510001 of iterations complete"
       ]
      },
      {
       "output_type": "stream",
       "stream": "stdout",
       "text": [
        " \r",
        "  11520001 of iterations complete"
       ]
      },
      {
       "output_type": "stream",
       "stream": "stdout",
       "text": [
        " \r",
        "  11530001 of iterations complete"
       ]
      },
      {
       "output_type": "stream",
       "stream": "stdout",
       "text": [
        " \r",
        "  11540001 of iterations complete"
       ]
      },
      {
       "output_type": "stream",
       "stream": "stdout",
       "text": [
        " \r",
        "  11550001 of iterations complete"
       ]
      },
      {
       "output_type": "stream",
       "stream": "stdout",
       "text": [
        " \r",
        "  11560001 of iterations complete"
       ]
      },
      {
       "output_type": "stream",
       "stream": "stdout",
       "text": [
        " \r",
        "  11570001 of iterations complete"
       ]
      },
      {
       "output_type": "stream",
       "stream": "stdout",
       "text": [
        " \r",
        "  11580001 of iterations complete"
       ]
      },
      {
       "output_type": "stream",
       "stream": "stdout",
       "text": [
        " \r",
        "  11590001 of iterations complete"
       ]
      },
      {
       "output_type": "stream",
       "stream": "stdout",
       "text": [
        " \r",
        "  11600001 of iterations complete"
       ]
      },
      {
       "output_type": "stream",
       "stream": "stdout",
       "text": [
        " \r",
        "  11610001 of iterations complete"
       ]
      },
      {
       "output_type": "stream",
       "stream": "stdout",
       "text": [
        " \r",
        "  11620001 of iterations complete"
       ]
      },
      {
       "output_type": "stream",
       "stream": "stdout",
       "text": [
        " \r",
        "  11630001 of iterations complete"
       ]
      },
      {
       "output_type": "stream",
       "stream": "stdout",
       "text": [
        " \r",
        "  11640001 of iterations complete"
       ]
      },
      {
       "output_type": "stream",
       "stream": "stdout",
       "text": [
        " \r",
        "  11650001 of iterations complete"
       ]
      },
      {
       "output_type": "stream",
       "stream": "stdout",
       "text": [
        " \r",
        "  11660001 of iterations complete"
       ]
      },
      {
       "output_type": "stream",
       "stream": "stdout",
       "text": [
        " \r",
        "  11670001 of iterations complete"
       ]
      },
      {
       "output_type": "stream",
       "stream": "stdout",
       "text": [
        " \r",
        "  11680001 of iterations complete"
       ]
      },
      {
       "output_type": "stream",
       "stream": "stdout",
       "text": [
        " \r",
        "  11690001 of iterations complete"
       ]
      },
      {
       "output_type": "stream",
       "stream": "stdout",
       "text": [
        " \r",
        "  11700001 of iterations complete"
       ]
      },
      {
       "output_type": "stream",
       "stream": "stdout",
       "text": [
        " \r",
        "  11710001 of iterations complete"
       ]
      },
      {
       "output_type": "stream",
       "stream": "stdout",
       "text": [
        " \r",
        "  11720001 of iterations complete"
       ]
      },
      {
       "output_type": "stream",
       "stream": "stdout",
       "text": [
        " \r",
        "  11730001 of iterations complete"
       ]
      },
      {
       "output_type": "stream",
       "stream": "stdout",
       "text": [
        " \r",
        "  11740001 of iterations complete"
       ]
      },
      {
       "output_type": "stream",
       "stream": "stdout",
       "text": [
        " \r",
        "  11750001 of iterations complete"
       ]
      },
      {
       "output_type": "stream",
       "stream": "stdout",
       "text": [
        " \r",
        "  11760001 of iterations complete"
       ]
      },
      {
       "output_type": "stream",
       "stream": "stdout",
       "text": [
        " \r",
        "  11770001 of iterations complete"
       ]
      },
      {
       "output_type": "stream",
       "stream": "stdout",
       "text": [
        " \r",
        "  11780001 of iterations complete"
       ]
      },
      {
       "output_type": "stream",
       "stream": "stdout",
       "text": [
        " \r",
        "  11790001 of iterations complete"
       ]
      },
      {
       "output_type": "stream",
       "stream": "stdout",
       "text": [
        " \r",
        "  11800001 of iterations complete"
       ]
      },
      {
       "output_type": "stream",
       "stream": "stdout",
       "text": [
        " \r",
        "  11810001 of iterations complete"
       ]
      },
      {
       "output_type": "stream",
       "stream": "stdout",
       "text": [
        " \r",
        "  11820001 of iterations complete"
       ]
      },
      {
       "output_type": "stream",
       "stream": "stdout",
       "text": [
        " \r",
        "  11830001 of iterations complete"
       ]
      },
      {
       "output_type": "stream",
       "stream": "stdout",
       "text": [
        " \r",
        "  11840001 of iterations complete"
       ]
      },
      {
       "output_type": "stream",
       "stream": "stdout",
       "text": [
        " \r",
        "  11850001 of iterations complete"
       ]
      },
      {
       "output_type": "stream",
       "stream": "stdout",
       "text": [
        " \r",
        "  11860001 of iterations complete"
       ]
      },
      {
       "output_type": "stream",
       "stream": "stdout",
       "text": [
        " \r",
        "  11870001 of iterations complete"
       ]
      },
      {
       "output_type": "stream",
       "stream": "stdout",
       "text": [
        " \r",
        "  11880001 of iterations complete"
       ]
      },
      {
       "output_type": "stream",
       "stream": "stdout",
       "text": [
        " \r",
        "  11890001 of iterations complete"
       ]
      },
      {
       "output_type": "stream",
       "stream": "stdout",
       "text": [
        " \r",
        "  11900001 of iterations complete"
       ]
      },
      {
       "output_type": "stream",
       "stream": "stdout",
       "text": [
        " \r",
        "  11910001 of iterations complete"
       ]
      },
      {
       "output_type": "stream",
       "stream": "stdout",
       "text": [
        " \r",
        "  11920001 of iterations complete"
       ]
      },
      {
       "output_type": "stream",
       "stream": "stdout",
       "text": [
        " \r",
        "  11930001 of iterations complete"
       ]
      },
      {
       "output_type": "stream",
       "stream": "stdout",
       "text": [
        " \r",
        "  11940001 of iterations complete"
       ]
      },
      {
       "output_type": "stream",
       "stream": "stdout",
       "text": [
        " \r",
        "  11950001 of iterations complete"
       ]
      },
      {
       "output_type": "stream",
       "stream": "stdout",
       "text": [
        " \r",
        "  11960001 of iterations complete"
       ]
      },
      {
       "output_type": "stream",
       "stream": "stdout",
       "text": [
        " \r",
        "  11970001 of iterations complete"
       ]
      },
      {
       "output_type": "stream",
       "stream": "stdout",
       "text": [
        " \r",
        "  11980001 of iterations complete"
       ]
      },
      {
       "output_type": "stream",
       "stream": "stdout",
       "text": [
        " \r",
        "  11990001 of iterations complete"
       ]
      },
      {
       "output_type": "stream",
       "stream": "stdout",
       "text": [
        " \r",
        "  12000001 of iterations complete"
       ]
      },
      {
       "output_type": "stream",
       "stream": "stdout",
       "text": [
        " \r",
        "  12010001 of iterations complete"
       ]
      },
      {
       "output_type": "stream",
       "stream": "stdout",
       "text": [
        " \r",
        "  12020001 of iterations complete"
       ]
      },
      {
       "output_type": "stream",
       "stream": "stdout",
       "text": [
        " \r",
        "  12030001 of iterations complete"
       ]
      },
      {
       "output_type": "stream",
       "stream": "stdout",
       "text": [
        " \r",
        "  12040001 of iterations complete"
       ]
      },
      {
       "output_type": "stream",
       "stream": "stdout",
       "text": [
        " \r",
        "  12050001 of iterations complete"
       ]
      },
      {
       "output_type": "stream",
       "stream": "stdout",
       "text": [
        " \r",
        "  12060001 of iterations complete"
       ]
      },
      {
       "output_type": "stream",
       "stream": "stdout",
       "text": [
        " \r",
        "  12070001 of iterations complete"
       ]
      },
      {
       "output_type": "stream",
       "stream": "stdout",
       "text": [
        " \r",
        "  12080001 of iterations complete"
       ]
      },
      {
       "output_type": "stream",
       "stream": "stdout",
       "text": [
        " \r",
        "  12090001 of iterations complete"
       ]
      },
      {
       "output_type": "stream",
       "stream": "stdout",
       "text": [
        " \r",
        "  12100001 of iterations complete"
       ]
      },
      {
       "output_type": "stream",
       "stream": "stdout",
       "text": [
        " \r",
        "  12110001 of iterations complete"
       ]
      },
      {
       "output_type": "stream",
       "stream": "stdout",
       "text": [
        " \r",
        "  12120001 of iterations complete"
       ]
      },
      {
       "output_type": "stream",
       "stream": "stdout",
       "text": [
        " \r",
        "  12130001 of iterations complete"
       ]
      },
      {
       "output_type": "stream",
       "stream": "stdout",
       "text": [
        " \r",
        "  12140001 of iterations complete"
       ]
      },
      {
       "output_type": "stream",
       "stream": "stdout",
       "text": [
        " \r",
        "  12150001 of iterations complete"
       ]
      },
      {
       "output_type": "stream",
       "stream": "stdout",
       "text": [
        " \r",
        "  12160001 of iterations complete"
       ]
      },
      {
       "output_type": "stream",
       "stream": "stdout",
       "text": [
        " \r",
        "  12170001 of iterations complete"
       ]
      },
      {
       "output_type": "stream",
       "stream": "stdout",
       "text": [
        " \r",
        "  12180001 of iterations complete"
       ]
      },
      {
       "output_type": "stream",
       "stream": "stdout",
       "text": [
        " \r",
        "  12190001 of iterations complete"
       ]
      },
      {
       "output_type": "stream",
       "stream": "stdout",
       "text": [
        " \r",
        "  12200001 of iterations complete"
       ]
      },
      {
       "output_type": "stream",
       "stream": "stdout",
       "text": [
        " \r",
        "  12210001 of iterations complete"
       ]
      },
      {
       "output_type": "stream",
       "stream": "stdout",
       "text": [
        " \r",
        "  12220001 of iterations complete"
       ]
      },
      {
       "output_type": "stream",
       "stream": "stdout",
       "text": [
        " \r",
        "  12230001 of iterations complete"
       ]
      },
      {
       "output_type": "stream",
       "stream": "stdout",
       "text": [
        " \r",
        "  12240001 of iterations complete"
       ]
      },
      {
       "output_type": "stream",
       "stream": "stdout",
       "text": [
        " \r",
        "  12250001 of iterations complete"
       ]
      },
      {
       "output_type": "stream",
       "stream": "stdout",
       "text": [
        " \r",
        "  12260001 of iterations complete"
       ]
      },
      {
       "output_type": "stream",
       "stream": "stdout",
       "text": [
        " \r",
        "  12270001 of iterations complete"
       ]
      },
      {
       "output_type": "stream",
       "stream": "stdout",
       "text": [
        " \r",
        "  12280001 of iterations complete"
       ]
      },
      {
       "output_type": "stream",
       "stream": "stdout",
       "text": [
        " \r",
        "  12290001 of iterations complete"
       ]
      },
      {
       "output_type": "stream",
       "stream": "stdout",
       "text": [
        " \r",
        "  12300001 of iterations complete"
       ]
      },
      {
       "output_type": "stream",
       "stream": "stdout",
       "text": [
        " \r",
        "  12310001 of iterations complete"
       ]
      },
      {
       "output_type": "stream",
       "stream": "stdout",
       "text": [
        " \r",
        "  12320001 of iterations complete"
       ]
      },
      {
       "output_type": "stream",
       "stream": "stdout",
       "text": [
        " \r",
        "  12330001 of iterations complete"
       ]
      },
      {
       "output_type": "stream",
       "stream": "stdout",
       "text": [
        " \r",
        "  12340001 of iterations complete"
       ]
      },
      {
       "output_type": "stream",
       "stream": "stdout",
       "text": [
        " \r",
        "  12350001 of iterations complete"
       ]
      },
      {
       "output_type": "stream",
       "stream": "stdout",
       "text": [
        " \r",
        "  12360001 of iterations complete"
       ]
      },
      {
       "output_type": "stream",
       "stream": "stdout",
       "text": [
        " \r",
        "  12370001 of iterations complete"
       ]
      },
      {
       "output_type": "stream",
       "stream": "stdout",
       "text": [
        " \r",
        "  12380001 of iterations complete"
       ]
      },
      {
       "output_type": "stream",
       "stream": "stdout",
       "text": [
        " \r",
        "  12390001 of iterations complete"
       ]
      },
      {
       "output_type": "stream",
       "stream": "stdout",
       "text": [
        " \r",
        "  12400001 of iterations complete"
       ]
      },
      {
       "output_type": "stream",
       "stream": "stdout",
       "text": [
        " \r",
        "  12410001 of iterations complete"
       ]
      },
      {
       "output_type": "stream",
       "stream": "stdout",
       "text": [
        " \r",
        "  12420001 of iterations complete"
       ]
      },
      {
       "output_type": "stream",
       "stream": "stdout",
       "text": [
        " \r",
        "  12430001 of iterations complete"
       ]
      },
      {
       "output_type": "stream",
       "stream": "stdout",
       "text": [
        " \r",
        "  12440001 of iterations complete"
       ]
      },
      {
       "output_type": "stream",
       "stream": "stdout",
       "text": [
        " \r",
        "  12450001 of iterations complete"
       ]
      },
      {
       "output_type": "stream",
       "stream": "stdout",
       "text": [
        " \r",
        "  12460001 of iterations complete"
       ]
      },
      {
       "output_type": "stream",
       "stream": "stdout",
       "text": [
        " \r",
        "  12470001 of iterations complete"
       ]
      },
      {
       "output_type": "stream",
       "stream": "stdout",
       "text": [
        " \r",
        "  12480001 of iterations complete"
       ]
      },
      {
       "output_type": "stream",
       "stream": "stdout",
       "text": [
        " \r",
        "  12490001 of iterations complete"
       ]
      },
      {
       "output_type": "stream",
       "stream": "stdout",
       "text": [
        " \r",
        "  12500001 of iterations complete"
       ]
      },
      {
       "output_type": "stream",
       "stream": "stdout",
       "text": [
        " \r",
        "  12510001 of iterations complete"
       ]
      },
      {
       "output_type": "stream",
       "stream": "stdout",
       "text": [
        " \r",
        "  12520001 of iterations complete"
       ]
      },
      {
       "output_type": "stream",
       "stream": "stdout",
       "text": [
        " \r",
        "  12530001 of iterations complete"
       ]
      },
      {
       "output_type": "stream",
       "stream": "stdout",
       "text": [
        " \r",
        "  12540001 of iterations complete"
       ]
      },
      {
       "output_type": "stream",
       "stream": "stdout",
       "text": [
        " \r",
        "  12550001 of iterations complete"
       ]
      },
      {
       "output_type": "stream",
       "stream": "stdout",
       "text": [
        " \r",
        "  12560001 of iterations complete"
       ]
      },
      {
       "output_type": "stream",
       "stream": "stdout",
       "text": [
        " \r",
        "  12570001 of iterations complete"
       ]
      },
      {
       "output_type": "stream",
       "stream": "stdout",
       "text": [
        " \r",
        "  12580001 of iterations complete"
       ]
      },
      {
       "output_type": "stream",
       "stream": "stdout",
       "text": [
        " \r",
        "  12590001 of iterations complete"
       ]
      },
      {
       "output_type": "stream",
       "stream": "stdout",
       "text": [
        " \r",
        "  12600001 of iterations complete"
       ]
      },
      {
       "output_type": "stream",
       "stream": "stdout",
       "text": [
        " \r",
        "  12610001 of iterations complete"
       ]
      },
      {
       "output_type": "stream",
       "stream": "stdout",
       "text": [
        " \r",
        "  12620001 of iterations complete"
       ]
      },
      {
       "output_type": "stream",
       "stream": "stdout",
       "text": [
        " \r",
        "  12630001 of iterations complete"
       ]
      },
      {
       "output_type": "stream",
       "stream": "stdout",
       "text": [
        " \r",
        "  12640001 of iterations complete"
       ]
      },
      {
       "output_type": "stream",
       "stream": "stdout",
       "text": [
        " \r",
        "  12650001 of iterations complete"
       ]
      },
      {
       "output_type": "stream",
       "stream": "stdout",
       "text": [
        " \r",
        "  12660001 of iterations complete"
       ]
      },
      {
       "output_type": "stream",
       "stream": "stdout",
       "text": [
        " \r",
        "  12670001 of iterations complete"
       ]
      },
      {
       "output_type": "stream",
       "stream": "stdout",
       "text": [
        " \r",
        "  12680001 of iterations complete"
       ]
      },
      {
       "output_type": "stream",
       "stream": "stdout",
       "text": [
        " \r",
        "  12690001 of iterations complete"
       ]
      },
      {
       "output_type": "stream",
       "stream": "stdout",
       "text": [
        " \r",
        "  12700001 of iterations complete"
       ]
      },
      {
       "output_type": "stream",
       "stream": "stdout",
       "text": [
        " \r",
        "  12710001 of iterations complete"
       ]
      },
      {
       "output_type": "stream",
       "stream": "stdout",
       "text": [
        " \r",
        "  12720001 of iterations complete"
       ]
      },
      {
       "output_type": "stream",
       "stream": "stdout",
       "text": [
        " \r",
        "  12730001 of iterations complete"
       ]
      },
      {
       "output_type": "stream",
       "stream": "stdout",
       "text": [
        " \r",
        "  12740001 of iterations complete"
       ]
      },
      {
       "output_type": "stream",
       "stream": "stdout",
       "text": [
        " \r",
        "  12750001 of iterations complete"
       ]
      },
      {
       "output_type": "stream",
       "stream": "stdout",
       "text": [
        " \r",
        "  12760001 of iterations complete"
       ]
      },
      {
       "output_type": "stream",
       "stream": "stdout",
       "text": [
        " \r",
        "  12770001 of iterations complete"
       ]
      },
      {
       "output_type": "stream",
       "stream": "stdout",
       "text": [
        " \r",
        "  12780001 of iterations complete"
       ]
      },
      {
       "output_type": "stream",
       "stream": "stdout",
       "text": [
        " \r",
        "  12790001 of iterations complete"
       ]
      },
      {
       "output_type": "stream",
       "stream": "stdout",
       "text": [
        " \r",
        "  12800001 of iterations complete"
       ]
      },
      {
       "output_type": "stream",
       "stream": "stdout",
       "text": [
        " \r",
        "  12810001 of iterations complete"
       ]
      },
      {
       "output_type": "stream",
       "stream": "stdout",
       "text": [
        " \r",
        "  12820001 of iterations complete"
       ]
      },
      {
       "output_type": "stream",
       "stream": "stdout",
       "text": [
        " \r",
        "  12830001 of iterations complete"
       ]
      },
      {
       "output_type": "stream",
       "stream": "stdout",
       "text": [
        " \r",
        "  12840001 of iterations complete"
       ]
      },
      {
       "output_type": "stream",
       "stream": "stdout",
       "text": [
        " \r",
        "  12850001 of iterations complete"
       ]
      },
      {
       "output_type": "stream",
       "stream": "stdout",
       "text": [
        " \r",
        "  12860001 of iterations complete"
       ]
      },
      {
       "output_type": "stream",
       "stream": "stdout",
       "text": [
        " \r",
        "  12870001 of iterations complete"
       ]
      },
      {
       "output_type": "stream",
       "stream": "stdout",
       "text": [
        " \r",
        "  12880001 of iterations complete"
       ]
      },
      {
       "output_type": "stream",
       "stream": "stdout",
       "text": [
        " \r",
        "  12890001 of iterations complete"
       ]
      },
      {
       "output_type": "stream",
       "stream": "stdout",
       "text": [
        " \r",
        "  12900001 of iterations complete"
       ]
      },
      {
       "output_type": "stream",
       "stream": "stdout",
       "text": [
        " \r",
        "  12910001 of iterations complete"
       ]
      },
      {
       "output_type": "stream",
       "stream": "stdout",
       "text": [
        " \r",
        "  12920001 of iterations complete"
       ]
      },
      {
       "output_type": "stream",
       "stream": "stdout",
       "text": [
        " \r",
        "  12930001 of iterations complete"
       ]
      },
      {
       "output_type": "stream",
       "stream": "stdout",
       "text": [
        " \r",
        "  12940001 of iterations complete"
       ]
      },
      {
       "output_type": "stream",
       "stream": "stdout",
       "text": [
        " \r",
        "  12950001 of iterations complete"
       ]
      },
      {
       "output_type": "stream",
       "stream": "stdout",
       "text": [
        " \r",
        "  12960001 of iterations complete"
       ]
      },
      {
       "output_type": "stream",
       "stream": "stdout",
       "text": [
        " \r",
        "  12970001 of iterations complete"
       ]
      },
      {
       "output_type": "stream",
       "stream": "stdout",
       "text": [
        " \r",
        "  12980001 of iterations complete"
       ]
      },
      {
       "output_type": "stream",
       "stream": "stdout",
       "text": [
        " \r",
        "  12990001 of iterations complete"
       ]
      },
      {
       "output_type": "stream",
       "stream": "stdout",
       "text": [
        " \r",
        "  13000001 of iterations complete"
       ]
      },
      {
       "output_type": "stream",
       "stream": "stdout",
       "text": [
        " \r",
        "  13010001 of iterations complete"
       ]
      },
      {
       "output_type": "stream",
       "stream": "stdout",
       "text": [
        " \r",
        "  13020001 of iterations complete"
       ]
      },
      {
       "output_type": "stream",
       "stream": "stdout",
       "text": [
        " \r",
        "  13030001 of iterations complete"
       ]
      },
      {
       "output_type": "stream",
       "stream": "stdout",
       "text": [
        " \r",
        "  13040001 of iterations complete"
       ]
      },
      {
       "output_type": "stream",
       "stream": "stdout",
       "text": [
        " \r",
        "  13050001 of iterations complete"
       ]
      },
      {
       "output_type": "stream",
       "stream": "stdout",
       "text": [
        " \r",
        "  13060001 of iterations complete"
       ]
      },
      {
       "output_type": "stream",
       "stream": "stdout",
       "text": [
        " \r",
        "  13070001 of iterations complete"
       ]
      },
      {
       "output_type": "stream",
       "stream": "stdout",
       "text": [
        " \r",
        "  13080001 of iterations complete"
       ]
      },
      {
       "output_type": "stream",
       "stream": "stdout",
       "text": [
        " \r",
        "  13090001 of iterations complete"
       ]
      },
      {
       "output_type": "stream",
       "stream": "stdout",
       "text": [
        " \r",
        "  13100001 of iterations complete"
       ]
      },
      {
       "output_type": "stream",
       "stream": "stdout",
       "text": [
        " \r",
        "  13110001 of iterations complete"
       ]
      },
      {
       "output_type": "stream",
       "stream": "stdout",
       "text": [
        " \r",
        "  13120001 of iterations complete"
       ]
      },
      {
       "output_type": "stream",
       "stream": "stdout",
       "text": [
        " \r",
        "  13130001 of iterations complete"
       ]
      },
      {
       "output_type": "stream",
       "stream": "stdout",
       "text": [
        " \r",
        "  13140001 of iterations complete"
       ]
      },
      {
       "output_type": "stream",
       "stream": "stdout",
       "text": [
        " \r",
        "  13150001 of iterations complete"
       ]
      },
      {
       "output_type": "stream",
       "stream": "stdout",
       "text": [
        " \r",
        "  13160001 of iterations complete"
       ]
      },
      {
       "output_type": "stream",
       "stream": "stdout",
       "text": [
        " \r",
        "  13170001 of iterations complete"
       ]
      },
      {
       "output_type": "stream",
       "stream": "stdout",
       "text": [
        " \r",
        "  13180001 of iterations complete"
       ]
      },
      {
       "output_type": "stream",
       "stream": "stdout",
       "text": [
        " \r",
        "  13190001 of iterations complete"
       ]
      },
      {
       "output_type": "stream",
       "stream": "stdout",
       "text": [
        " \r",
        "  13200001 of iterations complete"
       ]
      },
      {
       "output_type": "stream",
       "stream": "stdout",
       "text": [
        " \r",
        "  13210001 of iterations complete"
       ]
      },
      {
       "output_type": "stream",
       "stream": "stdout",
       "text": [
        " \r",
        "  13220001 of iterations complete"
       ]
      },
      {
       "output_type": "stream",
       "stream": "stdout",
       "text": [
        " \r",
        "  13230001 of iterations complete"
       ]
      },
      {
       "output_type": "stream",
       "stream": "stdout",
       "text": [
        " \r",
        "  13240001 of iterations complete"
       ]
      },
      {
       "output_type": "stream",
       "stream": "stdout",
       "text": [
        " \r",
        "  13250001 of iterations complete"
       ]
      },
      {
       "output_type": "stream",
       "stream": "stdout",
       "text": [
        " \r",
        "  13260001 of iterations complete"
       ]
      },
      {
       "output_type": "stream",
       "stream": "stdout",
       "text": [
        " \r",
        "  13270001 of iterations complete"
       ]
      },
      {
       "output_type": "stream",
       "stream": "stdout",
       "text": [
        " \r",
        "  13280001 of iterations complete"
       ]
      },
      {
       "output_type": "stream",
       "stream": "stdout",
       "text": [
        " \r",
        "  13290001 of iterations complete"
       ]
      },
      {
       "output_type": "stream",
       "stream": "stdout",
       "text": [
        " \r",
        "  13300001 of iterations complete"
       ]
      },
      {
       "output_type": "stream",
       "stream": "stdout",
       "text": [
        " \r",
        "  13310001 of iterations complete"
       ]
      },
      {
       "output_type": "stream",
       "stream": "stdout",
       "text": [
        " \r",
        "  13320001 of iterations complete"
       ]
      },
      {
       "output_type": "stream",
       "stream": "stdout",
       "text": [
        " \r",
        "  13330001 of iterations complete"
       ]
      },
      {
       "output_type": "stream",
       "stream": "stdout",
       "text": [
        " \r",
        "  13340001 of iterations complete"
       ]
      },
      {
       "output_type": "stream",
       "stream": "stdout",
       "text": [
        " \r",
        "  13350001 of iterations complete"
       ]
      },
      {
       "output_type": "stream",
       "stream": "stdout",
       "text": [
        " \r",
        "  13360001 of iterations complete"
       ]
      },
      {
       "output_type": "stream",
       "stream": "stdout",
       "text": [
        " \r",
        "  13370001 of iterations complete"
       ]
      },
      {
       "output_type": "stream",
       "stream": "stdout",
       "text": [
        " \r",
        "  13380001 of iterations complete"
       ]
      },
      {
       "output_type": "stream",
       "stream": "stdout",
       "text": [
        " \r",
        "  13390001 of iterations complete"
       ]
      },
      {
       "output_type": "stream",
       "stream": "stdout",
       "text": [
        " \r",
        "  13400001 of iterations complete"
       ]
      },
      {
       "output_type": "stream",
       "stream": "stdout",
       "text": [
        " \r",
        "  13410001 of iterations complete"
       ]
      },
      {
       "output_type": "stream",
       "stream": "stdout",
       "text": [
        " \r",
        "  13420001 of iterations complete"
       ]
      },
      {
       "output_type": "stream",
       "stream": "stdout",
       "text": [
        " \r",
        "  13430001 of iterations complete"
       ]
      },
      {
       "output_type": "stream",
       "stream": "stdout",
       "text": [
        " \r",
        "  13440001 of iterations complete"
       ]
      },
      {
       "output_type": "stream",
       "stream": "stdout",
       "text": [
        " \r",
        "  13450001 of iterations complete"
       ]
      },
      {
       "output_type": "stream",
       "stream": "stdout",
       "text": [
        " \r",
        "  13460001 of iterations complete"
       ]
      },
      {
       "output_type": "stream",
       "stream": "stdout",
       "text": [
        " \r",
        "  13470001 of iterations complete"
       ]
      },
      {
       "output_type": "stream",
       "stream": "stdout",
       "text": [
        " \r",
        "  13480001 of iterations complete"
       ]
      },
      {
       "output_type": "stream",
       "stream": "stdout",
       "text": [
        " \r",
        "  13490001 of iterations complete"
       ]
      },
      {
       "output_type": "stream",
       "stream": "stdout",
       "text": [
        " \r",
        "  13500001 of iterations complete"
       ]
      },
      {
       "output_type": "stream",
       "stream": "stdout",
       "text": [
        " \r",
        "  13510001 of iterations complete"
       ]
      },
      {
       "output_type": "stream",
       "stream": "stdout",
       "text": [
        " \r",
        "  13520001 of iterations complete"
       ]
      },
      {
       "output_type": "stream",
       "stream": "stdout",
       "text": [
        " \r",
        "  13530001 of iterations complete"
       ]
      },
      {
       "output_type": "stream",
       "stream": "stdout",
       "text": [
        " \r",
        "  13540001 of iterations complete"
       ]
      },
      {
       "output_type": "stream",
       "stream": "stdout",
       "text": [
        " \r",
        "  13550001 of iterations complete"
       ]
      },
      {
       "output_type": "stream",
       "stream": "stdout",
       "text": [
        " \r",
        "  13560001 of iterations complete"
       ]
      },
      {
       "output_type": "stream",
       "stream": "stdout",
       "text": [
        " \r",
        "  13570001 of iterations complete"
       ]
      },
      {
       "output_type": "stream",
       "stream": "stdout",
       "text": [
        " \r",
        "  13580001 of iterations complete"
       ]
      },
      {
       "output_type": "stream",
       "stream": "stdout",
       "text": [
        " \r",
        "  13590001 of iterations complete"
       ]
      },
      {
       "output_type": "stream",
       "stream": "stdout",
       "text": [
        " \r",
        "  13600001 of iterations complete"
       ]
      },
      {
       "output_type": "stream",
       "stream": "stdout",
       "text": [
        " \r",
        "  13610001 of iterations complete"
       ]
      },
      {
       "output_type": "stream",
       "stream": "stdout",
       "text": [
        " \r",
        "  13620001 of iterations complete"
       ]
      },
      {
       "output_type": "stream",
       "stream": "stdout",
       "text": [
        " \r",
        "  13630001 of iterations complete"
       ]
      },
      {
       "output_type": "stream",
       "stream": "stdout",
       "text": [
        " \r",
        "  13640001 of iterations complete"
       ]
      },
      {
       "output_type": "stream",
       "stream": "stdout",
       "text": [
        " \r",
        "  13650001 of iterations complete"
       ]
      },
      {
       "output_type": "stream",
       "stream": "stdout",
       "text": [
        " \r",
        "  13660001 of iterations complete"
       ]
      },
      {
       "output_type": "stream",
       "stream": "stdout",
       "text": [
        " \r",
        "  13670001 of iterations complete"
       ]
      },
      {
       "output_type": "stream",
       "stream": "stdout",
       "text": [
        " \r",
        "  13680001 of iterations complete"
       ]
      },
      {
       "output_type": "stream",
       "stream": "stdout",
       "text": [
        " \r",
        "  13690001 of iterations complete"
       ]
      },
      {
       "output_type": "stream",
       "stream": "stdout",
       "text": [
        " \r",
        "  13700001 of iterations complete"
       ]
      },
      {
       "output_type": "stream",
       "stream": "stdout",
       "text": [
        " \r",
        "  13710001 of iterations complete"
       ]
      },
      {
       "output_type": "stream",
       "stream": "stdout",
       "text": [
        " \r",
        "  13720001 of iterations complete"
       ]
      },
      {
       "output_type": "stream",
       "stream": "stdout",
       "text": [
        " \r",
        "  13730001 of iterations complete"
       ]
      },
      {
       "output_type": "stream",
       "stream": "stdout",
       "text": [
        " \r",
        "  13740001 of iterations complete"
       ]
      },
      {
       "output_type": "stream",
       "stream": "stdout",
       "text": [
        " \r",
        "  13750001 of iterations complete"
       ]
      },
      {
       "output_type": "stream",
       "stream": "stdout",
       "text": [
        " \r",
        "  13760001 of iterations complete"
       ]
      },
      {
       "output_type": "stream",
       "stream": "stdout",
       "text": [
        " \r",
        "  13770001 of iterations complete"
       ]
      },
      {
       "output_type": "stream",
       "stream": "stdout",
       "text": [
        " \r",
        "  13780001 of iterations complete"
       ]
      },
      {
       "output_type": "stream",
       "stream": "stdout",
       "text": [
        " \r",
        "  13790001 of iterations complete"
       ]
      },
      {
       "output_type": "stream",
       "stream": "stdout",
       "text": [
        " \r",
        "  13800001 of iterations complete"
       ]
      },
      {
       "output_type": "stream",
       "stream": "stdout",
       "text": [
        " \r",
        "  13810001 of iterations complete"
       ]
      },
      {
       "output_type": "stream",
       "stream": "stdout",
       "text": [
        " \r",
        "  13820001 of iterations complete"
       ]
      },
      {
       "output_type": "stream",
       "stream": "stdout",
       "text": [
        " \r",
        "  13830001 of iterations complete"
       ]
      },
      {
       "output_type": "stream",
       "stream": "stdout",
       "text": [
        " \r",
        "  13840001 of iterations complete"
       ]
      },
      {
       "output_type": "stream",
       "stream": "stdout",
       "text": [
        " \r",
        "  13850001 of iterations complete"
       ]
      },
      {
       "output_type": "stream",
       "stream": "stdout",
       "text": [
        " \r",
        "  13860001 of iterations complete"
       ]
      },
      {
       "output_type": "stream",
       "stream": "stdout",
       "text": [
        " \r",
        "  13870001 of iterations complete"
       ]
      },
      {
       "output_type": "stream",
       "stream": "stdout",
       "text": [
        " \r",
        "  13880001 of iterations complete"
       ]
      },
      {
       "output_type": "stream",
       "stream": "stdout",
       "text": [
        " \r",
        "  13890001 of iterations complete"
       ]
      },
      {
       "output_type": "stream",
       "stream": "stdout",
       "text": [
        " \r",
        "  13900001 of iterations complete"
       ]
      },
      {
       "output_type": "stream",
       "stream": "stdout",
       "text": [
        " \r",
        "  13910001 of iterations complete"
       ]
      },
      {
       "output_type": "stream",
       "stream": "stdout",
       "text": [
        " \r",
        "  13920001 of iterations complete"
       ]
      },
      {
       "output_type": "stream",
       "stream": "stdout",
       "text": [
        " \r",
        "  13930001 of iterations complete"
       ]
      },
      {
       "output_type": "stream",
       "stream": "stdout",
       "text": [
        " \r",
        "  13940001 of iterations complete"
       ]
      },
      {
       "output_type": "stream",
       "stream": "stdout",
       "text": [
        " \r",
        "  13950001 of iterations complete"
       ]
      },
      {
       "output_type": "stream",
       "stream": "stdout",
       "text": [
        " \r",
        "  13960001 of iterations complete"
       ]
      },
      {
       "output_type": "stream",
       "stream": "stdout",
       "text": [
        " \r",
        "  13970001 of iterations complete"
       ]
      },
      {
       "output_type": "stream",
       "stream": "stdout",
       "text": [
        " \r",
        "  13980001 of iterations complete"
       ]
      },
      {
       "output_type": "stream",
       "stream": "stdout",
       "text": [
        " \r",
        "  13990001 of iterations complete"
       ]
      },
      {
       "output_type": "stream",
       "stream": "stdout",
       "text": [
        " \r",
        "  14000001 of iterations complete"
       ]
      },
      {
       "output_type": "stream",
       "stream": "stdout",
       "text": [
        " \r",
        "  14010001 of iterations complete"
       ]
      },
      {
       "output_type": "stream",
       "stream": "stdout",
       "text": [
        " \r",
        "  14020001 of iterations complete"
       ]
      },
      {
       "output_type": "stream",
       "stream": "stdout",
       "text": [
        " \r",
        "  14030001 of iterations complete"
       ]
      },
      {
       "output_type": "stream",
       "stream": "stdout",
       "text": [
        " \r",
        "  14040001 of iterations complete"
       ]
      },
      {
       "output_type": "stream",
       "stream": "stdout",
       "text": [
        " \r",
        "  14050001 of iterations complete"
       ]
      },
      {
       "output_type": "stream",
       "stream": "stdout",
       "text": [
        " \r",
        "  14060001 of iterations complete"
       ]
      },
      {
       "output_type": "stream",
       "stream": "stdout",
       "text": [
        " \r",
        "  14070001 of iterations complete"
       ]
      },
      {
       "output_type": "stream",
       "stream": "stdout",
       "text": [
        " \r",
        "  14080001 of iterations complete"
       ]
      },
      {
       "output_type": "stream",
       "stream": "stdout",
       "text": [
        " \r",
        "  14090001 of iterations complete"
       ]
      },
      {
       "output_type": "stream",
       "stream": "stdout",
       "text": [
        " \r",
        "  14100001 of iterations complete"
       ]
      },
      {
       "output_type": "stream",
       "stream": "stdout",
       "text": [
        " \r",
        "  14110001 of iterations complete"
       ]
      },
      {
       "output_type": "stream",
       "stream": "stdout",
       "text": [
        " \r",
        "  14120001 of iterations complete"
       ]
      },
      {
       "output_type": "stream",
       "stream": "stdout",
       "text": [
        " \r",
        "  14130001 of iterations complete"
       ]
      },
      {
       "output_type": "stream",
       "stream": "stdout",
       "text": [
        " \r",
        "  14140001 of iterations complete"
       ]
      },
      {
       "output_type": "stream",
       "stream": "stdout",
       "text": [
        " \r",
        "  14150001 of iterations complete"
       ]
      },
      {
       "output_type": "stream",
       "stream": "stdout",
       "text": [
        " \r",
        "  14160001 of iterations complete"
       ]
      },
      {
       "output_type": "stream",
       "stream": "stdout",
       "text": [
        " \r",
        "  14170001 of iterations complete"
       ]
      },
      {
       "output_type": "stream",
       "stream": "stdout",
       "text": [
        " \r",
        "  14180001 of iterations complete"
       ]
      },
      {
       "output_type": "stream",
       "stream": "stdout",
       "text": [
        " \r",
        "  14190001 of iterations complete"
       ]
      },
      {
       "output_type": "stream",
       "stream": "stdout",
       "text": [
        " \r",
        "  14200001 of iterations complete"
       ]
      },
      {
       "output_type": "stream",
       "stream": "stdout",
       "text": [
        " \r",
        "  14210001 of iterations complete"
       ]
      },
      {
       "output_type": "stream",
       "stream": "stdout",
       "text": [
        " \r",
        "  14220001 of iterations complete"
       ]
      },
      {
       "output_type": "stream",
       "stream": "stdout",
       "text": [
        " \r",
        "  14230001 of iterations complete"
       ]
      },
      {
       "output_type": "stream",
       "stream": "stdout",
       "text": [
        " \r",
        "  14240001 of iterations complete"
       ]
      },
      {
       "output_type": "stream",
       "stream": "stdout",
       "text": [
        " \r",
        "  14250001 of iterations complete"
       ]
      },
      {
       "output_type": "stream",
       "stream": "stdout",
       "text": [
        " \r",
        "  14260001 of iterations complete"
       ]
      },
      {
       "output_type": "stream",
       "stream": "stdout",
       "text": [
        " \r",
        "  14270001 of iterations complete"
       ]
      },
      {
       "output_type": "stream",
       "stream": "stdout",
       "text": [
        " \r",
        "  14280001 of iterations complete"
       ]
      },
      {
       "output_type": "stream",
       "stream": "stdout",
       "text": [
        " \r",
        "  14290001 of iterations complete"
       ]
      },
      {
       "output_type": "stream",
       "stream": "stdout",
       "text": [
        " \r",
        "  14300001 of iterations complete"
       ]
      },
      {
       "output_type": "stream",
       "stream": "stdout",
       "text": [
        " \r",
        "  14310001 of iterations complete"
       ]
      },
      {
       "output_type": "stream",
       "stream": "stdout",
       "text": [
        " \r",
        "  14320001 of iterations complete"
       ]
      },
      {
       "output_type": "stream",
       "stream": "stdout",
       "text": [
        " \r",
        "  14330001 of iterations complete"
       ]
      },
      {
       "output_type": "stream",
       "stream": "stdout",
       "text": [
        " \r",
        "  14340001 of iterations complete"
       ]
      },
      {
       "output_type": "stream",
       "stream": "stdout",
       "text": [
        " \r",
        "  14350001 of iterations complete"
       ]
      },
      {
       "output_type": "stream",
       "stream": "stdout",
       "text": [
        " \r",
        "  14360001 of iterations complete"
       ]
      },
      {
       "output_type": "stream",
       "stream": "stdout",
       "text": [
        " \r",
        "  14370001 of iterations complete"
       ]
      },
      {
       "output_type": "stream",
       "stream": "stdout",
       "text": [
        " \r",
        "  14380001 of iterations complete"
       ]
      },
      {
       "output_type": "stream",
       "stream": "stdout",
       "text": [
        " \r",
        "  14390001 of iterations complete"
       ]
      },
      {
       "output_type": "stream",
       "stream": "stdout",
       "text": [
        " \r",
        "  14400001 of iterations complete"
       ]
      },
      {
       "output_type": "stream",
       "stream": "stdout",
       "text": [
        " \r",
        "  14410001 of iterations complete"
       ]
      },
      {
       "output_type": "stream",
       "stream": "stdout",
       "text": [
        " \r",
        "  14420001 of iterations complete"
       ]
      },
      {
       "output_type": "stream",
       "stream": "stdout",
       "text": [
        " \r",
        "  14430001 of iterations complete"
       ]
      },
      {
       "output_type": "stream",
       "stream": "stdout",
       "text": [
        " \r",
        "  14440001 of iterations complete"
       ]
      },
      {
       "output_type": "stream",
       "stream": "stdout",
       "text": [
        " \r",
        "  14450001 of iterations complete"
       ]
      },
      {
       "output_type": "stream",
       "stream": "stdout",
       "text": [
        " \r",
        "  14460001 of iterations complete"
       ]
      },
      {
       "output_type": "stream",
       "stream": "stdout",
       "text": [
        " \r",
        "  14470001 of iterations complete"
       ]
      },
      {
       "output_type": "stream",
       "stream": "stdout",
       "text": [
        " \r",
        "  14480001 of iterations complete"
       ]
      },
      {
       "output_type": "stream",
       "stream": "stdout",
       "text": [
        " \r",
        "  14490001 of iterations complete"
       ]
      },
      {
       "output_type": "stream",
       "stream": "stdout",
       "text": [
        " \r",
        "  14500001 of iterations complete"
       ]
      },
      {
       "output_type": "stream",
       "stream": "stdout",
       "text": [
        " \r",
        "  14510001 of iterations complete"
       ]
      },
      {
       "output_type": "stream",
       "stream": "stdout",
       "text": [
        " \r",
        "  14520001 of iterations complete"
       ]
      },
      {
       "output_type": "stream",
       "stream": "stdout",
       "text": [
        " \r",
        "  14530001 of iterations complete"
       ]
      },
      {
       "output_type": "stream",
       "stream": "stdout",
       "text": [
        " \r",
        "  14540001 of iterations complete"
       ]
      },
      {
       "output_type": "stream",
       "stream": "stdout",
       "text": [
        " \r",
        "  14550001 of iterations complete"
       ]
      },
      {
       "output_type": "stream",
       "stream": "stdout",
       "text": [
        " \r",
        "  14560001 of iterations complete"
       ]
      },
      {
       "output_type": "stream",
       "stream": "stdout",
       "text": [
        " \r",
        "  14570001 of iterations complete"
       ]
      },
      {
       "output_type": "stream",
       "stream": "stdout",
       "text": [
        " \r",
        "  14580001 of iterations complete"
       ]
      },
      {
       "output_type": "stream",
       "stream": "stdout",
       "text": [
        " \r",
        "  14590001 of iterations complete"
       ]
      },
      {
       "output_type": "stream",
       "stream": "stdout",
       "text": [
        " \r",
        "  14600001 of iterations complete"
       ]
      },
      {
       "output_type": "stream",
       "stream": "stdout",
       "text": [
        " \r",
        "  14610001 of iterations complete"
       ]
      },
      {
       "output_type": "stream",
       "stream": "stdout",
       "text": [
        " \r",
        "  14620001 of iterations complete"
       ]
      },
      {
       "output_type": "stream",
       "stream": "stdout",
       "text": [
        " \r",
        "  14630001 of iterations complete"
       ]
      },
      {
       "output_type": "stream",
       "stream": "stdout",
       "text": [
        " \r",
        "  14640001 of iterations complete"
       ]
      },
      {
       "output_type": "stream",
       "stream": "stdout",
       "text": [
        " \r",
        "  14650001 of iterations complete"
       ]
      },
      {
       "output_type": "stream",
       "stream": "stdout",
       "text": [
        " \r",
        "  14660001 of iterations complete"
       ]
      },
      {
       "output_type": "stream",
       "stream": "stdout",
       "text": [
        " \r",
        "  14670001 of iterations complete"
       ]
      },
      {
       "output_type": "stream",
       "stream": "stdout",
       "text": [
        " \r",
        "  14680001 of iterations complete"
       ]
      },
      {
       "output_type": "stream",
       "stream": "stdout",
       "text": [
        " \r",
        "  14690001 of iterations complete"
       ]
      },
      {
       "output_type": "stream",
       "stream": "stdout",
       "text": [
        " \r",
        "  14700001 of iterations complete"
       ]
      },
      {
       "output_type": "stream",
       "stream": "stdout",
       "text": [
        " \r",
        "  14710001 of iterations complete"
       ]
      },
      {
       "output_type": "stream",
       "stream": "stdout",
       "text": [
        " \r",
        "  14720001 of iterations complete"
       ]
      },
      {
       "output_type": "stream",
       "stream": "stdout",
       "text": [
        " \r",
        "  14730001 of iterations complete"
       ]
      },
      {
       "output_type": "stream",
       "stream": "stdout",
       "text": [
        " \r",
        "  14740001 of iterations complete"
       ]
      },
      {
       "output_type": "stream",
       "stream": "stdout",
       "text": [
        " \r",
        "  14750001 of iterations complete"
       ]
      },
      {
       "output_type": "stream",
       "stream": "stdout",
       "text": [
        " \r",
        "  14760001 of iterations complete"
       ]
      },
      {
       "output_type": "stream",
       "stream": "stdout",
       "text": [
        " \r",
        "  14770001 of iterations complete"
       ]
      },
      {
       "output_type": "stream",
       "stream": "stdout",
       "text": [
        " \r",
        "  14780001 of iterations complete"
       ]
      },
      {
       "output_type": "stream",
       "stream": "stdout",
       "text": [
        " \r",
        "  14790001 of iterations complete"
       ]
      },
      {
       "output_type": "stream",
       "stream": "stdout",
       "text": [
        " \r",
        "  14800001 of iterations complete"
       ]
      },
      {
       "output_type": "stream",
       "stream": "stdout",
       "text": [
        " \r",
        "  14810001 of iterations complete"
       ]
      },
      {
       "output_type": "stream",
       "stream": "stdout",
       "text": [
        " \r",
        "  14820001 of iterations complete"
       ]
      },
      {
       "output_type": "stream",
       "stream": "stdout",
       "text": [
        " \r",
        "  14830001 of iterations complete"
       ]
      },
      {
       "output_type": "stream",
       "stream": "stdout",
       "text": [
        " \r",
        "  14840001 of iterations complete"
       ]
      },
      {
       "output_type": "stream",
       "stream": "stdout",
       "text": [
        " \r",
        "  14850001 of iterations complete"
       ]
      },
      {
       "output_type": "stream",
       "stream": "stdout",
       "text": [
        " \r",
        "  14860001 of iterations complete"
       ]
      },
      {
       "output_type": "stream",
       "stream": "stdout",
       "text": [
        " \r",
        "  14870001 of iterations complete"
       ]
      },
      {
       "output_type": "stream",
       "stream": "stdout",
       "text": [
        " \r",
        "  14880001 of iterations complete"
       ]
      },
      {
       "output_type": "stream",
       "stream": "stdout",
       "text": [
        " \r",
        "  14890001 of iterations complete"
       ]
      },
      {
       "output_type": "stream",
       "stream": "stdout",
       "text": [
        " \r",
        "  14900001 of iterations complete"
       ]
      },
      {
       "output_type": "stream",
       "stream": "stdout",
       "text": [
        " \r",
        "  14910001 of iterations complete"
       ]
      },
      {
       "output_type": "stream",
       "stream": "stdout",
       "text": [
        " \r",
        "  14920001 of iterations complete"
       ]
      },
      {
       "output_type": "stream",
       "stream": "stdout",
       "text": [
        " \r",
        "  14930001 of iterations complete"
       ]
      },
      {
       "output_type": "stream",
       "stream": "stdout",
       "text": [
        " \r",
        "  14940001 of iterations complete"
       ]
      },
      {
       "output_type": "stream",
       "stream": "stdout",
       "text": [
        " \r",
        "  14950001 of iterations complete"
       ]
      },
      {
       "output_type": "stream",
       "stream": "stdout",
       "text": [
        " \r",
        "  14960001 of iterations complete"
       ]
      },
      {
       "output_type": "stream",
       "stream": "stdout",
       "text": [
        " \r",
        "  14970001 of iterations complete"
       ]
      },
      {
       "output_type": "stream",
       "stream": "stdout",
       "text": [
        " \r",
        "  14980001 of iterations complete"
       ]
      },
      {
       "output_type": "stream",
       "stream": "stdout",
       "text": [
        " \r",
        "  14990001 of iterations complete"
       ]
      },
      {
       "output_type": "stream",
       "stream": "stdout",
       "text": [
        " \r",
        "  15000001 of iterations complete"
       ]
      },
      {
       "output_type": "stream",
       "stream": "stdout",
       "text": [
        " \r",
        "  15010001 of iterations complete"
       ]
      },
      {
       "output_type": "stream",
       "stream": "stdout",
       "text": [
        " \r",
        "  15020001 of iterations complete"
       ]
      },
      {
       "output_type": "stream",
       "stream": "stdout",
       "text": [
        " \r",
        "  15030001 of iterations complete"
       ]
      },
      {
       "output_type": "stream",
       "stream": "stdout",
       "text": [
        " \r",
        "  15040001 of iterations complete"
       ]
      },
      {
       "output_type": "stream",
       "stream": "stdout",
       "text": [
        " \r",
        "  15050001 of iterations complete"
       ]
      },
      {
       "output_type": "stream",
       "stream": "stdout",
       "text": [
        " \r",
        "  15060001 of iterations complete"
       ]
      },
      {
       "output_type": "stream",
       "stream": "stdout",
       "text": [
        " \r",
        "  15070001 of iterations complete"
       ]
      },
      {
       "output_type": "stream",
       "stream": "stdout",
       "text": [
        " \r",
        "  15080001 of iterations complete"
       ]
      },
      {
       "output_type": "stream",
       "stream": "stdout",
       "text": [
        " \r",
        "  15090001 of iterations complete"
       ]
      },
      {
       "output_type": "stream",
       "stream": "stdout",
       "text": [
        " \r",
        "  15100001 of iterations complete"
       ]
      },
      {
       "output_type": "stream",
       "stream": "stdout",
       "text": [
        " \r",
        "  15110001 of iterations complete"
       ]
      },
      {
       "output_type": "stream",
       "stream": "stdout",
       "text": [
        " \r",
        "  15120001 of iterations complete"
       ]
      },
      {
       "output_type": "stream",
       "stream": "stdout",
       "text": [
        " \r",
        "  15130001 of iterations complete"
       ]
      },
      {
       "output_type": "stream",
       "stream": "stdout",
       "text": [
        " \r",
        "  15140001 of iterations complete"
       ]
      },
      {
       "output_type": "stream",
       "stream": "stdout",
       "text": [
        " \r",
        "  15150001 of iterations complete"
       ]
      },
      {
       "output_type": "stream",
       "stream": "stdout",
       "text": [
        " \r",
        "  15160001 of iterations complete"
       ]
      },
      {
       "output_type": "stream",
       "stream": "stdout",
       "text": [
        " \r",
        "  15170001 of iterations complete"
       ]
      },
      {
       "output_type": "stream",
       "stream": "stdout",
       "text": [
        " \r",
        "  15180001 of iterations complete"
       ]
      },
      {
       "output_type": "stream",
       "stream": "stdout",
       "text": [
        " \r",
        "  15190001 of iterations complete"
       ]
      },
      {
       "output_type": "stream",
       "stream": "stdout",
       "text": [
        " \r",
        "  15200001 of iterations complete"
       ]
      },
      {
       "output_type": "stream",
       "stream": "stdout",
       "text": [
        " \r",
        "  15210001 of iterations complete"
       ]
      },
      {
       "output_type": "stream",
       "stream": "stdout",
       "text": [
        " \r",
        "  15220001 of iterations complete"
       ]
      },
      {
       "output_type": "stream",
       "stream": "stdout",
       "text": [
        " \r",
        "  15230001 of iterations complete"
       ]
      },
      {
       "output_type": "stream",
       "stream": "stdout",
       "text": [
        " \r",
        "  15240001 of iterations complete"
       ]
      },
      {
       "output_type": "stream",
       "stream": "stdout",
       "text": [
        " \r",
        "  15250001 of iterations complete"
       ]
      },
      {
       "output_type": "stream",
       "stream": "stdout",
       "text": [
        " \r",
        "  15260001 of iterations complete"
       ]
      },
      {
       "output_type": "stream",
       "stream": "stdout",
       "text": [
        " \r",
        "  15270001 of iterations complete"
       ]
      },
      {
       "output_type": "stream",
       "stream": "stdout",
       "text": [
        " \r",
        "  15280001 of iterations complete"
       ]
      },
      {
       "output_type": "stream",
       "stream": "stdout",
       "text": [
        " \r",
        "  15290001 of iterations complete"
       ]
      },
      {
       "output_type": "stream",
       "stream": "stdout",
       "text": [
        " \r",
        "  15300001 of iterations complete"
       ]
      },
      {
       "output_type": "stream",
       "stream": "stdout",
       "text": [
        " \r",
        "  15310001 of iterations complete"
       ]
      },
      {
       "output_type": "stream",
       "stream": "stdout",
       "text": [
        " \r",
        "  15320001 of iterations complete"
       ]
      },
      {
       "output_type": "stream",
       "stream": "stdout",
       "text": [
        " \r",
        "  15330001 of iterations complete"
       ]
      },
      {
       "output_type": "stream",
       "stream": "stdout",
       "text": [
        " \r",
        "  15340001 of iterations complete"
       ]
      },
      {
       "output_type": "stream",
       "stream": "stdout",
       "text": [
        " \r",
        "  15350001 of iterations complete"
       ]
      },
      {
       "output_type": "stream",
       "stream": "stdout",
       "text": [
        " \r",
        "  15360001 of iterations complete"
       ]
      },
      {
       "output_type": "stream",
       "stream": "stdout",
       "text": [
        " \r",
        "  15370001 of iterations complete"
       ]
      },
      {
       "output_type": "stream",
       "stream": "stdout",
       "text": [
        " \r",
        "  15380001 of iterations complete"
       ]
      },
      {
       "output_type": "stream",
       "stream": "stdout",
       "text": [
        " \r",
        "  15390001 of iterations complete"
       ]
      },
      {
       "output_type": "stream",
       "stream": "stdout",
       "text": [
        " \r",
        "  15400001 of iterations complete"
       ]
      },
      {
       "output_type": "stream",
       "stream": "stdout",
       "text": [
        " \r",
        "  15410001 of iterations complete"
       ]
      },
      {
       "output_type": "stream",
       "stream": "stdout",
       "text": [
        " \r",
        "  15420001 of iterations complete"
       ]
      },
      {
       "output_type": "stream",
       "stream": "stdout",
       "text": [
        " \r",
        "  15430001 of iterations complete"
       ]
      },
      {
       "output_type": "stream",
       "stream": "stdout",
       "text": [
        " \r",
        "  15440001 of iterations complete"
       ]
      },
      {
       "output_type": "stream",
       "stream": "stdout",
       "text": [
        " \r",
        "  15450001 of iterations complete"
       ]
      },
      {
       "output_type": "stream",
       "stream": "stdout",
       "text": [
        " \r",
        "  15460001 of iterations complete"
       ]
      },
      {
       "output_type": "stream",
       "stream": "stdout",
       "text": [
        " \r",
        "  15470001 of iterations complete"
       ]
      },
      {
       "output_type": "stream",
       "stream": "stdout",
       "text": [
        " \r",
        "  15480001 of iterations complete"
       ]
      },
      {
       "output_type": "stream",
       "stream": "stdout",
       "text": [
        " \r",
        "  15490001 of iterations complete"
       ]
      },
      {
       "output_type": "stream",
       "stream": "stdout",
       "text": [
        " \r",
        "  15500001 of iterations complete"
       ]
      },
      {
       "output_type": "stream",
       "stream": "stdout",
       "text": [
        " \r",
        "  15510001 of iterations complete"
       ]
      },
      {
       "output_type": "stream",
       "stream": "stdout",
       "text": [
        " \r",
        "  15520001 of iterations complete"
       ]
      },
      {
       "output_type": "stream",
       "stream": "stdout",
       "text": [
        " \r",
        "  15530001 of iterations complete"
       ]
      },
      {
       "output_type": "stream",
       "stream": "stdout",
       "text": [
        " \r",
        "  15540001 of iterations complete"
       ]
      },
      {
       "output_type": "stream",
       "stream": "stdout",
       "text": [
        " \r",
        "  15550001 of iterations complete"
       ]
      },
      {
       "output_type": "stream",
       "stream": "stdout",
       "text": [
        " \r",
        "  15560001 of iterations complete"
       ]
      },
      {
       "output_type": "stream",
       "stream": "stdout",
       "text": [
        " \r",
        "  15570001 of iterations complete"
       ]
      },
      {
       "output_type": "stream",
       "stream": "stdout",
       "text": [
        " \r",
        "  15580001 of iterations complete"
       ]
      },
      {
       "output_type": "stream",
       "stream": "stdout",
       "text": [
        " \r",
        "  15590001 of iterations complete"
       ]
      },
      {
       "output_type": "stream",
       "stream": "stdout",
       "text": [
        " \r",
        "  15600001 of iterations complete"
       ]
      },
      {
       "output_type": "stream",
       "stream": "stdout",
       "text": [
        " \r",
        "  15610001 of iterations complete"
       ]
      },
      {
       "output_type": "stream",
       "stream": "stdout",
       "text": [
        " \r",
        "  15620001 of iterations complete"
       ]
      },
      {
       "output_type": "stream",
       "stream": "stdout",
       "text": [
        " \r",
        "  15630001 of iterations complete"
       ]
      },
      {
       "output_type": "stream",
       "stream": "stdout",
       "text": [
        " \r",
        "  15640001 of iterations complete"
       ]
      },
      {
       "output_type": "stream",
       "stream": "stdout",
       "text": [
        " \r",
        "  15650001 of iterations complete"
       ]
      },
      {
       "output_type": "stream",
       "stream": "stdout",
       "text": [
        " \r",
        "  15660001 of iterations complete"
       ]
      },
      {
       "output_type": "stream",
       "stream": "stdout",
       "text": [
        " \r",
        "  15670001 of iterations complete"
       ]
      },
      {
       "output_type": "stream",
       "stream": "stdout",
       "text": [
        " \r",
        "  15680001 of iterations complete"
       ]
      },
      {
       "output_type": "stream",
       "stream": "stdout",
       "text": [
        " \r",
        "  15690001 of iterations complete"
       ]
      },
      {
       "output_type": "stream",
       "stream": "stdout",
       "text": [
        " \r",
        "  15700001 of iterations complete"
       ]
      },
      {
       "output_type": "stream",
       "stream": "stdout",
       "text": [
        " \r",
        "  15710001 of iterations complete"
       ]
      },
      {
       "output_type": "stream",
       "stream": "stdout",
       "text": [
        " \r",
        "  15720001 of iterations complete"
       ]
      },
      {
       "output_type": "stream",
       "stream": "stdout",
       "text": [
        " \r",
        "  15730001 of iterations complete"
       ]
      },
      {
       "output_type": "stream",
       "stream": "stdout",
       "text": [
        " \r",
        "  15740001 of iterations complete"
       ]
      },
      {
       "output_type": "stream",
       "stream": "stdout",
       "text": [
        " \r",
        "  15750001 of iterations complete"
       ]
      },
      {
       "output_type": "stream",
       "stream": "stdout",
       "text": [
        " \r",
        "  15760001 of iterations complete"
       ]
      },
      {
       "output_type": "stream",
       "stream": "stdout",
       "text": [
        " \r",
        "  15770001 of iterations complete"
       ]
      },
      {
       "output_type": "stream",
       "stream": "stdout",
       "text": [
        " \r",
        "  15780001 of iterations complete"
       ]
      },
      {
       "output_type": "stream",
       "stream": "stdout",
       "text": [
        " \r",
        "  15790001 of iterations complete"
       ]
      },
      {
       "output_type": "stream",
       "stream": "stdout",
       "text": [
        " \r",
        "  15800001 of iterations complete"
       ]
      },
      {
       "output_type": "stream",
       "stream": "stdout",
       "text": [
        " \r",
        "  15810001 of iterations complete"
       ]
      },
      {
       "output_type": "stream",
       "stream": "stdout",
       "text": [
        " \r",
        "  15820001 of iterations complete"
       ]
      },
      {
       "output_type": "stream",
       "stream": "stdout",
       "text": [
        " \r",
        "  15830001 of iterations complete"
       ]
      },
      {
       "output_type": "stream",
       "stream": "stdout",
       "text": [
        " \r",
        "  15840001 of iterations complete"
       ]
      },
      {
       "output_type": "stream",
       "stream": "stdout",
       "text": [
        " \r",
        "  15850001 of iterations complete"
       ]
      },
      {
       "output_type": "stream",
       "stream": "stdout",
       "text": [
        " \r",
        "  15860001 of iterations complete"
       ]
      },
      {
       "output_type": "stream",
       "stream": "stdout",
       "text": [
        " \r",
        "  15870001 of iterations complete"
       ]
      },
      {
       "output_type": "stream",
       "stream": "stdout",
       "text": [
        " \r",
        "  15880001 of iterations complete"
       ]
      },
      {
       "output_type": "stream",
       "stream": "stdout",
       "text": [
        " \r",
        "  15890001 of iterations complete"
       ]
      },
      {
       "output_type": "stream",
       "stream": "stdout",
       "text": [
        " \r",
        "  15900001 of iterations complete"
       ]
      },
      {
       "output_type": "stream",
       "stream": "stdout",
       "text": [
        " \r",
        "  15910001 of iterations complete"
       ]
      },
      {
       "output_type": "stream",
       "stream": "stdout",
       "text": [
        " \r",
        "  15920001 of iterations complete"
       ]
      },
      {
       "output_type": "stream",
       "stream": "stdout",
       "text": [
        " \r",
        "  15930001 of iterations complete"
       ]
      },
      {
       "output_type": "stream",
       "stream": "stdout",
       "text": [
        " \r",
        "  15940001 of iterations complete"
       ]
      },
      {
       "output_type": "stream",
       "stream": "stdout",
       "text": [
        " \r",
        "  15950001 of iterations complete"
       ]
      },
      {
       "output_type": "stream",
       "stream": "stdout",
       "text": [
        " \r",
        "  15960001 of iterations complete"
       ]
      },
      {
       "output_type": "stream",
       "stream": "stdout",
       "text": [
        " \r",
        "  15970001 of iterations complete"
       ]
      },
      {
       "output_type": "stream",
       "stream": "stdout",
       "text": [
        " \r",
        "  15980001 of iterations complete"
       ]
      },
      {
       "output_type": "stream",
       "stream": "stdout",
       "text": [
        " \r",
        "  15990001 of iterations complete"
       ]
      },
      {
       "output_type": "stream",
       "stream": "stdout",
       "text": [
        " \r",
        "  16000001 of iterations complete"
       ]
      },
      {
       "output_type": "stream",
       "stream": "stdout",
       "text": [
        " \r",
        "  16010001 of iterations complete"
       ]
      },
      {
       "output_type": "stream",
       "stream": "stdout",
       "text": [
        " \r",
        "  16020001 of iterations complete"
       ]
      },
      {
       "output_type": "stream",
       "stream": "stdout",
       "text": [
        " \r",
        "  16030001 of iterations complete"
       ]
      },
      {
       "output_type": "stream",
       "stream": "stdout",
       "text": [
        " \r",
        "  16040001 of iterations complete"
       ]
      },
      {
       "output_type": "stream",
       "stream": "stdout",
       "text": [
        " \r",
        "  16050001 of iterations complete"
       ]
      },
      {
       "output_type": "stream",
       "stream": "stdout",
       "text": [
        " \r",
        "  16060001 of iterations complete"
       ]
      },
      {
       "output_type": "stream",
       "stream": "stdout",
       "text": [
        " \r",
        "  16070001 of iterations complete"
       ]
      },
      {
       "output_type": "stream",
       "stream": "stdout",
       "text": [
        " \r",
        "  16080001 of iterations complete"
       ]
      },
      {
       "output_type": "stream",
       "stream": "stdout",
       "text": [
        " \r",
        "  16090001 of iterations complete"
       ]
      },
      {
       "output_type": "stream",
       "stream": "stdout",
       "text": [
        " \r",
        "  16100001 of iterations complete"
       ]
      },
      {
       "output_type": "stream",
       "stream": "stdout",
       "text": [
        " \r",
        "  16110001 of iterations complete"
       ]
      },
      {
       "output_type": "stream",
       "stream": "stdout",
       "text": [
        " \r",
        "  16120001 of iterations complete"
       ]
      },
      {
       "output_type": "stream",
       "stream": "stdout",
       "text": [
        " \r",
        "  16130001 of iterations complete"
       ]
      },
      {
       "output_type": "stream",
       "stream": "stdout",
       "text": [
        " \r",
        "  16140001 of iterations complete"
       ]
      },
      {
       "output_type": "stream",
       "stream": "stdout",
       "text": [
        " \r",
        "  16150001 of iterations complete"
       ]
      },
      {
       "output_type": "stream",
       "stream": "stdout",
       "text": [
        " \r",
        "  16160001 of iterations complete"
       ]
      },
      {
       "output_type": "stream",
       "stream": "stdout",
       "text": [
        " \r",
        "  16170001 of iterations complete"
       ]
      },
      {
       "output_type": "stream",
       "stream": "stdout",
       "text": [
        " \r",
        "  16180001 of iterations complete"
       ]
      },
      {
       "output_type": "stream",
       "stream": "stdout",
       "text": [
        " \r",
        "  16190001 of iterations complete"
       ]
      },
      {
       "output_type": "stream",
       "stream": "stdout",
       "text": [
        " \r",
        "  16200001 of iterations complete"
       ]
      },
      {
       "output_type": "stream",
       "stream": "stdout",
       "text": [
        " \r",
        "  16210001 of iterations complete"
       ]
      },
      {
       "output_type": "stream",
       "stream": "stdout",
       "text": [
        " \r",
        "  16220001 of iterations complete"
       ]
      },
      {
       "output_type": "stream",
       "stream": "stdout",
       "text": [
        " \r",
        "  16230001 of iterations complete"
       ]
      },
      {
       "output_type": "stream",
       "stream": "stdout",
       "text": [
        " \r",
        "  16240001 of iterations complete"
       ]
      },
      {
       "output_type": "stream",
       "stream": "stdout",
       "text": [
        " \r",
        "  16250001 of iterations complete"
       ]
      },
      {
       "output_type": "stream",
       "stream": "stdout",
       "text": [
        " \r",
        "  16260001 of iterations complete"
       ]
      },
      {
       "output_type": "stream",
       "stream": "stdout",
       "text": [
        " \r",
        "  16270001 of iterations complete"
       ]
      },
      {
       "output_type": "stream",
       "stream": "stdout",
       "text": [
        " \r",
        "  16280001 of iterations complete"
       ]
      },
      {
       "output_type": "stream",
       "stream": "stdout",
       "text": [
        " \r",
        "  16290001 of iterations complete"
       ]
      },
      {
       "output_type": "stream",
       "stream": "stdout",
       "text": [
        " \r",
        "  16300001 of iterations complete"
       ]
      },
      {
       "output_type": "stream",
       "stream": "stdout",
       "text": [
        " \r",
        "  16310001 of iterations complete"
       ]
      },
      {
       "output_type": "stream",
       "stream": "stdout",
       "text": [
        " \r",
        "  16320001 of iterations complete"
       ]
      },
      {
       "output_type": "stream",
       "stream": "stdout",
       "text": [
        " \r",
        "  16330001 of iterations complete"
       ]
      },
      {
       "output_type": "stream",
       "stream": "stdout",
       "text": [
        " \r",
        "  16340001 of iterations complete"
       ]
      },
      {
       "output_type": "stream",
       "stream": "stdout",
       "text": [
        " \r",
        "  16350001 of iterations complete"
       ]
      },
      {
       "output_type": "stream",
       "stream": "stdout",
       "text": [
        " \r",
        "  16360001 of iterations complete"
       ]
      },
      {
       "output_type": "stream",
       "stream": "stdout",
       "text": [
        " \r",
        "  16370001 of iterations complete"
       ]
      },
      {
       "output_type": "stream",
       "stream": "stdout",
       "text": [
        " \r",
        "  16380001 of iterations complete"
       ]
      },
      {
       "output_type": "stream",
       "stream": "stdout",
       "text": [
        " \r",
        "  16390001 of iterations complete"
       ]
      },
      {
       "output_type": "stream",
       "stream": "stdout",
       "text": [
        " \r",
        "  16400001 of iterations complete"
       ]
      },
      {
       "output_type": "stream",
       "stream": "stdout",
       "text": [
        " \r",
        "  16410001 of iterations complete"
       ]
      },
      {
       "output_type": "stream",
       "stream": "stdout",
       "text": [
        " \r",
        "  16420001 of iterations complete"
       ]
      },
      {
       "output_type": "stream",
       "stream": "stdout",
       "text": [
        " \r",
        "  16430001 of iterations complete"
       ]
      },
      {
       "output_type": "stream",
       "stream": "stdout",
       "text": [
        " \r",
        "  16440001 of iterations complete"
       ]
      },
      {
       "output_type": "stream",
       "stream": "stdout",
       "text": [
        " \r",
        "  16450001 of iterations complete"
       ]
      },
      {
       "output_type": "stream",
       "stream": "stdout",
       "text": [
        " \r",
        "  16460001 of iterations complete"
       ]
      },
      {
       "output_type": "stream",
       "stream": "stdout",
       "text": [
        " \r",
        "  16470001 of iterations complete"
       ]
      },
      {
       "output_type": "stream",
       "stream": "stdout",
       "text": [
        " \r",
        "  16480001 of iterations complete"
       ]
      },
      {
       "output_type": "stream",
       "stream": "stdout",
       "text": [
        " \r",
        "  16490001 of iterations complete"
       ]
      },
      {
       "output_type": "stream",
       "stream": "stdout",
       "text": [
        " \r",
        "  16500001 of iterations complete"
       ]
      },
      {
       "output_type": "stream",
       "stream": "stdout",
       "text": [
        " \r",
        "  16510001 of iterations complete"
       ]
      },
      {
       "output_type": "stream",
       "stream": "stdout",
       "text": [
        " \r",
        "  16520001 of iterations complete"
       ]
      },
      {
       "output_type": "stream",
       "stream": "stdout",
       "text": [
        " \r",
        "  16530001 of iterations complete"
       ]
      },
      {
       "output_type": "stream",
       "stream": "stdout",
       "text": [
        " \r",
        "  16540001 of iterations complete"
       ]
      },
      {
       "output_type": "stream",
       "stream": "stdout",
       "text": [
        " \r",
        "  16550001 of iterations complete"
       ]
      },
      {
       "output_type": "stream",
       "stream": "stdout",
       "text": [
        " \r",
        "  16560001 of iterations complete"
       ]
      },
      {
       "output_type": "stream",
       "stream": "stdout",
       "text": [
        " \r",
        "  16570001 of iterations complete"
       ]
      },
      {
       "output_type": "stream",
       "stream": "stdout",
       "text": [
        " \r",
        "  16580001 of iterations complete"
       ]
      },
      {
       "output_type": "stream",
       "stream": "stdout",
       "text": [
        " \r",
        "  16590001 of iterations complete"
       ]
      },
      {
       "output_type": "stream",
       "stream": "stdout",
       "text": [
        " \r",
        "  16600001 of iterations complete"
       ]
      },
      {
       "output_type": "stream",
       "stream": "stdout",
       "text": [
        " \r",
        "  16610001 of iterations complete"
       ]
      },
      {
       "output_type": "stream",
       "stream": "stdout",
       "text": [
        " \r",
        "  16620001 of iterations complete"
       ]
      },
      {
       "output_type": "stream",
       "stream": "stdout",
       "text": [
        " \r",
        "  16630001 of iterations complete"
       ]
      },
      {
       "output_type": "stream",
       "stream": "stdout",
       "text": [
        " \r",
        "  16640001 of iterations complete"
       ]
      },
      {
       "output_type": "stream",
       "stream": "stdout",
       "text": [
        " \r",
        "  16650001 of iterations complete"
       ]
      },
      {
       "output_type": "stream",
       "stream": "stdout",
       "text": [
        " \r",
        "  16660001 of iterations complete"
       ]
      },
      {
       "output_type": "stream",
       "stream": "stdout",
       "text": [
        " \r",
        "  16670001 of iterations complete"
       ]
      },
      {
       "output_type": "stream",
       "stream": "stdout",
       "text": [
        " \r",
        "  16680001 of iterations complete"
       ]
      },
      {
       "output_type": "stream",
       "stream": "stdout",
       "text": [
        " \r",
        "  16690001 of iterations complete"
       ]
      },
      {
       "output_type": "stream",
       "stream": "stdout",
       "text": [
        " \r",
        "  16700001 of iterations complete"
       ]
      },
      {
       "output_type": "stream",
       "stream": "stdout",
       "text": [
        " \r",
        "  16710001 of iterations complete"
       ]
      },
      {
       "output_type": "stream",
       "stream": "stdout",
       "text": [
        " \r",
        "  16720001 of iterations complete"
       ]
      },
      {
       "output_type": "stream",
       "stream": "stdout",
       "text": [
        " \r",
        "  16730001 of iterations complete"
       ]
      },
      {
       "output_type": "stream",
       "stream": "stdout",
       "text": [
        " \r",
        "  16740001 of iterations complete"
       ]
      },
      {
       "output_type": "stream",
       "stream": "stdout",
       "text": [
        " \r",
        "  16750001 of iterations complete"
       ]
      },
      {
       "output_type": "stream",
       "stream": "stdout",
       "text": [
        " \r",
        "  16760001 of iterations complete"
       ]
      },
      {
       "output_type": "stream",
       "stream": "stdout",
       "text": [
        " \r",
        "  16770001 of iterations complete"
       ]
      },
      {
       "output_type": "stream",
       "stream": "stdout",
       "text": [
        " \r",
        "  16780001 of iterations complete"
       ]
      },
      {
       "output_type": "stream",
       "stream": "stdout",
       "text": [
        " \r",
        "  16790001 of iterations complete"
       ]
      },
      {
       "output_type": "stream",
       "stream": "stdout",
       "text": [
        " \r",
        "  16800001 of iterations complete"
       ]
      },
      {
       "output_type": "stream",
       "stream": "stdout",
       "text": [
        " \r",
        "  16810001 of iterations complete"
       ]
      },
      {
       "output_type": "stream",
       "stream": "stdout",
       "text": [
        " \r",
        "  16820001 of iterations complete"
       ]
      },
      {
       "output_type": "stream",
       "stream": "stdout",
       "text": [
        " \r",
        "  16830001 of iterations complete"
       ]
      },
      {
       "output_type": "stream",
       "stream": "stdout",
       "text": [
        " \r",
        "  16840001 of iterations complete"
       ]
      },
      {
       "output_type": "stream",
       "stream": "stdout",
       "text": [
        " \r",
        "  16850001 of iterations complete"
       ]
      },
      {
       "output_type": "stream",
       "stream": "stdout",
       "text": [
        " \r",
        "  16860001 of iterations complete"
       ]
      },
      {
       "output_type": "stream",
       "stream": "stdout",
       "text": [
        " \r",
        "  16870001 of iterations complete"
       ]
      },
      {
       "output_type": "stream",
       "stream": "stdout",
       "text": [
        " \r",
        "  16880001 of iterations complete"
       ]
      },
      {
       "output_type": "stream",
       "stream": "stdout",
       "text": [
        " \r",
        "  16890001 of iterations complete"
       ]
      },
      {
       "output_type": "stream",
       "stream": "stdout",
       "text": [
        " \r",
        "  16900001 of iterations complete"
       ]
      },
      {
       "output_type": "stream",
       "stream": "stdout",
       "text": [
        " \r",
        "  16910001 of iterations complete"
       ]
      },
      {
       "output_type": "stream",
       "stream": "stdout",
       "text": [
        " \r",
        "  16920001 of iterations complete"
       ]
      },
      {
       "output_type": "stream",
       "stream": "stdout",
       "text": [
        " \r",
        "  16930001 of iterations complete"
       ]
      },
      {
       "output_type": "stream",
       "stream": "stdout",
       "text": [
        " \r",
        "  16940001 of iterations complete"
       ]
      },
      {
       "output_type": "stream",
       "stream": "stdout",
       "text": [
        " \r",
        "  16950001 of iterations complete"
       ]
      },
      {
       "output_type": "stream",
       "stream": "stdout",
       "text": [
        " \r",
        "  16960001 of iterations complete"
       ]
      },
      {
       "output_type": "stream",
       "stream": "stdout",
       "text": [
        " \r",
        "  16970001 of iterations complete"
       ]
      },
      {
       "output_type": "stream",
       "stream": "stdout",
       "text": [
        " \r",
        "  16980001 of iterations complete"
       ]
      },
      {
       "output_type": "stream",
       "stream": "stdout",
       "text": [
        " \r",
        "  16990001 of iterations complete"
       ]
      },
      {
       "output_type": "stream",
       "stream": "stdout",
       "text": [
        " \r",
        "  17000001 of iterations complete"
       ]
      },
      {
       "output_type": "stream",
       "stream": "stdout",
       "text": [
        " \r",
        "  17010001 of iterations complete"
       ]
      },
      {
       "output_type": "stream",
       "stream": "stdout",
       "text": [
        " \r",
        "  17020001 of iterations complete"
       ]
      },
      {
       "output_type": "stream",
       "stream": "stdout",
       "text": [
        " \r",
        "  17030001 of iterations complete"
       ]
      },
      {
       "output_type": "stream",
       "stream": "stdout",
       "text": [
        " \r",
        "  17040001 of iterations complete"
       ]
      },
      {
       "output_type": "stream",
       "stream": "stdout",
       "text": [
        " \r",
        "  17050001 of iterations complete"
       ]
      },
      {
       "output_type": "stream",
       "stream": "stdout",
       "text": [
        " \r",
        "  17060001 of iterations complete"
       ]
      },
      {
       "output_type": "stream",
       "stream": "stdout",
       "text": [
        " \r",
        "  17070001 of iterations complete"
       ]
      },
      {
       "output_type": "stream",
       "stream": "stdout",
       "text": [
        " \r",
        "  17080001 of iterations complete"
       ]
      },
      {
       "output_type": "stream",
       "stream": "stdout",
       "text": [
        " \r",
        "  17090001 of iterations complete"
       ]
      },
      {
       "output_type": "stream",
       "stream": "stdout",
       "text": [
        " \r",
        "  17100001 of iterations complete"
       ]
      },
      {
       "output_type": "stream",
       "stream": "stdout",
       "text": [
        " \r",
        "  17110001 of iterations complete"
       ]
      },
      {
       "output_type": "stream",
       "stream": "stdout",
       "text": [
        " \r",
        "  17120001 of iterations complete"
       ]
      },
      {
       "output_type": "stream",
       "stream": "stdout",
       "text": [
        " \r",
        "  17130001 of iterations complete"
       ]
      },
      {
       "output_type": "stream",
       "stream": "stdout",
       "text": [
        " \r",
        "  17140001 of iterations complete"
       ]
      },
      {
       "output_type": "stream",
       "stream": "stdout",
       "text": [
        " \r",
        "  17150001 of iterations complete"
       ]
      },
      {
       "output_type": "stream",
       "stream": "stdout",
       "text": [
        " \r",
        "  17160001 of iterations complete"
       ]
      },
      {
       "output_type": "stream",
       "stream": "stdout",
       "text": [
        " \r",
        "  17170001 of iterations complete"
       ]
      },
      {
       "output_type": "stream",
       "stream": "stdout",
       "text": [
        " \r",
        "  17180001 of iterations complete"
       ]
      },
      {
       "output_type": "stream",
       "stream": "stdout",
       "text": [
        " \r",
        "  17190001 of iterations complete"
       ]
      },
      {
       "output_type": "stream",
       "stream": "stdout",
       "text": [
        " \r",
        "  17200001 of iterations complete"
       ]
      },
      {
       "output_type": "stream",
       "stream": "stdout",
       "text": [
        " \r",
        "  17210001 of iterations complete"
       ]
      },
      {
       "output_type": "stream",
       "stream": "stdout",
       "text": [
        " \r",
        "  17220001 of iterations complete"
       ]
      },
      {
       "output_type": "stream",
       "stream": "stdout",
       "text": [
        " \r",
        "  17230001 of iterations complete"
       ]
      },
      {
       "output_type": "stream",
       "stream": "stdout",
       "text": [
        " \r",
        "  17240001 of iterations complete"
       ]
      },
      {
       "output_type": "stream",
       "stream": "stdout",
       "text": [
        " \r",
        "  17250001 of iterations complete"
       ]
      },
      {
       "output_type": "stream",
       "stream": "stdout",
       "text": [
        " \r",
        "  17260001 of iterations complete"
       ]
      },
      {
       "output_type": "stream",
       "stream": "stdout",
       "text": [
        " \r",
        "  17270001 of iterations complete"
       ]
      },
      {
       "output_type": "stream",
       "stream": "stdout",
       "text": [
        " \r",
        "  17280001 of iterations complete"
       ]
      },
      {
       "output_type": "stream",
       "stream": "stdout",
       "text": [
        " \r",
        "  17290001 of iterations complete"
       ]
      },
      {
       "output_type": "stream",
       "stream": "stdout",
       "text": [
        " \r",
        "  17300001 of iterations complete"
       ]
      },
      {
       "output_type": "stream",
       "stream": "stdout",
       "text": [
        " \r",
        "  17310001 of iterations complete"
       ]
      },
      {
       "output_type": "stream",
       "stream": "stdout",
       "text": [
        " \r",
        "  17320001 of iterations complete"
       ]
      },
      {
       "output_type": "stream",
       "stream": "stdout",
       "text": [
        " \r",
        "  17330001 of iterations complete"
       ]
      },
      {
       "output_type": "stream",
       "stream": "stdout",
       "text": [
        " \r",
        "  17340001 of iterations complete"
       ]
      },
      {
       "output_type": "stream",
       "stream": "stdout",
       "text": [
        " \r",
        "  17350001 of iterations complete"
       ]
      },
      {
       "output_type": "stream",
       "stream": "stdout",
       "text": [
        " \r",
        "  17360001 of iterations complete"
       ]
      },
      {
       "output_type": "stream",
       "stream": "stdout",
       "text": [
        " \r",
        "  17370001 of iterations complete"
       ]
      },
      {
       "output_type": "stream",
       "stream": "stdout",
       "text": [
        " \r",
        "  17380001 of iterations complete"
       ]
      },
      {
       "output_type": "stream",
       "stream": "stdout",
       "text": [
        " \r",
        "  17390001 of iterations complete"
       ]
      },
      {
       "output_type": "stream",
       "stream": "stdout",
       "text": [
        " \r",
        "  17400001 of iterations complete"
       ]
      },
      {
       "output_type": "stream",
       "stream": "stdout",
       "text": [
        " \r",
        "  17410001 of iterations complete"
       ]
      },
      {
       "output_type": "stream",
       "stream": "stdout",
       "text": [
        " \r",
        "  17420001 of iterations complete"
       ]
      },
      {
       "output_type": "stream",
       "stream": "stdout",
       "text": [
        " \r",
        "  17430001 of iterations complete"
       ]
      },
      {
       "output_type": "stream",
       "stream": "stdout",
       "text": [
        " \r",
        "  17440001 of iterations complete"
       ]
      },
      {
       "output_type": "stream",
       "stream": "stdout",
       "text": [
        " \r",
        "  17450001 of iterations complete"
       ]
      },
      {
       "output_type": "stream",
       "stream": "stdout",
       "text": [
        " \r",
        "  17460001 of iterations complete"
       ]
      },
      {
       "output_type": "stream",
       "stream": "stdout",
       "text": [
        " \r",
        "  17470001 of iterations complete"
       ]
      },
      {
       "output_type": "stream",
       "stream": "stdout",
       "text": [
        " \r",
        "  17480001 of iterations complete"
       ]
      },
      {
       "output_type": "stream",
       "stream": "stdout",
       "text": [
        " \r",
        "  17490001 of iterations complete"
       ]
      },
      {
       "output_type": "stream",
       "stream": "stdout",
       "text": [
        " \r",
        "  17500001 of iterations complete"
       ]
      },
      {
       "output_type": "stream",
       "stream": "stdout",
       "text": [
        " \r",
        "  17510001 of iterations complete"
       ]
      },
      {
       "output_type": "stream",
       "stream": "stdout",
       "text": [
        " \r",
        "  17520001 of iterations complete"
       ]
      },
      {
       "output_type": "stream",
       "stream": "stdout",
       "text": [
        " \r",
        "  17530001 of iterations complete"
       ]
      },
      {
       "output_type": "stream",
       "stream": "stdout",
       "text": [
        " \r",
        "  17540001 of iterations complete"
       ]
      },
      {
       "output_type": "stream",
       "stream": "stdout",
       "text": [
        " \r",
        "  17550001 of iterations complete"
       ]
      },
      {
       "output_type": "stream",
       "stream": "stdout",
       "text": [
        " \r",
        "  17560001 of iterations complete"
       ]
      },
      {
       "output_type": "stream",
       "stream": "stdout",
       "text": [
        " \r",
        "  17570001 of iterations complete"
       ]
      },
      {
       "output_type": "stream",
       "stream": "stdout",
       "text": [
        " \r",
        "  17580001 of iterations complete"
       ]
      },
      {
       "output_type": "stream",
       "stream": "stdout",
       "text": [
        " \r",
        "  17590001 of iterations complete"
       ]
      },
      {
       "output_type": "stream",
       "stream": "stdout",
       "text": [
        " \r",
        "  17600001 of iterations complete"
       ]
      },
      {
       "output_type": "stream",
       "stream": "stdout",
       "text": [
        " \r",
        "  17610001 of iterations complete"
       ]
      },
      {
       "output_type": "stream",
       "stream": "stdout",
       "text": [
        " \r",
        "  17620001 of iterations complete"
       ]
      },
      {
       "output_type": "stream",
       "stream": "stdout",
       "text": [
        " \r",
        "  17630001 of iterations complete"
       ]
      },
      {
       "output_type": "stream",
       "stream": "stdout",
       "text": [
        " \r",
        "  17640001 of iterations complete"
       ]
      },
      {
       "output_type": "stream",
       "stream": "stdout",
       "text": [
        " \r",
        "  17650001 of iterations complete"
       ]
      },
      {
       "output_type": "stream",
       "stream": "stdout",
       "text": [
        " \r",
        "  17660001 of iterations complete"
       ]
      },
      {
       "output_type": "stream",
       "stream": "stdout",
       "text": [
        " \r",
        "  17670001 of iterations complete"
       ]
      },
      {
       "output_type": "stream",
       "stream": "stdout",
       "text": [
        " \r",
        "  17680001 of iterations complete"
       ]
      },
      {
       "output_type": "stream",
       "stream": "stdout",
       "text": [
        " \r",
        "  17690001 of iterations complete"
       ]
      },
      {
       "output_type": "stream",
       "stream": "stdout",
       "text": [
        " \r",
        "  17700001 of iterations complete"
       ]
      },
      {
       "output_type": "stream",
       "stream": "stdout",
       "text": [
        " \r",
        "  17710001 of iterations complete"
       ]
      },
      {
       "output_type": "stream",
       "stream": "stdout",
       "text": [
        " \r",
        "  17720001 of iterations complete"
       ]
      },
      {
       "output_type": "stream",
       "stream": "stdout",
       "text": [
        " \r",
        "  17730001 of iterations complete"
       ]
      },
      {
       "output_type": "stream",
       "stream": "stdout",
       "text": [
        " \r",
        "  17740001 of iterations complete"
       ]
      },
      {
       "output_type": "stream",
       "stream": "stdout",
       "text": [
        " \r",
        "  17750001 of iterations complete"
       ]
      },
      {
       "output_type": "stream",
       "stream": "stdout",
       "text": [
        " \r",
        "  17760001 of iterations complete"
       ]
      },
      {
       "output_type": "stream",
       "stream": "stdout",
       "text": [
        " \r",
        "  17770001 of iterations complete"
       ]
      },
      {
       "output_type": "stream",
       "stream": "stdout",
       "text": [
        " \r",
        "  17780001 of iterations complete"
       ]
      },
      {
       "output_type": "stream",
       "stream": "stdout",
       "text": [
        " \r",
        "  17790001 of iterations complete"
       ]
      },
      {
       "output_type": "stream",
       "stream": "stdout",
       "text": [
        " \r",
        "  17800001 of iterations complete"
       ]
      },
      {
       "output_type": "stream",
       "stream": "stdout",
       "text": [
        " \r",
        "  17810001 of iterations complete"
       ]
      },
      {
       "output_type": "stream",
       "stream": "stdout",
       "text": [
        " \r",
        "  17820001 of iterations complete"
       ]
      },
      {
       "output_type": "stream",
       "stream": "stdout",
       "text": [
        " \r",
        "  17830001 of iterations complete"
       ]
      },
      {
       "output_type": "stream",
       "stream": "stdout",
       "text": [
        " \r",
        "  17840001 of iterations complete"
       ]
      },
      {
       "output_type": "stream",
       "stream": "stdout",
       "text": [
        " \r",
        "  17850001 of iterations complete"
       ]
      },
      {
       "output_type": "stream",
       "stream": "stdout",
       "text": [
        " \r",
        "  17860001 of iterations complete"
       ]
      },
      {
       "output_type": "stream",
       "stream": "stdout",
       "text": [
        " \r",
        "  17870001 of iterations complete"
       ]
      },
      {
       "output_type": "stream",
       "stream": "stdout",
       "text": [
        " \r",
        "  17880001 of iterations complete"
       ]
      },
      {
       "output_type": "stream",
       "stream": "stdout",
       "text": [
        " \r",
        "  17890001 of iterations complete"
       ]
      },
      {
       "output_type": "stream",
       "stream": "stdout",
       "text": [
        " \r",
        "  17900001 of iterations complete"
       ]
      },
      {
       "output_type": "stream",
       "stream": "stdout",
       "text": [
        " \r",
        "  17910001 of iterations complete"
       ]
      },
      {
       "output_type": "stream",
       "stream": "stdout",
       "text": [
        " \r",
        "  17920001 of iterations complete"
       ]
      },
      {
       "output_type": "stream",
       "stream": "stdout",
       "text": [
        " \r",
        "  17930001 of iterations complete"
       ]
      },
      {
       "output_type": "stream",
       "stream": "stdout",
       "text": [
        " \r",
        "  17940001 of iterations complete"
       ]
      },
      {
       "output_type": "stream",
       "stream": "stdout",
       "text": [
        " \r",
        "  17950001 of iterations complete"
       ]
      },
      {
       "output_type": "stream",
       "stream": "stdout",
       "text": [
        " \r",
        "  17960001 of iterations complete"
       ]
      },
      {
       "output_type": "stream",
       "stream": "stdout",
       "text": [
        " \r",
        "  17970001 of iterations complete"
       ]
      },
      {
       "output_type": "stream",
       "stream": "stdout",
       "text": [
        " \r",
        "  17980001 of iterations complete"
       ]
      },
      {
       "output_type": "stream",
       "stream": "stdout",
       "text": [
        " \r",
        "  17990001 of iterations complete"
       ]
      },
      {
       "output_type": "stream",
       "stream": "stdout",
       "text": [
        " \r",
        "  18000001 of iterations complete"
       ]
      },
      {
       "output_type": "stream",
       "stream": "stdout",
       "text": [
        " \r",
        "  18010001 of iterations complete"
       ]
      },
      {
       "output_type": "stream",
       "stream": "stdout",
       "text": [
        " \r",
        "  18020001 of iterations complete"
       ]
      },
      {
       "output_type": "stream",
       "stream": "stdout",
       "text": [
        " \r",
        "  18030001 of iterations complete"
       ]
      },
      {
       "output_type": "stream",
       "stream": "stdout",
       "text": [
        " \r",
        "  18040001 of iterations complete"
       ]
      },
      {
       "output_type": "stream",
       "stream": "stdout",
       "text": [
        " \r",
        "  18050001 of iterations complete"
       ]
      },
      {
       "output_type": "stream",
       "stream": "stdout",
       "text": [
        " \r",
        "  18060001 of iterations complete"
       ]
      },
      {
       "output_type": "stream",
       "stream": "stdout",
       "text": [
        " \r",
        "  18070001 of iterations complete"
       ]
      },
      {
       "output_type": "stream",
       "stream": "stdout",
       "text": [
        " \r",
        "  18080001 of iterations complete"
       ]
      },
      {
       "output_type": "stream",
       "stream": "stdout",
       "text": [
        " \r",
        "  18090001 of iterations complete"
       ]
      },
      {
       "output_type": "stream",
       "stream": "stdout",
       "text": [
        " \r",
        "  18100001 of iterations complete"
       ]
      },
      {
       "output_type": "stream",
       "stream": "stdout",
       "text": [
        " \r",
        "  18110001 of iterations complete"
       ]
      },
      {
       "output_type": "stream",
       "stream": "stdout",
       "text": [
        " \r",
        "  18120001 of iterations complete"
       ]
      },
      {
       "output_type": "stream",
       "stream": "stdout",
       "text": [
        " \r",
        "  18130001 of iterations complete"
       ]
      },
      {
       "output_type": "stream",
       "stream": "stdout",
       "text": [
        " \r",
        "  18140001 of iterations complete"
       ]
      },
      {
       "output_type": "stream",
       "stream": "stdout",
       "text": [
        " \r",
        "  18150001 of iterations complete"
       ]
      },
      {
       "output_type": "stream",
       "stream": "stdout",
       "text": [
        " \r",
        "  18160001 of iterations complete"
       ]
      },
      {
       "output_type": "stream",
       "stream": "stdout",
       "text": [
        " \r",
        "  18170001 of iterations complete"
       ]
      },
      {
       "output_type": "stream",
       "stream": "stdout",
       "text": [
        " \r",
        "  18180001 of iterations complete"
       ]
      },
      {
       "output_type": "stream",
       "stream": "stdout",
       "text": [
        " \r",
        "  18190001 of iterations complete"
       ]
      },
      {
       "output_type": "stream",
       "stream": "stdout",
       "text": [
        " \r",
        "  18200001 of iterations complete"
       ]
      },
      {
       "output_type": "stream",
       "stream": "stdout",
       "text": [
        " \r",
        "  18210001 of iterations complete"
       ]
      },
      {
       "output_type": "stream",
       "stream": "stdout",
       "text": [
        " \r",
        "  18220001 of iterations complete"
       ]
      },
      {
       "output_type": "stream",
       "stream": "stdout",
       "text": [
        " \r",
        "  18230001 of iterations complete"
       ]
      },
      {
       "output_type": "stream",
       "stream": "stdout",
       "text": [
        " \r",
        "  18240001 of iterations complete"
       ]
      },
      {
       "output_type": "stream",
       "stream": "stdout",
       "text": [
        " \r",
        "  18250001 of iterations complete"
       ]
      },
      {
       "output_type": "stream",
       "stream": "stdout",
       "text": [
        " \r",
        "  18260001 of iterations complete"
       ]
      },
      {
       "output_type": "stream",
       "stream": "stdout",
       "text": [
        " \r",
        "  18270001 of iterations complete"
       ]
      },
      {
       "output_type": "stream",
       "stream": "stdout",
       "text": [
        " \r",
        "  18280001 of iterations complete"
       ]
      },
      {
       "output_type": "stream",
       "stream": "stdout",
       "text": [
        " \r",
        "  18290001 of iterations complete"
       ]
      },
      {
       "output_type": "stream",
       "stream": "stdout",
       "text": [
        " \r",
        "  18300001 of iterations complete"
       ]
      },
      {
       "output_type": "stream",
       "stream": "stdout",
       "text": [
        " \r",
        "  18310001 of iterations complete"
       ]
      },
      {
       "output_type": "stream",
       "stream": "stdout",
       "text": [
        " \r",
        "  18320001 of iterations complete"
       ]
      },
      {
       "output_type": "stream",
       "stream": "stdout",
       "text": [
        " \r",
        "  18330001 of iterations complete"
       ]
      },
      {
       "output_type": "stream",
       "stream": "stdout",
       "text": [
        " \r",
        "  18340001 of iterations complete"
       ]
      },
      {
       "output_type": "stream",
       "stream": "stdout",
       "text": [
        " \r",
        "  18350001 of iterations complete"
       ]
      },
      {
       "output_type": "stream",
       "stream": "stdout",
       "text": [
        " \r",
        "  18360001 of iterations complete"
       ]
      },
      {
       "output_type": "stream",
       "stream": "stdout",
       "text": [
        " \r",
        "  18370001 of iterations complete"
       ]
      },
      {
       "output_type": "stream",
       "stream": "stdout",
       "text": [
        " \r",
        "  18380001 of iterations complete"
       ]
      },
      {
       "output_type": "stream",
       "stream": "stdout",
       "text": [
        " \r",
        "  18390001 of iterations complete"
       ]
      },
      {
       "output_type": "stream",
       "stream": "stdout",
       "text": [
        " \r",
        "  18400001 of iterations complete"
       ]
      },
      {
       "output_type": "stream",
       "stream": "stdout",
       "text": [
        " \r",
        "  18410001 of iterations complete"
       ]
      },
      {
       "output_type": "stream",
       "stream": "stdout",
       "text": [
        " \r",
        "  18420001 of iterations complete"
       ]
      },
      {
       "output_type": "stream",
       "stream": "stdout",
       "text": [
        " \r",
        "  18430001 of iterations complete"
       ]
      },
      {
       "output_type": "stream",
       "stream": "stdout",
       "text": [
        " \r",
        "  18440001 of iterations complete"
       ]
      },
      {
       "output_type": "stream",
       "stream": "stdout",
       "text": [
        " \r",
        "  18450001 of iterations complete"
       ]
      },
      {
       "output_type": "stream",
       "stream": "stdout",
       "text": [
        " \r",
        "  18460001 of iterations complete"
       ]
      },
      {
       "output_type": "stream",
       "stream": "stdout",
       "text": [
        " \r",
        "  18470001 of iterations complete"
       ]
      },
      {
       "output_type": "stream",
       "stream": "stdout",
       "text": [
        " \r",
        "  18480001 of iterations complete"
       ]
      },
      {
       "output_type": "stream",
       "stream": "stdout",
       "text": [
        " \r",
        "  18490001 of iterations complete"
       ]
      },
      {
       "output_type": "stream",
       "stream": "stdout",
       "text": [
        " \r",
        "  18500001 of iterations complete"
       ]
      },
      {
       "output_type": "stream",
       "stream": "stdout",
       "text": [
        " \r",
        "  18510001 of iterations complete"
       ]
      },
      {
       "output_type": "stream",
       "stream": "stdout",
       "text": [
        " \r",
        "  18520001 of iterations complete"
       ]
      },
      {
       "output_type": "stream",
       "stream": "stdout",
       "text": [
        " \r",
        "  18530001 of iterations complete"
       ]
      },
      {
       "output_type": "stream",
       "stream": "stdout",
       "text": [
        " \r",
        "  18540001 of iterations complete"
       ]
      },
      {
       "output_type": "stream",
       "stream": "stdout",
       "text": [
        " \r",
        "  18550001 of iterations complete"
       ]
      },
      {
       "output_type": "stream",
       "stream": "stdout",
       "text": [
        " \r",
        "  18560001 of iterations complete"
       ]
      },
      {
       "output_type": "stream",
       "stream": "stdout",
       "text": [
        " \r",
        "  18570001 of iterations complete"
       ]
      },
      {
       "output_type": "stream",
       "stream": "stdout",
       "text": [
        " \r",
        "  18580001 of iterations complete"
       ]
      },
      {
       "output_type": "stream",
       "stream": "stdout",
       "text": [
        " \r",
        "  18590001 of iterations complete"
       ]
      },
      {
       "output_type": "stream",
       "stream": "stdout",
       "text": [
        " \r",
        "  18600001 of iterations complete"
       ]
      },
      {
       "output_type": "stream",
       "stream": "stdout",
       "text": [
        " \r",
        "  18610001 of iterations complete"
       ]
      },
      {
       "output_type": "stream",
       "stream": "stdout",
       "text": [
        " \r",
        "  18620001 of iterations complete"
       ]
      },
      {
       "output_type": "stream",
       "stream": "stdout",
       "text": [
        " \r",
        "  18630001 of iterations complete"
       ]
      },
      {
       "output_type": "stream",
       "stream": "stdout",
       "text": [
        " \r",
        "  18640001 of iterations complete"
       ]
      },
      {
       "output_type": "stream",
       "stream": "stdout",
       "text": [
        " \r",
        "  18650001 of iterations complete"
       ]
      },
      {
       "output_type": "stream",
       "stream": "stdout",
       "text": [
        " \r",
        "  18660001 of iterations complete"
       ]
      },
      {
       "output_type": "stream",
       "stream": "stdout",
       "text": [
        " \r",
        "  18670001 of iterations complete"
       ]
      },
      {
       "output_type": "stream",
       "stream": "stdout",
       "text": [
        " \r",
        "  18680001 of iterations complete"
       ]
      },
      {
       "output_type": "stream",
       "stream": "stdout",
       "text": [
        " \r",
        "  18690001 of iterations complete"
       ]
      },
      {
       "output_type": "stream",
       "stream": "stdout",
       "text": [
        " \r",
        "  18700001 of iterations complete"
       ]
      },
      {
       "output_type": "stream",
       "stream": "stdout",
       "text": [
        " \r",
        "  18710001 of iterations complete"
       ]
      },
      {
       "output_type": "stream",
       "stream": "stdout",
       "text": [
        " \r",
        "  18720001 of iterations complete"
       ]
      },
      {
       "output_type": "stream",
       "stream": "stdout",
       "text": [
        " \r",
        "  18730001 of iterations complete"
       ]
      },
      {
       "output_type": "stream",
       "stream": "stdout",
       "text": [
        " \r",
        "  18740001 of iterations complete"
       ]
      },
      {
       "output_type": "stream",
       "stream": "stdout",
       "text": [
        " \r",
        "  18750001 of iterations complete"
       ]
      },
      {
       "output_type": "stream",
       "stream": "stdout",
       "text": [
        " \r",
        "  18760001 of iterations complete"
       ]
      },
      {
       "output_type": "stream",
       "stream": "stdout",
       "text": [
        " \r",
        "  18770001 of iterations complete"
       ]
      },
      {
       "output_type": "stream",
       "stream": "stdout",
       "text": [
        " \r",
        "  18780001 of iterations complete"
       ]
      },
      {
       "output_type": "stream",
       "stream": "stdout",
       "text": [
        " \r",
        "  18790001 of iterations complete"
       ]
      },
      {
       "output_type": "stream",
       "stream": "stdout",
       "text": [
        " \r",
        "  18800001 of iterations complete"
       ]
      },
      {
       "output_type": "stream",
       "stream": "stdout",
       "text": [
        " \r",
        "  18810001 of iterations complete"
       ]
      },
      {
       "output_type": "stream",
       "stream": "stdout",
       "text": [
        " \r",
        "  18820001 of iterations complete"
       ]
      },
      {
       "output_type": "stream",
       "stream": "stdout",
       "text": [
        " \r",
        "  18830001 of iterations complete"
       ]
      },
      {
       "output_type": "stream",
       "stream": "stdout",
       "text": [
        " \r",
        "  18840001 of iterations complete"
       ]
      },
      {
       "output_type": "stream",
       "stream": "stdout",
       "text": [
        " \r",
        "  18850001 of iterations complete"
       ]
      },
      {
       "output_type": "stream",
       "stream": "stdout",
       "text": [
        " \r",
        "  18860001 of iterations complete"
       ]
      },
      {
       "output_type": "stream",
       "stream": "stdout",
       "text": [
        " \r",
        "  18870001 of iterations complete"
       ]
      },
      {
       "output_type": "stream",
       "stream": "stdout",
       "text": [
        " \r",
        "  18880001 of iterations complete"
       ]
      },
      {
       "output_type": "stream",
       "stream": "stdout",
       "text": [
        " \r",
        "  18890001 of iterations complete"
       ]
      },
      {
       "output_type": "stream",
       "stream": "stdout",
       "text": [
        " \r",
        "  18900001 of iterations complete"
       ]
      },
      {
       "output_type": "stream",
       "stream": "stdout",
       "text": [
        " \r",
        "  18910001 of iterations complete"
       ]
      },
      {
       "output_type": "stream",
       "stream": "stdout",
       "text": [
        " \r",
        "  18920001 of iterations complete"
       ]
      },
      {
       "output_type": "stream",
       "stream": "stdout",
       "text": [
        " \r",
        "  18930001 of iterations complete"
       ]
      },
      {
       "output_type": "stream",
       "stream": "stdout",
       "text": [
        " \r",
        "  18940001 of iterations complete"
       ]
      },
      {
       "output_type": "stream",
       "stream": "stdout",
       "text": [
        " \r",
        "  18950001 of iterations complete"
       ]
      },
      {
       "output_type": "stream",
       "stream": "stdout",
       "text": [
        " \r",
        "  18960001 of iterations complete"
       ]
      },
      {
       "output_type": "stream",
       "stream": "stdout",
       "text": [
        " \r",
        "  18970001 of iterations complete"
       ]
      },
      {
       "output_type": "stream",
       "stream": "stdout",
       "text": [
        " \r",
        "  18980001 of iterations complete"
       ]
      },
      {
       "output_type": "stream",
       "stream": "stdout",
       "text": [
        " \r",
        "  18990001 of iterations complete"
       ]
      },
      {
       "output_type": "stream",
       "stream": "stdout",
       "text": [
        " \r",
        "  19000001 of iterations complete"
       ]
      },
      {
       "output_type": "stream",
       "stream": "stdout",
       "text": [
        " \r",
        "  19010001 of iterations complete"
       ]
      },
      {
       "output_type": "stream",
       "stream": "stdout",
       "text": [
        " \r",
        "  19020001 of iterations complete"
       ]
      },
      {
       "output_type": "stream",
       "stream": "stdout",
       "text": [
        " \r",
        "  19030001 of iterations complete"
       ]
      },
      {
       "output_type": "stream",
       "stream": "stdout",
       "text": [
        " \r",
        "  19040001 of iterations complete"
       ]
      },
      {
       "output_type": "stream",
       "stream": "stdout",
       "text": [
        " \r",
        "  19050001 of iterations complete"
       ]
      },
      {
       "output_type": "stream",
       "stream": "stdout",
       "text": [
        " \r",
        "  19060001 of iterations complete"
       ]
      },
      {
       "output_type": "stream",
       "stream": "stdout",
       "text": [
        " \r",
        "  19070001 of iterations complete"
       ]
      },
      {
       "output_type": "stream",
       "stream": "stdout",
       "text": [
        " \r",
        "  19080001 of iterations complete"
       ]
      },
      {
       "output_type": "stream",
       "stream": "stdout",
       "text": [
        " \r",
        "  19090001 of iterations complete"
       ]
      },
      {
       "output_type": "stream",
       "stream": "stdout",
       "text": [
        " \r",
        "  19100001 of iterations complete"
       ]
      },
      {
       "output_type": "stream",
       "stream": "stdout",
       "text": [
        " \r",
        "  19110001 of iterations complete"
       ]
      },
      {
       "output_type": "stream",
       "stream": "stdout",
       "text": [
        " \r",
        "  19120001 of iterations complete"
       ]
      },
      {
       "output_type": "stream",
       "stream": "stdout",
       "text": [
        " \r",
        "  19130001 of iterations complete"
       ]
      },
      {
       "output_type": "stream",
       "stream": "stdout",
       "text": [
        " \r",
        "  19140001 of iterations complete"
       ]
      },
      {
       "output_type": "stream",
       "stream": "stdout",
       "text": [
        " \r",
        "  19150001 of iterations complete"
       ]
      },
      {
       "output_type": "stream",
       "stream": "stdout",
       "text": [
        " \r",
        "  19160001 of iterations complete"
       ]
      },
      {
       "output_type": "stream",
       "stream": "stdout",
       "text": [
        " \r",
        "  19170001 of iterations complete"
       ]
      },
      {
       "output_type": "stream",
       "stream": "stdout",
       "text": [
        " \r",
        "  19180001 of iterations complete"
       ]
      },
      {
       "output_type": "stream",
       "stream": "stdout",
       "text": [
        " \r",
        "  19190001 of iterations complete"
       ]
      },
      {
       "output_type": "stream",
       "stream": "stdout",
       "text": [
        " \r",
        "  19200001 of iterations complete"
       ]
      },
      {
       "output_type": "stream",
       "stream": "stdout",
       "text": [
        " \r",
        "  19210001 of iterations complete"
       ]
      },
      {
       "output_type": "stream",
       "stream": "stdout",
       "text": [
        " \r",
        "  19220001 of iterations complete"
       ]
      },
      {
       "output_type": "stream",
       "stream": "stdout",
       "text": [
        " \r",
        "  19230001 of iterations complete"
       ]
      },
      {
       "output_type": "stream",
       "stream": "stdout",
       "text": [
        " \r",
        "  19240001 of iterations complete"
       ]
      },
      {
       "output_type": "stream",
       "stream": "stdout",
       "text": [
        " \r",
        "  19250001 of iterations complete"
       ]
      },
      {
       "output_type": "stream",
       "stream": "stdout",
       "text": [
        " \r",
        "  19260001 of iterations complete"
       ]
      },
      {
       "output_type": "stream",
       "stream": "stdout",
       "text": [
        " \r",
        "  19270001 of iterations complete"
       ]
      },
      {
       "output_type": "stream",
       "stream": "stdout",
       "text": [
        " \r",
        "  19280001 of iterations complete"
       ]
      },
      {
       "output_type": "stream",
       "stream": "stdout",
       "text": [
        " \r",
        "  19290001 of iterations complete"
       ]
      },
      {
       "output_type": "stream",
       "stream": "stdout",
       "text": [
        " \r",
        "  19300001 of iterations complete"
       ]
      },
      {
       "output_type": "stream",
       "stream": "stdout",
       "text": [
        " \r",
        "  19310001 of iterations complete"
       ]
      },
      {
       "output_type": "stream",
       "stream": "stdout",
       "text": [
        " \r",
        "  19320001 of iterations complete"
       ]
      },
      {
       "output_type": "stream",
       "stream": "stdout",
       "text": [
        " \r",
        "  19330001 of iterations complete"
       ]
      },
      {
       "output_type": "stream",
       "stream": "stdout",
       "text": [
        " \r",
        "  19340001 of iterations complete"
       ]
      },
      {
       "output_type": "stream",
       "stream": "stdout",
       "text": [
        " \r",
        "  19350001 of iterations complete"
       ]
      },
      {
       "output_type": "stream",
       "stream": "stdout",
       "text": [
        " \r",
        "  19360001 of iterations complete"
       ]
      },
      {
       "output_type": "stream",
       "stream": "stdout",
       "text": [
        " \r",
        "  19370001 of iterations complete"
       ]
      },
      {
       "output_type": "stream",
       "stream": "stdout",
       "text": [
        " \r",
        "  19380001 of iterations complete"
       ]
      },
      {
       "output_type": "stream",
       "stream": "stdout",
       "text": [
        " \r",
        "  19390001 of iterations complete"
       ]
      },
      {
       "output_type": "stream",
       "stream": "stdout",
       "text": [
        " \r",
        "  19400001 of iterations complete"
       ]
      },
      {
       "output_type": "stream",
       "stream": "stdout",
       "text": [
        " \r",
        "  19410001 of iterations complete"
       ]
      },
      {
       "output_type": "stream",
       "stream": "stdout",
       "text": [
        " \r",
        "  19420001 of iterations complete"
       ]
      },
      {
       "output_type": "stream",
       "stream": "stdout",
       "text": [
        " \r",
        "  19430001 of iterations complete"
       ]
      },
      {
       "output_type": "stream",
       "stream": "stdout",
       "text": [
        " \r",
        "  19440001 of iterations complete"
       ]
      },
      {
       "output_type": "stream",
       "stream": "stdout",
       "text": [
        " \r",
        "  19450001 of iterations complete"
       ]
      },
      {
       "output_type": "stream",
       "stream": "stdout",
       "text": [
        " \r",
        "  19460001 of iterations complete"
       ]
      },
      {
       "output_type": "stream",
       "stream": "stdout",
       "text": [
        " \r",
        "  19470001 of iterations complete"
       ]
      },
      {
       "output_type": "stream",
       "stream": "stdout",
       "text": [
        " \r",
        "  19480001 of iterations complete"
       ]
      },
      {
       "output_type": "stream",
       "stream": "stdout",
       "text": [
        " \r",
        "  19490001 of iterations complete"
       ]
      },
      {
       "output_type": "stream",
       "stream": "stdout",
       "text": [
        " \r",
        "  19500001 of iterations complete"
       ]
      },
      {
       "output_type": "stream",
       "stream": "stdout",
       "text": [
        " \r",
        "  19510001 of iterations complete"
       ]
      },
      {
       "output_type": "stream",
       "stream": "stdout",
       "text": [
        " \r",
        "  19520001 of iterations complete"
       ]
      },
      {
       "output_type": "stream",
       "stream": "stdout",
       "text": [
        " \r",
        "  19530001 of iterations complete"
       ]
      },
      {
       "output_type": "stream",
       "stream": "stdout",
       "text": [
        " \r",
        "  19540001 of iterations complete"
       ]
      },
      {
       "output_type": "stream",
       "stream": "stdout",
       "text": [
        " \r",
        "  19550001 of iterations complete"
       ]
      },
      {
       "output_type": "stream",
       "stream": "stdout",
       "text": [
        " \r",
        "  19560001 of iterations complete"
       ]
      },
      {
       "output_type": "stream",
       "stream": "stdout",
       "text": [
        " \r",
        "  19570001 of iterations complete"
       ]
      },
      {
       "output_type": "stream",
       "stream": "stdout",
       "text": [
        " \r",
        "  19580001 of iterations complete"
       ]
      },
      {
       "output_type": "stream",
       "stream": "stdout",
       "text": [
        " \r",
        "  19590001 of iterations complete"
       ]
      },
      {
       "output_type": "stream",
       "stream": "stdout",
       "text": [
        " \r",
        "  19600001 of iterations complete"
       ]
      },
      {
       "output_type": "stream",
       "stream": "stdout",
       "text": [
        " \r",
        "  19610001 of iterations complete"
       ]
      },
      {
       "output_type": "stream",
       "stream": "stdout",
       "text": [
        " \r",
        "  19620001 of iterations complete"
       ]
      },
      {
       "output_type": "stream",
       "stream": "stdout",
       "text": [
        " \r",
        "  19630001 of iterations complete"
       ]
      },
      {
       "output_type": "stream",
       "stream": "stdout",
       "text": [
        " \r",
        "  19640001 of iterations complete"
       ]
      },
      {
       "output_type": "stream",
       "stream": "stdout",
       "text": [
        " \r",
        "  19650001 of iterations complete"
       ]
      },
      {
       "output_type": "stream",
       "stream": "stdout",
       "text": [
        " \r",
        "  19660001 of iterations complete"
       ]
      },
      {
       "output_type": "stream",
       "stream": "stdout",
       "text": [
        " \r",
        "  19670001 of iterations complete"
       ]
      },
      {
       "output_type": "stream",
       "stream": "stdout",
       "text": [
        " \r",
        "  19680001 of iterations complete"
       ]
      },
      {
       "output_type": "stream",
       "stream": "stdout",
       "text": [
        " \r",
        "  19690001 of iterations complete"
       ]
      },
      {
       "output_type": "stream",
       "stream": "stdout",
       "text": [
        " \r",
        "  19700001 of iterations complete"
       ]
      },
      {
       "output_type": "stream",
       "stream": "stdout",
       "text": [
        " \r",
        "  19710001 of iterations complete"
       ]
      },
      {
       "output_type": "stream",
       "stream": "stdout",
       "text": [
        " \r",
        "  19720001 of iterations complete"
       ]
      },
      {
       "output_type": "stream",
       "stream": "stdout",
       "text": [
        " \r",
        "  19730001 of iterations complete"
       ]
      },
      {
       "output_type": "stream",
       "stream": "stdout",
       "text": [
        " \r",
        "  19740001 of iterations complete"
       ]
      },
      {
       "output_type": "stream",
       "stream": "stdout",
       "text": [
        " \r",
        "  19750001 of iterations complete"
       ]
      },
      {
       "output_type": "stream",
       "stream": "stdout",
       "text": [
        " \r",
        "  19760001 of iterations complete"
       ]
      },
      {
       "output_type": "stream",
       "stream": "stdout",
       "text": [
        " \r",
        "  19770001 of iterations complete"
       ]
      },
      {
       "output_type": "stream",
       "stream": "stdout",
       "text": [
        " \r",
        "  19780001 of iterations complete"
       ]
      },
      {
       "output_type": "stream",
       "stream": "stdout",
       "text": [
        " \r",
        "  19790001 of iterations complete"
       ]
      },
      {
       "output_type": "stream",
       "stream": "stdout",
       "text": [
        " \r",
        "  19800001 of iterations complete"
       ]
      },
      {
       "output_type": "stream",
       "stream": "stdout",
       "text": [
        " \r",
        "  19810001 of iterations complete"
       ]
      },
      {
       "output_type": "stream",
       "stream": "stdout",
       "text": [
        " \r",
        "  19820001 of iterations complete"
       ]
      },
      {
       "output_type": "stream",
       "stream": "stdout",
       "text": [
        " \r",
        "  19830001 of iterations complete"
       ]
      },
      {
       "output_type": "stream",
       "stream": "stdout",
       "text": [
        " \r",
        "  19840001 of iterations complete"
       ]
      },
      {
       "output_type": "stream",
       "stream": "stdout",
       "text": [
        " \r",
        "  19850001 of iterations complete"
       ]
      },
      {
       "output_type": "stream",
       "stream": "stdout",
       "text": [
        " \r",
        "  19860001 of iterations complete"
       ]
      },
      {
       "output_type": "stream",
       "stream": "stdout",
       "text": [
        " \r",
        "  19870001 of iterations complete"
       ]
      },
      {
       "output_type": "stream",
       "stream": "stdout",
       "text": [
        " \r",
        "  19880001 of iterations complete"
       ]
      },
      {
       "output_type": "stream",
       "stream": "stdout",
       "text": [
        " \r",
        "  19890001 of iterations complete"
       ]
      },
      {
       "output_type": "stream",
       "stream": "stdout",
       "text": [
        " \r",
        "  19900001 of iterations complete"
       ]
      },
      {
       "output_type": "stream",
       "stream": "stdout",
       "text": [
        " \r",
        "  19910001 of iterations complete"
       ]
      },
      {
       "output_type": "stream",
       "stream": "stdout",
       "text": [
        " \r",
        "  19920001 of iterations complete"
       ]
      },
      {
       "output_type": "stream",
       "stream": "stdout",
       "text": [
        " \r",
        "  19930001 of iterations complete"
       ]
      },
      {
       "output_type": "stream",
       "stream": "stdout",
       "text": [
        " \r",
        "  19940001 of iterations complete"
       ]
      },
      {
       "output_type": "stream",
       "stream": "stdout",
       "text": [
        " \r",
        "  19950001 of iterations complete"
       ]
      },
      {
       "output_type": "stream",
       "stream": "stdout",
       "text": [
        " \r",
        "  19960001 of iterations complete"
       ]
      },
      {
       "output_type": "stream",
       "stream": "stdout",
       "text": [
        " \r",
        "  19970001 of iterations complete"
       ]
      },
      {
       "output_type": "stream",
       "stream": "stdout",
       "text": [
        " \r",
        "  19980001 of iterations complete"
       ]
      },
      {
       "output_type": "stream",
       "stream": "stdout",
       "text": [
        " \r",
        "  19990001 of iterations complete"
       ]
      },
      {
       "output_type": "stream",
       "stream": "stdout",
       "text": [
        " \r",
        "  20000001 of iterations complete"
       ]
      },
      {
       "output_type": "stream",
       "stream": "stdout",
       "text": [
        " \r",
        "  20010001 of iterations complete"
       ]
      },
      {
       "output_type": "stream",
       "stream": "stdout",
       "text": [
        " \r",
        "  20020001 of iterations complete"
       ]
      },
      {
       "output_type": "stream",
       "stream": "stdout",
       "text": [
        " \r",
        "  20030001 of iterations complete"
       ]
      },
      {
       "output_type": "stream",
       "stream": "stdout",
       "text": [
        " \r",
        "  20040001 of iterations complete"
       ]
      },
      {
       "output_type": "stream",
       "stream": "stdout",
       "text": [
        " \r",
        "  20050001 of iterations complete"
       ]
      },
      {
       "output_type": "stream",
       "stream": "stdout",
       "text": [
        " \r",
        "  20060001 of iterations complete"
       ]
      },
      {
       "output_type": "stream",
       "stream": "stdout",
       "text": [
        " \r",
        "  20070001 of iterations complete"
       ]
      },
      {
       "output_type": "stream",
       "stream": "stdout",
       "text": [
        " \r",
        "  20080001 of iterations complete"
       ]
      },
      {
       "output_type": "stream",
       "stream": "stdout",
       "text": [
        " \r",
        "  20090001 of iterations complete"
       ]
      },
      {
       "output_type": "stream",
       "stream": "stdout",
       "text": [
        " \r",
        "  20100001 of iterations complete"
       ]
      },
      {
       "output_type": "stream",
       "stream": "stdout",
       "text": [
        " \r",
        "  20110001 of iterations complete"
       ]
      },
      {
       "output_type": "stream",
       "stream": "stdout",
       "text": [
        " \r",
        "  20120001 of iterations complete"
       ]
      },
      {
       "output_type": "stream",
       "stream": "stdout",
       "text": [
        " \r",
        "  20130001 of iterations complete"
       ]
      },
      {
       "output_type": "stream",
       "stream": "stdout",
       "text": [
        " \r",
        "  20140001 of iterations complete"
       ]
      },
      {
       "output_type": "stream",
       "stream": "stdout",
       "text": [
        " \r",
        "  20150001 of iterations complete"
       ]
      },
      {
       "output_type": "stream",
       "stream": "stdout",
       "text": [
        " \r",
        "  20160001 of iterations complete"
       ]
      },
      {
       "output_type": "stream",
       "stream": "stdout",
       "text": [
        " \r",
        "  20170001 of iterations complete"
       ]
      },
      {
       "output_type": "stream",
       "stream": "stdout",
       "text": [
        " \r",
        "  20180001 of iterations complete"
       ]
      },
      {
       "output_type": "stream",
       "stream": "stdout",
       "text": [
        " \r",
        "  20190001 of iterations complete"
       ]
      },
      {
       "output_type": "stream",
       "stream": "stdout",
       "text": [
        " \r",
        "  20200001 of iterations complete"
       ]
      },
      {
       "output_type": "stream",
       "stream": "stdout",
       "text": [
        " \r",
        "  20210001 of iterations complete"
       ]
      },
      {
       "output_type": "stream",
       "stream": "stdout",
       "text": [
        " \r",
        "  20220001 of iterations complete"
       ]
      },
      {
       "output_type": "stream",
       "stream": "stdout",
       "text": [
        " \r",
        "  20230001 of iterations complete"
       ]
      },
      {
       "output_type": "stream",
       "stream": "stdout",
       "text": [
        " \r",
        "  20240001 of iterations complete"
       ]
      },
      {
       "output_type": "stream",
       "stream": "stdout",
       "text": [
        " \r",
        "  20250001 of iterations complete"
       ]
      },
      {
       "output_type": "stream",
       "stream": "stdout",
       "text": [
        " \r",
        "  20260001 of iterations complete"
       ]
      },
      {
       "output_type": "stream",
       "stream": "stdout",
       "text": [
        " \r",
        "  20270001 of iterations complete"
       ]
      },
      {
       "output_type": "stream",
       "stream": "stdout",
       "text": [
        " \r",
        "  20280001 of iterations complete"
       ]
      },
      {
       "output_type": "stream",
       "stream": "stdout",
       "text": [
        " \r",
        "  20290001 of iterations complete"
       ]
      },
      {
       "output_type": "stream",
       "stream": "stdout",
       "text": [
        " \r",
        "  20300001 of iterations complete"
       ]
      },
      {
       "output_type": "stream",
       "stream": "stdout",
       "text": [
        " \r",
        "  20310001 of iterations complete"
       ]
      },
      {
       "output_type": "stream",
       "stream": "stdout",
       "text": [
        " \r",
        "  20320001 of iterations complete"
       ]
      },
      {
       "output_type": "stream",
       "stream": "stdout",
       "text": [
        " \r",
        "  20330001 of iterations complete"
       ]
      },
      {
       "output_type": "stream",
       "stream": "stdout",
       "text": [
        " \r",
        "  20340001 of iterations complete"
       ]
      },
      {
       "output_type": "stream",
       "stream": "stdout",
       "text": [
        " \r",
        "  20350001 of iterations complete"
       ]
      },
      {
       "output_type": "stream",
       "stream": "stdout",
       "text": [
        " \r",
        "  20360001 of iterations complete"
       ]
      },
      {
       "output_type": "stream",
       "stream": "stdout",
       "text": [
        " \r",
        "  20370001 of iterations complete"
       ]
      },
      {
       "output_type": "stream",
       "stream": "stdout",
       "text": [
        " \r",
        "  20380001 of iterations complete"
       ]
      },
      {
       "output_type": "stream",
       "stream": "stdout",
       "text": [
        " \r",
        "  20390001 of iterations complete"
       ]
      },
      {
       "output_type": "stream",
       "stream": "stdout",
       "text": [
        " \r",
        "  20400001 of iterations complete"
       ]
      },
      {
       "output_type": "stream",
       "stream": "stdout",
       "text": [
        " \r",
        "  20410001 of iterations complete"
       ]
      },
      {
       "output_type": "stream",
       "stream": "stdout",
       "text": [
        " \r",
        "  20420001 of iterations complete"
       ]
      },
      {
       "output_type": "stream",
       "stream": "stdout",
       "text": [
        " \r",
        "  20430001 of iterations complete"
       ]
      },
      {
       "output_type": "stream",
       "stream": "stdout",
       "text": [
        " \r",
        "  20440001 of iterations complete"
       ]
      },
      {
       "output_type": "stream",
       "stream": "stdout",
       "text": [
        " \r",
        "  20450001 of iterations complete"
       ]
      },
      {
       "output_type": "stream",
       "stream": "stdout",
       "text": [
        " \r",
        "  20460001 of iterations complete"
       ]
      },
      {
       "output_type": "stream",
       "stream": "stdout",
       "text": [
        " \r",
        "  20470001 of iterations complete"
       ]
      },
      {
       "output_type": "stream",
       "stream": "stdout",
       "text": [
        " \r",
        "  20480001 of iterations complete"
       ]
      },
      {
       "output_type": "stream",
       "stream": "stdout",
       "text": [
        " \r",
        "  20490001 of iterations complete"
       ]
      },
      {
       "output_type": "stream",
       "stream": "stdout",
       "text": [
        " \r",
        "  20500001 of iterations complete"
       ]
      },
      {
       "output_type": "stream",
       "stream": "stdout",
       "text": [
        " \r",
        "  20510001 of iterations complete"
       ]
      },
      {
       "output_type": "stream",
       "stream": "stdout",
       "text": [
        " \r",
        "  20520001 of iterations complete"
       ]
      },
      {
       "output_type": "stream",
       "stream": "stdout",
       "text": [
        " \r",
        "  20530001 of iterations complete"
       ]
      },
      {
       "output_type": "stream",
       "stream": "stdout",
       "text": [
        " \r",
        "  20540001 of iterations complete"
       ]
      },
      {
       "output_type": "stream",
       "stream": "stdout",
       "text": [
        " \r",
        "  20550001 of iterations complete"
       ]
      },
      {
       "output_type": "stream",
       "stream": "stdout",
       "text": [
        " \r",
        "  20560001 of iterations complete"
       ]
      },
      {
       "output_type": "stream",
       "stream": "stdout",
       "text": [
        " \r",
        "  20570001 of iterations complete"
       ]
      },
      {
       "output_type": "stream",
       "stream": "stdout",
       "text": [
        " \r",
        "  20580001 of iterations complete"
       ]
      },
      {
       "output_type": "stream",
       "stream": "stdout",
       "text": [
        " \r",
        "  20590001 of iterations complete"
       ]
      },
      {
       "output_type": "stream",
       "stream": "stdout",
       "text": [
        " \r",
        "  20600001 of iterations complete"
       ]
      },
      {
       "output_type": "stream",
       "stream": "stdout",
       "text": [
        " \r",
        "  20610001 of iterations complete"
       ]
      },
      {
       "output_type": "stream",
       "stream": "stdout",
       "text": [
        " \r",
        "  20620001 of iterations complete"
       ]
      },
      {
       "output_type": "stream",
       "stream": "stdout",
       "text": [
        " \r",
        "  20630001 of iterations complete"
       ]
      },
      {
       "output_type": "stream",
       "stream": "stdout",
       "text": [
        " \r",
        "  20640001 of iterations complete"
       ]
      },
      {
       "output_type": "stream",
       "stream": "stdout",
       "text": [
        " \r",
        "  20650001 of iterations complete"
       ]
      },
      {
       "output_type": "stream",
       "stream": "stdout",
       "text": [
        " \r",
        "  20660001 of iterations complete"
       ]
      },
      {
       "output_type": "stream",
       "stream": "stdout",
       "text": [
        " \r",
        "  20670001 of iterations complete"
       ]
      },
      {
       "output_type": "stream",
       "stream": "stdout",
       "text": [
        " \r",
        "  20680001 of iterations complete"
       ]
      },
      {
       "output_type": "stream",
       "stream": "stdout",
       "text": [
        " \r",
        "  20690001 of iterations complete"
       ]
      },
      {
       "output_type": "stream",
       "stream": "stdout",
       "text": [
        " \r",
        "  20700001 of iterations complete"
       ]
      },
      {
       "output_type": "stream",
       "stream": "stdout",
       "text": [
        " \r",
        "  20710001 of iterations complete"
       ]
      },
      {
       "output_type": "stream",
       "stream": "stdout",
       "text": [
        " \r",
        "  20720001 of iterations complete"
       ]
      },
      {
       "output_type": "stream",
       "stream": "stdout",
       "text": [
        " \r",
        "  20730001 of iterations complete"
       ]
      },
      {
       "output_type": "stream",
       "stream": "stdout",
       "text": [
        " \r",
        "  20740001 of iterations complete"
       ]
      },
      {
       "output_type": "stream",
       "stream": "stdout",
       "text": [
        " \r",
        "  20750001 of iterations complete"
       ]
      },
      {
       "output_type": "stream",
       "stream": "stdout",
       "text": [
        " \r",
        "  20760001 of iterations complete"
       ]
      },
      {
       "output_type": "stream",
       "stream": "stdout",
       "text": [
        " \r",
        "  20770001 of iterations complete"
       ]
      },
      {
       "output_type": "stream",
       "stream": "stdout",
       "text": [
        " \r",
        "  20780001 of iterations complete"
       ]
      },
      {
       "output_type": "stream",
       "stream": "stdout",
       "text": [
        " \r",
        "  20790001 of iterations complete"
       ]
      },
      {
       "output_type": "stream",
       "stream": "stdout",
       "text": [
        " \r",
        "  20800001 of iterations complete"
       ]
      },
      {
       "output_type": "stream",
       "stream": "stdout",
       "text": [
        " \r",
        "  20810001 of iterations complete"
       ]
      },
      {
       "output_type": "stream",
       "stream": "stdout",
       "text": [
        " \r",
        "  20820001 of iterations complete"
       ]
      },
      {
       "output_type": "stream",
       "stream": "stdout",
       "text": [
        " \r",
        "  20830001 of iterations complete"
       ]
      },
      {
       "output_type": "stream",
       "stream": "stdout",
       "text": [
        " \r",
        "  20840001 of iterations complete"
       ]
      },
      {
       "output_type": "stream",
       "stream": "stdout",
       "text": [
        " \r",
        "  20850001 of iterations complete"
       ]
      },
      {
       "output_type": "stream",
       "stream": "stdout",
       "text": [
        " \r",
        "  20860001 of iterations complete"
       ]
      },
      {
       "output_type": "stream",
       "stream": "stdout",
       "text": [
        " \r",
        "  20870001 of iterations complete"
       ]
      },
      {
       "output_type": "stream",
       "stream": "stdout",
       "text": [
        " \r",
        "  20880001 of iterations complete"
       ]
      },
      {
       "output_type": "stream",
       "stream": "stdout",
       "text": [
        " \r",
        "  20890001 of iterations complete"
       ]
      },
      {
       "output_type": "stream",
       "stream": "stdout",
       "text": [
        " \r",
        "  20900001 of iterations complete"
       ]
      },
      {
       "output_type": "stream",
       "stream": "stdout",
       "text": [
        " \r",
        "  20910001 of iterations complete"
       ]
      },
      {
       "output_type": "stream",
       "stream": "stdout",
       "text": [
        " \r",
        "  20920001 of iterations complete"
       ]
      },
      {
       "output_type": "stream",
       "stream": "stdout",
       "text": [
        " \r",
        "  20930001 of iterations complete"
       ]
      },
      {
       "output_type": "stream",
       "stream": "stdout",
       "text": [
        " \r",
        "  20940001 of iterations complete"
       ]
      },
      {
       "output_type": "stream",
       "stream": "stdout",
       "text": [
        " \r",
        "  20950001 of iterations complete"
       ]
      },
      {
       "output_type": "stream",
       "stream": "stdout",
       "text": [
        " \r",
        "  20960001 of iterations complete"
       ]
      },
      {
       "output_type": "stream",
       "stream": "stdout",
       "text": [
        " \r",
        "  20970001 of iterations complete"
       ]
      },
      {
       "output_type": "stream",
       "stream": "stdout",
       "text": [
        " \r",
        "  20980001 of iterations complete"
       ]
      },
      {
       "output_type": "stream",
       "stream": "stdout",
       "text": [
        " \r",
        "  20990001 of iterations complete"
       ]
      },
      {
       "output_type": "stream",
       "stream": "stdout",
       "text": [
        " \r",
        "  21000001 of iterations complete"
       ]
      },
      {
       "output_type": "stream",
       "stream": "stdout",
       "text": [
        " \r",
        "  21010001 of iterations complete"
       ]
      },
      {
       "output_type": "stream",
       "stream": "stdout",
       "text": [
        " \r",
        "  21020001 of iterations complete"
       ]
      },
      {
       "output_type": "stream",
       "stream": "stdout",
       "text": [
        " \r",
        "  21030001 of iterations complete"
       ]
      },
      {
       "output_type": "stream",
       "stream": "stdout",
       "text": [
        " \r",
        "  21040001 of iterations complete"
       ]
      },
      {
       "output_type": "stream",
       "stream": "stdout",
       "text": [
        " \r",
        "  21050001 of iterations complete"
       ]
      },
      {
       "output_type": "stream",
       "stream": "stdout",
       "text": [
        " \r",
        "  21060001 of iterations complete"
       ]
      },
      {
       "output_type": "stream",
       "stream": "stdout",
       "text": [
        " \r",
        "  21070001 of iterations complete"
       ]
      },
      {
       "output_type": "stream",
       "stream": "stdout",
       "text": [
        " \r",
        "  21080001 of iterations complete"
       ]
      },
      {
       "output_type": "stream",
       "stream": "stdout",
       "text": [
        " \r",
        "  21090001 of iterations complete"
       ]
      },
      {
       "output_type": "stream",
       "stream": "stdout",
       "text": [
        " \r",
        "  21100001 of iterations complete"
       ]
      },
      {
       "output_type": "stream",
       "stream": "stdout",
       "text": [
        " \r",
        "  21110001 of iterations complete"
       ]
      },
      {
       "output_type": "stream",
       "stream": "stdout",
       "text": [
        " \r",
        "  21120001 of iterations complete"
       ]
      },
      {
       "output_type": "stream",
       "stream": "stdout",
       "text": [
        " \r",
        "  21130001 of iterations complete"
       ]
      },
      {
       "output_type": "stream",
       "stream": "stdout",
       "text": [
        " \r",
        "  21140001 of iterations complete"
       ]
      },
      {
       "output_type": "stream",
       "stream": "stdout",
       "text": [
        " \r",
        "  21150001 of iterations complete"
       ]
      },
      {
       "output_type": "stream",
       "stream": "stdout",
       "text": [
        " \r",
        "  21160001 of iterations complete"
       ]
      },
      {
       "output_type": "stream",
       "stream": "stdout",
       "text": [
        " \r",
        "  21170001 of iterations complete"
       ]
      },
      {
       "output_type": "stream",
       "stream": "stdout",
       "text": [
        " \r",
        "  21180001 of iterations complete"
       ]
      },
      {
       "output_type": "stream",
       "stream": "stdout",
       "text": [
        " \r",
        "  21190001 of iterations complete"
       ]
      },
      {
       "output_type": "stream",
       "stream": "stdout",
       "text": [
        " \r",
        "  21200001 of iterations complete"
       ]
      },
      {
       "output_type": "stream",
       "stream": "stdout",
       "text": [
        " \r",
        "  21210001 of iterations complete"
       ]
      },
      {
       "output_type": "stream",
       "stream": "stdout",
       "text": [
        " \r",
        "  21220001 of iterations complete"
       ]
      },
      {
       "output_type": "stream",
       "stream": "stdout",
       "text": [
        " \r",
        "  21230001 of iterations complete"
       ]
      },
      {
       "output_type": "stream",
       "stream": "stdout",
       "text": [
        " \r",
        "  21240001 of iterations complete"
       ]
      },
      {
       "output_type": "stream",
       "stream": "stdout",
       "text": [
        " \r",
        "  21250001 of iterations complete"
       ]
      },
      {
       "output_type": "stream",
       "stream": "stdout",
       "text": [
        " \r",
        "  21260001 of iterations complete"
       ]
      },
      {
       "output_type": "stream",
       "stream": "stdout",
       "text": [
        " \r",
        "  21270001 of iterations complete"
       ]
      },
      {
       "output_type": "stream",
       "stream": "stdout",
       "text": [
        " \r",
        "  21280001 of iterations complete"
       ]
      },
      {
       "output_type": "stream",
       "stream": "stdout",
       "text": [
        " \r",
        "  21290001 of iterations complete"
       ]
      },
      {
       "output_type": "stream",
       "stream": "stdout",
       "text": [
        " \r",
        "  21300001 of iterations complete"
       ]
      },
      {
       "output_type": "stream",
       "stream": "stdout",
       "text": [
        " \r",
        "  21310001 of iterations complete"
       ]
      },
      {
       "output_type": "stream",
       "stream": "stdout",
       "text": [
        " \r",
        "  21320001 of iterations complete"
       ]
      },
      {
       "output_type": "stream",
       "stream": "stdout",
       "text": [
        " \r",
        "  21330001 of iterations complete"
       ]
      },
      {
       "output_type": "stream",
       "stream": "stdout",
       "text": [
        " \r",
        "  21340001 of iterations complete"
       ]
      },
      {
       "output_type": "stream",
       "stream": "stdout",
       "text": [
        " \r",
        "  21350001 of iterations complete"
       ]
      },
      {
       "output_type": "stream",
       "stream": "stdout",
       "text": [
        " \r",
        "  21360001 of iterations complete"
       ]
      },
      {
       "output_type": "stream",
       "stream": "stdout",
       "text": [
        " \r",
        "  21370001 of iterations complete"
       ]
      },
      {
       "output_type": "stream",
       "stream": "stdout",
       "text": [
        " \r",
        "  21380001 of iterations complete"
       ]
      },
      {
       "output_type": "stream",
       "stream": "stdout",
       "text": [
        " \r",
        "  21390001 of iterations complete"
       ]
      },
      {
       "output_type": "stream",
       "stream": "stdout",
       "text": [
        " \r",
        "  21400001 of iterations complete"
       ]
      },
      {
       "output_type": "stream",
       "stream": "stdout",
       "text": [
        " \r",
        "  21410001 of iterations complete"
       ]
      },
      {
       "output_type": "stream",
       "stream": "stdout",
       "text": [
        " \r",
        "  21420001 of iterations complete"
       ]
      },
      {
       "output_type": "stream",
       "stream": "stdout",
       "text": [
        " \r",
        "  21430001 of iterations complete"
       ]
      },
      {
       "output_type": "stream",
       "stream": "stdout",
       "text": [
        " \r",
        "  21440001 of iterations complete"
       ]
      },
      {
       "output_type": "stream",
       "stream": "stdout",
       "text": [
        " \r",
        "  21450001 of iterations complete"
       ]
      },
      {
       "output_type": "stream",
       "stream": "stdout",
       "text": [
        " \r",
        "  21460001 of iterations complete"
       ]
      },
      {
       "output_type": "stream",
       "stream": "stdout",
       "text": [
        " \r",
        "  21470001 of iterations complete"
       ]
      },
      {
       "output_type": "stream",
       "stream": "stdout",
       "text": [
        " \r",
        "  21480001 of iterations complete"
       ]
      },
      {
       "output_type": "stream",
       "stream": "stdout",
       "text": [
        " \r",
        "  21490001 of iterations complete"
       ]
      },
      {
       "output_type": "stream",
       "stream": "stdout",
       "text": [
        " \r",
        "  21500001 of iterations complete"
       ]
      },
      {
       "output_type": "stream",
       "stream": "stdout",
       "text": [
        " \r",
        "  21510001 of iterations complete"
       ]
      },
      {
       "output_type": "stream",
       "stream": "stdout",
       "text": [
        " \r",
        "  21520001 of iterations complete"
       ]
      },
      {
       "output_type": "stream",
       "stream": "stdout",
       "text": [
        " \r",
        "  21530001 of iterations complete"
       ]
      },
      {
       "output_type": "stream",
       "stream": "stdout",
       "text": [
        " \r",
        "  21540001 of iterations complete"
       ]
      },
      {
       "output_type": "stream",
       "stream": "stdout",
       "text": [
        " \r",
        "  21550001 of iterations complete"
       ]
      },
      {
       "output_type": "stream",
       "stream": "stdout",
       "text": [
        " \r",
        "  21560001 of iterations complete"
       ]
      },
      {
       "output_type": "stream",
       "stream": "stdout",
       "text": [
        " \r",
        "  21570001 of iterations complete"
       ]
      },
      {
       "output_type": "stream",
       "stream": "stdout",
       "text": [
        " \r",
        "  21580001 of iterations complete"
       ]
      },
      {
       "output_type": "stream",
       "stream": "stdout",
       "text": [
        " \r",
        "  21590001 of iterations complete"
       ]
      },
      {
       "output_type": "stream",
       "stream": "stdout",
       "text": [
        " \r",
        "  21600001 of iterations complete"
       ]
      },
      {
       "output_type": "stream",
       "stream": "stdout",
       "text": [
        " \r",
        "  21610001 of iterations complete"
       ]
      },
      {
       "output_type": "stream",
       "stream": "stdout",
       "text": [
        " \r",
        "  21620001 of iterations complete"
       ]
      },
      {
       "output_type": "stream",
       "stream": "stdout",
       "text": [
        " \r",
        "  21630001 of iterations complete"
       ]
      },
      {
       "output_type": "stream",
       "stream": "stdout",
       "text": [
        " \r",
        "  21640001 of iterations complete"
       ]
      },
      {
       "output_type": "stream",
       "stream": "stdout",
       "text": [
        " \r",
        "  21650001 of iterations complete"
       ]
      },
      {
       "output_type": "stream",
       "stream": "stdout",
       "text": [
        " \r",
        "  21660001 of iterations complete"
       ]
      },
      {
       "output_type": "stream",
       "stream": "stdout",
       "text": [
        " \r",
        "  21670001 of iterations complete"
       ]
      },
      {
       "output_type": "stream",
       "stream": "stdout",
       "text": [
        " \r",
        "  21680001 of iterations complete"
       ]
      },
      {
       "output_type": "stream",
       "stream": "stdout",
       "text": [
        " \r",
        "  21690001 of iterations complete"
       ]
      },
      {
       "output_type": "stream",
       "stream": "stdout",
       "text": [
        " \r",
        "  21700001 of iterations complete"
       ]
      },
      {
       "output_type": "stream",
       "stream": "stdout",
       "text": [
        " \r",
        "  21710001 of iterations complete"
       ]
      },
      {
       "output_type": "stream",
       "stream": "stdout",
       "text": [
        " \r",
        "  21720001 of iterations complete"
       ]
      },
      {
       "output_type": "stream",
       "stream": "stdout",
       "text": [
        " \r",
        "  21730001 of iterations complete"
       ]
      },
      {
       "output_type": "stream",
       "stream": "stdout",
       "text": [
        " \r",
        "  21740001 of iterations complete"
       ]
      },
      {
       "output_type": "stream",
       "stream": "stdout",
       "text": [
        " \r",
        "  21750001 of iterations complete"
       ]
      },
      {
       "output_type": "stream",
       "stream": "stdout",
       "text": [
        " \r",
        "  21760001 of iterations complete"
       ]
      },
      {
       "output_type": "stream",
       "stream": "stdout",
       "text": [
        " \r",
        "  21770001 of iterations complete"
       ]
      },
      {
       "output_type": "stream",
       "stream": "stdout",
       "text": [
        " \r",
        "  21780001 of iterations complete"
       ]
      },
      {
       "output_type": "stream",
       "stream": "stdout",
       "text": [
        " \r",
        "  21790001 of iterations complete"
       ]
      },
      {
       "output_type": "stream",
       "stream": "stdout",
       "text": [
        " \r",
        "  21800001 of iterations complete"
       ]
      },
      {
       "output_type": "stream",
       "stream": "stdout",
       "text": [
        " \r",
        "  21810001 of iterations complete"
       ]
      },
      {
       "output_type": "stream",
       "stream": "stdout",
       "text": [
        " \r",
        "  21820001 of iterations complete"
       ]
      },
      {
       "output_type": "stream",
       "stream": "stdout",
       "text": [
        " \r",
        "  21830001 of iterations complete"
       ]
      },
      {
       "output_type": "stream",
       "stream": "stdout",
       "text": [
        " \r",
        "  21840001 of iterations complete"
       ]
      },
      {
       "output_type": "stream",
       "stream": "stdout",
       "text": [
        " \r",
        "  21850001 of iterations complete"
       ]
      },
      {
       "output_type": "stream",
       "stream": "stdout",
       "text": [
        " \r",
        "  21860001 of iterations complete"
       ]
      },
      {
       "output_type": "stream",
       "stream": "stdout",
       "text": [
        " \r",
        "  21870001 of iterations complete"
       ]
      },
      {
       "output_type": "stream",
       "stream": "stdout",
       "text": [
        " \r",
        "  21880001 of iterations complete"
       ]
      },
      {
       "output_type": "stream",
       "stream": "stdout",
       "text": [
        " \r",
        "  21890001 of iterations complete"
       ]
      },
      {
       "output_type": "stream",
       "stream": "stdout",
       "text": [
        " \r",
        "  21900001 of iterations complete"
       ]
      },
      {
       "output_type": "stream",
       "stream": "stdout",
       "text": [
        " \r",
        "  21910001 of iterations complete"
       ]
      },
      {
       "output_type": "stream",
       "stream": "stdout",
       "text": [
        " \r",
        "  21920001 of iterations complete"
       ]
      },
      {
       "output_type": "stream",
       "stream": "stdout",
       "text": [
        " \r",
        "  21930001 of iterations complete"
       ]
      },
      {
       "output_type": "stream",
       "stream": "stdout",
       "text": [
        " \r",
        "  21940001 of iterations complete"
       ]
      },
      {
       "output_type": "stream",
       "stream": "stdout",
       "text": [
        " \r",
        "  21950001 of iterations complete"
       ]
      },
      {
       "output_type": "stream",
       "stream": "stdout",
       "text": [
        " \r",
        "  21960001 of iterations complete"
       ]
      },
      {
       "output_type": "stream",
       "stream": "stdout",
       "text": [
        " \r",
        "  21970001 of iterations complete"
       ]
      },
      {
       "output_type": "stream",
       "stream": "stdout",
       "text": [
        " \r",
        "  21980001 of iterations complete"
       ]
      },
      {
       "output_type": "stream",
       "stream": "stdout",
       "text": [
        " \r",
        "  21990001 of iterations complete"
       ]
      },
      {
       "output_type": "stream",
       "stream": "stdout",
       "text": [
        " \r",
        "  22000001 of iterations complete"
       ]
      },
      {
       "output_type": "stream",
       "stream": "stdout",
       "text": [
        " \r",
        "  22010001 of iterations complete"
       ]
      },
      {
       "output_type": "stream",
       "stream": "stdout",
       "text": [
        " \r",
        "  22020001 of iterations complete"
       ]
      },
      {
       "output_type": "stream",
       "stream": "stdout",
       "text": [
        " \r",
        "  22030001 of iterations complete"
       ]
      },
      {
       "output_type": "stream",
       "stream": "stdout",
       "text": [
        " \r",
        "  22040001 of iterations complete"
       ]
      },
      {
       "output_type": "stream",
       "stream": "stdout",
       "text": [
        " \r",
        "  22050001 of iterations complete"
       ]
      },
      {
       "output_type": "stream",
       "stream": "stdout",
       "text": [
        " \r",
        "  22060001 of iterations complete"
       ]
      },
      {
       "output_type": "stream",
       "stream": "stdout",
       "text": [
        " \r",
        "  22070001 of iterations complete"
       ]
      },
      {
       "output_type": "stream",
       "stream": "stdout",
       "text": [
        " \r",
        "  22080001 of iterations complete"
       ]
      },
      {
       "output_type": "stream",
       "stream": "stdout",
       "text": [
        " \r",
        "  22090001 of iterations complete"
       ]
      },
      {
       "output_type": "stream",
       "stream": "stdout",
       "text": [
        " \r",
        "  22100001 of iterations complete"
       ]
      },
      {
       "output_type": "stream",
       "stream": "stdout",
       "text": [
        " \r",
        "  22110001 of iterations complete"
       ]
      },
      {
       "output_type": "stream",
       "stream": "stdout",
       "text": [
        " \r",
        "  22120001 of iterations complete"
       ]
      },
      {
       "output_type": "stream",
       "stream": "stdout",
       "text": [
        " \r",
        "  22130001 of iterations complete"
       ]
      },
      {
       "output_type": "stream",
       "stream": "stdout",
       "text": [
        " \r",
        "  22140001 of iterations complete"
       ]
      },
      {
       "output_type": "stream",
       "stream": "stdout",
       "text": [
        " \r",
        "  22150001 of iterations complete"
       ]
      },
      {
       "output_type": "stream",
       "stream": "stdout",
       "text": [
        " \r",
        "  22160001 of iterations complete"
       ]
      },
      {
       "output_type": "stream",
       "stream": "stdout",
       "text": [
        " \r",
        "  22170001 of iterations complete"
       ]
      },
      {
       "output_type": "stream",
       "stream": "stdout",
       "text": [
        " \r",
        "  22180001 of iterations complete"
       ]
      },
      {
       "output_type": "stream",
       "stream": "stdout",
       "text": [
        " \r",
        "  22190001 of iterations complete"
       ]
      },
      {
       "output_type": "stream",
       "stream": "stdout",
       "text": [
        " \r",
        "  22200001 of iterations complete"
       ]
      },
      {
       "output_type": "stream",
       "stream": "stdout",
       "text": [
        " \r",
        "  22210001 of iterations complete"
       ]
      },
      {
       "output_type": "stream",
       "stream": "stdout",
       "text": [
        " \r",
        "  22220001 of iterations complete"
       ]
      },
      {
       "output_type": "stream",
       "stream": "stdout",
       "text": [
        " \r",
        "  22230001 of iterations complete"
       ]
      },
      {
       "output_type": "stream",
       "stream": "stdout",
       "text": [
        " \r",
        "  22240001 of iterations complete"
       ]
      },
      {
       "output_type": "stream",
       "stream": "stdout",
       "text": [
        " \r",
        "  22250001 of iterations complete"
       ]
      },
      {
       "output_type": "stream",
       "stream": "stdout",
       "text": [
        " \r",
        "  22260001 of iterations complete"
       ]
      },
      {
       "output_type": "stream",
       "stream": "stdout",
       "text": [
        " \r",
        "  22270001 of iterations complete"
       ]
      },
      {
       "output_type": "stream",
       "stream": "stdout",
       "text": [
        " \r",
        "  22280001 of iterations complete"
       ]
      },
      {
       "output_type": "stream",
       "stream": "stdout",
       "text": [
        " \r",
        "  22290001 of iterations complete"
       ]
      },
      {
       "output_type": "stream",
       "stream": "stdout",
       "text": [
        " \r",
        "  22300001 of iterations complete"
       ]
      },
      {
       "output_type": "stream",
       "stream": "stdout",
       "text": [
        " \r",
        "  22310001 of iterations complete"
       ]
      },
      {
       "output_type": "stream",
       "stream": "stdout",
       "text": [
        " \r",
        "  22320001 of iterations complete"
       ]
      },
      {
       "output_type": "stream",
       "stream": "stdout",
       "text": [
        " \r",
        "  22330001 of iterations complete"
       ]
      },
      {
       "output_type": "stream",
       "stream": "stdout",
       "text": [
        " \r",
        "  22340001 of iterations complete"
       ]
      },
      {
       "output_type": "stream",
       "stream": "stdout",
       "text": [
        " \r",
        "  22350001 of iterations complete"
       ]
      },
      {
       "output_type": "stream",
       "stream": "stdout",
       "text": [
        " \r",
        "  22360001 of iterations complete"
       ]
      },
      {
       "output_type": "stream",
       "stream": "stdout",
       "text": [
        " \r",
        "  22370001 of iterations complete"
       ]
      },
      {
       "output_type": "stream",
       "stream": "stdout",
       "text": [
        " \r",
        "  22380001 of iterations complete"
       ]
      },
      {
       "output_type": "stream",
       "stream": "stdout",
       "text": [
        " \r",
        "  22390001 of iterations complete"
       ]
      },
      {
       "output_type": "stream",
       "stream": "stdout",
       "text": [
        " \r",
        "  22400001 of iterations complete"
       ]
      },
      {
       "output_type": "stream",
       "stream": "stdout",
       "text": [
        " \r",
        "  22410001 of iterations complete"
       ]
      },
      {
       "output_type": "stream",
       "stream": "stdout",
       "text": [
        " \r",
        "  22420001 of iterations complete"
       ]
      },
      {
       "output_type": "stream",
       "stream": "stdout",
       "text": [
        " \r",
        "  22430001 of iterations complete"
       ]
      },
      {
       "output_type": "stream",
       "stream": "stdout",
       "text": [
        " \r",
        "  22440001 of iterations complete"
       ]
      },
      {
       "output_type": "stream",
       "stream": "stdout",
       "text": [
        " \r",
        "  22450001 of iterations complete"
       ]
      },
      {
       "output_type": "stream",
       "stream": "stdout",
       "text": [
        " \r",
        "  22460001 of iterations complete"
       ]
      },
      {
       "output_type": "stream",
       "stream": "stdout",
       "text": [
        " \r",
        "  22470001 of iterations complete"
       ]
      },
      {
       "output_type": "stream",
       "stream": "stdout",
       "text": [
        " \r",
        "  22480001 of iterations complete"
       ]
      },
      {
       "output_type": "stream",
       "stream": "stdout",
       "text": [
        " \r",
        "  22490001 of iterations complete"
       ]
      },
      {
       "output_type": "stream",
       "stream": "stdout",
       "text": [
        " \r",
        "  22500001 of iterations complete"
       ]
      },
      {
       "output_type": "stream",
       "stream": "stdout",
       "text": [
        " \r",
        "  22510001 of iterations complete"
       ]
      },
      {
       "output_type": "stream",
       "stream": "stdout",
       "text": [
        " \r",
        "  22520001 of iterations complete"
       ]
      },
      {
       "output_type": "stream",
       "stream": "stdout",
       "text": [
        " \r",
        "  22530001 of iterations complete"
       ]
      },
      {
       "output_type": "stream",
       "stream": "stdout",
       "text": [
        " \r",
        "  22540001 of iterations complete"
       ]
      },
      {
       "output_type": "stream",
       "stream": "stdout",
       "text": [
        " \r",
        "  22550001 of iterations complete"
       ]
      },
      {
       "output_type": "stream",
       "stream": "stdout",
       "text": [
        " \r",
        "  22560001 of iterations complete"
       ]
      },
      {
       "output_type": "stream",
       "stream": "stdout",
       "text": [
        " \r",
        "  22570001 of iterations complete"
       ]
      },
      {
       "output_type": "stream",
       "stream": "stdout",
       "text": [
        " \r",
        "  22580001 of iterations complete"
       ]
      },
      {
       "output_type": "stream",
       "stream": "stdout",
       "text": [
        " \r",
        "  22590001 of iterations complete"
       ]
      },
      {
       "output_type": "stream",
       "stream": "stdout",
       "text": [
        " \r",
        "  22600001 of iterations complete"
       ]
      },
      {
       "output_type": "stream",
       "stream": "stdout",
       "text": [
        " \r",
        "  22610001 of iterations complete"
       ]
      },
      {
       "output_type": "stream",
       "stream": "stdout",
       "text": [
        " \r",
        "  22620001 of iterations complete"
       ]
      },
      {
       "output_type": "stream",
       "stream": "stdout",
       "text": [
        " \r",
        "  22630001 of iterations complete"
       ]
      },
      {
       "output_type": "stream",
       "stream": "stdout",
       "text": [
        " \r",
        "  22640001 of iterations complete"
       ]
      },
      {
       "output_type": "stream",
       "stream": "stdout",
       "text": [
        " \r",
        "  22650001 of iterations complete"
       ]
      },
      {
       "output_type": "stream",
       "stream": "stdout",
       "text": [
        " \r",
        "  22660001 of iterations complete"
       ]
      },
      {
       "output_type": "stream",
       "stream": "stdout",
       "text": [
        " \r",
        "  22670001 of iterations complete"
       ]
      },
      {
       "output_type": "stream",
       "stream": "stdout",
       "text": [
        " \r",
        "  22680001 of iterations complete"
       ]
      },
      {
       "output_type": "stream",
       "stream": "stdout",
       "text": [
        " \r",
        "  22690001 of iterations complete"
       ]
      },
      {
       "output_type": "stream",
       "stream": "stdout",
       "text": [
        " \r",
        "  22700001 of iterations complete"
       ]
      },
      {
       "output_type": "stream",
       "stream": "stdout",
       "text": [
        " \r",
        "  22710001 of iterations complete"
       ]
      },
      {
       "output_type": "stream",
       "stream": "stdout",
       "text": [
        " \r",
        "  22720001 of iterations complete"
       ]
      },
      {
       "output_type": "stream",
       "stream": "stdout",
       "text": [
        " \r",
        "  22730001 of iterations complete"
       ]
      },
      {
       "output_type": "stream",
       "stream": "stdout",
       "text": [
        " \r",
        "  22740001 of iterations complete"
       ]
      },
      {
       "output_type": "stream",
       "stream": "stdout",
       "text": [
        " \r",
        "  22750001 of iterations complete"
       ]
      },
      {
       "output_type": "stream",
       "stream": "stdout",
       "text": [
        " \r",
        "  22760001 of iterations complete"
       ]
      },
      {
       "output_type": "stream",
       "stream": "stdout",
       "text": [
        " \r",
        "  22770001 of iterations complete"
       ]
      },
      {
       "output_type": "stream",
       "stream": "stdout",
       "text": [
        " \r",
        "  22780001 of iterations complete"
       ]
      },
      {
       "output_type": "stream",
       "stream": "stdout",
       "text": [
        " \r",
        "  22790001 of iterations complete"
       ]
      },
      {
       "output_type": "stream",
       "stream": "stdout",
       "text": [
        " \r",
        "  22800001 of iterations complete"
       ]
      },
      {
       "output_type": "stream",
       "stream": "stdout",
       "text": [
        " \r",
        "  22810001 of iterations complete"
       ]
      },
      {
       "output_type": "stream",
       "stream": "stdout",
       "text": [
        " \r",
        "  22820001 of iterations complete"
       ]
      },
      {
       "output_type": "stream",
       "stream": "stdout",
       "text": [
        " \r",
        "  22830001 of iterations complete"
       ]
      },
      {
       "output_type": "stream",
       "stream": "stdout",
       "text": [
        " \r",
        "  22840001 of iterations complete"
       ]
      },
      {
       "output_type": "stream",
       "stream": "stdout",
       "text": [
        " \r",
        "  22850001 of iterations complete"
       ]
      },
      {
       "output_type": "stream",
       "stream": "stdout",
       "text": [
        " \r",
        "  22860001 of iterations complete"
       ]
      },
      {
       "output_type": "stream",
       "stream": "stdout",
       "text": [
        " \r",
        "  22870001 of iterations complete"
       ]
      },
      {
       "output_type": "stream",
       "stream": "stdout",
       "text": [
        " \r",
        "  22880001 of iterations complete"
       ]
      },
      {
       "output_type": "stream",
       "stream": "stdout",
       "text": [
        " \r",
        "  22890001 of iterations complete"
       ]
      },
      {
       "output_type": "stream",
       "stream": "stdout",
       "text": [
        " \r",
        "  22900001 of iterations complete"
       ]
      },
      {
       "output_type": "stream",
       "stream": "stdout",
       "text": [
        " \r",
        "  22910001 of iterations complete"
       ]
      },
      {
       "output_type": "stream",
       "stream": "stdout",
       "text": [
        " \r",
        "  22920001 of iterations complete"
       ]
      },
      {
       "output_type": "stream",
       "stream": "stdout",
       "text": [
        " \r",
        "  22930001 of iterations complete"
       ]
      },
      {
       "output_type": "stream",
       "stream": "stdout",
       "text": [
        " \r",
        "  22940001 of iterations complete"
       ]
      },
      {
       "output_type": "stream",
       "stream": "stdout",
       "text": [
        " \r",
        "  22950001 of iterations complete"
       ]
      },
      {
       "output_type": "stream",
       "stream": "stdout",
       "text": [
        " \r",
        "  22960001 of iterations complete"
       ]
      },
      {
       "output_type": "stream",
       "stream": "stdout",
       "text": [
        " \r",
        "  22970001 of iterations complete"
       ]
      },
      {
       "output_type": "stream",
       "stream": "stdout",
       "text": [
        " \r",
        "  22980001 of iterations complete"
       ]
      },
      {
       "output_type": "stream",
       "stream": "stdout",
       "text": [
        " \r",
        "  22990001 of iterations complete"
       ]
      },
      {
       "output_type": "stream",
       "stream": "stdout",
       "text": [
        " \r",
        "  23000001 of iterations complete"
       ]
      },
      {
       "output_type": "stream",
       "stream": "stdout",
       "text": [
        " \r",
        "  23010001 of iterations complete"
       ]
      },
      {
       "output_type": "stream",
       "stream": "stdout",
       "text": [
        " \r",
        "  23020001 of iterations complete"
       ]
      },
      {
       "output_type": "stream",
       "stream": "stdout",
       "text": [
        " \r",
        "  23030001 of iterations complete"
       ]
      },
      {
       "output_type": "stream",
       "stream": "stdout",
       "text": [
        " \r",
        "  23040001 of iterations complete"
       ]
      },
      {
       "output_type": "stream",
       "stream": "stdout",
       "text": [
        " \r",
        "  23050001 of iterations complete"
       ]
      },
      {
       "output_type": "stream",
       "stream": "stdout",
       "text": [
        " \r",
        "  23060001 of iterations complete"
       ]
      },
      {
       "output_type": "stream",
       "stream": "stdout",
       "text": [
        " \r",
        "  23070001 of iterations complete"
       ]
      },
      {
       "output_type": "stream",
       "stream": "stdout",
       "text": [
        " \r",
        "  23080001 of iterations complete"
       ]
      },
      {
       "output_type": "stream",
       "stream": "stdout",
       "text": [
        " 793 23094592\n"
       ]
      }
     ],
     "prompt_number": 9
    },
    {
     "cell_type": "markdown",
     "metadata": {},
     "source": [
      "##About Development set:\n",
      "\n",
      "Max image length: 53,908\n",
      "\n",
      "Number of Imagies: 79,665\n",
      "\n",
      "Max query length: 58\n",
      "\n",
      "Number of labels: 79,926\n",
      "\n",
      "\n",
      "##About Training set:\n",
      "\n",
      "Max image length: 66,088 ( 2 files > 65534)\n",
      "\n",
      "Number of Imagies: 1,000,000\n",
      "\n",
      "Max query length: 793\n",
      "\n",
      "Number of log entries: 23,094,592\n"
     ]
    },
    {
     "cell_type": "markdown",
     "metadata": {},
     "source": [
      "MySQL data type support\n",
      "\n",
      "| Binary data type| Nonbinary data type| Maximum length  |\n",
      "| ----------------|:------------------:| ---------------:|\n",
      "| BINARY          | CHAR               | 255             |\n",
      "| VARBINARY       | VARCHAR            | 65,535          |\n",
      "| TINYBLOB        | TINYTEXT           | 255             |\n",
      "| BLOB            | TEXT               | 65,535          |\n",
      "| MEDIUMBLOB      | MEDIUMTEXT         | 16,777,215      |\n",
      "| LONGBLOB        | LONGTEXT           | 4,294,967,295   |"
     ]
    },
    {
     "cell_type": "markdown",
     "metadata": {},
     "source": [
      "##Fill in data\n",
      "### Check sample"
     ]
    },
    {
     "cell_type": "code",
     "collapsed": false,
     "input": [
      "def readOne(path):\n",
      "    with open(path,'rb') as tsvin:\n",
      "        tsvin = csv.reader(tsvin, delimiter='\\t')\n",
      "        for row in tsvin:\n",
      "            print row; break\n",
      "readOne(ACMdev.TsvData['devImage'])\n",
      "readOne(ACMdev.TsvData['devLabel'])\n",
      "readOne(ACMdev.TsvData['trnImage'])\n",
      "readOne(ACMdev.TsvData['trnLog'])"
     ],
     "language": "python",
     "metadata": {},
     "outputs": [
      {
       "output_type": "stream",
       "stream": "stdout",
       "text": [
        "['img0', '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']\n",
        "['EMTEK ORION #4816 TUBULAR, GENEVA LEVER, OIL RUBBED BRONZE', 'img1675', 'Excellent']\n",
        "['+FG2AXmgIIbP8Q', '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']\n",
        "['+/AvjAsvgnlssQ', 'disney s peter pan coloring sheets ', '1']\n"
       ]
      }
     ],
     "prompt_number": 12
    },
    {
     "cell_type": "code",
     "collapsed": false,
     "input": [
      "session = ACMdev.getSession()\n",
      "with open(ACMdev.TsvData['devImage'],'rb') as tsvin:\n",
      "    tsvin = csv.reader(tsvin, delimiter='\\t')\n",
      "    p = ACMdev.ProgressBar(1)\n",
      "    j = 0\n",
      "    for row in tsvin:\n",
      "        data = ACMdev.DevImage(int(row[0][3:])+1 , row[1])\n",
      "        session.add(data)\n",
      "        if j % 50 == 0: session.commit()\n",
      "        if j % 5000 == 0: p.showStep(j)\n",
      "        j= j + 1\n",
      "    \n",
      "    session.commit()\n",
      "session.close()\n",
      "print \"Done!\""
     ],
     "language": "python",
     "metadata": {},
     "outputs": []
    },
    {
     "cell_type": "code",
     "collapsed": false,
     "input": [
      "session = ACMdev.getSession()\n",
      "with open(ACMdev.TsvData['devLabel'],'rb') as tsvin:\n",
      "    tsvin = csv.reader(tsvin, delimiter='\\t')\n",
      "    p = ACMdev.ProgressBar(1)\n",
      "    j = 0\n",
      "    for row in tsvin:\n",
      "        data = ACMdev.DevImage(int(row[1][3:])+1,  row[0], ACMdev.Ijudge[row[2]])\n",
      "        session.add(data)\n",
      "        if j % 50 == 0: session.commit()\n",
      "        if j % 5000 == 0: p.showStep(j)\n",
      "        j= j + 1\n",
      "    \n",
      "    session.commit()\n",
      "session.close()\n",
      "print \"Done!\""
     ],
     "language": "python",
     "metadata": {},
     "outputs": []
    },
    {
     "cell_type": "code",
     "collapsed": false,
     "input": [
      "qry = se.query(ACMdev.DevImage, ACMdev.DevLabel)\n",
      "qry = qry.filter(ACMdev.DevImage.id==ACMdev.DevLabel.image_id)\n",
      "qa = qry.filter(ACMdev.DevLabel.query.like('% dance %'))\n",
      "print qa.count()\n",
      "if qa.count>0:\n",
      "    for img,lab in qa:\n",
      "        print lab.image.labels[0].query\n",
      "        print \"%s, [%s]\" % (lab.query, ACMdev.Judge[lab.judgment])\n",
      "        display(HTML(u\"<img src='data:image/png;base64,%s'/>\" % (img.thumbnail)))"
     ],
     "language": "python",
     "metadata": {},
     "outputs": [
      {
       "output_type": "stream",
       "stream": "stdout",
       "text": [
        "10\n",
        "kenny's dance shoes\n",
        "kenny's dance shoes, [Bad]\n"
       ]
      },
      {
       "html": [
        "<img src='data:image/png;base64,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'/>"
       ],
       "metadata": {},
       "output_type": "display_data",
       "text": [
        "<IPython.core.display.HTML at 0x3406710>"
       ]
      },
      {
       "output_type": "stream",
       "stream": "stdout",
       "text": [
        "kenny's dance shoes\n",
        "kenny's dance shoes, [Bad]\n"
       ]
      },
      {
       "html": [
        "<img src='data:image/png;base64,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'/>"
       ],
       "metadata": {},
       "output_type": "display_data",
       "text": [
        "<IPython.core.display.HTML at 0x3406710>"
       ]
      },
      {
       "output_type": "stream",
       "stream": "stdout",
       "text": [
        "kenny's dance shoes\n",
        "kenny's dance shoes, [Good]\n"
       ]
      },
      {
       "html": [
        "<img src='data:image/png;base64,/9j/4AAQSkZJRgABAQEAAAAAAAD/2wBDAAoHBwgHBgoICAgLCgoLDhgQDg0NDh0VFhEYIx8lJCIfIiEmKzcvJik0KSEiMEExNDk7Pj4+JS5ESUM8SDc9Pjv/2wBDAQoLCw4NDhwQEBw7KCIoOzs7Ozs7Ozs7Ozs7Ozs7Ozs7Ozs7Ozs7Ozs7Ozs7Ozs7Ozs7Ozs7Ozs7Ozs7Ozs7Ozv/wAARCADdASwDASIAAhEBAxEB/8QAHwAAAQUBAQEBAQEAAAAAAAAAAAECAwQFBgcICQoL/8QAtRAAAgEDAwIEAwUFBAQAAAF9AQIDAAQRBRIhMUEGE1FhByJxFDKBkaEII0KxwRVS0fAkM2JyggkKFhcYGRolJicoKSo0NTY3ODk6Q0RFRkdISUpTVFVWV1hZWmNkZWZnaGlqc3R1dnd4eXqDhIWGh4iJipKTlJWWl5iZmqKjpKWmp6ipqrKztLW2t7i5usLDxMXGx8jJytLT1NXW19jZ2uHi4+Tl5ufo6erx8vP09fb3+Pn6/8QAHwEAAwEBAQEBAQEBAQAAAAAAAAECAwQFBgcICQoL/8QAtREAAgECBAQDBAcFBAQAAQJ3AAECAxEEBSExBhJBUQdhcRMiMoEIFEKRobHBCSMzUvAVYnLRChYkNOEl8RcYGRomJygpKjU2Nzg5OkNERUZHSElKU1RVVldYWVpjZGVmZ2hpanN0dXZ3eHl6goOEhYaHiImKkpOUlZaXmJmaoqOkpaanqKmqsrO0tba3uLm6wsPExcbHyMnK0tPU1dbX2Nna4uPk5ebn6Onq8vP09fb3+Pn6/9oADAMBAAIRAxEAPwDxnFKBWpqvhvVtG5vbN1TtIvzL+YrL3GkMesTN0FTW+6GXB4zxVfew6E0okkH8RpFJnSQTi31C2vCCY3xvHseG/rXSyHGjxCQ5nsZWtAQesYAKnH0PWuRtz9psWQcsnzge3euksbmN9PSaQFmuY1t2B7SIeG/74496wejOiJ2WtMRp0cW0uJCFO0gEHy0/wqK0nksJoV3bLbOwHG4senT2o1X97JDbtwqlmZw2AvygD/0Gm+ZnVLJVJG6QsNoyCN3U+1NMdtDb81XR7fzAWHLAe9ZmtaMuoqWViCPm4P3iO4oiaSPUJobdV2rGHlG3/WE4PB7dau2d40sf7xoflJRgDxn0qrp7kcrQnhrxYy+RpmsOquB5dtcgBVl/2T6NXa2jOruHYFjyTXl1xZx3CSIVUhmAZfUY/wA9K6LwVqt8ksmn36NNBFGXW7dhmJR0Vz39iKcZ6WZM6dtUdzvII5rJ1a/b7fbWarlpAXznoBwf51fEib0G4ZZdyrnkj1rL1yUwNFNGiF/MVdzDoMGnIzjuNvczBIRwxy8LdlfsDWVNcfYr1dSu7qGyMv7q9E7DMqquAUAzjOf0qxq32oWypBNINx+fb8oFZmraBbajYi2WRkZnDGXG75hnHXt245pyQLqSxXdnDoghsbea6s4AJY2n+QAjp05OevNT2l7e65D5944VEfKBE9O1WLa3+zafHagLGsSgKHOScCpEWK3XCqxJJxGq8UuhTWpR1h/MZCMfgc1q+Dshrj3C1jal88qhU2YzkVueEVwbn6Lj9a0j8JlP4zps00k5paazbRnBOPSgAEh3lfSnA5qvE/mOzbWXt8wqcUgOX+Izf8UnJjvNH/OvKYgS9esePoJLrw9Hbwrvkmuo1Vc4yea82NjLaXslrcJsliO1l9DVoiRPaxnANasCEYqvbQnaOK0YkwBmrMx8YYHNS5NCryKfsoAiYHFRbGzmrZXikEfy80DK1+rfYrOTaGEO92UnGVyM1taJcxJBNbI0qsV3qki8qv17jmsq9ypst3MOGD/iRip9CCwPdiWRt0RWOLJ42MNwUfSsHudKfums5PksN/4YrnfEwf8AsgqFLfP06Y4Nbjsd4wCc1leJYi1gqCRl+8SV+lVHczlscx5L5jzGw49RTSp3HhuvoK0vs53xDzGzg9QPSj7Nkn94ep/hHrWpkXUBwQSSpGGU8gj8awdX8CaLq5dobZrGfGRJbjCN9V6flit1GJkwWIUjpVyNMoccc8VxXsdlrnjms+Bda0gsyw/bIFGfMg+bA916iue2qDyeR1r6EtQhyz9l47YPrWbrPg/RtcDG6tFWbcQJ4TtfPXnsfxqlPuK3Y8d0q4WKZQxBXOGH+yetdDosCTX0ulTSBN8iyQseRvXp+YOK07r4ZxW9jeNp11c3GoWpDLC6KFlTuBj+LBz+FYlmtx/bNhtjkjuY5UVkZCGBDDt9KmVnsXG63PQ3tob7Vp0uU3JETtUnp8pyP0qzZaTqb3aXNrZySIxIUsMLGN3bv0FV7O9t5vEt9A58qZ5nRY5OAzc8A966htMuYrImLXbo3ajhioK59No//XRFPoXKSRz8UclteXTyJLDuG1YpFweMZPvVWDP2GBlUiVpcKzDd1PXHTpW7c3TajYvFdMkdwvyk7jzx7jjmsrmKKzjuJIyqyBiIv4cdBjqaSdxoqW8E9zqaWsCkzOflAHv1NaWsyQw2Z0qyk480G5lUf65+4/3RUt1s0DTbgRsq6pcJulbvChP3R781gW/ysSCSiHjPWjYq13c3PBt5qX9rxWVxM723kyNErHJTBAwD/dro9SEzavDGEDQIu8tj+Pt+lYvhd1fVbfbwUt5Mn/gVX9Q1lBfQQQnhpgu48buOcVSMpLUfc3ITy0mUJ5jFVZjgN3FR3Eot0EhfCkghF71V1y0i1K7gEcsgSFjwIyST+PFSyR+eVZrdQAMjzZOPyH+Nbe7oY6k000TQb9pZiPlyTwO1OtDMLXdKWAHy/vCFyOx96I1kKCMSEKB8qRJjA+vWn+WmNxUMAeS7ZYd80eiD1ZWu8NMrB85HJHsa2PDfBuO+Mf1rHvST5bcc5xitXwwci49mH8qtL3DOXxm/RRRUjDFGM0UUAY/iWPzILMZxsukf8ga5TxNCi+IZmHWSNXHy+uP8K6zxET5Nr/12/wDZTXM+Ih5txYXI/wCW1oPzBqo/ETJe6UFB5IUE06S8t4CBJLEhJwAZACTXL+MtZuNPhhtrdzEZctI6nnbnGB+tefPdO05kd2f5sjcc1baTM0j3IO/XyjinCRz/AMsWrn/BGvvrmmPHOc3NrgOf7ynoa6bnAP1qtCdSEysDzE/4Cka4ULuZHVR1yKnIyRUF2MW7fQUANvJIpbe1gbcZJEZ0QDlsEfy4NLojLN9ttyMzjazt2YgAZBqLVYLgxWd5avie1jJCjqwJ5H5Ve0x7WfT5LqAYMjAIAeQPQ/jXNLc618JbjjeHGeR61Q8SskdohboVb+VaaM35DkVk+IJdlogWF5WcsoVMccdeaqG5nLYy/tMHmxfvBwvPHTIoE8JBPmLyT3pTLzFIbSUqODgAnOKalwu0bbeUr2Pl5rd2MkWUIdgwGB0OathisL7fvZG38qgfaSrbcPnn3qaJXO7K4ORkE9a887R8G0TLGV+8pHNSIQHAHAGcn17VCYTlnDlWHzDHapGQCOEnPXpQwsQwSqNZeXefLYLGQex55qxqVskiMrDAUFiVODke45qhONszN3LA/litW4cMgkYjbLGQD745rN3uzTojDTw9E1wl3HOyy7QytJlmJx/f/Kp7Jb6CF4Yr+NSyYhjkj5DA8knPNatiC4ixGXCgdBkdqoJaXFxrUiwwAgykhyv3Rn9KSvoUnvc29LWJrfF3bpLIx3M+CATjkj2q1Jp9tarLf2qbmUZCNzsP94fT0qSK2MadAcDBwelTxN5b7vXg+4rt5VaxyuTvc83MD3kb3BmLXE75be3BGc8/zqCHKSlW6gk5zkVoeKIk0fXXjyyQT/vYWYYU56gH2NUlmaUKD3BP6VztWOuLvsbfhAbtaduh8g5/MVf1WxF34igBdUEbhunXj9KzvBfOsz5zgQ4H5ip9av7i18SQR28cbtO5RvMPA4HNOOyIl8T9DU1FCZdse5fTD4z7H2qOONi7NtUhhhhtLAn+nNWUt7iXDSyopHQxoP61NFZQuMvLJLz0L8flWxjYr7PLVfMlA2D5TI4XmlQw5AR9+Dn91EWyc561djhtY5THHAisoznbUs0hjC4XOWA4FLUNDA1Q7WjyrrkE4frWr4UH7m4b1cfyrM8RNtuo+RnbWn4S5spz/wBNf6VsvgMJfGb9FFFQUFFFFAGP4i+5af8AXU/+gmub1H974b0ufccoXjJ/H/61dF4kOBaf9dG/9BNc4v73wSPWG7/n/wDrqluhS+E57WPCQ8TqroyxtbI2+RycBSOgA6nP9a5W98DWv2CGbT74zyuNoDEbZGyecj/PFegXdz9i8G38xyPOPljHVuOn61r2uiaMNFsbrdFDaxW6MrFwqLx/+usq3M3eJrR5ErSOb8K+H4dB01kiUvNIf3s397049qzfFHj230eT7Hp4ju7kj533ZSP8uprqb7V9Iv8Aw/dS6bOJLO2uYormRcruBZdwU+mD1ri/iF8N7HSrBtZ8Po628R/0iAuXwueHUnnHqPxq4yaik9zOUE5NrYwLX4j67HepLdNHNbhvniCBcj2Nej2uqQ6xocd/bqwimxgOORzivDmUDaNwzjk16r4J3DwRArHP759p9t1awbbszGaSR1NzOkUtnHuxJ5JZQe470/R1gtJLmOHBE0vnbeu0FQP5g1m6+AxtFV/LlSINE+Ojc/pV3w5cR3thLc8JJv8AIkjx91l5OD3HNc8viZ0r4TSc5kMgzgcVna588UX7tlwWOQcdq1dgVWHqKkNtEdkkih9p4Bqk0tSGr6GDbadeXrxyJH5a/wARb7p4/nW5B4ZtFhRWdmIHJHGa0TwgxwPSrUQUxqabm2wUEkcMY1Qhmclsgk+3pUxldg5iwADgEiqyBwyg8rnrVhjtbA4Dj9a5zcEmQQbTkvxwRVmZcR57LjH4Go/L82JSFySuRVhzuQY/iHFIZRwJZ2BUjJ2c+/epoJr+2j8qN42RRlgy9KmdAT0GSCOlLPIPJ3DHzphj74rN9ykyzp0t7cLIzlQHARQowB3J/Kr7lbGMJAmT1ZvU1VsJP3CBRjaSDWpGoIz1rqhH3TGUveKEVzPBIJXJaB+vHKexq/hJF8yNsqefpUEM2+Z4ZNpRyQCR3HUU5bd7Vy8GWT+KM9R9KpabCdnoZ3irTLTUtCeW7DbrUEoyrnOe354rg7XTLiL/AFEUw+XG1xwPwr1GZ47yynhRELOhAWUfKT2z+NcsmkeIjI2DCNowR5Z4/HvWNRXd0aQk0tSLw5G+l3MlxNbzyNIm3aqjAOfrTtQspNQ1qLUFSaIRMWKNFnORjrVy1s9XGCbi3JHVTGeKuqusKhVFtCexJapinYHLW42C5aONU+zXLnHOEqWO7WEf8etwNxz9yoi2uQsE2WjnGd2SM0/frJwXW1Ge2TWl2QSrfR7i32a4VjxkxmnHUos4EM7EHtGaYp1NcEx27D03HP8AKlkutQX7llFn3lP+FHMwMrVo/t1wJVWRAoxzGTWhoFymmW0kMyylnfcNsR6VYNzfgDdaxk+ivSK11I5zbog7Eyc1Sm7WJcVe5ojV7XbuKygepjNMOuWI6tLj/rk3+FUJ5r2PbstI5gTg/vcY/SniW4X5TaZGOqOKV2FkXf7bsCu7zWA9TG3+FPGrWJP+vGf901nebMePscnt8woa6nRQGsGJ/wBlgaOZhYbrksV8sHkTp+7Yk5OOoxWZY6bMnh/UbOQoWLLIpDZH51q/ap3YYsSo/wBpxU8E8jyvFJAUJiJAzkHFPmYcqPOfiF51j4Us7OM/vPNDvtOeDmvNZb+4is1tjI7IDkKzEqPoOlepfEeQygLtyqkAnsDjIFeW3EJkY8YArandxbIqWUkizoWq3CxX+meRcXMN9CcxQdQyjhvp616l4C1+Hxb4Ym0+7C+fDGYbhB/GhBAYfX+YrF+EOnW8drqepS20k0kkgtlKrnamMsPxyPyrF8HafqulfFeewsISsMcji4UghUgJyCf0x71jJe8+5pCTSRyut6LJoGt3GmzKzPC+EIH+sUj5WH1FesaHotzpvhaxs2RRIkYeQbxkE8n+dN8UaLY614+0WREebyA32xYuSEXlSf8AgXH4117XVqo4hdfrEaqM7akTp62OY13T7m/SL7Ou5kjxncFA/WqmhWepWVnDHNH5bm9mlcb14UhQD19q7Frm1fCsMgnvCartNYhiDCW7/wCpNQ99yk9ADqyjdKpb03CrKSIVUNICobnmqxm09iP9GOT6wmmF9IIwIf8Axw0J3C1jX8+MxYDqT9asQyp5S/Mv51zG7Sd5CqFI+98pq9E2m+UvzR9O5NAGJB87FgcqDx71Ykj3x9s9vr2pqhR93G3/AGakMirKgLhQDuOf0qOhd9SRYntpPLWTegUMc9vWno37sM2Bg02MPvIkYs0h6+nt+VOdNhdGOFzkH2pdBgcl1l/hXg1BeyJEJIclSwyOODT3nzAFXoT+lQs62sP2yUCRy3+jq3O5v7x9h+prN7GiRoWTNAwhkI8zG50/uA9M+9bEEu8YU4Ncpal1k3szPJI25j3JPWuj08MX2r26+1dFKV9DGohZLO4WRmI8xHOSU6g1owq3lqZMBwOcHrTscdaaWK/StlGxk5XH52nOxc+tMMk8J8zKmIfeXuKjWXe/3gRU00yw2zuwzxgD1pSGjCvra6N7JcQXrJC5yvyggeoz9ajUarsdhfpgD5f3QpsUUyXHnLcMQR88f8D/AIUkNrMJWMt5K0ZOVjAAA/EVz3NtOg82+syqj/2kit/1wGKcYdWR1zfREf8AXHk03yLgcjUJwScAAAgfpTkjvBjdqMhI6fu1prUl6E6xapwft0TfWH/69Kq6kxyZ4CAevln/ABqNYbjqNQmY98qv+FHk3m0CO+KjHO6MGnYRNL/aMaF0e2Yj+8pFQifUkIDm1JPXarCnmK7wP9OD894hQ8N4TxcRdOpi/wDr0CYhl1JpAqx2xB7lm4/CpwdTRc4tTx/tVB/xMEwu63f1cqQfyp7PqBAwLf8AM09QJBNqBTcY7c9gMkHNQNNqSkAwW5GeSHPSmpPqZ3D7LBjPGJDz+lKZLz+K0j/4DJ/9ai67hZj2muwfmgib0+YipLeaZdSt/NhCb0cLhs54qDzLt2wYVIHQbqb9rkFwqbI47ho2SBmOdrEgZouOKPOPiFqUj6s9jsMYhYu4J+8zd/yxXLab5c16kH9n3GoyOMLbwsVLHsSQDhfWu8+KPhe8ubaLxDpkZnkjhCXsS8scdHA7+h/Cuq8HeGrbwxoCRFQ17cRhrqfuxI+6D6DOK6FK0bIyceaV2U/C1tpnhiOXSotRh865IumtWkyYMgAgN/EvHGeayPGXjOx8O3dzBpdoG1S/CGR1UhpOykn09Mda6QafZ2mpi9itfNlAIHALYPUfpTriDT73Ure+udIeW7tQfJldASnt1xXPvubaRehm+DdMv9H0l5tSt5ZNTvZPNuWyp2joqDnoB/Ouh+1Ek/6PLn0wKjk1OIIWaG5GDziLNRR6rHHH5q2lwyt32c/iKE0TuSvczJki1lOfu8CkS8kLBns5gR7Col1qORi7W1yAvQeWaQ69Bgk29whz/FGeaGxosSXeDvaCVRjA+XJP0qo94Ov2e4GTgZiJzStrduDnZMxPfYaemsW8nVJVA/iMZxTJYyK+jTG63mBPIBiNTDU7bHMEuf8Ar3b/AAqCTVbJnx9oVcDuCP6Uq6ja7R/psP4tRYDIIKOyxAKjDoB0NJsCOyjoQD9KVplhkzJnaRjOKkVwwU9Q2W6dfSoNC6GAKnpk96hmn3BnHHUAfSpGAbZlcgLkj14qgytcXCxowAxkseij1PtUt6FpBZyeZHLLPuEEXDEdT6KvuarXkr3JdpiFY4CqvRQMYUfSkaZtQ1CK0tUK20WTF/ed+csRXT6XoyWpFxcBZJzyB1WPjt7+9TGDnoOUlENJ0sxxLcXClXI+VT1A9a1IkSIFUUKPYU4tmo3mjiUtI4RR1JOK7IxUUcspOTJw2BVG/voo0aJZCJWGAV52+9Yl7rk1zL5Nqdicgvj71UrRpHhWQ4LdHA9aiVVbI1jS/mNq3vvszIk6tI2Bll6N7inanePqRihtJnhjU5YlQSaroI7y3MJcRvj5JMZ2H6dxWH5XiW3vZbeSayRUAMbeSSHHqOaxcn30KaSNU2F0sob+1pgc9Ni4/LFLBBrJaQNewOgb5WMQzj3qtDLrLJ862TN7Bh/Wp4ZdWjY5hszk4GGb9anQC0ttqX8V7CCT2i/+vQkN4pKtdRE56mLr+tQk61JyFs4x6ZJzTidUhjLzQW9xjoiMR+tNNCsyWM6kd2ZbYemEPP61JANR25Y2+PYGoklvmGWslCkdBJzT1urmPj7A54zxIKYgmOrdENttY+hp8a6pxvlt1GOymo3vnBCtp83zHs4xT/OuU+9aP7bJQaasJjnGqZ4Nu30zTGn1JGVSluwbqSTx+VBvpBkmxuFA75BFSLOz5b7LcZXoNvWnp3FqKlzdD5TaK3Gco+P504XFzwzWbrj+EODmoVv3CA/2ddow/vFf6GpRqeCFls7hM99mR+lK47CPfTDLfYJmbsqsvP61m3ly51jTX+yyBll+4SMnj+lXm1exRyrs6N6MhFZt7qVs2rWU0Zfy4ywJ29TtPSi+m40tTZSZvtV3bsPuynH0PP8AWllmPkD1IpkjL/aDyDpIiNn6j/61NuCBH7ZNaJ6DsVVufKlLMkr54/dLnH1p66lGrBpLa9X/ALY5/kaiW+tbRsTMwLnIIQn+VEWv6RMGZdSjwrYIZWGD+VSn5kzWuxYbWLfp9nuxnuYSBUb6rbp8zLcAe0JNLJrmlAbjqECgDuTTl1bSyvyajbYxnBlGaLsVkNi1izZdzGVPZom/wqKXW9OyFMx3E8Dy2z/Kpn1jSxHltQtlB7+YOaZ/a2lRuCb21J7ZcUrjsrEK6np7T/LOW28kCNjj8cVN/bOnZO25jPbJOKBqmnFmZb21Lt6SDAqHdBNIPLmt3J6KGU5qk2yWkSnVNP5LXduM+jCni800feu7UH/rotR/Z1LhvLiI7EbeKlW1XHFqhHrgUagrHPpxPsyTkZXNTpIVZ8jIQcfzqBz5bCXaW2nHHvTHEluGuGbJx86DnArI1LrXT7vLRd0jAKAvfNVrqRllazVgwHFw69Cw6IPYd6ilv3soy4x9ukXMYA/1KH+I+57U2NAqKFzgDgetRJ6GiNDS/wDQ7prpTnzEIx3960rjxAICq+UXH1rKSNQB69jVe9OYhKepaiNSUVZCcYyeput4hLIPKh254yxrlJfEGo6lrbWs1vGbVWbZLvIbA9unWkm1WyhJtri/itmA3AOpOc/Sqtp/Za3CP/wkdlvJJ2urKWye1ac0pbkJKL0Ny3QidT71Wh1YJuc6XO3PO2UVftNpdXVw6ZyGU8EeoqvNZ21qzLNqVtEN5A3uV5J4HTrUmk2Og1zbKrf2bcQRE4LMwbn8K6i0u7a8i2um8EdD/SubWGKRVWPULLCtk/vsVeggkQ70ubZjnjE45oTaZN01Ytaikunyotvay3Ebjh1YDHsfeoftE5Qb7C465+Uqa17aUXETW0xCv0yDnB7Gqwt7wN80fzA4O2QVT8iNjMi162ZS0lvfwoCQWeHjj6VJ/bVgxH764VT0BgIq8LKfLf6OxG3B57Uz7JchAPsrnHtS1E2iE65pSEA3p3N0yhGacuq2KykC6VmPG3HSpfs0oA3WhJHTKZqWOHADNbsGPUhKr3haFc6havz5wCg8kClN/Zn71xjnj5G5q2kbLHjyiD3+WmvG5cfKeOhxT1FoVJdRsgNr3O1T/sMM/pUn9p2XlKxv0wTtHBHP+NTS5ijeTyyzqpZQR1OK8z0uXWvGmsX6pfpa20JUMXj+bJ/hHp0NJtplqKZ6Wl9aMu0XSFj0zxke1SC7gbGy7hI/3q8u8T6Td+HNuoWGunUpbUjz4pCGZB/ewOgrqPCOsweIbNmlso45IgNzBQQT35pczG4JHRTx206gNcQEg5x5g/Wsi68ga7Yw+fCUIfLb+BxwM1prawru220fPUhetc5q0EMniCzt2QImNxUDr1ptPcUWrnTXKlWgIIINuBkH+6xH48VFM5ZljYYVl6npSSQRNZaftQFIZWCj05BH9auzIoTJ5571UdQuVVQiMBdpB7kgCmizADEQxsTzjjmotXihntPLmRSiMGXPY1i/2bYks2HAA/hkOBSb12JZtSWDsuJLI4xx8gqqdLkkb/jzAAPeMHiqVhptlG8mPPcYyN8rED6c0NpNujB4zNGynIZZiPzpXt0FY0V0tEJzYrz0/dDAp32YMw8ywXI6Hy//AK1V7WxZyyi+udo6/vDU5s5YWwl5Pg9Pn/xpp+QOPmQz6daG3CmxXeTyRGM1nt4ZsZpFaS1Xk9xjFXZLa7kkAk1C5dPQPt/lTns40jX/AE25U9ADITVJ+RLRJ/YOkhPLFuowOSCRmk/sPRu8IB/3z/jVcWt7ASp1OWRc5G5Qdvtmpktb9kDDUOD/ANMxRdD1My5lWIkM2EYjPOO9MuLvyh5zqHO7bDHn/WN7+w6moJraCFXlvXJRVyxY8Aew9TVOOVriY3MihBjakf8AzxT0+vc1kzoXcfbI4nknnfzJWJLue7f4elapVRGrY5GP1qhAFY/MOGbOfXirj+YJArYwqispDW5ZdjvX1C/zqG/x5S/MPlNRPdbpwvQIO9YOua/eWGpxW9rbwz7oyzCRc4OeKSVwbKt/5EutsSqyFU+XIzip44YfK3NbxAr1G0UyLxbqIJ8zRdOVhz80eMirQ8WXJxnSdLx6bMZrVuJmlI6LQQp0+PbtAUkYXoOaqatYWkusXDPErElS2RnnaOa0PD94dTsBctbQ22XZdsQ+XjvWPc+I7z7ZKB4Xs7mPdtEjTHe4HAJHSkrFyuTx6TYghnt4uSQOOKsPpOnyR/8AHvGR7GqMPjBZZWgm8IBTH12zcAflVuPW7WdWYeFGVVA5Nxg0nFdybs0tNtobFswb0b0Lkg/nWpd6Fb626alC8kN8ieUzI5USKD0PuPWufh8S2Mcwhk8P3iEpuG2fcMe9XrfxZp9tMvk2F/GzjcR94Y75FUmloJ3GS6LMshEt7eKyN8ymYill0m8ltpI31e956Mr4x7V0L3mm6jbG5dlOE3K4bbuHoaxV17TdoRtO1JFY7TgKcfkaHFLqF32I7e0vIYlUapeOMDh3ztq0ljdOhP8Aac4Psahk8Q6LECXg1EBR08qnx+JdEJIUXyADPzQ4FK3mF/IcsGpIADqc3B6nBzTjb37oqtq0+A3UHGabFr+hTztAJrpXAz80fH503UNZ0ez064uFnld4Y2dYwuCxxwPzqkvMV/ItfYb1T8ur3Q9ATkV5t4Yhs18U67p+rw7LhJ/PiyxHIzzjuOh/GmXvxM1meLbbMkJYcFF5/WsLTNRig1461r09zOpidWlHzSByMKRn0/lWvsZWZMaquj0y/vbN9H1CeSzjSSWJzKVXlhjpnHWqfw4utQvNAkeBvssL3DyJmIHgnpnvioNNurLxEV0/+1bKRZQyqiPteUkdAnUH1z0rH8M/EKbSYU0rULCDyrbMW6AbHBBxkjoazhCXU2q1I9D0h5dWRtv26PHr5C1Xku9VD7lawkI6M0XNQ2Hinw9qsqWyamsVwV3eXMMHH16VeZbAnK6rbj6nFVa27ML32GG6vm0l55Irc3MNwNoVf3ZBXHIq5MWms1dwu50BIHTPeq5MLaffJFdw3G1EfMRyFw3erdvFG1jCizCQEZEi9CM9qaK7GXqd1NZorRW8c7FsFZegHrWcNVuX/wCYTaHPoP8A69aWomCZiRdRR7W2l5CQAfSqkViVyV1GzYNzxJWb5m9GU7dinBqV49w4Hh2AAfccSEbh9M1YN9fA4bRrbHcea2a0YLGZI/kmtWJ4Z1mB/AUg027D5MkX+z+8Bp+8ToUFv7xOU0OInGTtuSD7Cm/2rduAZtBZMc5+05xWoLC6APyoR7OKbLYX4B2Qgke9OzJuZQ1rcF87SJkJz9yTdio5dXtsJnTL05PORjFbCWV3GPnt2JqJ7O8cnFq6gdCapXFoyguswGRtmm35OOWBH9acmtW4Uf8AEr1L81/xqd7G/Vm2wOePSohZ6n/zwlH/AAGqSbE2l0PPLGL7bNFqBlnniQ42zPkk+uPQV0Mccc4Zm6qOo7/WqNlaiGIQoCpQ8r6g1owxeXG4XgHP8qwZuWIo95RWwM9vxqxNJvLMuWZgcYqnbySSbWHJH6VYkwsZw+A3H4VnPQuOpVB3S4LIGboGcKP1rNvPDupXeqG8FxY7WXbtM44qreeRd6q6zfMsS4GTSxafaSNJ8rYGCAHPNF+UVrlz/hGNVeJlBtZCW3BhOvHtTP8AhEdXOf8AREf02zCiKytxtBMgHYCU1Ff6dDLDJBFcXETYOSJScGjnXYfK+512jaddaf4ae3jgJvAr/ug2SWPTBrLg0bX4wCdMk5Pd1/xrdN9/YWj2OwiRmjEaZPJwBkk1gGAzyPMb66V3JYhJyBk+g7U3JIVnce2g6w9yJ30uUuqgAhh+Per8Njqij95YTA57isgS6lC6quu32zBB3MG5+tWUu9ZBUJr11n3AOaXNELSNBbK9WZT9iucAEFlWpmsrp33G0nUquAxjxWYdR8Ro8bR65IyH7weMcfTFWItc8Ss7f8TBCM/LmKneAveL6WV0gCCGRcnOdvFWPIm4zBMcdTsNZ51vxNyqXsWSuQzJwKmg1fxUYkZrm1lYj5iIMD+dUnGxNncvRxuC2InGeCGWnSIoidmi5xziMk1TOs+KOdrWR2/3oyKB4j8RRYMtpZsvfGaq8SbSJ4YA8nm+ScFePlxmvOviH4nWbfo1vC8axSfvJG4EmOw9gfWup1/4ha1o1riSzs4551PklWJK/wC0R+NeQTzXGq3qx7pLi5mfaq45Zia2hFJcxE29hlpMryBX6FuPavQ/h+lvJ4xs4JkjljkjkG1gGGduRwfpXn2saRPoGpfYpiDII1cgNnBP0qz4b12TRPEFhqvLfZpgXQnGVPBH5E1qqnu2MnD3rn0RJ4R0ZvEdpr4tFjvbVSqmMBVbIxkjuQM4+teHeI9NW28T6tBnbtu5CpA6ZOf617rDr8ThWlhaNXAw3Uc14X4/1ON/GmrNAQE87HBzkhQD+tVFpbhJN7Gb4XkgHiyze8n8tBP8znlRxgZ9ieK9sbTLNOPsyZ7krXz7ZSLwX5JOSPWvZfCnju0utMhs7jT5bm8t4wryRnhlHAY5/I/SsZxTXMaRetjp7aOKISWyIsf2mF41AGMtjIpb6aWK2tYIW8smIjjsQOR+dYt9r8d3f6a1taTWvlXO4szcSDGMYps+uW9rcXUVza3U8iTMY2iXIUGsnsbK9hdZtY44LKCfErOTM27v2zSQWdptcCFO3btSHVNHvJFlu7G+d1G1WMZBA/Cpl1Xw+jE+TexngfMrc1KSuS2ymNGsd5ZEKZzkIxAOakh0OwUlv3wXoMzNir39oeHWB3NcxDH8eRn6GpV1Dw/sXN8wU9AxFXypkptFAaPpxlMsZljcDBKSsOnqKmXS4gh2yzEnn5pGJx+dWluvDxbcuoKD3AanyTaOFaT+0NqqNzMOgHvS5WO5jSaTFCWRZZzg5Lea3zH86hNhCowss4+k7f41ptdaEqsf7WUg8kg5qtOPD82P+J5sY9sjNOyFqVhBBsctd3PB6mVhiohA5GVu7kDt+/b/ABqddL0RXMn9vyyE4xuORx+FTi20fHOvKD9BTSXcT5jn2USTBclfcGiGeUOY2YEZPJH9ajgO4Hvz+VVJpWSdj6GszQ3rZHih8zjYR+POaoXtzaNcIj6lBbNtGVkJz9cVcE2LFSwwNuetc/II52nkO3O4ckZyB2qLXZd7I0I9F0iWRpT4hg3OMEhhjFXYdBsY8+RriEuNuQ61n2mn2P2SOP7NECRz8vU1JPo+mzgh7ZPkPGBgiokxo1F8Pzn7upRMD0LBSf0qGfwpdMg/4mcaY56Dms8aRYxswjQgY4G48fTmj7LbAnmTcBjBkbj9aVg5jorjTb3VLSzt4ZERrVCrO4+Vznt+VEfhbWV6PC351iWtjE6FTJcKefmEzZ/nVtNNt1iGZrhDu3Z+0PkfrT9RNl0+FdcUciB/xIp8fhTWAdzJECeoDdvyqjZ2uJHcahdgFvlAu2+UfiatzRTx5W21e/gYdGW5J/Q5q+VdiebzJn8N6uvKqh9FDVLFoOqRov8AowAHX56z9PufEds58zWpblSct5q5Kj2IxWhPqWt/KLXUk3luQykjFOyQrkn9l6oGB+yZAHZhVyG3vY1Aa0YDvgg1SuL7xSsTvb3sB+X+JMkHtU0N/wCJfJBkurfdjk47/lQuUHcllgvDKWS1l2j+HjmmSxXLoQbWf2+WmjV/EO7CywtzgkqP8KiufE2v2U3zR2rwpEZHZhggj6D0qkoiuzzTxpc/atbuvO/5Y4iUN1G0cj881Z+HHhuVp5NeaEmEbo7bIzlv4mH06fiau6l4E1rVfDcvio3Ns73i/avIwQ2HORz0zyOK6i18Uy+GPDsNs2lKsNjbhV5HzYHU89z/ADrok1ZIySd7nlHj0yjxpf74ym1lCj/Z2jFYBO/J6EjBFa2v6vc+IdaudVuUSOW4fcY4+QoxgD8AKzHUk/dIHbOKEgueuP48trf4W2FwiLLqciG2CMQAGTgufbBU+5NcP4e+H/iTxYGvY4hDbOdxurpiiyH/AGe5+vSr3w48HW/iPUmutVlA0+xYZhLf65zyF9hxzXcfFHxo2hW1hp2lSRrM53uij5ViAwBx0z/Sk2Wo9ThvEOi3nhy7dLjT1tJZvmDBh5bDH8J9KPA8V+fFtrMI5Io9jmRl+66Y/wAcVz2ra9qfiO6W41KdpPLG2NBwkY9AKLHUbmyvre4t3bzopFZOTyc9Px6Vo3dWMrWZ7Dr2IkscYGJSQBxjpVnSZFlN7NkYa4PU+wrO8U6rHqUVv5VlLaPGGZg/cnHStCwv9GsrYpHa3Thm3uzEE5PX8K5nbY6rPlLiz8jaFGD19al+SR+SuV5xjrUA1zQSzKUlVl7VKus+Hx180E9jj/GklFdSHzdgmAaDEiqxY8DGarfZopFxLEjA8cqKsHW/DZxuuGXnjoajl8QeGFYr/aAJA5AGcfU9Kt2JsyhLpGntuD2kRP8Au9alg8O6YbZS9nCXyTyvapG8Q+G1Bc3DFVHLbc1KPEHhKSJGGpqUk6EBhTViXcQ6dYKxK2kOT1Owc1HNZ2i5b7HAwA5/dipxqnhcrldUAHruJpkuq+GkBJ1JQAMnrRoGpnyWVjKCRaRxse4UVmNoLBjss4mXPBwOa131nwsWDLrCMMZwCcY/KpBrXhXHOsxg+m8imhM5eJ1RSoPJNMCRyMC+0gcnJ4zTkRTEHfBJPPsKhuZUS1O3kgYx2rJmxdis5ryAxRXsMYJwC0ik/QDP86ntvCUiRktMshPUl8VxFno0d1bmRppEZnYHb6VoNoJMXyX10rg5BaQkGkmloD1Oyi8OzLjEijHTmnP4fuT1uvl74HWuZjttqpu1G5G4ZwrCrKWUxKuupXC72wAWqGyjbGjahu2rMrAeq04aBfO+5ip7fcrPSz1E9NWmUr3U1Fby+ImaSOTW5cpKVU7ei460+ZC5TXXQ9QWIIJAOc5C81OuhXzoFkOfoMVlW7eIo5DnW2nU8jf8AKRV4XHiERmRL5AVGcFzj+VF0KxZh8OXaMWAJJ7e1S/2Dc7v9Xg/U1Bb33i7yA0k1vKW/uttx+lKNX8UJOI2EWzHPALZ/EU+ZByloaFqODmJcdsPQukajbyF1gjYHqpbp9DSjXdfjIBswU7fcyf8A61EnifWFjJTSyX7BwMH8jQ5RejBRe6J1S+VSBYv167hSrDeEfNaOD9c1FH4u1JYSbjS5EI/ux7h+e6nr40vDjGjzMvqF/pmi0A94hW11ATM3kuqFs7cZzTGt71pNzQyYI6Yq6PGsq/67R58eqrn+tVbr4jW9m6CbSblVkfapwR9fWrXKS0zZafT7Dw60d3LshggzIsf8Cgc4HtXj3jfWtTsdXn0eW4R4IyrxNGu0OjDKk/gelddL4v0+5cRFkjtLq2lyGIGwoSHQ/VG/MV5Jql/NdXbyzTmfgRpIwwWVRtU/kBVwb6jqJJKxBLKz/wDLR6hBVDu3ZP1pp3McKCeOwpyWc8hACYz61dzJI3/Dfje98MwT29vBDNFNJ5hEmchsY4IrP1rWbnxFqbahdqiuVCYQYGB0qm+nyxYLsoz0oWIJ1pJK9ynJ25RxYImTx6D1rtfBXhsJLFq+podwObeFh0/2yP5D8ad4FtPC1sRqniB5Jpo2/c23lbo09GP94+3QV6D/AMJj4MllCC6IcjODAw/pSc1cSi7GJr8gkEK4wNp59ckV0diURWG3bg8ZrB8R3um309qbCTdGgw524x8w/pXUm/0J0WRbyFUf7pOeazaTZq7qKRmtLvkJCgksckKKRfJVjmNPrtya1Fu9CZR/psHtUwGjuuRdQbfUGmkjPUxnS2bLbIgex2imx2ttEXCwxqTyQU6+9bEqaGE/fX9sqkZBaQAUqwaOzHbqFsxxx+9Bp8qDUwJkiEZVY48e4HIqAWFu4TzY4gueAEArpm0fTZhnzonHbDCo20azVtwmiA/3xRyruF2UY7PTQgX7HApUYxsFILSwVc/ZECn0Gc1ek0iylwTdqSOm1+R+tQjRbSPCrcMAP78p/wAadl3C7Mq4trSJh5cKAMDn5B09Kj+zW3eBM/7orWl0eFHDvKq5OFYydT7ZNPXQiRknPvmjl8wucK2LebaTlWHOapTW15cMVgiYx/3mGB/9eq2randWd3BHahCxyzeYNwNLH4s1OGNpGtY3KnBO3IBqFoU9S5ZaRdwW4j2tIAc/MuMVdhtJxnO0HGMMCMVVb4gXccIYaYM46bSM/jSp49iuAXl01wc/dBJ/XFPRhsXBp85iWIIrbc/MDyaHtL1SgSMbh0y1Vl8f2KMcaa+QOzEH+VX7Xx3psyqzWNxknGFG4j9KVohdlpZr1SyvZk8D7pHWordL3znzathmz1watReNNION8MqE9mQ/4Vdi8W6E5A85Q3oy4NTaJV2UfIuBw0bY9RzViQuIwnlSnI5IXNXo/E2gk8XUQ/IVOviLQuAL6IkjovJ/ShqLErlWOVinymUKOAoQ5FO/erNuMjjK+nWtGLW9ERd/2pVz/FtNTrq+iyqSt/AQO5OAPzotEbuZe7EeS5ZlPepfPh28kdMVfFzoxA239o27ofNBqwkemvwJ7c/SRaXIguzFke2SFst8vr1plq8bAMONpwe1dALewY4WeD6eYtPGn2o5TYc+jDmmoIG2YTshfLqAuP4jWZqIs5mRF8ouv3RnOPWuxNhC3VV+nFRSaNbP96FT77adkTqeC+L7KK28QTeUoCSqshGO/f8AlWbpyx/2gnmRo4IPDjIzXXfFa0jsfFFpDGMA2Ybp/tGsDwvZw6j4jtrW4XMcivkfRSRXRdchn9otGSMtkRJ+C0+4ntrSzNxNEGAO0AKMk1vzeCo/MzBIUXPrVHxD4O1J7KBLBTcbXJZDJgnjjANc6i2zVysjjpRfX8kUyQZWaTyowMY3Dnbn1we9SxaRdDUY4Ly1lhX7zbl6qPenOt3o0NxY39tLaySlJE3jBjdDkN9CCRxW5Z31xq0UUYWUzOCBtIw2OuK6GtNDBPXUfHb2uFAi257kZzWhp2mwmTPlqCRg8dqlsPCWqSrukk8tSeN5HFbtl4RvYWBe6H865ba7m99DGubG3tXEESgLLjdjvk4/lWsvh/TEijRbVXwAOM5qDU9OlttatrRpA7yGPH4tXSNolwGLBtpq+UcnojCPhuwyxWJgxPO2RsCpH8PWMKAl5Qc8ASHmttdNvFUBSAB0wtJ/ZF5K4Yljjt2pKDFzGLZ6BpwkPnxGVgAR5pL4Htmp7jw5pUsgC2KeaxzlRjFaf9k3qTeZg5xij7BerIHCEkDFUosjmMibwtpm3CiQE9SjkCoY/C9iqkCa4GMgHzCSPoc1tSWl6eNpFQPYXhjZB1YYyBT5WPmMceH2eFQup3ccYHyqshx7d6jfw7cDBi1u6UH+EnP862zbXqAbYxxjORjiq8wv84W2AGOeTgUuWQOSMddGYHbeX0t1FgjZJyM+tKugDA8m8vETsqztgVfmS8Krm3JHfk0i/bNo/wBHz+Jq1GRPMjzq8mae7Qpk4GPpU0ZYfKQSrNuPFbo0eIj5FCqO1Sx6SpwFU4PtScYsabMl5YmAHQ59KWJ41AUYA9M1vLonorEDrxTv7FjzgR5PutTyra5V2Y4S2zu+QHBFXdO8uPLfLxwMYq7/AGDAy58pS2ehGKenh5AMeWAT2BqXBdxqT7A8seUl2glCM5GajnSETo6jKsM1YXw6/TDKM55NSf8ACMu3zGRuOgzU+zXcrmZEtjbtlREnzc7m5IqqLCzMgD28atnpt6jNX28P34G4TnHYFuaibR79/leSTA9hUqm+5TmhU0jTpf8Al3CgnA2moD4e0+e2YSoxDMcKHIGKtDTr/aEUyBQOeKcLTUsbAj4H+zT5GTzJlCDw1axQoIpJUU5+Teasvo0W3BkfjGMnGKez6hG/lCJmJHO5Dj86mf8AtIhB5AwTkAUckg5kVX0JB8wmkIxkEN1pkWmjy2YXU6MOi7+laAku1Xa9sD+NRGK4Lhljb6A0KEg5kU10rUMbo9SudvHJbcelMis9YMaAaxOGDdxxj0rVilvLcErbuPU5zmobia5OSbdwfpV8rI5jkPE2k396Hv5b8XEsMZVUKndgc4/WsHQpLpdZtWikVZdxCN6cGu8nvfItpGlWRQisT8vHSuElgbRZbGdZAZmiS4wV+7k8DPfitopuLREmk0eg2l74gdwons2AGcGIlh7davx3mvmIs1vY7iTtKq2D+tUdCvI7y1W6GF3rkL/d9RWt56rDs3gdzuIFYXmaNRMuS41K8QwavotpqEYY7WLgEA9hkZGPrVO1tYNFvft0GhyK8YO3bMCBng4zW6JkbOxhIem1CCTUku54/nCqSeAGB/OneQkkVbfxddvBKY9GmEo+VBMVCA/Ucmnt4r1hML9lgRv9nDfhUk4CxrHGyBSQSD7d6minhdELBQx4JxijUasc3ea3f3mtR300f76FkCIFHY5HFa8PjTWMMX09+OpEQ/xrHv7hW8R4A4Mi8j2FbNhctA2QFx34pNtMt2sXI/G950exd8joyBf600eMtcALR6TEy54+Y1HPNJcRNKdqR44BHJqPLsB5a/rimk2Q2iyPHmqgDfojjHBwM/1oi+Ijsp3abIMdSEI/QmoWkZlAzlycKKWMCOM7iFUcEkdRVWYuZE4+IUOzMlq6Y6kxNz+VMb4h2fO23ViOwDg/yqnb2cLyNKEBjH3cjOferIsLRyXkhRj6kdBUczLshy+P7dgC+l3AB6MDwP0p3/Ccac67jaXKjOMkVju0Pnu6oux22oFHAHenAxKMGFSy/d4/zxV6kXRonxvoRlAJlwfvZGNn1q2ni3Qto+Zz+ArjkgjuLjax2PL0JAxmmCMKCryLuBIOBmndiNBM7uWzVuKaYkDP4EVEsS7jU8a5IG40XGW4/P2jkD0qxG8hbDfzqrDEGJDMx+pqXywAAGbHpmpKLnlK7AuoJxUqIE+6o/KoreMbRyeferUUQz1b86m47AF2Y+XrTwCcGnhAxwSasJCuMc4p7i2IVUd2zUgiWrMVtGx5zVlrSIKOv50rDuUkRe4H5U/y48dBirhtIwBjcPxpwt0OBk81VhXKawoew5p6xIh+6Oaspbpu6ng+tTC3Q+tSMom2hY/cH5UfY4idpjX8qutEoGagkcqARincNCJtPhK42DH0qB9Mgb+Dn1rRX5owc4JpHQDueaYjzb4jSW1hY/2fskD3Ee8uuAGXdgoD2Pf6V53J9s8RahHDaWymYRrHHEpzhQMZJ9a9l8UeHNO12e2+3o8ghyEAbAGetWtI8M6TpKZsrRYmI5YdT+NaJ6GclqYHhHQLvTNBitr7b5yszYByADyBmtn7AmPmCE+hFbK20ZHOT+ND28YPAp3FYxPsMSH/AFajPotRtYxk4EagY9OtboiUZ4oWFCelO4rGB/ZiBwfJXH0ol0iORB+7Bx2roxbx571E0SknqMelFwsefXnha4OrrOhAh3A7N2OMVsw+HIo0ynmZIxnea6RoEJBI5qQQpt70m0VY5x9HRh/y0BHAG81H/YrkcSSD8a6sQJjpSpAnnYxwanmHyo48aLdJn9+w6gfSgaLL/FKePUda7b7LETyKPsUH92jmYcqOIbSbhU2rMdvXgVXfTbogoLhiCMdK7a5tohHwuOaYtjAwyU5FRdlWVjg/7HniACyMoAwOOlDaRcgZ85s554ruZLC3IPy44qH7HDjv0qudk8qPPZtBlyds7bueRTo/D955Y+cfjXZXNrF5m3B4prQqDxS5mPlR/9k='/>"
       ],
       "metadata": {},
       "output_type": "display_data",
       "text": [
        "<IPython.core.display.HTML at 0x3406710>"
       ]
      },
      {
       "output_type": "stream",
       "stream": "stdout",
       "text": [
        "kenny's dance shoes\n",
        "kenny's dance shoes, [Bad]\n"
       ]
      },
      {
       "html": [
        "<img src='data:image/png;base64,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'/>"
       ],
       "metadata": {},
       "output_type": "display_data",
       "text": [
        "<IPython.core.display.HTML at 0x3406710>"
       ]
      },
      {
       "output_type": "stream",
       "stream": "stdout",
       "text": [
        "kenny's dance shoes\n",
        "kenny's dance shoes, [Bad]\n"
       ]
      },
      {
       "html": [
        "<img src='data:image/png;base64,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'/>"
       ],
       "metadata": {},
       "output_type": "display_data",
       "text": [
        "<IPython.core.display.HTML at 0x3406710>"
       ]
      },
      {
       "output_type": "stream",
       "stream": "stdout",
       "text": [
        "kenny's dance shoes\n",
        "kenny's dance shoes, [Bad]\n"
       ]
      },
      {
       "html": [
        "<img src='data:image/png;base64,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'/>"
       ],
       "metadata": {},
       "output_type": "display_data",
       "text": [
        "<IPython.core.display.HTML at 0x3406710>"
       ]
      },
      {
       "output_type": "stream",
       "stream": "stdout",
       "text": [
        "kenny's dance shoes\n",
        "kenny's dance shoes, [Bad]\n"
       ]
      },
      {
       "html": [
        "<img src='data:image/png;base64,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'/>"
       ],
       "metadata": {},
       "output_type": "display_data",
       "text": [
        "<IPython.core.display.HTML at 0x3406710>"
       ]
      },
      {
       "output_type": "stream",
       "stream": "stdout",
       "text": [
        "kenny's dance shoes\n",
        "kenny's dance shoes, [Bad]\n"
       ]
      },
      {
       "html": [
        "<img src='data:image/png;base64,/9j/4AAQSkZJRgABAQEAAAAAAAD/2wBDAAoHBwgHBgoICAgLCgoLDhgQDg0NDh0VFhEYIx8lJCIfIiEmKzcvJik0KSEiMEExNDk7Pj4+JS5ESUM8SDc9Pjv/2wBDAQoLCw4NDhwQEBw7KCIoOzs7Ozs7Ozs7Ozs7Ozs7Ozs7Ozs7Ozs7Ozs7Ozs7Ozs7Ozs7Ozs7Ozs7Ozs7Ozs7Ozv/wAARCABkAGQDASIAAhEBAxEB/8QAHwAAAQUBAQEBAQEAAAAAAAAAAAECAwQFBgcICQoL/8QAtRAAAgEDAwIEAwUFBAQAAAF9AQIDAAQRBRIhMUEGE1FhByJxFDKBkaEII0KxwRVS0fAkM2JyggkKFhcYGRolJicoKSo0NTY3ODk6Q0RFRkdISUpTVFVWV1hZWmNkZWZnaGlqc3R1dnd4eXqDhIWGh4iJipKTlJWWl5iZmqKjpKWmp6ipqrKztLW2t7i5usLDxMXGx8jJytLT1NXW19jZ2uHi4+Tl5ufo6erx8vP09fb3+Pn6/8QAHwEAAwEBAQEBAQEBAQAAAAAAAAECAwQFBgcICQoL/8QAtREAAgECBAQDBAcFBAQAAQJ3AAECAxEEBSExBhJBUQdhcRMiMoEIFEKRobHBCSMzUvAVYnLRChYkNOEl8RcYGRomJygpKjU2Nzg5OkNERUZHSElKU1RVVldYWVpjZGVmZ2hpanN0dXZ3eHl6goOEhYaHiImKkpOUlZaXmJmaoqOkpaanqKmqsrO0tba3uLm6wsPExcbHyMnK0tPU1dbX2Nna4uPk5ebn6Onq8vP09fb3+Pn6/9oADAMBAAIRAxEAPwD2aiiigAooooAKKKKACiiigAooooAKKKKACiiigAooooAKKKKACiiigAooooAKKKKACiiigAooooAKKKKACiiigAooooAKKKKACiiigAooooAKKKKACiiigAooooAKKKKACiiigAooooAKKKKACiiigAooooAKKKKACiiigAooooAKKKKACiiigAooooAKKKKACiiigAooooAKKKKACiiigAooooAKKKKACiiigAooooAKKKKACiiigAooooAKKKKACiiigD//2Q=='/>"
       ],
       "metadata": {},
       "output_type": "display_data",
       "text": [
        "<IPython.core.display.HTML at 0x3406710>"
       ]
      },
      {
       "output_type": "stream",
       "stream": "stdout",
       "text": [
        "kenny's dance shoes\n",
        "kenny's dance shoes, [Bad]\n"
       ]
      },
      {
       "html": [
        "<img src='data:image/png;base64,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'/>"
       ],
       "metadata": {},
       "output_type": "display_data",
       "text": [
        "<IPython.core.display.HTML at 0x3406710>"
       ]
      },
      {
       "output_type": "stream",
       "stream": "stdout",
       "text": [
        "kenny's dance shoes\n",
        "kenny's dance shoes, [Bad]\n"
       ]
      },
      {
       "html": [
        "<img src='data:image/png;base64,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'/>"
       ],
       "metadata": {},
       "output_type": "display_data",
       "text": [
        "<IPython.core.display.HTML at 0x3406710>"
       ]
      }
     ],
     "prompt_number": 11
    }
   ],
   "metadata": {}
  }
 ]
}