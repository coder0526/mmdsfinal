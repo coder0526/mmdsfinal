{
 "metadata": {
  "name": "[a04] MySQL"
 },
 "nbformat": 3,
 "nbformat_minor": 0,
 "worksheets": [
  {
   "cells": [
    {
     "cell_type": "code",
     "collapsed": false,
     "input": [
      "import MySQLdb as mdb\n",
      "vhostIP='10.245.25.134'\n",
      "import sqlalchemy as sqo\n",
      "from sqlalchemy.dialects import mysql\n",
      "from sqlalchemy import Column, Date, Integer, String, Text\n",
      "from sqlalchemy.orm import relationship, backref\n",
      "sqo.__version__ "
     ],
     "language": "python",
     "metadata": {},
     "outputs": [
      {
       "metadata": {},
       "output_type": "pyout",
       "prompt_number": 1,
       "text": [
        "'0.8.1'"
       ]
      }
     ],
     "prompt_number": 1
    },
    {
     "cell_type": "code",
     "collapsed": false,
     "input": [
      "meta = sqo.MetaData()\n",
      "dlabel = sqo.Table('devLabels', \n",
      "    meta,\n",
      "    Column('label_id', Integer, primary_key=True),\n",
      "    Column('query', String(60), nullable=False, key='query'),\n",
      "    Column('judgment', Integer),\n",
      "    Column('image_id', Integer, sqo.ForeignKey(\"devImages.image_id\"))\n",
      ")\n",
      "\n",
      "dimage = sqo.Table('devImages', \n",
      "    meta,\n",
      "    Column('image_id', Integer, primary_key=True),\n",
      "    Column('thumbnail', Text, nullable=False)\n",
      ")"
     ],
     "language": "python",
     "metadata": {},
     "outputs": [],
     "prompt_number": 2
    },
    {
     "cell_type": "code",
     "collapsed": false,
     "input": [
      "for t in meta.sorted_tables:\n",
      "    print t"
     ],
     "language": "python",
     "metadata": {},
     "outputs": [
      {
       "output_type": "stream",
       "stream": "stdout",
       "text": [
        "devImages\n",
        "devLabels\n"
       ]
      }
     ],
     "prompt_number": 3
    },
    {
     "cell_type": "code",
     "collapsed": false,
     "input": [
      "db = sqo.create_engine('mysql://@' + vhostIP + '/', encoding='utf-8', echo=False)\n",
      "meta.create_all(db)"
     ],
     "language": "python",
     "metadata": {},
     "outputs": [],
     "prompt_number": 5
    },
    {
     "cell_type": "code",
     "collapsed": false,
     "input": [],
     "language": "python",
     "metadata": {},
     "outputs": [
      {
       "ename": "AttributeError",
       "evalue": "'Table' object has no attribute '__table__'",
       "output_type": "pyerr",
       "traceback": [
        "\u001b[1;31m---------------------------------------------------------------------------\u001b[0m\n\u001b[1;31mAttributeError\u001b[0m                            Traceback (most recent call last)",
        "\u001b[1;32m<ipython-input-7-f0b7b73d2a5d>\u001b[0m in \u001b[0;36m<module>\u001b[1;34m()\u001b[0m\n\u001b[1;32m----> 1\u001b[1;33m \u001b[0mdimage\u001b[0m\u001b[1;33m.\u001b[0m\u001b[0m__table__\u001b[0m\u001b[1;33m\u001b[0m\u001b[0m\n\u001b[0m",
        "\u001b[1;31mAttributeError\u001b[0m: 'Table' object has no attribute '__table__'"
       ]
      }
     ],
     "prompt_number": 7
    },
    {
     "cell_type": "code",
     "collapsed": false,
     "input": [
      "from sqlalchemy.orm import sessionmaker\n",
      "# create a Session\n",
      "Session = sessionmaker(bind=db)\n",
      "session = Session()"
     ],
     "language": "python",
     "metadata": {},
     "outputs": [],
     "prompt_number": 5
    },
    {
     "cell_type": "code",
     "collapsed": false,
     "input": [
      "# Create an artist\n",
      "testlb = DevLabel(1, \"test1\", \"Good\")\n",
      "testlb.images = [DevImage(\"safsdf\")]\n",
      "\n",
      "print testlb.\n"
     ],
     "language": "python",
     "metadata": {},
     "outputs": [
      {
       "ename": "AttributeError",
       "evalue": "'list' object has no attribute 'thumbnail'",
       "output_type": "pyerr",
       "traceback": [
        "\u001b[1;31m---------------------------------------------------------------------------\u001b[0m\n\u001b[1;31mAttributeError\u001b[0m                            Traceback (most recent call last)",
        "\u001b[1;32m<ipython-input-10-5f330fae887b>\u001b[0m in \u001b[0;36m<module>\u001b[1;34m()\u001b[0m\n\u001b[0;32m      3\u001b[0m \u001b[0mtestlb\u001b[0m\u001b[1;33m.\u001b[0m\u001b[0mimages\u001b[0m \u001b[1;33m=\u001b[0m \u001b[1;33m[\u001b[0m\u001b[0mDevImage\u001b[0m\u001b[1;33m(\u001b[0m\u001b[1;34m\"safsdf\"\u001b[0m\u001b[1;33m)\u001b[0m\u001b[1;33m]\u001b[0m\u001b[1;33m\u001b[0m\u001b[0m\n\u001b[0;32m      4\u001b[0m \u001b[1;33m\u001b[0m\u001b[0m\n\u001b[1;32m----> 5\u001b[1;33m \u001b[1;32mprint\u001b[0m \u001b[0mtestlb\u001b[0m\u001b[1;33m.\u001b[0m\u001b[0mimages\u001b[0m\u001b[1;33m.\u001b[0m\u001b[0mthumbnail\u001b[0m\u001b[1;33m\u001b[0m\u001b[0m\n\u001b[0m",
        "\u001b[1;31mAttributeError\u001b[0m: 'list' object has no attribute 'thumbnail'"
       ]
      }
     ],
     "prompt_number": 10
    },
    {
     "cell_type": "code",
     "collapsed": false,
     "input": [
      "session.add(testlb)\n",
      "session.commit()"
     ],
     "language": "python",
     "metadata": {},
     "outputs": []
    },
    {
     "cell_type": "code",
     "collapsed": false,
     "input": [
      "def connection_test():\n",
      "    con = None\n",
      "    try:\n",
      "        con = mdb.connect(host=vhostIP, user='', passwd='', db='', port=3306);\n",
      "        cur = con.cursor()\n",
      "        cur.execute(\"SELECT VERSION()\")\n",
      "        data = cur.fetchone()\n",
      "        print \"Database version : %s \" % data\n",
      "        \n",
      "    except mdb.Error, e:\n",
      "        print \"Error %d: %s\" % (e.args[0],e.args[1])\n",
      "\n",
      "    finally:        \n",
      "        if con:    \n",
      "            con.close()"
     ],
     "language": "python",
     "metadata": {},
     "outputs": [],
     "prompt_number": 2
    },
    {
     "cell_type": "code",
     "collapsed": false,
     "input": [
      "connection_test()"
     ],
     "language": "python",
     "metadata": {},
     "outputs": [
      {
       "output_type": "stream",
       "stream": "stdout",
       "text": [
        "Database version : 5.5.31 \n"
       ]
      }
     ],
     "prompt_number": 3
    }
   ],
   "metadata": {}
  }
 ]
}
