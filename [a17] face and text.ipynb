{
 "metadata": {
  "name": "[a17] face and text"
 },
 "nbformat": 3,
 "nbformat_minor": 0,
 "worksheets": [
  {
   "cells": [
    {
     "cell_type": "code",
     "collapsed": false,
     "input": [
      "from __future__ import division\n",
      "#from IPython.core.display import Image as showImg\n",
      "import Image as pilImg\n",
      "import SimpleCV as sc\n",
      "#from IPython.display import HTML#display, \n",
      "from sets import Set\n",
      "from sqlalchemy.ext.declarative import declarative_base\n",
      "from sqlalchemy import Column, Integer, ForeignKey\n",
      "from sqlalchemy.orm import relationship, backref\n",
      "from sqlalchemy.dialects.mysql import (\n",
      "#    INTEGER,\n",
      "    VARCHAR,\n",
      "    FLOAT,\n",
      " #   TEXT,\n",
      "    TINYINT,\n",
      "    )\n",
      "\n",
      "Base = declarative_base()\n",
      "imgDir = home + \"/data/msrir/Train/img/\"\n",
      "haarXml = \"/usr/local/share/OpenCV/haarcascades/haarcascade_frontalface_alt.xml\""
     ],
     "language": "python",
     "metadata": {},
     "outputs": [],
     "prompt_number": 1
    },
    {
     "cell_type": "code",
     "collapsed": false,
     "input": [
      "class TrnImage(Base):\n",
      "    __tablename__ = 'trnImages'\n",
      "    #__table_args__ = {'mysql_engine':'InnoDB'}\n",
      "    \n",
      "    id = Column(Integer)\n",
      "    imgid = Column(VARCHAR(14), primary_key=True)\n",
      "    labels = Column(VARCHAR(256), index=True)\n",
      "    category = Column(VARCHAR(64), index=True)\n",
      "    #thumbnail = Column(VARCHAR(65500))\n",
      "    \n",
      "    def __init__(self, id, imgid):\n",
      "        self.imgid = imgid\n",
      "        self.id = id\n",
      "        #self.thumbnail = thumbnail\n",
      "            \n",
      "    def __repr__(self):\n",
      "        return \"Img[{0}]:({1}){2}\".format(self.id, self.labels, self.category)\n",
      "\n",
      "    \n",
      "class TrnLog(Base):\n",
      "    __tablename__ = 'trnLogs'\n",
      "    #__table_args__ = {'mysql_engine':'InnoDB'}\n",
      "    \n",
      "    id    = Column(Integer, primary_key=True)\n",
      "    query = Column(VARCHAR(800))\n",
      "    count = Column(Integer)\n",
      "    imgid = Column(VARCHAR(14), ForeignKey(\"trnImages.imgid\"))\n",
      "    image = relationship(\"TrnImage\", backref=backref(\"feats\", order_by=id))\n",
      "\n",
      "    def __init__(self, id, query, count):\n",
      "        self.imgid = id\n",
      "        self.query = query\n",
      "        self.count = count\n",
      "\n",
      "    def __repr__(self):\n",
      "        return \"<DevLabel('%s','%s', '%s')>\" % (self.query, self.count, self.imgid)\n",
      "    \n",
      "    \n",
      "\n",
      "class ImgFaceFeats(Base):\n",
      "    __tablename__ = 'imgFaceFeats'\n",
      "    #__table_args__ = {'mysql_engine':'InnoDB'}\n",
      "    \n",
      "    id = Column(Integer, primary_key=True)\n",
      "    imgid = Column(VARCHAR(14))\n",
      "    faceCount = Column(TINYINT(1), index=True)\n",
      "    faceRatio = Column(FLOAT, index=True)\n",
      "    faceHue1 = Column(FLOAT)\n",
      "    faceHue2 = Column(FLOAT, nullable=1)\n",
      "    labels = Column(VARCHAR(256), index=True)\n",
      "    \n",
      "    def __init__(self, id, iid, lb, fc, fr, fh1, fh2=None):\n",
      "        self.id = id\n",
      "        self.imgid = iid\n",
      "        self.labels = lb\n",
      "        self.faceCount = fc\n",
      "        self.faceRatio = fr\n",
      "        self.faceHue1 = fh1\n",
      "        self.faceHue2 = fh2\n",
      "        \n",
      "    def __repr__(self):\n",
      "        return \"img#{0}[{5}]: {1}, {2}, {3}, {4}\".format(self.id, self.faceCount, self.faceRatio, \n",
      "                                                    self.faceHue1, self.faceHue2, self.labels)\n",
      "    \n",
      "    \n",
      "class ImgTextFeats(Base):\n",
      "    __tablename__ = 'imgTextFeats'\n",
      "    #__table_args__ = {'mysql_engine':'InnoDB'}\n",
      "    \n",
      "    id = Column(Integer, primary_key=True)\n",
      "    textCount = Column(TINYINT(1))\n",
      "    textRatio = Column(FLOAT)\n",
      "    text = Column(VARCHAR(128))\n",
      "    textColor = Column(Integer)\n",
      "    textHue = Column(FLOAT)\n",
      "\n",
      "    def __init__(self, id, query, count):\n",
      "        self.imgid = id\n",
      "        self.query = query\n",
      "        self.count = count\n",
      "\n",
      "    def __repr__(self):\n",
      "        return \"<DevLabel('%s','%s', '%s')>\" % (self.query, self.judgment, self.image_id)\n",
      "    \n",
      "\n",
      "def getSession(vhostIP=''):    \n",
      "    \"\"\"\n",
      "    usage se = getDatabase()\n",
      "    \"\"\"\n",
      "    if vhostIP == '': return None\n",
      "    from sqlalchemy import create_engine   \n",
      "    from sqlalchemy.orm import sessionmaker\n",
      "    usera = ['', '_']\n",
      "    passa = ['', '_']\n",
      "    dba = ['', '_']\n",
      "    uid = 0\n",
      "    db = create_engine( \"mysql://{0}:{1}@{2}/{3}\".format(usera[uid], passa[uid], vhostIP, dba[uid])\n",
      "                       , encoding='utf-8', echo=False)    \n",
      "    Base.metadata.create_all(db)\n",
      "    Session = sessionmaker(bind=db)\n",
      "    session = Session()\n",
      "    return session"
     ],
     "language": "python",
     "metadata": {},
     "outputs": [],
     "prompt_number": 2
    },
    {
     "cell_type": "code",
     "collapsed": false,
     "input": [
      "%%time\n",
      "\n",
      "vmip='10.244.14.180'\n",
      "se = getSession(vmip)"
     ],
     "language": "python",
     "metadata": {},
     "outputs": [
      {
       "output_type": "stream",
       "stream": "stdout",
       "text": [
        "CPU times: user 4 ms, sys: 8 ms, total: 12 ms\n",
        "Wall time: 277 ms\n"
       ]
      }
     ],
     "prompt_number": 3
    },
    {
     "cell_type": "code",
     "collapsed": false,
     "input": [
      "faceDir = home + \"/data/msrir/Train/face/\"\n",
      "setsize = 1000001\n",
      "for i in np.arange(1, setsize):\n",
      "    imgPath = \"{0}{1}.jpg\".format(imgDir, i)\n",
      "    img = sc.Image(imgPath)\n",
      "    faces = img.findHaarFeatures(haarXml)\n",
      "    if faces:\n",
      "        frs = 0\n",
      "        fhs = list()\n",
      "        for fi, face in enumerate(faces):\n",
      "            face.crop().save(filehandle_or_filename=\"{0}{1}_{2}.jpg\".format(faceDir, i, fi))\n",
      "            frs = frs + face.area()\n",
      "            if len(face.image.huePeaks()) != 0:\n",
      "                fhs.append(face.image.huePeaks()[0][0])\n",
      "        qimg = se.query(TrnImage).filter(TrnImage.id == i)\n",
      "        imgid = qimg[0].imgid\n",
      "        data = ImgFaceFeats(i, imgid, qimg[0].labels, len(faces), frs/img.area(), \n",
      "                            fhs.pop(0) if len(fhs) != 0 else None, fhs.pop(0) if len(fhs) != 0 else None)\n",
      "        if data.faceRatio < 0.1: continue\n",
      "        se.add(data)\n",
      "    if i % 100 == 0:\n",
      "        se.commit()\n",
      "    if i % 1000 == 0:\n",
      "        print \"{0} images finished\".format(i)\n",
      "se.commit()"
     ],
     "language": "python",
     "metadata": {},
     "outputs": [
      {
       "output_type": "stream",
       "stream": "stdout",
       "text": [
        "1000 images finished\n",
        "2000 images finished"
       ]
      },
      {
       "output_type": "stream",
       "stream": "stdout",
       "text": [
        "\n",
        "3000 images finished"
       ]
      },
      {
       "output_type": "stream",
       "stream": "stdout",
       "text": [
        "\n",
        "5000 images finished"
       ]
      },
      {
       "output_type": "stream",
       "stream": "stdout",
       "text": [
        "\n",
        "6000 images finished"
       ]
      },
      {
       "output_type": "stream",
       "stream": "stdout",
       "text": [
        "\n",
        "7000 images finished"
       ]
      },
      {
       "output_type": "stream",
       "stream": "stdout",
       "text": [
        "\n",
        "8000 images finished"
       ]
      },
      {
       "output_type": "stream",
       "stream": "stdout",
       "text": [
        "\n",
        "9000 images finished"
       ]
      },
      {
       "output_type": "stream",
       "stream": "stdout",
       "text": [
        "\n",
        "10000 images finished"
       ]
      }
     ],
     "prompt_number": "*"
    },
    {
     "cell_type": "code",
     "collapsed": false,
     "input": [
      "ik = 4542\n",
      "imgPath = \"{0}{1}.jpg\".format(imgDir, ik)\n",
      "faceDir = home + \"/data/msrir/Train/face/\"\n",
      "img = sc.Image(imgPath)\n",
      "faces = img.findHaarFeatures(haarXml)\n",
      "if faces:\n",
      "    for i, face in enumerate(faces, 1):\n",
      "        print face.crop().save(filehandle_or_filename=\"{0}{1}_{2}.jpg\".format(faceDir, ik, i), verbose=1)"
     ],
     "language": "python",
     "metadata": {},
     "outputs": [
      {
       "output_type": "stream",
       "stream": "stdout",
       "text": [
        "1\n",
        "1\n"
       ]
      }
     ],
     "prompt_number": 29
    },
    {
     "cell_type": "code",
     "collapsed": false,
     "input": [
      "faceDir = home + \"/data/msrir/Train/face/\"\n",
      "from IPython.core.display import Image as showImg\n",
      "showImg(\"{0}{1}_{2}.jpg\".format(faceDir, ik, 1))"
     ],
     "language": "python",
     "metadata": {},
     "outputs": [
      {
       "jpeg": "[encoded data removed]",
       "metadata": {},
       "output_type": "pyout",
       "prompt_number": 30,
       "text": [
        "<IPython.core.display.Image at 0x4df5210>"
       ]
      }
     ],
     "prompt_number": 30
    },
    {
     "cell_type": "code",
     "collapsed": false,
     "input": [],
     "language": "python",
     "metadata": {},
     "outputs": []
    }
   ],
   "metadata": {}
  }
 ]
}
