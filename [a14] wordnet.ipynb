{
 "metadata": {
  "name": "[a14] wordnet"
 },
 "nbformat": 3,
 "nbformat_minor": 0,
 "worksheets": [
  {
   "cells": [
    {
     "cell_type": "code",
     "collapsed": false,
     "input": [
      "import s1_ACMdev as acm\n",
      "import s0_ChartPack as crp \n",
      "import Image as PILimg\n",
      "#from IPython.display import display, HTML\n",
      "import nltk\n",
      "import matplotlib.pyplot as plt\n",
      "import matplotlib.image as mpimg\n",
      "imgDir = home + \"/data/msrir/Train/img/\"\n",
      "\n",
      "from sets import Set"
     ],
     "language": "python",
     "metadata": {},
     "outputs": [],
     "prompt_number": 241
    },
    {
     "cell_type": "code",
     "collapsed": false,
     "input": [
      "%%time\n",
      "\n",
      "vmicro='10.245.108.9'\n",
      "se = acm.getSession(vhostIP=vmicro)\n"
     ],
     "language": "python",
     "metadata": {},
     "outputs": [
      {
       "output_type": "stream",
       "stream": "stdout",
       "text": [
        "1000\n",
        "CPU times: user 8 ms, sys: 0 ns, total: 8 ms\n",
        "Wall time: 4.8 s\n"
       ]
      }
     ],
     "prompt_number": 242
    },
    {
     "cell_type": "code",
     "collapsed": false,
     "input": [
      "qry = se.query(acm.TrnImage)\n",
      "qry = qry.filter(acm.TrnImage.id < 1000).order_by(acm.TrnImage.id.asc())\n",
      "print qry.count()"
     ],
     "language": "python",
     "metadata": {},
     "outputs": []
    },
    {
     "cell_type": "code",
     "collapsed": false,
     "input": [
      "%%time \n",
      "\n",
      "qlog = se.query(acm.TrnLog)"
     ],
     "language": "python",
     "metadata": {},
     "outputs": [
      {
       "output_type": "stream",
       "stream": "stdout",
       "text": [
        "CPU times: user 0 ns, sys: 0 ns, total: 0 ns\n",
        "Wall time: 226 \uffb5s\n"
       ]
      }
     ],
     "prompt_number": 3
    },
    {
     "cell_type": "code",
     "collapsed": false,
     "input": [
      "from IPython.display import HTML\n",
      "from cStringIO import StringIO\n",
      "\n",
      "# We'll use HTML to create a control panel with an\n",
      "# empty image and a number of navigation buttons.\n",
      "\n",
      "disp_html = \"\"\"\n",
      "<div class=\"animation\" align=\"center\">\n",
      "<img id=\"anim_frame\" src=\"\"><br>\n",
      "<button onclick=\"prev()\">\u25c4</button>\n",
      "<input id=\"iidt\" type=\"text\" onkeypress=\"keyMap(this, event)\" />\n",
      "<button onclick=\"next()\">\u25ba</button>\n",
      "</div>\n",
      "\"\"\"\n",
      "\n",
      "# now the javascript to drive it.  The nextFrame() and prevFrame()\n",
      "# functions will call the kernel and pull-down the frame which\n",
      "# is generated.  The play() and reverse() functions use timeouts\n",
      "# to repeatedly call nextFrame() and prevFrame().\n",
      "\n",
      "javascript = \"\"\"\n",
      "<script type=\"text/Javascript\">\n",
      "var iid = 0;  // keep track of frame number\n",
      "var timer = null;\n",
      "var kernel = IPython.notebook.kernel;\n",
      "var callbacks = {'output' : output, 'input_request' : undefined};\n",
      "\n",
      "function output(out_type, out){\n",
      "    data = out.data[\"text/plain\"];\n",
      "    document.getElementById(\"anim_frame\").src = data.substring(1, data.length - 1);\n",
      "}\n",
      "\n",
      "function keyMap(b, e) {\n",
      "    if (e.keyCode == 13) {\n",
      "        iid = Number(document.getElementById('iidt').value);\n",
      "        show(iid);\n",
      "        return false;\n",
      "    }\n",
      "}\n",
      "\n",
      "function show(id){\n",
      "    var msg_id = kernel.execute(\"disp.showImage(\" + iid + \")\", callbacks, {silent:false});\n",
      "}\n",
      "\n",
      "function next(){\n",
      "    iid += 1;\n",
      "    document.getElementById('iidt').value=iid;\n",
      "    var msg_id = kernel.execute(\"disp.showImage(\" + iid + \")\", callbacks, {silent:false});\n",
      "}\n",
      "\n",
      "function prev(){\n",
      "    iid -= 1;\n",
      "    if(iid < 0) iid = 0;\n",
      "    document.getElementById('iidt').value=iid;\n",
      "    var msg_id = kernel.execute(\"disp.showImage(\" + iid + \")\", callbacks, {silent:false});\n",
      "}\n",
      "\n",
      "// display the first frame\n",
      "setTimeout(next, 0);\n",
      "</script>\n",
      "\"\"\"\n",
      "\n",
      "# Here we create a class whose HTML representation is the above\n",
      "# HTML and javascript.  Note that we've hard-coded the global\n",
      "# variable name `disp` in the Javascript, so you'll have to assign\n",
      "# the resulting object to this name in order to view it.\n",
      "\n",
      "class ImageBox(object):\n",
      "    def __init__(self):\n",
      "        self.fig = plt.figure(figsize=(10,4))\n",
      "        fig.subplots_adjust(hspace= .5)\n",
      "        fig.subplots_adjust(wspace= .3)\n",
      "        plt.close(self.fig)\n",
      "        \n",
      "    def showImage(self, i):\n",
      "        animate(i)\n",
      "        buffer = StringIO()\n",
      "        fig.savefig(buffer, format='png')\n",
      "        buffer.reset()\n",
      "        data = buffer.read().encode('base64')\n",
      "        return \"data:image/png;base64,{0}\".format(data.replace('\\n', ''))\n",
      "    \n",
      "    def animate(i):\n",
      "        for x, j in enumerate(np.arange(i, i + 10), 1):\n",
      "            ax = fig.add_subplot(2,5, x)\n",
      "            img = PILimg.open(imgDir + str(j) + \".jpg\")\n",
      "            ax.imshow(img)\n",
      "            ax.set_title(str(j))\n",
      "        return ax\n",
      "\n",
      "    def _repr_html_(self):\n",
      "        return disp_html + javascript\n",
      "    \n",
      "disp = ImageBox()\n",
      "disp"
     ],
     "language": "python",
     "metadata": {},
     "outputs": [
      {
       "html": [
        "\n",
        "<div class=\"animation\" align=\"center\">\n",
        "<img id=\"anim_frame\" src=\"\"><br>\n",
        "<button onclick=\"prev()\">\u25c4</button>\n",
        "<input id=\"iidt\" type=\"text\" onkeypress=\"keyMap(this, event)\" />\n",
        "<button onclick=\"next()\">\u25ba</button>\n",
        "</div>\n",
        "\n",
        "<script type=\"text/Javascript\">\n",
        "var iid = 0;  // keep track of frame number\n",
        "var timer = null;\n",
        "var kernel = IPython.notebook.kernel;\n",
        "var callbacks = {'output' : output, 'input_request' : undefined};\n",
        "\n",
        "function output(out_type, out){\n",
        "    data = out.data[\"text/plain\"];\n",
        "    document.getElementById(\"anim_frame\").src = data.substring(1, data.length - 1);\n",
        "}\n",
        "\n",
        "function keyMap(b, e) {\n",
        "    if (e.keyCode == 13) {\n",
        "        iid = Number(document.getElementById('iidt').value);\n",
        "        show(iid);\n",
        "        return false;\n",
        "    }\n",
        "}\n",
        "\n",
        "function show(id){\n",
        "    var msg_id = kernel.execute(\"disp.showImage(\" + iid + \")\", callbacks, {silent:false});\n",
        "}\n",
        "\n",
        "function next(){\n",
        "    iid += 1;\n",
        "    document.getElementById('iidt').value=iid;\n",
        "    var msg_id = kernel.execute(\"disp.showImage(\" + iid + \")\", callbacks, {silent:false});\n",
        "}\n",
        "\n",
        "function prev(){\n",
        "    iid -= 1;\n",
        "    if(iid < 0) iid = 0;\n",
        "    document.getElementById('iidt').value=iid;\n",
        "    var msg_id = kernel.execute(\"disp.showImage(\" + iid + \")\", callbacks, {silent:false});\n",
        "}\n",
        "\n",
        "// display the first frame\n",
        "setTimeout(next, 0);\n",
        "</script>\n"
       ],
       "metadata": {},
       "output_type": "pyout",
       "prompt_number": 225,
       "text": [
        "<__main__.ImageBox at 0x1bffae50>"
       ]
      }
     ],
     "prompt_number": 225
    },
    {
     "cell_type": "code",
     "collapsed": false,
     "input": [
      "%%time \n",
      "\n",
      "qset = Set([])\n",
      "for img in qry:\n",
      "    if img.id == 7:\n",
      "        blb = qlog.filter(acm.TrnLog.imgid == img.imgid).order_by(acm.TrnLog.count.asc())\n",
      "        for q in blb:\n",
      "            qset.add(q.query)\n",
      "            print img.id, q.query, q.count"
     ],
     "language": "python",
     "metadata": {},
     "outputs": [
      {
       "output_type": "stream",
       "stream": "stdout",
       "text": [
        "7 2008 black nissan altima  1\n",
        "7 rims for 2008 nissan altima  1\n",
        "7 nissan altima 2008 price  1\n",
        "7 black on black nissan altima  1\n",
        "7 rims on nissan altima  1\n",
        "7 altima with black rims  1\n",
        "7 altima on rims  1\n",
        "7 2008 nissan altima se black tinted  1\n",
        "7 2008 nissan altima black after market grill  1\n",
        "7 altima with rims  2\n",
        "CPU times: user 49.2 s, sys: 148 ms, total: 49.4 s"
       ]
      },
      {
       "output_type": "stream",
       "stream": "stdout",
       "text": [
        "\n",
        "Wall time: 53.8 s\n"
       ]
      }
     ],
     "prompt_number": 233
    },
    {
     "cell_type": "code",
     "collapsed": false,
     "input": [
      "for q in qset:\n",
      "    print \"Query: \", q\n",
      "    qlog = se.query(acm.TrnLog)\n",
      "    qlog = qlog.filter(acm.TrnLog.query.like(\"%\"+ q +\"%\"))\n",
      "    for ql in qlog:\n",
      "        qimg = se.query(acm.TrnImage).filter(acm.TrnImage.imgid == ql.imgid)\n",
      "        print \">>>\", qimg[0].id, \"count:\", ql.count"
     ],
     "language": "python",
     "metadata": {},
     "outputs": [
      {
       "output_type": "stream",
       "stream": "stdout",
       "text": [
        "Query:  rims on nissan altima \n",
        ">>> 7 count:  1\n",
        ">>> 283922 count:  1\n",
        "Query:  2008 nissan altima black after market grill \n",
        ">>> 7 count:  1\n",
        "Query:  rims for 2008 nissan altima \n",
        ">>>"
       ]
      },
      {
       "output_type": "stream",
       "stream": "stdout",
       "text": [
        " 7 count:  1\n",
        "Query:  altima on rims \n",
        ">>>"
       ]
      },
      {
       "output_type": "stream",
       "stream": "stdout",
       "text": [
        " 399377 count:  1\n",
        ">>> 399377 count:  1\n",
        ">>> 399377 count:  1\n",
        ">>> 399377 count:  1\n",
        ">>> 7 count:  1\n",
        ">>> 283922 count:  1\n",
        ">>> 283922 count:  1\n",
        ">>> 165079 count:  1\n",
        "Query:  altima with black rims \n",
        ">>>"
       ]
      },
      {
       "output_type": "stream",
       "stream": "stdout",
       "text": [
        " 7 count:  1\n",
        "Query:  altima with rims \n",
        ">>>"
       ]
      },
      {
       "output_type": "stream",
       "stream": "stdout",
       "text": [
        " 399377 count:  1\n",
        ">>> 399377 count:  1\n",
        ">>> 399377 count:  1\n",
        ">>> 7 count:  2\n",
        ">>> 283922 count:  1\n",
        ">>> 283922 count:  1\n",
        ">>> 283922 count:  1\n",
        ">>> 283922 count:  1\n",
        ">>> 283922 count:  4\n",
        ">>> 283922 count:  1\n",
        ">>> 283922 count:  1\n",
        ">>> 283922 count:  2\n",
        ">>> 283922 count:  1\n",
        ">>> 283922 count:  5\n",
        ">>> 283922 count:  1\n",
        ">>> 283922 count:  1\n",
        ">>> "
       ]
      },
      {
       "output_type": "stream",
       "stream": "stdout",
       "text": [
        "137664 count:  2\n",
        ">>> 860955 count:  1\n",
        ">>> "
       ]
      },
      {
       "output_type": "stream",
       "stream": "stdout",
       "text": [
        "553473 count:  2\n",
        "Query:  2008 nissan altima se black tinted \n",
        ">>>"
       ]
      },
      {
       "output_type": "stream",
       "stream": "stdout",
       "text": [
        " 7 count:  1\n",
        "Query:  nissan altima 2008 price \n",
        ">>>"
       ]
      },
      {
       "output_type": "stream",
       "stream": "stdout",
       "text": [
        " 7 count:  1\n",
        "Query:  2008 black nissan altima \n",
        ">>>"
       ]
      },
      {
       "output_type": "stream",
       "stream": "stdout",
       "text": [
        " 7 count:  1\n",
        ">>> "
       ]
      },
      {
       "output_type": "stream",
       "stream": "stdout",
       "text": [
        "343759 count:  1\n",
        "Query:  black on black nissan altima \n",
        ">>>"
       ]
      },
      {
       "output_type": "stream",
       "stream": "stdout",
       "text": [
        " 7 count:  1\n"
       ]
      }
     ],
     "prompt_number": 243
    },
    {
     "cell_type": "code",
     "collapsed": false,
     "input": [
      "qry = se.query(acm.TrnLog)\n",
      "for q in qset:\n",
      "    qi = qry.filter(q == acm.TrnLog.query).order_by(acm.TrnLog.id.asc())\n",
      "    for i in qi:\n",
      "        print i.id, i.imgid"
     ],
     "language": "python",
     "metadata": {},
     "outputs": [
      {
       "output_type": "stream",
       "stream": "stdout",
       "text": [
        "105437 SUoKOXPeWWlAPg\n",
        "13 +VfWKiUxC1ixpQ\n"
       ]
      }
     ],
     "prompt_number": 216
    },
    {
     "cell_type": "code",
     "collapsed": false,
     "input": [
      "qset"
     ],
     "language": "python",
     "metadata": {},
     "outputs": [
      {
       "metadata": {},
       "output_type": "pyout",
       "prompt_number": 234,
       "text": [
        "Set(['rims on nissan altima ', '2008 nissan altima black after market grill ', 'rims for 2008 nissan altima ', 'altima on rims ', 'altima with black rims ', 'altima with rims ', '2008 nissan altima se black tinted ', 'nissan altima 2008 price ', '2008 black nissan altima ', 'black on black nissan altima '])"
       ]
      }
     ],
     "prompt_number": 234
    },
    {
     "cell_type": "code",
     "collapsed": false,
     "input": [
      "import nltk\n",
      "from nltk.corpus import wordnet as wn\n",
      "from nltk.corpus import wordnet_ic\n",
      " \n",
      "def cluster_senses(word, treshold = 0.30,\n",
      "                      ic_corpus = wordnet_ic.ic('ic-treebank.dat')):\n",
      "    \"\"\"\n",
      "    \"\"\"\n",
      "    synsets = wn.synsets(word, pos=wn.NOUN) # nouns only\n",
      "    clusters = [[synsets.pop()]]\n",
      "    for s in synsets:\n",
      "        added = False\n",
      "        for c in clusters:\n",
      "            for ss in c:\n",
      "                if s.lin_similarity(ss, ic_corpus) > treshold:\n",
      "                    c.append(s)\n",
      "                    added = True\n",
      "                    break\n",
      "            # Make sure that a synset is only added to one cluster\n",
      "            if added:\n",
      "                break\n",
      "        if not added:\n",
      "            # the synset doesn't fit in any of the existing clusters so we\n",
      "            # create a new one\n",
      "            clusters += [[s]]\n",
      " \n",
      "    return clusters\n",
      "\n",
      "c = cluster_senses(\"test\")\n",
      "c"
     ],
     "language": "python",
     "metadata": {},
     "outputs": [
      {
       "ename": "WordNetError",
       "evalue": "Computing the least common subsumer requires Synset('trial.n.02') and Synset('test.v.07') to have the same part of speech.",
       "output_type": "pyerr",
       "traceback": [
        "\u001b[1;31m---------------------------------------------------------------------------\u001b[0m\n\u001b[1;31mWordNetError\u001b[0m                              Traceback (most recent call last)",
        "\u001b[1;32m<ipython-input-15-ed6ac81c56fa>\u001b[0m in \u001b[0;36m<module>\u001b[1;34m()\u001b[0m\n\u001b[0;32m     27\u001b[0m     \u001b[1;32mreturn\u001b[0m \u001b[0mclusters\u001b[0m\u001b[1;33m\u001b[0m\u001b[0m\n\u001b[0;32m     28\u001b[0m \u001b[1;33m\u001b[0m\u001b[0m\n\u001b[1;32m---> 29\u001b[1;33m \u001b[0mc\u001b[0m \u001b[1;33m=\u001b[0m \u001b[0mcluster_senses\u001b[0m\u001b[1;33m(\u001b[0m\u001b[1;34m\"test\"\u001b[0m\u001b[1;33m)\u001b[0m\u001b[1;33m\u001b[0m\u001b[0m\n\u001b[0m\u001b[0;32m     30\u001b[0m \u001b[0mc\u001b[0m\u001b[1;33m\u001b[0m\u001b[0m\n",
        "\u001b[1;32m<ipython-input-15-ed6ac81c56fa>\u001b[0m in \u001b[0;36mcluster_senses\u001b[1;34m(word, treshold, ic_corpus)\u001b[0m\n\u001b[0;32m     13\u001b[0m         \u001b[1;32mfor\u001b[0m \u001b[0mc\u001b[0m \u001b[1;32min\u001b[0m \u001b[0mclusters\u001b[0m\u001b[1;33m:\u001b[0m\u001b[1;33m\u001b[0m\u001b[0m\n\u001b[0;32m     14\u001b[0m             \u001b[1;32mfor\u001b[0m \u001b[0mss\u001b[0m \u001b[1;32min\u001b[0m \u001b[0mc\u001b[0m\u001b[1;33m:\u001b[0m\u001b[1;33m\u001b[0m\u001b[0m\n\u001b[1;32m---> 15\u001b[1;33m                 \u001b[1;32mif\u001b[0m \u001b[0ms\u001b[0m\u001b[1;33m.\u001b[0m\u001b[0mlin_similarity\u001b[0m\u001b[1;33m(\u001b[0m\u001b[0mss\u001b[0m\u001b[1;33m,\u001b[0m \u001b[0mic_corpus\u001b[0m\u001b[1;33m)\u001b[0m \u001b[1;33m>\u001b[0m \u001b[0mtreshold\u001b[0m\u001b[1;33m:\u001b[0m\u001b[1;33m\u001b[0m\u001b[0m\n\u001b[0m\u001b[0;32m     16\u001b[0m                     \u001b[0mc\u001b[0m\u001b[1;33m.\u001b[0m\u001b[0mappend\u001b[0m\u001b[1;33m(\u001b[0m\u001b[0ms\u001b[0m\u001b[1;33m)\u001b[0m\u001b[1;33m\u001b[0m\u001b[0m\n\u001b[0;32m     17\u001b[0m                     \u001b[0madded\u001b[0m \u001b[1;33m=\u001b[0m \u001b[0mTrue\u001b[0m\u001b[1;33m\u001b[0m\u001b[0m\n",
        "\u001b[1;31mWordNetError\u001b[0m: Computing the least common subsumer requires Synset('trial.n.02') and Synset('test.v.07') to have the same part of speech."
       ]
      }
     ],
     "prompt_number": 15
    },
    {
     "cell_type": "code",
     "collapsed": false,
     "input": [],
     "language": "python",
     "metadata": {},
     "outputs": []
    }
   ],
   "metadata": {}
  }
 ]
}
