{
 "metadata": {
  "name": "[a16] almost final"
 },
 "nbformat": 3,
 "nbformat_minor": 0,
 "worksheets": [
  {
   "cells": [
    {
     "cell_type": "code",
     "collapsed": false,
     "input": [
      "import s1_ACMdev as acm\n",
      "import s0_ChartPack as crp \n",
      "from IPython.core.display import Image as showImg\n",
      "import Image as pilImg\n",
      "import SimpleCV as sc\n",
      "from IPython.display import HTML#display, \n",
      "#import nltk\n",
      "#import matplotlib.pyplot as plt\n",
      "#import matplotlib.image as mpimg\n",
      "from sets import Set\n",
      "from __future__ import division\n",
      "\n",
      "imgDir = home + \"/data/msrir/Train/img/\"\n",
      "haarXml = \"/usr/local/share/OpenCV/haarcascades/haarcascade_frontalface_alt.xml\""
     ],
     "language": "python",
     "metadata": {},
     "outputs": [],
     "prompt_number": 1
    },
    {
     "cell_type": "markdown",
     "metadata": {},
     "source": [
      "###Models\n",
      "---"
     ]
    },
    {
     "cell_type": "code",
     "collapsed": false,
     "input": [
      "from sqlalchemy.ext.declarative import declarative_base\n",
      "from sqlalchemy import Column, Integer, ForeignKey\n",
      "from sqlalchemy.orm import relationship, backref\n",
      "from sqlalchemy.dialects.mysql import (\n",
      "    INTEGER,\n",
      "    VARCHAR,\n",
      "    FLOAT,\n",
      "    TEXT,\n",
      "    TINYINT,\n",
      "    )\n",
      "Base = declarative_base()\n",
      "\n",
      "class TrnImage(Base):\n",
      "    __tablename__ = 'trnImages'\n",
      "    #__table_args__ = {'mysql_engine':'InnoDB'}\n",
      "    \n",
      "    id = Column(Integer)\n",
      "    imgid = Column(VARCHAR(14), primary_key=True)\n",
      "    labels = Column(VARCHAR(256), index=True)\n",
      "    category = Column(VARCHAR(64), index=True)\n",
      "    #thumbnail = Column(VARCHAR(65500))\n",
      "    \n",
      "    def __init__(self, id, imgid):\n",
      "        self.imgid = imgid\n",
      "        self.id = id\n",
      "        #self.thumbnail = thumbnail\n",
      "            \n",
      "    def __repr__(self):\n",
      "        return \"Img[{0}]:({1}){2}\".format(self.id, self.labels, self.category)\n",
      "\n",
      "    \n",
      "class TrnLog(Base):\n",
      "    __tablename__ = 'trnLogs'\n",
      "    #__table_args__ = {'mysql_engine':'InnoDB'}\n",
      "    \n",
      "    id    = Column(Integer, primary_key=True)\n",
      "    query = Column(VARCHAR(800))\n",
      "    count = Column(Integer)\n",
      "    imgid = Column(VARCHAR(14), ForeignKey(\"trnImages.imgid\"))\n",
      "    image = relationship(\"TrnImage\", backref=backref(\"feats\", order_by=id))\n",
      "\n",
      "    def __init__(self, id, query, count):\n",
      "        self.imgid = id\n",
      "        self.query = query\n",
      "        self.count = count\n",
      "\n",
      "    def __repr__(self):\n",
      "        return \"<DevLabel('%s','%s', '%s')>\" % (self.query, self.count, self.imgid)\n",
      "    \n",
      "    \n",
      "class ImgFaceFeats(Base):\n",
      "    __tablename__ = 'imgFaceFeats'\n",
      "    #__table_args__ = {'mysql_engine':'InnoDB'}\n",
      "    \n",
      "    id = Column(Integer, primary_key=True)\n",
      "    imgid = Column(VARCHAR(14))\n",
      "    faceCount = Column(TINYINT(1), index=True)\n",
      "    faceRatio = Column(FLOAT, index=True)\n",
      "    faceHue1 = Column(FLOAT)\n",
      "    faceHue2 = Column(FLOAT, nullable=1)\n",
      "    labels = Column(VARCHAR(256), index=True)\n",
      "    \n",
      "    def __init__(self, id, iid, lb, fc, fr, fh1, fh2=None):\n",
      "        self.id = id\n",
      "        self.imgid = iid\n",
      "        self.labels = lb\n",
      "        self.faceCount = fc\n",
      "        self.faceRatio = fr\n",
      "        self.faceHue1 = fh1\n",
      "        self.faceHue2 = fh2\n",
      "        \n",
      "    def __repr__(self):\n",
      "        return \"img#{0}[{5}]: {1}, {2}, {3}, {4}\".format(self.id, self.faceCount, self.faceRatio, \n",
      "                                                    self.faceHue1, self.faceHue2, self.labels)\n",
      "    \n",
      "    \n",
      "class ImgTextFeats(Base):\n",
      "    __tablename__ = 'imgTextFeats'\n",
      "    #__table_args__ = {'mysql_engine':'InnoDB'}\n",
      "    \n",
      "    id = Column(Integer, primary_key=True)\n",
      "    textCount = Column(TINYINT(1))\n",
      "    textRatio = Column(FLOAT)\n",
      "    text = Column(VARCHAR(128))\n",
      "    textColor = Column(Integer)\n",
      "    textHue = Column(FLOAT)\n",
      "\n",
      "    def __init__(self, id, query, count):\n",
      "        self.imgid = id\n",
      "        self.query = query\n",
      "        self.count = count\n",
      "\n",
      "    def __repr__(self):\n",
      "        return \"<DevLabel('%s','%s', '%s')>\" % (self.query, self.judgment, self.image_id)\n",
      "    \n",
      "\n",
      "    \n",
      "class ImgBlobFeats(Base):\n",
      "    __tablename__ = 'imgBlobFeats'\n",
      "    #__table_args__ = {'mysql_engine':'InnoDB'}\n",
      "    \n",
      "    id = Column(Integer, primary_key=True)\n",
      "    textCount = Column(TINYINT(1))\n",
      "    textRatio = Column(FLOAT)\n",
      "    text = Column(VARCHAR(128))\n",
      "    textColor = Column(Integer)\n",
      "    textHue = Column(FLOAT)\n",
      "\n",
      "    def __init__(self, id, query, count):\n",
      "        self.imgid = id\n",
      "        self.query = query\n",
      "        self.count = count\n",
      "\n",
      "    def __repr__(self):\n",
      "        return \"<DevLabel('%s','%s', '%s')>\" % (self.query, self.judgment, self.image_id)\n",
      "    \n",
      "    \n",
      "class ImgFeatsFlags(Base):\n",
      "    __tablename__ = 'imgFeatFlags'\n",
      "    \n",
      "    \"\"\"\n",
      "    \n",
      "    \"\"\"\n",
      "    _flag = {'face':1, 'text':2, 'blob': 4, 'surf': 8\n",
      "            ,'bof': 16}\n",
      "    #__table_args__ = {'mysql_engine':'InnoDB'}\n",
      "    \n",
      "    id = Column(Integer, primary_key=True)\n",
      "    flag = Column(Integer)\n",
      "\n",
      "    def __init__(self, id):\n",
      "        self.imgid = id\n",
      "        self.flag = 0\n",
      "        \n",
      "    def __repr__(self):\n",
      "        s = ''\n",
      "        for (k,f) in self._flag.items():\n",
      "            if (self.flag & f) != 0:\n",
      "                s = \"{0},\".format(k)\n",
      "        if s == '':\n",
      "            return 'No feature'\n",
      "        return \"[#{0}]:({1})\".format(self.id, s[:-1])\n",
      "\n",
      "\n",
      "    \n",
      "def getSession(vhostIP=''):    \n",
      "    \"\"\"\n",
      "    usage se = getDatabase()\n",
      "    \"\"\"\n",
      "    if vhostIP == '': return None\n",
      "    from sqlalchemy import create_engine   \n",
      "    from sqlalchemy.orm import sessionmaker\n",
      "    usera = ['', '_']\n",
      "    passa = ['', '_']\n",
      "    dba = ['', '_']\n",
      "    uid = 0\n",
      "    db = create_engine( \"mysql://{0}:{1}@{2}/{3}\".format(usera[uid], passa[uid], vhostIP, dba[uid])\n",
      "                       , encoding='utf-8', echo=False)    \n",
      "    Base.metadata.create_all(db)\n",
      "    Session = sessionmaker(bind=db)\n",
      "    session = Session()\n",
      "    return session"
     ],
     "language": "python",
     "metadata": {},
     "outputs": [],
     "prompt_number": 2
    },
    {
     "cell_type": "code",
     "collapsed": false,
     "input": [
      "%%time\n",
      "\n",
      "vmip='10.244.14.180'\n",
      "se = getSession(vmip)"
     ],
     "language": "python",
     "metadata": {},
     "outputs": [
      {
       "output_type": "stream",
       "stream": "stdout",
       "text": [
        "CPU times: user 12 ms, sys: 0 ns, total: 12 ms\n",
        "Wall time: 21.5 ms\n"
       ]
      }
     ],
     "prompt_number": 3
    },
    {
     "cell_type": "markdown",
     "metadata": {},
     "source": [
      "###Word labeling"
     ]
    },
    {
     "cell_type": "code",
     "collapsed": false,
     "input": [
      "from nltk.corpus import wordnet\n",
      "from nltk.tokenize import word_tokenize\n",
      "import pandas as pd\n",
      "from ipy_table import *\n",
      "def wsim(word1, word2, weight):\n",
      "    if len(wordnet.synsets(word1)) == 0 or len(wordnet.synsets(word2))==0: return None\n",
      "    wordFromList1 = wordnet.synsets(word1)[0]\n",
      "    wordFromList2 = wordnet.synsets(word2)[0]\n",
      "    s = wordFromList1.wup_similarity(wordFromList2)\n",
      "#    print s, weight, word1, word2\n",
      "    if s != None: s = s * weight\n",
      "    return(wordFromList1.name, wordFromList2.name, wordFromList1.wup_similarity(wordFromList2))\n",
      "\n",
      "censorList = Set(['image', 'images', 'imagies', \n",
      "                  'picture', 'pictures', \n",
      "                  'item', 'items', \n",
      "                  'pic', 'pics', \n",
      "                  'movie', 'movies', \n",
      "                  'no', 'to', 'the', 'a', 'of', 'from', 'on', 'with'])\n",
      "\n",
      "def nonWnLabel(list1):\n",
      "    list1 = list(list1)\n",
      "    gset = word_tokenize(list1.pop(0))\n",
      "    for p in list1:\n",
      "        t = word_tokenize(p)\n",
      "        for w in t:\n",
      "            if w not in gset: gset.append(w)\n",
      "    ngset = []\n",
      "    for g in gset:\n",
      "        if g not in censorList: ngset.append(g)\n",
      "    return ','.join(ngset)\n",
      "\n",
      "\n",
      "def extractLabel(list1, list2, weightList, thres):\n",
      "    sim = Set()\n",
      "    #rip out similarities\n",
      "    for w1, wt in zip(list1, weightList.values):\n",
      "        for w2 in list2:\n",
      "            awt = math.sqrt(wt/weightList.max())*10\n",
      "            t1 = word_tokenize(w1)\n",
      "            t2 = word_tokenize(w2)\n",
      "            for t in t1:\n",
      "                if len(t1) > 1 and t in censorList: continue\n",
      "                for w in t2:\n",
      "                    if len(t2) > 1 and w in censorList: continue\n",
      "                    s = wsim(t, w, awt)\n",
      "                    if s != None and s[2] > thres: sim.add(s)\n",
      "    if len(sim) == 0: return nonWnLabel(list1)\n",
      "    sim = list(sim)\n",
      "    sim.sort(key = lambda x: x[2], reverse=1)\n",
      "    ssim = Set()\n",
      "    grow = 0\n",
      "    for i in np.arange(0, len(sim)):\n",
      "        w = sim[i][1]\n",
      "        ssim.add(w[:w.find('.')])\n",
      "        if len(ssim) > grow: grow = len(ssim)\n",
      "        else: sim[i] = None\n",
      "    #print len(Set(sim).difference(censorList)), len(sim)\n",
      "    if len(Set(sim).difference(censorList)) + 1 <= len(sim): return nonWnLabel(list1)\n",
      "    sim = [w for w in sim if w != None]\n",
      "    sim.sort(key = lambda x: x[2], reverse=1)        \n",
      "    if len(sim):\n",
      "        w = sim[0][1]\n",
      "        lb = w[:w.find('.')]\n",
      "        for i in np.arange(1, len(sim)):\n",
      "            w = sim[i][1]\n",
      "            lb = \"{0},{1}\".format(lb, w[:w.find('.')])\n",
      "            if len(lb) > 255: break\n",
      "    if lb == '': lb = nonWnLabel(list1)\n",
      "    return nonWnLabel([list1[0]]) + ',' + lb\n",
      "\n",
      "def queryLabel(inlist):\n",
      "    d = {'query': [x[0] for x in inlist], 'cnt': [x[1] for x in inlist]}\n",
      "    df = pd.DataFrame(d)\n",
      "    df = df.sort(columns='cnt', ascending=0)\n",
      "    cpi = min(5, len(df.query))\n",
      "    return extractLabel(df.query.values[:cpi], df.query.values, df.cnt, 0.89)\n",
      "\n",
      "def queryCategory(labels):\n",
      "    label = labels.split(',')\n",
      "    cate = []\n",
      "    for l in label: \n",
      "        if wordnet.synsets(l):\n",
      "            ws = wordnet.synsets(l)[0]\n",
      "            wl = ws.lexname\n",
      "            wc = wl[wl.find('.')+1:]\n",
      "            if wc not in cate: cate.append(wc)\n",
      "    if len(cate) == 0: return ','.join(label[:3])\n",
      "    return ','.join(cate)"
     ],
     "language": "python",
     "metadata": {},
     "outputs": [],
     "prompt_number": 5
    },
    {
     "cell_type": "markdown",
     "metadata": {},
     "source": [
      "###Finding Category\n",
      "----"
     ]
    },
    {
     "cell_type": "code",
     "collapsed": false,
     "input": [
      "qlog = se.query(acm.TrnLog).filter(acm.TrnLog.imgid == '+43RA67+UwTSBA')\n",
      "pdlist = []\n",
      "for q in qlog:\n",
      "    pdlist.append((q.query, q.count))\n",
      "\"\"\"\n",
      "tb = make_table(df.values)\n",
      "for i in np.arange(0, len(df)):\n",
      "    if df.values[i][0] > 2:\n",
      "        tb.set_row_style(i, color='yellow')\n",
      "tb\n",
      "\"\"\"\n",
      "tl = queryLabel(pdlist).split(',')\n"
     ],
     "language": "python",
     "metadata": {},
     "outputs": [],
     "prompt_number": 91
    },
    {
     "cell_type": "code",
     "collapsed": false,
     "input": [
      "def queryCategory(labels):\n",
      "    label = labels.split(',')\n",
      "    cate = []\n",
      "    for l in label: \n",
      "        if wordnet.synsets(l):\n",
      "            ws = wordnet.synsets(l)[0]\n",
      "            wl = ws.lexname\n",
      "            wc = wl[wl.find('.')+1:]\n",
      "            if wc not in cate: cate.append(wc)\n",
      "    if len(cate) == 0: return ','.join(label[:3])\n",
      "    return ','.join(cate)\n",
      "queryCategory('alanis,morissette,alantas,morset')"
     ],
     "language": "python",
     "metadata": {},
     "outputs": [
      {
       "output_type": "stream",
       "stream": "stdout",
       "text": [
        "alanis\n",
        "morissette\n",
        "alantas\n",
        "morset\n"
       ]
      },
      {
       "metadata": {},
       "output_type": "pyout",
       "prompt_number": 103,
       "text": [
        "'alanis,morissette,alantas'"
       ]
      }
     ],
     "prompt_number": 103
    },
    {
     "cell_type": "code",
     "collapsed": false,
     "input": [
      "setsize = 1000001\n",
      "for i in np.arange(2000, setsize):\n",
      "    qimg = se.query(TrnImage).filter(TrnImage.id == i)\n",
      "    imgd = (qimg[0].imgid, qimg[0].labels, qimg[0].category)    \n",
      "    qlog = se.query(acm.TrnLog).filter(acm.TrnLog.imgid == imgd[0])\n",
      "    qlist = []\n",
      "    for q in qlog:\n",
      "        qlist.append((q.query, q.count))\n",
      "    qimg[0].labels = queryLabel(qlist)\n",
      "    qimg[0].category = queryCategory(queryLabel(qlist))\n",
      "    #print qimg[0]\n",
      "    se.add(qimg[0])\n",
      "    if i % 100 == 0:\n",
      "        se.commit()\n",
      "    if i % 100 == 0:\n",
      "        print \"{0} images finished\".format(i)\n",
      "se.commit()"
     ],
     "language": "python",
     "metadata": {},
     "outputs": [
      {
       "output_type": "stream",
       "stream": "stdout",
       "text": [
        "2000 images finished\n",
        "2100 images finished"
       ]
      },
      {
       "output_type": "stream",
       "stream": "stdout",
       "text": [
        "\n",
        "2200 images finished"
       ]
      },
      {
       "output_type": "stream",
       "stream": "stdout",
       "text": [
        "\n",
        "2300 images finished"
       ]
      },
      {
       "output_type": "stream",
       "stream": "stdout",
       "text": [
        "\n",
        "2400 images finished"
       ]
      }
     ],
     "prompt_number": "*"
    },
    {
     "cell_type": "markdown",
     "metadata": {},
     "source": [
      "###Core: Face plugin"
     ]
    },
    {
     "cell_type": "code",
     "collapsed": false,
     "input": [
      "setsize = 100\n",
      "for i in np.arange(1, setsize):\n",
      "    imgPath = \"{0}{1}.jpg\".format(imgDir, i)\n",
      "    img = sc.Image(imgPath)\n",
      "    faces = img.findHaarFeatures(haarXml)\n",
      "    if faces:\n",
      "        frs = 0\n",
      "        fhs = list()\n",
      "        for face in faces:\n",
      "            frs = frs + face.area()\n",
      "            if len(face.image.huePeaks()) != 0:\n",
      "                fhs.append(face.image.huePeaks()[0][0])\n",
      "        qimg = se.query(acm.TrnImage).filter(acm.TrnImage.id == i)\n",
      "        imgid = qimg[0].imgid\n",
      "        qlog = se.query(acm.TrnLog).filter(acm.TrnLog.imgid == imgid)\n",
      "        qlist = []\n",
      "        for q in qlog:\n",
      "            qlist.append((q.query, q.count))\n",
      "        data = ImgFaceFeats(i, imgid, queryLabel(qlist), len(faces), frs/img.area(), \n",
      "                            fhs.pop(0) if len(fhs) != 0 else None, fhs.pop(0) if len(fhs) != 0 else None)\n",
      "        print imgid, data\n",
      "        print queryCategory(queryLabel(qlist))\n",
      "        #se.add(data)\n",
      "    if i % 500 == 0:\n",
      "        se.commit()\n",
      "    if i % 10000 == 0:\n",
      "        print \"{0} images finished\".format(i)\n",
      "se.commit()"
     ],
     "language": "python",
     "metadata": {},
     "outputs": [
      {
       "output_type": "stream",
       "stream": "stdout",
       "text": [
        "+2N+f/YVq0L4kQ img#12[groomed,dog,bichon,prepare,dog]: 1, 0.351425224522, 15.0, None\n",
        "social,animal,change\n",
        "+VfWKiUxC1ixpQ"
       ]
      },
      {
       "output_type": "stream",
       "stream": "stdout",
       "text": [
        " img#13[veruschka]: 1, 0.12, None, None\n",
        "veruschka\n",
        "+EsaERDENwBxdQ"
       ]
      },
      {
       "output_type": "stream",
       "stream": "stdout",
       "text": [
        " img#15[alanis,morissette,alantas,morset]: 1, 0.0222528735632, 15.0, None\n",
        "alanis,morissette,alantas\n",
        "+/zw1l4jGa0OcA"
       ]
      },
      {
       "output_type": "stream",
       "stream": "stdout",
       "text": [
        " img#16[women,curvy,kate,girls,lingerie]: 1, 0.0530882352941, 12.0, None\n",
        "person,all,artifact"
       ]
      },
      {
       "output_type": "stream",
       "stream": "stdout",
       "text": [
        "\n",
        "+IEK4dBKqkVIvg"
       ]
      },
      {
       "output_type": "stream",
       "stream": "stdout",
       "text": [
        " img#17[zayn,malik,malik,direction,one]: 2, 0.223604826546, 11.0, 11.0\n",
        "person,location,quantity"
       ]
      },
      {
       "output_type": "stream",
       "stream": "stdout",
       "text": [
        "\n",
        "+5Cb+4iTOrFOWg"
       ]
      },
      {
       "output_type": "stream",
       "stream": "stdout",
       "text": [
        " img#54[romper,room,mister,room,bee,bash]: 1, 0.020014619883, 13.0, None\n",
        "person,artifact,communication,animal,event"
       ]
      },
      {
       "output_type": "stream",
       "stream": "stdout",
       "text": [
        "\n",
        "+43RA67+UwTSBA"
       ]
      },
      {
       "output_type": "stream",
       "stream": "stdout",
       "text": [
        " img#56[doljabi,posters,poster,board]: 1, 0.0384, 8.0, None\n",
        "communication,group\n",
        "//bqeMmiITckiA"
       ]
      },
      {
       "output_type": "stream",
       "stream": "stdout",
       "text": [
        " img#69[la,que,podia,amar,lanthanum,television,dais]: 3, 0.125106117353, 16.0, 16.0\n",
        "substance,artifact,communication"
       ]
      },
      {
       "output_type": "stream",
       "stream": "stdout",
       "text": [
        "\n",
        "+KzwkGVkn1y7fQ"
       ]
      },
      {
       "output_type": "stream",
       "stream": "stdout",
       "text": [
        " img#80[liam,payne,hair,one,direction,short]: 1, 0.130903703704, 11.0, None\n",
        "body,quantity,location,artifact"
       ]
      },
      {
       "output_type": "stream",
       "stream": "stdout",
       "text": [
        "\n"
       ]
      }
     ],
     "prompt_number": 105
    },
    {
     "cell_type": "markdown",
     "metadata": {},
     "source": [
      "###Garbage track"
     ]
    },
    {
     "cell_type": "code",
     "collapsed": false,
     "input": [
      "qlog = se.query(acm.TrnLog).filter(acm.TrnLog.imgid == '+EsaERDENwBxdQ')\n",
      "qlist = []\n",
      "clist = []\n",
      "for q in qlog:\n",
      "    qlist.append(q.query)\n",
      "    clist.append(q.count)\n",
      "\n",
      "print qlist, clist"
     ],
     "language": "python",
     "metadata": {},
     "outputs": [
      {
       "output_type": "stream",
       "stream": "stdout",
       "text": [
        "['alanis morissette ', 'alanis morissette images ', 'alanis morissette pictures ', 'alantas morset pics '] [3L, 1L, 4L, 1L]\n"
       ]
      }
     ],
     "prompt_number": 71
    },
    {
     "cell_type": "code",
     "collapsed": false,
     "input": [
      "def nonWnLabel(list1):\n",
      "    list1 = list(list1)\n",
      "    gset = word_tokenize(list1.pop(0))\n",
      "    print gset\n",
      "    for p in list1:\n",
      "        t = word_tokenize(p)\n",
      "        for w in t:\n",
      "            if w not in gset: gset.append(w)\n",
      "    ngset = []\n",
      "    for g in gset:\n",
      "        if g not in censorList: ngset.append(g)\n",
      "    return ','.join(ngset)\n",
      "\n",
      "\n",
      "nonWnLabel([df.q.values[0]])"
     ],
     "language": "python",
     "metadata": {},
     "outputs": [
      {
       "output_type": "stream",
       "stream": "stdout",
       "text": [
        "['images', 'of', 'a', 'groomed', 'dog', 'bichon']\n"
       ]
      },
      {
       "metadata": {},
       "output_type": "pyout",
       "prompt_number": 64,
       "text": [
        "'groomed,dog,bichon'"
       ]
      }
     ],
     "prompt_number": 64
    },
    {
     "cell_type": "code",
     "collapsed": false,
     "input": [
      "df = pd.DataFrame(data={'q': qlist, 'c': clist})\n",
      "df = df.sort(columns='c', ascending=0)\n",
      "tb = make_table(df.values)\n",
      "for i in np.arange(0, len(df)):\n",
      "    if df.values[i][0] > 2:\n",
      "        tb.set_row_style(i, color='yellow')\n",
      "tb"
     ],
     "language": "python",
     "metadata": {},
     "outputs": [
      {
       "html": [
        "<table border=\"1\" cellpadding=\"3\" cellspacing=\"0\"  style=\"border:1px solid black;border-collapse:collapse;\"><tr><td  style=\"background-color:yellow;\">4</td><td  style=\"background-color:yellow;\">alanis&nbspmorissette&nbsppictures&nbsp</td></tr><tr><td  style=\"background-color:yellow;\">3</td><td  style=\"background-color:yellow;\">alanis&nbspmorissette&nbsp</td></tr><tr><td>1</td><td>alantas&nbspmorset&nbsppics&nbsp</td></tr><tr><td>1</td><td>alanis&nbspmorissette&nbspimages&nbsp</td></tr></table>"
       ],
       "metadata": {},
       "output_type": "pyout",
       "prompt_number": 72,
       "text": [
        "<ipy_table.IpyTable at 0xbb73a50>"
       ]
      }
     ],
     "prompt_number": 72
    },
    {
     "cell_type": "code",
     "collapsed": false,
     "input": [
      "censorList = Set(['images', 'pictures', 'item'])\n",
      "nwl = ['alanis morissette ', 'alanis morissette images ', 'alanis morissette pictures ', 'alantas morset pics '] \n",
      "\n",
      "def nonWnLabel(list1):\n",
      "    gset = Set()\n",
      "    for p in list1:\n",
      "        t = word_tokenize(p)\n",
      "        for w in t:\n",
      "            gset.add(w)\n",
      "    gset.difference_update(censorList)\n",
      "    return ','.join(list(gset))\n",
      "#nonWnLabel(nwl)\n",
      "print 'test'"
     ],
     "language": "python",
     "metadata": {},
     "outputs": [
      {
       "output_type": "stream",
       "stream": "stdout",
       "text": [
        "test\n"
       ]
      }
     ],
     "prompt_number": 22
    },
    {
     "cell_type": "code",
     "collapsed": false,
     "input": [
      "setsize = 100\n",
      "\n",
      "qimg = se.query(ImgFaceFeats)\n",
      "from random import randint\n",
      "for qi in qimg:\n",
      "    #print qi\n",
      "    qi.test = randint(1, 180)\n",
      "#    if i % 500 == 0:\n",
      "   #     se.commit()\n",
      " #   if i % 10000 == 0:\n",
      "  #      print \"{0} images finished\".format(i)\n",
      "se.commit()"
     ],
     "language": "python",
     "metadata": {},
     "outputs": [],
     "prompt_number": 6
    },
    {
     "cell_type": "code",
     "collapsed": false,
     "input": [],
     "language": "python",
     "metadata": {},
     "outputs": []
    }
   ],
   "metadata": {}
  }
 ]
}
