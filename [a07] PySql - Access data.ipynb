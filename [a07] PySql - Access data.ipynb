{
 "metadata": {
  "name": "[a07] PySql - Access data"
 },
 "nbformat": 3,
 "nbformat_minor": 0,
 "worksheets": [
  {
   "cells": [
    {
     "cell_type": "markdown",
     "metadata": {},
     "source": [
      "#Day 7\n",
      "##Manipulate with Develpment data set"
     ]
    },
    {
     "cell_type": "code",
     "collapsed": false,
     "input": [
      "from IPython.core.display import Image\n",
      "from IPython.display import display, HTML\n",
      "from sqlalchemy.ext.declarative import declarative_base\n",
      "Base = declarative_base()\n",
      "\n",
      "from sqlalchemy import create_engine\n",
      "vhostIP='10.245.25.134'\n",
      "db = create_engine('mysql://@' + vhostIP + ', encoding='utf-8', echo=False)\n",
      "Base.metadata.create_all(db)\n",
      "\n",
      "jda = ['Bad', 'Good', 'Excellent']\n",
      "\n",
      "from sqlalchemy.orm import sessionmaker\n",
      "Session = sessionmaker(bind=db)\n",
      "session = Session()"
     ],
     "language": "python",
     "metadata": {},
     "outputs": [],
     "prompt_number": 2
    },
    {
     "cell_type": "code",
     "collapsed": false,
     "input": [
      "# how to do a SELECT * (i.e. all)\n",
      "#res = session.query(DevImage).all()\n",
      "#for img in res:\n",
      "#    display(HTML(u\"<img src='data:image/png;base64,%s'/>\" % (img.thumbnail)))\n",
      " \n",
      "# how to SELECT the first result\n",
      "#res = session.query(Artist).filter(Artist.name==\"Newsboys\").first()\n",
      " \n",
      "# how to sort the results (ORDER_BY)\n",
      "#res = session.query(Album).order_by(Album.title).all()\n",
      "#for album in res:\n",
      " #   print album.title\n",
      " \n",
      "# how to do a JOINed query\n",
      "qry = session.query(DevImage, DevLabel)\n",
      "qry = qry.filter(DevImage.id==DevLabel.image_id)\n",
      "qa = qry.filter(DevLabel.query.like('%hump'))\n",
      "\n",
      "print qa.count()\n",
      "if qa.count>0:\n",
      "    for img,lab in qa:\n",
      "        print \"%s, [%s]\" % (lab.query, jda[lab.judgment])\n",
      "        display(HTML(u\"<img src='data:image/png;base64,%s'/>\" % (img.thumbnail)))\n",
      " \n",
      "# how to use LIKE in a query\n",
      "#res = session.query(Album).filter(Album.publisher.like(\"S%a%\")).all()\n",
      "#for item in res:\n",
      "#    print item.publisher"
     ],
     "language": "python",
     "metadata": {},
     "outputs": []
    },
    {
     "cell_type": "code",
     "collapsed": false,
     "input": [
      "session.close_all()"
     ],
     "language": "python",
     "metadata": {},
     "outputs": []
    }
   ],
   "metadata": {}
  }
 ]
}
