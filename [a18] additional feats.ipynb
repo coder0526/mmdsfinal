{
 "metadata": {
  "name": "[a18] additional feats"
 },
 "nbformat": 3,
 "nbformat_minor": 0,
 "worksheets": [
  {
   "cells": [
    {
     "cell_type": "code",
     "collapsed": false,
     "input": [
      "from __future__ import division\n",
      "from IPython.core.display import Image as showImg\n",
      "import Image as pilImg\n",
      "import SimpleCV as sc\n",
      "#from IPython.display import HTML#display, \n",
      "from sqlalchemy.ext.declarative import declarative_base\n",
      "from sqlalchemy import Column, Integer, ForeignKey\n",
      "from sqlalchemy.orm import relationship, backref\n",
      "from sqlalchemy.dialects.mysql import (\n",
      "#    INTEGER,\n",
      "    VARCHAR,\n",
      "    FLOAT,\n",
      " #   TEXT,\n",
      "    TINYINT,\n",
      "    )\n",
      "\n",
      "Base = declarative_base()\n",
      "imgDir = home + \"/data/msrir/Train/img/\"\n",
      "haarXml = \"/usr/local/share/OpenCV/haarcascades/haarcascade_frontalface_alt.xml\""
     ],
     "language": "python",
     "metadata": {},
     "outputs": [],
     "prompt_number": 1
    },
    {
     "cell_type": "code",
     "collapsed": false,
     "input": [
      "from pyocr import pyocr\n",
      "import tesseract\n",
      "import builders\n",
      "from nltk.corpus import wordnet as wn"
     ],
     "language": "python",
     "metadata": {},
     "outputs": [],
     "prompt_number": 2
    },
    {
     "cell_type": "code",
     "collapsed": false,
     "input": [
      "class TrnImage(Base):\n",
      "    __tablename__ = 'trnImages'\n",
      "    #__table_args__ = {'mysql_engine':'InnoDB'}\n",
      "    \n",
      "    id = Column(Integer)\n",
      "    imgid = Column(VARCHAR(14), primary_key=True)\n",
      "    labels = Column(VARCHAR(256), index=True)\n",
      "    category = Column(VARCHAR(64), index=True)\n",
      "    #thumbnail = Column(VARCHAR(65500))\n",
      "    \n",
      "    def __init__(self, id, imgid):\n",
      "        self.imgid = imgid\n",
      "        self.id = id\n",
      "        #self.thumbnail = thumbnail\n",
      "            \n",
      "    def __repr__(self):\n",
      "        return \"Img[{0}]:({1}){2}\".format(self.id, self.labels, self.category)\n",
      "\n",
      "    \n",
      "class TrnLog(Base):\n",
      "    __tablename__ = 'trnLogs'\n",
      "    #__table_args__ = {'mysql_engine':'InnoDB'}\n",
      "    \n",
      "    id    = Column(Integer, primary_key=True)\n",
      "    query = Column(VARCHAR(800))\n",
      "    count = Column(Integer)\n",
      "    imgid = Column(VARCHAR(14), ForeignKey(\"trnImages.imgid\"))\n",
      "    image = relationship(\"TrnImage\", backref=backref(\"feats\", order_by=id))\n",
      "\n",
      "    def __init__(self, id, query, count):\n",
      "        self.imgid = id\n",
      "        self.query = query\n",
      "        self.count = count\n",
      "\n",
      "    def __repr__(self):\n",
      "        return \"<DevLabel('%s','%s', '%s')>\" % (self.query, self.count, self.imgid)\n",
      "    \n",
      "    \n",
      "    \n",
      "class ImgTextFeats(Base):\n",
      "    __tablename__ = 'imgTextFeats'\n",
      "    #__table_args__ = {'mysql_engine':'InnoDB'}\n",
      "    \n",
      "    id = Column(Integer, primary_key=True)\n",
      "    imgid = Column(VARCHAR(14))\n",
      "    textRatio = Column(FLOAT)\n",
      "    text = Column(VARCHAR(128))\n",
      "    syns = Column(VARCHAR(128))\n",
      "\n",
      "    def __init__(self, id, iid, tq, tt, ss):\n",
      "        self.id = id\n",
      "        self.imgid = iid\n",
      "        self.textRatio = tq\n",
      "        self.text = tt\n",
      "        self.syns = ss\n",
      "\n",
      "    def __repr__(self):\n",
      "        return \"Img[{0}]:({1}){2}:{3}\".format(self.id, self.text, self.textRatio, self.syns)\n",
      "    \n",
      "\n",
      "def getSession(vhostIP=''):    \n",
      "    \"\"\"\n",
      "    usage se = getDatabase()\n",
      "    \"\"\"\n",
      "    if vhostIP == '': return None\n",
      "    from sqlalchemy import create_engine   \n",
      "    from sqlalchemy.orm import sessionmaker\n",
      "    usera = ['', '_']\n",
      "    passa = ['', '_']\n",
      "    dba = ['', '_']\n",
      "    uid = 0\n",
      "    db = create_engine( \"mysql://{0}:{1}@{2}/{3}\".format(usera[uid], passa[uid], vhostIP, dba[uid])\n",
      "                       , encoding='utf-8', echo=False)    \n",
      "    Base.metadata.create_all(db)\n",
      "    Session = sessionmaker(bind=db)\n",
      "    session = Session()\n",
      "    return session\n",
      "\n",
      "\n",
      "vmip='10.244.14.180'\n",
      "se = getSession(vmip)"
     ],
     "language": "python",
     "metadata": {},
     "outputs": [],
     "prompt_number": 3
    },
    {
     "cell_type": "code",
     "collapsed": false,
     "input": [
      "def textFeats(wb, imgarea):\n",
      "    wasum = 0\n",
      "    rawl = []\n",
      "    wl = []\n",
      "    if wb:\n",
      "        for w in wb:\n",
      "            wp = w.position\n",
      "            ww = wp[1][0] - wp[0][0]\n",
      "            wh = wp[1][1] - wp[0][1]\n",
      "            wa = ww*wh\n",
      "            w = w.content\n",
      "            if len(w) > 4 and wa/imgarea > .05: \n",
      "                rawl.append(w)\n",
      "                wns = wn.synsets(w)\n",
      "                if wns:\n",
      "                    wl.append(wns[0])\n",
      "                wasum = wa + wasum\n",
      "        wls = []\n",
      "        for w in wl:\n",
      "            w = w.name\n",
      "            wls.append( w[:w.find('.')])\n",
      "        return ','.join(rawl), '.'.join(wls), wasum/imgarea\n",
      "    return '_', '_', 0.009"
     ],
     "language": "python",
     "metadata": {},
     "outputs": [],
     "prompt_number": 4
    },
    {
     "cell_type": "code",
     "collapsed": false,
     "input": [
      "setsize = 1000001\n",
      "tool = pyocr.get_available_tools()[0]\n",
      "\n",
      "for i in np.arange(54, setsize):\n",
      "    k = 0\n",
      "    imgPath = \"{0}{1}.jpg\".format(imgDir, i)\n",
      "    img = sc.Image(imgPath)\n",
      "    wb = []\n",
      "    try:\n",
      "        wb = tool.image_to_string(img, lang='eng', builder= builders.WordBoxBuilder())\n",
      "        result = textFeats(wb, img.area())\n",
      "    except:\n",
      "        print i, 'err', result if result is not None else '_'\n",
      "        k = 1\n",
      "    if k: continue\n",
      "    qimg = se.query(TrnImage).filter(TrnImage.id == i)\n",
      "    #print i, qimg[0].imgid\n",
      "    data = ImgTextFeats(i, qimg[0].imgid, result[2], result[0], result[1])\n",
      "    if data.textRatio < 0.05: continue\n",
      "    se.add(data)\n",
      "    if i % 100 == 0:\n",
      "        se.commit()\n",
      "    if i % 1000 == 0:\n",
      "        print \"{0} images finished\".format(i)\n",
      "se.commit()"
     ],
     "language": "python",
     "metadata": {},
     "outputs": [
      {
       "ename": "UnicodeEncodeError",
       "evalue": "'latin-1' codec can't encode character u'\\u2018' in position 7: ordinal not in range(256)",
       "output_type": "pyerr",
       "traceback": [
        "\u001b[1;31m---------------------------------------------------------------------------\u001b[0m\n\u001b[1;31mUnicodeEncodeError\u001b[0m                        Traceback (most recent call last)",
        "\u001b[1;32m<ipython-input-5-3d1a4aa1e533>\u001b[0m in \u001b[0;36m<module>\u001b[1;34m()\u001b[0m\n\u001b[0;32m     16\u001b[0m     \u001b[0mqimg\u001b[0m \u001b[1;33m=\u001b[0m \u001b[0mse\u001b[0m\u001b[1;33m.\u001b[0m\u001b[0mquery\u001b[0m\u001b[1;33m(\u001b[0m\u001b[0mTrnImage\u001b[0m\u001b[1;33m)\u001b[0m\u001b[1;33m.\u001b[0m\u001b[0mfilter\u001b[0m\u001b[1;33m(\u001b[0m\u001b[0mTrnImage\u001b[0m\u001b[1;33m.\u001b[0m\u001b[0mid\u001b[0m \u001b[1;33m==\u001b[0m \u001b[0mi\u001b[0m\u001b[1;33m)\u001b[0m\u001b[1;33m\u001b[0m\u001b[0m\n\u001b[0;32m     17\u001b[0m     \u001b[1;31m#print i, qimg[0].imgid\u001b[0m\u001b[1;33m\u001b[0m\u001b[1;33m\u001b[0m\u001b[0m\n\u001b[1;32m---> 18\u001b[1;33m     \u001b[0mdata\u001b[0m \u001b[1;33m=\u001b[0m \u001b[0mImgTextFeats\u001b[0m\u001b[1;33m(\u001b[0m\u001b[0mi\u001b[0m\u001b[1;33m,\u001b[0m \u001b[0mqimg\u001b[0m\u001b[1;33m[\u001b[0m\u001b[1;36m0\u001b[0m\u001b[1;33m]\u001b[0m\u001b[1;33m.\u001b[0m\u001b[0mimgid\u001b[0m\u001b[1;33m,\u001b[0m \u001b[0mresult\u001b[0m\u001b[1;33m[\u001b[0m\u001b[1;36m2\u001b[0m\u001b[1;33m]\u001b[0m\u001b[1;33m,\u001b[0m \u001b[0mresult\u001b[0m\u001b[1;33m[\u001b[0m\u001b[1;36m0\u001b[0m\u001b[1;33m]\u001b[0m\u001b[1;33m,\u001b[0m \u001b[0mresult\u001b[0m\u001b[1;33m[\u001b[0m\u001b[1;36m1\u001b[0m\u001b[1;33m]\u001b[0m\u001b[1;33m)\u001b[0m\u001b[1;33m\u001b[0m\u001b[0m\n\u001b[0m\u001b[0;32m     19\u001b[0m     \u001b[1;32mif\u001b[0m \u001b[0mdata\u001b[0m\u001b[1;33m.\u001b[0m\u001b[0mtextRatio\u001b[0m \u001b[1;33m<\u001b[0m \u001b[1;36m0.05\u001b[0m\u001b[1;33m:\u001b[0m \u001b[1;32mcontinue\u001b[0m\u001b[1;33m\u001b[0m\u001b[0m\n\u001b[0;32m     20\u001b[0m     \u001b[0mse\u001b[0m\u001b[1;33m.\u001b[0m\u001b[0madd\u001b[0m\u001b[1;33m(\u001b[0m\u001b[0mdata\u001b[0m\u001b[1;33m)\u001b[0m\u001b[1;33m\u001b[0m\u001b[0m\n",
        "\u001b[1;31mUnicodeEncodeError\u001b[0m: 'latin-1' codec can't encode character u'\\u2018' in position 7: ordinal not in range(256)"
       ]
      },
      {
       "output_type": "stream",
       "stream": "stdout",
       "text": [
        "55 err ('', '', 0.0)\n"
       ]
      }
     ],
     "prompt_number": 5
    },
    {
     "cell_type": "code",
     "collapsed": false,
     "input": [
      "imgPath = \"{0}{1}.jpg\".format(imgDir, 55)\n",
      "\n",
      "\n",
      "#for tool in tools:\n",
      " #   print tool.get_name()\n",
      "img = pilImg.open(imgPath)\n",
      "simg = sc.Image(imgPath)\n",
      "showImg(imgPath)\n",
      "\n",
      "wb = tool.image_to_string(img, lang='eng', builder= builders.WordBoxBuilder())\n",
      "print textFeats(wb, img.area())"
     ],
     "language": "python",
     "metadata": {},
     "outputs": [
      {
       "ename": "TesseractError",
       "evalue": "(-11, 'Tesseract Open Source OCR Engine v3.02.02 with Leptonica\\nindex >= 0 && index < size_used_:Error:Assert failed:in file ../ccutil/genericvector.h, line 512\\n')",
       "output_type": "pyerr",
       "traceback": [
        "\u001b[1;31m---------------------------------------------------------------------------\u001b[0m\n\u001b[1;31mTesseractError\u001b[0m                            Traceback (most recent call last)",
        "\u001b[1;32m<ipython-input-9-1167b272c6e8>\u001b[0m in \u001b[0;36m<module>\u001b[1;34m()\u001b[0m\n\u001b[0;32m      8\u001b[0m \u001b[0mshowImg\u001b[0m\u001b[1;33m(\u001b[0m\u001b[0mimgPath\u001b[0m\u001b[1;33m)\u001b[0m\u001b[1;33m\u001b[0m\u001b[0m\n\u001b[0;32m      9\u001b[0m \u001b[1;33m\u001b[0m\u001b[0m\n\u001b[1;32m---> 10\u001b[1;33m \u001b[0mwb\u001b[0m \u001b[1;33m=\u001b[0m \u001b[0mtool\u001b[0m\u001b[1;33m.\u001b[0m\u001b[0mimage_to_string\u001b[0m\u001b[1;33m(\u001b[0m\u001b[0mimg\u001b[0m\u001b[1;33m,\u001b[0m \u001b[0mlang\u001b[0m\u001b[1;33m=\u001b[0m\u001b[1;34m'eng'\u001b[0m\u001b[1;33m,\u001b[0m \u001b[0mbuilder\u001b[0m\u001b[1;33m=\u001b[0m \u001b[0mbuilders\u001b[0m\u001b[1;33m.\u001b[0m\u001b[0mWordBoxBuilder\u001b[0m\u001b[1;33m(\u001b[0m\u001b[1;33m)\u001b[0m\u001b[1;33m)\u001b[0m\u001b[1;33m\u001b[0m\u001b[0m\n\u001b[0m\u001b[0;32m     11\u001b[0m \u001b[1;32mprint\u001b[0m \u001b[0mtextFeats\u001b[0m\u001b[1;33m(\u001b[0m\u001b[0mwb\u001b[0m\u001b[1;33m,\u001b[0m \u001b[0mimg\u001b[0m\u001b[1;33m.\u001b[0m\u001b[0marea\u001b[0m\u001b[1;33m(\u001b[0m\u001b[1;33m)\u001b[0m\u001b[1;33m)\u001b[0m\u001b[1;33m\u001b[0m\u001b[0m\n",
        "\u001b[1;31mTesseractError\u001b[0m: (-11, 'Tesseract Open Source OCR Engine v3.02.02 with Leptonica\\nindex >= 0 && index < size_used_:Error:Assert failed:in file ../ccutil/genericvector.h, line 512\\n')"
       ]
      }
     ],
     "prompt_number": 9
    },
    {
     "cell_type": "code",
     "collapsed": false,
     "input": [
      "imgPath = \"{0}{1}.jpg\".format(imgDir, 55)\n",
      "showImg(imgPath)"
     ],
     "language": "python",
     "metadata": {},
     "outputs": [],
     "prompt_number": "*"
    },
    {
     "cell_type": "code",
     "collapsed": false,
     "input": [
      "imgPath = \"{0}{1}.jpg\".format(imgDir, 511342)\n",
      "showImg(imgPath)"
     ],
     "language": "python",
     "metadata": {},
     "outputs": [
      {
       "jpeg": "[encoded data removed]",
       "metadata": {},
       "output_type": "pyout",
       "prompt_number": 13,
       "text": [
        "<IPython.core.display.Image at 0x9a11110>"
       ]
      }
     ],
     "prompt_number": 13
    },
    {
     "cell_type": "code",
     "collapsed": false,
     "input": [
      "imgPath = \"{0}{1}.jpg\".format(imgDir, 454336)\n",
      "print \"I Hafe- Mdndnys, Do Yqu? [Synset('iodine.n.01'), Synset('bash.n.02')] 0.0123763955343\"\n",
      "showImg(imgPath)"
     ],
     "language": "python",
     "metadata": {},
     "outputs": [
      {
       "output_type": "stream",
       "stream": "stdout",
       "text": [
        "I Hafe- Mdndnys, Do Yqu? [Synset('iodine.n.01'), Synset('bash.n.02')] 0.0123763955343\n"
       ]
      },
      {
       "jpeg": "[encoded data removed]",
       "metadata": {},
       "output_type": "pyout",
       "prompt_number": 26,
       "text": [
        "<IPython.core.display.Image at 0x5071150>"
       ]
      }
     ],
     "prompt_number": 26
    },
    {
     "cell_type": "code",
     "collapsed": false,
     "input": [
      "imgPath = \"{0}{1}.jpg\".format(imgDir, 55)\n",
      "showImg(imgPath)"
     ],
     "language": "python",
     "metadata": {},
     "outputs": [
      {
       "metadata": {},
       "output_type": "pyout",
       "prompt_number": 13,
       "text": [
        "'trial.n.02'"
       ]
      }
     ],
     "prompt_number": 13
    },
    {
     "cell_type": "code",
     "collapsed": false,
     "input": [],
     "language": "python",
     "metadata": {},
     "outputs": []
    }
   ],
   "metadata": {}
  }
 ]
}
